{
 "cells": [
  {
   "cell_type": "markdown",
   "id": "62e70a27",
   "metadata": {},
   "source": [
    "# Jobtech Interview Assignment"
   ]
  },
  {
   "cell_type": "markdown",
   "id": "3382835c",
   "metadata": {},
   "source": [
    "### Inspired by\n",
    "### Job Skills extraction with LSTM and Word Embeddings - Nikita Sharma\n",
    "### Implicit Skill Extraction Using Document Embeddings and Its Use in Job Recommendation - Akshay Gugnani,Hemant Misra\n",
    "### https://kavita-ganesan.com/how-to-incorporate-phrases-into-word2vec-a-text-mining-approach/#.Y-MIo61ByUk\n",
    "\n",
    "#### LSTM code from\n",
    "#### https://towardsdatascience.com/long-short-term-memory-lstm-in-keras-2b5749e953ac\n",
    "#### https://github.com/riteshranjan110/MediumBlogsCode/blob/master/LSTMblog1.ipynb\n",
    "\n",
    "### Course https://www.udemy.com/course/nlp-natural-language-processing-with-python/\n",
    "\n",
    "### Graphics\n",
    "### https://www.analyticsvidhya.com/blog/2021/08/understanding-bar-plots-in-python-beginners-guide-to-data-visualization/\n",
    "### https://problemsolvingwithpython.com/06-Plotting-with-Matplotlib/06.06-Bar-Charts-and-Pie-Charts/\n",
    "\n",
    "\n",
    "### Other Sources\n",
    "### https://www.nltk.org/book/ch03.html\n",
    "### https://machinelearningknowledge.ai/complete-guide-to-spacy-tokenizer-with-examples/\n",
    "### https://www.machinelearningplus.com/nlp/training-custom-ner-model-in-spacy/\n",
    "### https://www.projectpro.io/recipes/use-word2vec\n",
    "### https://radimrehurek.com/gensim/models/word2vec.html\n",
    "\n"
   ]
  },
  {
   "cell_type": "markdown",
   "id": "11d75e15",
   "metadata": {},
   "source": [
    "# Import Modules"
   ]
  },
  {
   "cell_type": "code",
   "execution_count": 1,
   "id": "be869212",
   "metadata": {},
   "outputs": [],
   "source": [
    "###Import modules\n",
    "##Standard modules\n",
    "import pandas as pd\n",
    "import numpy as np\n",
    "import re\n",
    "import spacy\n",
    "\n",
    "##Misc\n",
    "from bs4 import BeautifulSoup\n",
    "from collections import Counter\n",
    "import csv\n",
    "import os\n",
    "import string\n",
    "import spacy_download\n",
    "from tqdm import tqdm\n",
    "from datetime import date\n",
    "import matplotlib.pyplot as plt\n",
    "import seaborn as sns\n",
    "%matplotlib inline\n",
    "\n",
    "#spacy_download.load_spacy(\"en_core_web_lg\")\n",
    "\n",
    "##Topic Modeling - LDA\n",
    "from sklearn.feature_extraction.text import CountVectorizer\n",
    "from sklearn.decomposition import LatentDirichletAllocation\n",
    "\n",
    "#Word2vec\n",
    "import gensim\n",
    "from gensim.models import Word2Vec\n",
    "from nltk.tokenize import sent_tokenize, word_tokenize\n",
    "from gensim.models import Phrases, KeyedVectors\n",
    "\n",
    "#LSTM\n",
    "from keras.preprocessing.text import Tokenizer\n",
    "from keras.models import Sequential\n",
    "from keras.layers import Input, Dense, LSTM, Bidirectional, Embedding ##CuDNNLSTM\n",
    "from tensorflow.keras.preprocessing.sequence import pad_sequences"
   ]
  },
  {
   "cell_type": "markdown",
   "id": "f29970de",
   "metadata": {},
   "source": [
    "# Frequency Counter"
   ]
  },
  {
   "cell_type": "code",
   "execution_count": 2,
   "id": "b801d078",
   "metadata": {},
   "outputs": [],
   "source": [
    "## Frequency counter to analyse word counts \n",
    "def frequency_counter(column,top_num=25):\n",
    "    return Counter(\" \".join(column.str.lower()).split()).most_common(top_num)\n"
   ]
  },
  {
   "cell_type": "markdown",
   "id": "450efe31",
   "metadata": {},
   "source": [
    "# Cleaning job_title and company_name columns"
   ]
  },
  {
   "cell_type": "code",
   "execution_count": 3,
   "id": "96e5f597",
   "metadata": {},
   "outputs": [],
   "source": [
    "##Functions to clean company_name and job_title columns\n",
    "\n",
    "def remove_domain(text):\n",
    "    text = text.lower()\n",
    "    text = re.sub(r'\\.com\\s?', ' ',text) ##replace \"\".com\" + up 1 white space after it with a single white space\n",
    "    text = re.sub(r'\\.co\\s?', ' ',text)\n",
    "    text = re.sub(r'\\.sg\\s?', ' ',text)\n",
    "    text = re.sub(r'http\\S+', ' ', text) ##replace http and any non-white space after it (stop when reach a whitespace)\n",
    "    text = ' '.join(text.split())\n",
    "    return text\n",
    "\n",
    "#This standardize legal enitiy to --> \"pte ltd\", \"llp\", \"inc\", \"ltd\" format\n",
    "def standardize_legal_entity(text):\n",
    "    text = text.lower()\n",
    "    text = re.sub(r'pte\\.?', 'pte ', text) #replace \"pte\" and up to one \".\" with \"pte \"\n",
    "    text = re.sub(r'ltd\\.?', 'ltd', text)  \n",
    "    text = re.sub(r'private\\.?', 'pte ', text)\n",
    "    text = re.sub(r'limited\\.?', 'ltd', text)\n",
    "    text = re.sub(r'llp\\.?', 'llp ', text)\n",
    "    text = re.sub(r'inc\\.?,?', 'inc ',text)\n",
    "    text = ' '.join(text.split())\n",
    "    return text\n",
    "\n",
    "#use to remove legal enitiy for text manipulation and search\n",
    "def remove_legal_entity(text):\n",
    "    text = text.lower()\n",
    "    text = re.sub(r'pte\\s', ' ', text)\n",
    "    text = re.sub(r'ltd\\s?', ' ', text)\n",
    "    text = re.sub(r'inc\\s', ' ',text)\n",
    "    text = re.sub(r'llp\\s?', ' ',text)\n",
    "    text = ' '.join(text.split())\n",
    "    return text\n",
    "\n",
    "printable = set(string.printable) ##create set of printable object \n",
    "#use to remove all non-punctuation, non-digits, non-ascii_letters and non-whitespace.\n",
    "\n",
    "def clean_job_title(text):\n",
    "    text = text.lower()\n",
    "    text = re.sub(r'#\\w+\\s?-?', ' ', text) #remove words after # (Usually #singaporeunited)\n",
    "    text = re.sub(r'\"[\\s\\S]+\"\\s?', ' ', text) #remove words in quotations as well as the quotation\n",
    "    text = re.sub(r'\\*+[\\s\\S]+\\*+\\s?', ' ', text) #remove words in *-type quatation\n",
    "    text = re.sub(r'\\A(-\\s)?\\s?(-\\s)?\\s?','',text) #remove - and white space at the start of the string\n",
    "    text = re.sub(r'\\?', ' ', text) #remove question mark\n",
    "    text = ' '.join(text.split())\n",
    "    if len(text) == 0:\n",
    "        text = 'unknown'\n",
    "    return text\n",
    "\n",
    "## Turn 2849 Uniqes Job titles into 2390 unique job titles\n",
    "def sanitize_job_title(text):\n",
    "    text = ''.join(filter(lambda  x: x in printable, text))\n",
    "    text = re.sub(r'(-\\s){1}[\\d\\w\\s\\(\\)\\.&,\\']+(\\S+-\\S+)?[\\d\\w\\s\\(\\)\\.&,\\']+((ltd)|(llp)|(inc)|(limited)).*$',' ',text)\n",
    "    ## Sometime there are company name in the job_title column. The formet is \"- XXXXXXXX ltd\"\n",
    "    text = re.sub(r'\\(.*?\\)\\s?-?',' ',text) #Remove text in ()\n",
    "    text = re.sub(r'\\[.*?\\]',' ',text) #Remove text in []\n",
    "    text = re.sub('urgent\\s?-?', ' ', text)\n",
    "    text = re.sub('[\\*\\!:;]+','',text) #remove symbol\n",
    "    text = re.sub(r'\\$[\\d\\.,]+\\s?\\|?k?\\s?-?/?',' ',text) #Remove salary\n",
    "    text = re.sub(r'x\\s?\\d+',' ',text) #Remove x number\n",
    "    text = re.sub(r'\\d+\\s?x+',' ',text) #Remove number x\n",
    "    text = re.sub(r'\\d+\\s?(day)s?\\s?work?',' ',text) #Remove day work\n",
    "    text = re.sub(r'\\d\\s((year)|(yr))\\s(contract)?',' ',text) #Remove year contract\n",
    "    text = re.sub(r'\\d?\\s?(to)?-?\\s?\\d{1,2}\\s?((month)|(mth))s*\\s(temp)?(contract)?',' ',text) #remve month contract\n",
    "    text = re.sub(r'/hr,?', ' ', text) #Remove per hour\n",
    "    text = re.sub(r'\\d+\\w?\\w?\\s?-\\s?','', text) #Remove numbers coding\n",
    "    text = re.sub(r'@.*','', text) #Remoce everything after at\n",
    "    ###SPECIAL CASE\n",
    "    text = re.sub(r'\\d+\\spax', ' ', text)\n",
    "    text = re.sub(r'\\d+\\sinternship\\s-', ' ', text)\n",
    "    text = re.sub(r'\\d+%', ' ', text)\n",
    "    text = re.sub(r'\\d{3,}',' ',text )\n",
    "    ##Remove companies name and other information after job title\n",
    "    text = re.sub(r'(\\s-\\s).*','',text)\n",
    "    text = re.sub(r'-','',text)\n",
    "    text = ' '.join(text.split())\n",
    "    return text\n"
   ]
  },
  {
   "cell_type": "markdown",
   "id": "12d8f889",
   "metadata": {},
   "source": [
    "# Replacing \"confidenital\" in company_name column\n",
    "\n",
    "There are about total of 3000 postings.\n",
    "\n",
    "1516 postings have \"Confidential\" under their company_name field. \n",
    "\n",
    "Some job postings have company name in its job_title column which can be use to augment company_name field.\n",
    "\n",
    "Postings with company name in it job_title column have the following format in its name - XXX ltd or - XXX llp at or near the end of job_title string. \n",
    "\n",
    "We can use the following regular express to detect the company name ((-\\s){1}[\\d\\w\\s]+\\s[(limited)(ltd)(llp)][\\.\\)]?)$ \n",
    "\n",
    "For postings that have company name in job_title but did not use - XXX ltd and - XXX llp format, it is still possilbe to extract some company name out.\n",
    "\n",
    "We can create list of unique company name using data from company_name and job_title column."
   ]
  },
  {
   "cell_type": "code",
   "execution_count": 4,
   "id": "4a2be29c",
   "metadata": {},
   "outputs": [],
   "source": [
    "##Functions to replace \"confidential\" in company_name comlumn with information from job_title column\n",
    "##Also create unique company name pattern\n",
    "\n",
    "##Out of 1517 posting with confidential company name, this function can replace the company name in 1020 postings. \n",
    "def replace_confidential(company_name,job_title):\n",
    "    global i\n",
    "    if company_name != 'confidential':\n",
    "        modified_company_name = company_name\n",
    "    else:\n",
    "        search = re.search(r'(-\\s){1}[\\d\\w\\s\\(\\)\\.&,\\']+(\\S+-\\S+)?[\\d\\w\\s\\(\\)\\.&,\\']+((ltd)|(llp)|(inc)|(limited)).*$',job_title)\n",
    "        if search == None:\n",
    "            modified_company_name = company_name\n",
    "        else:\n",
    "            text = search.group()\n",
    "            text = re.sub(r'\\A(-\\s){1}','',text)\n",
    "            modified_company_name = standardize_legal_entity(text)\n",
    "            if modified_company_name not in ('confidential'):\n",
    "                if modified_company_name.count(\"(\") == modified_company_name.count(\")\"):\n",
    "                    unique_company_name.add(modified_company_name)\n",
    "    return modified_company_name"
   ]
  },
  {
   "cell_type": "code",
   "execution_count": 5,
   "id": "e92f647e",
   "metadata": {},
   "outputs": [],
   "source": [
    "##Functions to create unqiue company name pattern\n",
    "unique_company_name = set()\n",
    "def extract_unique_company_name(company_name):\n",
    "    if company_name not in ('confidential'):\n",
    "         unique_company_name.add(company_name)\n",
    "\n",
    "def create_company_name_pattern():\n",
    "    global unique_company_name\n",
    "    unique_company_name = list(unique_company_name)\n",
    "    unique_company_name.sort(key=len,reverse=True)\n",
    "    temp = []\n",
    "    for name in unique_company_name:\n",
    "        name = remove_legal_entity(name)\n",
    "        if name not in ('confidential', '99', 99, 'works','enti'):\n",
    "            temp.append(name)\n",
    "    return '|'.join(name for name in temp)\n"
   ]
  },
  {
   "cell_type": "markdown",
   "id": "91da9bfc",
   "metadata": {},
   "source": [
    "Replace confidential is not 100% accurate.\n",
    "for example if acutual company name is Micro Electronic in jobtitile, if there is company called Micro in the pattern but not Micro Electronic the search will capture the word Micro as company name.\n",
    "If there is Micro Electronic in the company name, due to list sorting the pattern before hand, the function will capture Micro Elecrtronic"
   ]
  },
  {
   "cell_type": "code",
   "execution_count": 6,
   "id": "98b2644a",
   "metadata": {},
   "outputs": [],
   "source": [
    "##Function to replace more confidential company name \n",
    "##Out of the remaining 497 posting with confidential company name, \n",
    "##this function can replace the company name in 109 postings. \n",
    "\n",
    "def replace_confidential_2(company_name,job_title):\n",
    "    if company_name != 'confidential':\n",
    "        modified_company_name = company_name\n",
    "    else:\n",
    "        search = re.search(company_name_pattern,job_title)\n",
    "        if search == None:\n",
    "            modified_company_name = company_name\n",
    "        else:\n",
    "            modified_company_name = company_name\n",
    "            text = search.group()\n",
    "            modified_company_name = remove_legal_entity(text)\n",
    "    return modified_company_name"
   ]
  },
  {
   "cell_type": "markdown",
   "id": "8619161e",
   "metadata": {},
   "source": [
    "# Loading data and SPACY"
   ]
  },
  {
   "cell_type": "code",
   "execution_count": 7,
   "id": "8085aa51",
   "metadata": {},
   "outputs": [],
   "source": [
    "## Read raw data file and NLP setup\n",
    "df = pd.read_excel('test_data.xlsx')\n",
    "nlp = spacy.load('en_core_web_lg')"
   ]
  },
  {
   "cell_type": "code",
   "execution_count": 8,
   "id": "242e5979",
   "metadata": {},
   "outputs": [
    {
     "data": {
      "text/html": [
       "<div>\n",
       "<style scoped>\n",
       "    .dataframe tbody tr th:only-of-type {\n",
       "        vertical-align: middle;\n",
       "    }\n",
       "\n",
       "    .dataframe tbody tr th {\n",
       "        vertical-align: top;\n",
       "    }\n",
       "\n",
       "    .dataframe thead th {\n",
       "        text-align: right;\n",
       "    }\n",
       "</style>\n",
       "<table border=\"1\" class=\"dataframe\">\n",
       "  <thead>\n",
       "    <tr style=\"text-align: right;\">\n",
       "      <th></th>\n",
       "      <th>job_id</th>\n",
       "      <th>job_title</th>\n",
       "      <th>job_description</th>\n",
       "      <th>date_posted</th>\n",
       "      <th>company_name</th>\n",
       "    </tr>\n",
       "  </thead>\n",
       "  <tbody>\n",
       "    <tr>\n",
       "      <th>0</th>\n",
       "      <td>dc4c44bf442f4baa57f22233fee9195b75d62baa3b0265...</td>\n",
       "      <td>BUSINESS DEVELOPMENT (FREIGHT FORWARDING)</td>\n",
       "      <td>- Roles &amp;amp; Responsibilities : Job Role Desc...</td>\n",
       "      <td>2020-11-27</td>\n",
       "      <td>CALL LADE ENTERPRISES PTE LTD</td>\n",
       "    </tr>\n",
       "    <tr>\n",
       "      <th>1</th>\n",
       "      <td>39fc119781f2337a52de7300f21b76cda9b2c0202bfec9...</td>\n",
       "      <td>Secretary/PA</td>\n",
       "      <td>- Roles &amp;amp; Responsibilities : Job Scope:&lt;br...</td>\n",
       "      <td>2020-11-26</td>\n",
       "      <td>TALENT TRADER GROUP PTE. LTD.</td>\n",
       "    </tr>\n",
       "    <tr>\n",
       "      <th>2</th>\n",
       "      <td>2bdd91d7794575aaefee738ef6c831f7129fe6172f713c...</td>\n",
       "      <td>Temporary 3-6months Admin Assistant (Office ho...</td>\n",
       "      <td>Monday to Friday Office hoursLocation : Buona ...</td>\n",
       "      <td>2020-11-14</td>\n",
       "      <td>Confidential</td>\n",
       "    </tr>\n",
       "    <tr>\n",
       "      <th>3</th>\n",
       "      <td>0c170932727e0246f27feb1a5641d0e26f44d26d431be6...</td>\n",
       "      <td>Program Management</td>\n",
       "      <td>- Roles &amp;amp; Responsibilities : Key Responsib...</td>\n",
       "      <td>2020-11-09</td>\n",
       "      <td>YASH TECHNOLOGIES SINGAPORE PTE. LIMITED</td>\n",
       "    </tr>\n",
       "    <tr>\n",
       "      <th>4</th>\n",
       "      <td>458658ef725f6384d4c056f6a8b01747331ba7c3c5c2e5...</td>\n",
       "      <td>Automotive Software Engineers (C Programming /...</td>\n",
       "      <td>&amp;bull; MNC&amp;bull; $3500 - $6000 Basic + AWS + V...</td>\n",
       "      <td>2020-11-15</td>\n",
       "      <td>Confidential</td>\n",
       "    </tr>\n",
       "  </tbody>\n",
       "</table>\n",
       "</div>"
      ],
      "text/plain": [
       "                                              job_id  \\\n",
       "0  dc4c44bf442f4baa57f22233fee9195b75d62baa3b0265...   \n",
       "1  39fc119781f2337a52de7300f21b76cda9b2c0202bfec9...   \n",
       "2  2bdd91d7794575aaefee738ef6c831f7129fe6172f713c...   \n",
       "3  0c170932727e0246f27feb1a5641d0e26f44d26d431be6...   \n",
       "4  458658ef725f6384d4c056f6a8b01747331ba7c3c5c2e5...   \n",
       "\n",
       "                                           job_title  \\\n",
       "0          BUSINESS DEVELOPMENT (FREIGHT FORWARDING)   \n",
       "1                                       Secretary/PA   \n",
       "2  Temporary 3-6months Admin Assistant (Office ho...   \n",
       "3                                 Program Management   \n",
       "4  Automotive Software Engineers (C Programming /...   \n",
       "\n",
       "                                     job_description date_posted  \\\n",
       "0  - Roles &amp; Responsibilities : Job Role Desc...  2020-11-27   \n",
       "1  - Roles &amp; Responsibilities : Job Scope:<br...  2020-11-26   \n",
       "2  Monday to Friday Office hoursLocation : Buona ...  2020-11-14   \n",
       "3  - Roles &amp; Responsibilities : Key Responsib...  2020-11-09   \n",
       "4  &bull; MNC&bull; $3500 - $6000 Basic + AWS + V...  2020-11-15   \n",
       "\n",
       "                               company_name  \n",
       "0             CALL LADE ENTERPRISES PTE LTD  \n",
       "1             TALENT TRADER GROUP PTE. LTD.  \n",
       "2                              Confidential  \n",
       "3  YASH TECHNOLOGIES SINGAPORE PTE. LIMITED  \n",
       "4                              Confidential  "
      ]
     },
     "execution_count": 8,
     "metadata": {},
     "output_type": "execute_result"
    }
   ],
   "source": [
    "df.head()"
   ]
  },
  {
   "cell_type": "code",
   "execution_count": 9,
   "id": "4b61e993",
   "metadata": {},
   "outputs": [],
   "source": [
    "## Clean company_name\n",
    "df['raw_company_name'] = df['company_name']\n",
    "df['company_name'] = df['company_name'].map(remove_domain)\n",
    "df['company_name'] = df['company_name'].map(standardize_legal_entity)\n",
    "\n",
    "## Clean job_title column\n",
    "df['raw_job_title'] = df['job_title']\n",
    "df['job_title'] = df['job_title'].map(remove_domain)\n",
    "df['job_title'] = df['job_title'].map(clean_job_title)"
   ]
  },
  {
   "cell_type": "code",
   "execution_count": 10,
   "id": "afad544e",
   "metadata": {},
   "outputs": [],
   "source": [
    "## Initiate Company Name Replacement Mechanism Part 1 -- Replacing 1020 out of 1517 confidential company names\n",
    "df['company_name'].map(extract_unique_company_name)\n",
    "df['company_name'] = df[['company_name','job_title']].apply(lambda x: replace_confidential(*x), axis =1)\n",
    "## create company_name pattern\n",
    "company_name_pattern = create_company_name_pattern()\n",
    "## Initiate Company Name Replacement Mechanism Part 2\n",
    "df['company_name'] = df[['company_name','job_title']].apply(lambda x: replace_confidential_2(*x), axis =1)"
   ]
  },
  {
   "cell_type": "code",
   "execution_count": 11,
   "id": "c6353b65",
   "metadata": {},
   "outputs": [
    {
     "name": "stderr",
     "output_type": "stream",
     "text": [
      "C:\\Users\\Sarun\\AppData\\Local\\Temp\\ipykernel_81544\\2780450824.py:1: UserWarning: Boolean Series key will be reindexed to match DataFrame index.\n",
      "  len(df[['job_title','company_name']][df['raw_company_name']=='Confidential'][df['company_name']!='confidential'])\n"
     ]
    },
    {
     "data": {
      "text/plain": [
       "1123"
      ]
     },
     "execution_count": 11,
     "metadata": {},
     "output_type": "execute_result"
    }
   ],
   "source": [
    "len(df[['job_title','company_name']][df['raw_company_name']=='Confidential'][df['company_name']!='confidential'])"
   ]
  },
  {
   "cell_type": "code",
   "execution_count": 12,
   "id": "82641cdd",
   "metadata": {},
   "outputs": [
    {
     "name": "stderr",
     "output_type": "stream",
     "text": [
      "C:\\Users\\Sarun\\AppData\\Local\\Temp\\ipykernel_81544\\2416350677.py:1: UserWarning: Boolean Series key will be reindexed to match DataFrame index.\n",
      "  df[['job_title','company_name']][df['raw_company_name']=='Confidential'][df['company_name']!='confidential'][0:20]\n"
     ]
    },
    {
     "data": {
      "text/html": [
       "<div>\n",
       "<style scoped>\n",
       "    .dataframe tbody tr th:only-of-type {\n",
       "        vertical-align: middle;\n",
       "    }\n",
       "\n",
       "    .dataframe tbody tr th {\n",
       "        vertical-align: top;\n",
       "    }\n",
       "\n",
       "    .dataframe thead th {\n",
       "        text-align: right;\n",
       "    }\n",
       "</style>\n",
       "<table border=\"1\" class=\"dataframe\">\n",
       "  <thead>\n",
       "    <tr style=\"text-align: right;\">\n",
       "      <th></th>\n",
       "      <th>job_title</th>\n",
       "      <th>company_name</th>\n",
       "    </tr>\n",
       "  </thead>\n",
       "  <tbody>\n",
       "    <tr>\n",
       "      <th>2</th>\n",
       "      <td>temporary 3-6months admin assistant (office ho...</td>\n",
       "      <td>jobstudio pte ltd</td>\n",
       "    </tr>\n",
       "    <tr>\n",
       "      <th>4</th>\n",
       "      <td>automotive software engineers (c programming /...</td>\n",
       "      <td>ideals recruitment pte ltd</td>\n",
       "    </tr>\n",
       "    <tr>\n",
       "      <th>8</th>\n",
       "      <td>qa / qc manager (construction) (dredging) (2 y...</td>\n",
       "      <td>rs recruitment agency llp</td>\n",
       "    </tr>\n",
       "    <tr>\n",
       "      <th>13</th>\n",
       "      <td>1 year contract general ledger executive assis...</td>\n",
       "      <td>recruit express pte ltd</td>\n",
       "    </tr>\n",
       "    <tr>\n",
       "      <th>17</th>\n",
       "      <td>senior executive / executive, finance - capita...</td>\n",
       "      <td>capita</td>\n",
       "    </tr>\n",
       "    <tr>\n",
       "      <th>18</th>\n",
       "      <td>engineering assistant (calibration team) - cap...</td>\n",
       "      <td>capita pte ltd</td>\n",
       "    </tr>\n",
       "    <tr>\n",
       "      <th>20</th>\n",
       "      <td>onboarding specialist - recruitfirst pte. ltd</td>\n",
       "      <td>recruitfirst pte ltd</td>\n",
       "    </tr>\n",
       "    <tr>\n",
       "      <th>22</th>\n",
       "      <td>software engineer - weconex holdings (sea) pte...</td>\n",
       "      <td>weconex holdings (sea) pte ltd</td>\n",
       "    </tr>\n",
       "    <tr>\n",
       "      <th>27</th>\n",
       "      <td>medical affairs manager [nephrology] - integri...</td>\n",
       "      <td>integrity partners pte ltd</td>\n",
       "    </tr>\n",
       "    <tr>\n",
       "      <th>29</th>\n",
       "      <td>sales and marketing executive - recruit expres...</td>\n",
       "      <td>recruit express pte ltd</td>\n",
       "    </tr>\n",
       "    <tr>\n",
       "      <th>33</th>\n",
       "      <td>lifting supervisor / rigger signalman (singapo...</td>\n",
       "      <td>garner human capital management pte ltd</td>\n",
       "    </tr>\n",
       "    <tr>\n",
       "      <th>34</th>\n",
       "      <td>game designer (up to s$4,500) (id:505070) - pe...</td>\n",
       "      <td>persol singapore (a division of capita pte ltd)</td>\n",
       "    </tr>\n",
       "    <tr>\n",
       "      <th>39</th>\n",
       "      <td>customer service executive (suntec / $3k/ conv...</td>\n",
       "      <td>persol singapore (a division of capita pte ltd)</td>\n",
       "    </tr>\n",
       "    <tr>\n",
       "      <th>42</th>\n",
       "      <td>soc analyst - banking (junior / senior) - embe...</td>\n",
       "      <td>ember recruitment pte ltd</td>\n",
       "    </tr>\n",
       "    <tr>\n",
       "      <th>47</th>\n",
       "      <td>trade operation specialist - commodities intel...</td>\n",
       "      <td>commodities intelligence centre pte ltd</td>\n",
       "    </tr>\n",
       "    <tr>\n",
       "      <th>49</th>\n",
       "      <td>mobile crane operator (construction / a1 main ...</td>\n",
       "      <td>mci career services pte ltd</td>\n",
       "    </tr>\n",
       "    <tr>\n",
       "      <th>51</th>\n",
       "      <td>temporary warehouse assistant (3 months) - tec...</td>\n",
       "      <td>teckwah industrial corporation ltd</td>\n",
       "    </tr>\n",
       "    <tr>\n",
       "      <th>57</th>\n",
       "      <td>it sales executive (salary up to $2,900/ centr...</td>\n",
       "      <td>capita pte ltd - business support 3</td>\n",
       "    </tr>\n",
       "    <tr>\n",
       "      <th>62</th>\n",
       "      <td>quality control pharmacy technician (east / of...</td>\n",
       "      <td>recruit express pte ltd</td>\n",
       "    </tr>\n",
       "    <tr>\n",
       "      <th>67</th>\n",
       "      <td>hr assistant ( 9 months contract / west / 5d /...</td>\n",
       "      <td>ideals recruitment pte ltd</td>\n",
       "    </tr>\n",
       "  </tbody>\n",
       "</table>\n",
       "</div>"
      ],
      "text/plain": [
       "                                            job_title  \\\n",
       "2   temporary 3-6months admin assistant (office ho...   \n",
       "4   automotive software engineers (c programming /...   \n",
       "8   qa / qc manager (construction) (dredging) (2 y...   \n",
       "13  1 year contract general ledger executive assis...   \n",
       "17  senior executive / executive, finance - capita...   \n",
       "18  engineering assistant (calibration team) - cap...   \n",
       "20      onboarding specialist - recruitfirst pte. ltd   \n",
       "22  software engineer - weconex holdings (sea) pte...   \n",
       "27  medical affairs manager [nephrology] - integri...   \n",
       "29  sales and marketing executive - recruit expres...   \n",
       "33  lifting supervisor / rigger signalman (singapo...   \n",
       "34  game designer (up to s$4,500) (id:505070) - pe...   \n",
       "39  customer service executive (suntec / $3k/ conv...   \n",
       "42  soc analyst - banking (junior / senior) - embe...   \n",
       "47  trade operation specialist - commodities intel...   \n",
       "49  mobile crane operator (construction / a1 main ...   \n",
       "51  temporary warehouse assistant (3 months) - tec...   \n",
       "57  it sales executive (salary up to $2,900/ centr...   \n",
       "62  quality control pharmacy technician (east / of...   \n",
       "67  hr assistant ( 9 months contract / west / 5d /...   \n",
       "\n",
       "                                       company_name  \n",
       "2                                 jobstudio pte ltd  \n",
       "4                        ideals recruitment pte ltd  \n",
       "8                         rs recruitment agency llp  \n",
       "13                          recruit express pte ltd  \n",
       "17                                           capita  \n",
       "18                                   capita pte ltd  \n",
       "20                             recruitfirst pte ltd  \n",
       "22                   weconex holdings (sea) pte ltd  \n",
       "27                       integrity partners pte ltd  \n",
       "29                          recruit express pte ltd  \n",
       "33          garner human capital management pte ltd  \n",
       "34  persol singapore (a division of capita pte ltd)  \n",
       "39  persol singapore (a division of capita pte ltd)  \n",
       "42                        ember recruitment pte ltd  \n",
       "47          commodities intelligence centre pte ltd  \n",
       "49                      mci career services pte ltd  \n",
       "51               teckwah industrial corporation ltd  \n",
       "57              capita pte ltd - business support 3  \n",
       "62                          recruit express pte ltd  \n",
       "67                       ideals recruitment pte ltd  "
      ]
     },
     "execution_count": 12,
     "metadata": {},
     "output_type": "execute_result"
    }
   ],
   "source": [
    "df[['job_title','company_name']][df['raw_company_name']=='Confidential'][df['company_name']!='confidential'][0:20]"
   ]
  },
  {
   "cell_type": "code",
   "execution_count": 13,
   "id": "2f909cd6",
   "metadata": {},
   "outputs": [],
   "source": [
    "df[['job_title','company_name','raw_company_name']].to_csv('exel_01_replace_company_name.csv')"
   ]
  },
  {
   "cell_type": "code",
   "execution_count": 14,
   "id": "1f4d458c",
   "metadata": {},
   "outputs": [],
   "source": [
    "##Sanatized job_title column\n",
    "df['job_title'] = df['job_title'].map(sanitize_job_title)\n",
    "df['job_title'].to_csv('test.csv')"
   ]
  },
  {
   "cell_type": "code",
   "execution_count": 15,
   "id": "de3bd510",
   "metadata": {
    "scrolled": true
   },
   "outputs": [
    {
     "data": {
      "text/html": [
       "<div>\n",
       "<style scoped>\n",
       "    .dataframe tbody tr th:only-of-type {\n",
       "        vertical-align: middle;\n",
       "    }\n",
       "\n",
       "    .dataframe tbody tr th {\n",
       "        vertical-align: top;\n",
       "    }\n",
       "\n",
       "    .dataframe thead th {\n",
       "        text-align: right;\n",
       "    }\n",
       "</style>\n",
       "<table border=\"1\" class=\"dataframe\">\n",
       "  <thead>\n",
       "    <tr style=\"text-align: right;\">\n",
       "      <th></th>\n",
       "      <th>job_title</th>\n",
       "      <th>company_name</th>\n",
       "    </tr>\n",
       "  </thead>\n",
       "  <tbody>\n",
       "    <tr>\n",
       "      <th>0</th>\n",
       "      <td>business development</td>\n",
       "      <td>call lade enterprises pte ltd</td>\n",
       "    </tr>\n",
       "    <tr>\n",
       "      <th>1</th>\n",
       "      <td>secretary/pa</td>\n",
       "      <td>talent trader group pte ltd</td>\n",
       "    </tr>\n",
       "    <tr>\n",
       "      <th>2</th>\n",
       "      <td>temporary admin assistant</td>\n",
       "      <td>jobstudio pte ltd</td>\n",
       "    </tr>\n",
       "    <tr>\n",
       "      <th>3</th>\n",
       "      <td>program management</td>\n",
       "      <td>yash technologies singapore pte ltd</td>\n",
       "    </tr>\n",
       "    <tr>\n",
       "      <th>4</th>\n",
       "      <td>automotive software engineers</td>\n",
       "      <td>ideals recruitment pte ltd</td>\n",
       "    </tr>\n",
       "    <tr>\n",
       "      <th>5</th>\n",
       "      <td>managing consultant</td>\n",
       "      <td>michael page international pte ltd</td>\n",
       "    </tr>\n",
       "    <tr>\n",
       "      <th>6</th>\n",
       "      <td>lab technician</td>\n",
       "      <td>recruitexpress</td>\n",
       "    </tr>\n",
       "    <tr>\n",
       "      <th>7</th>\n",
       "      <td>senior software engineer</td>\n",
       "      <td>openbet singapore pte ltd</td>\n",
       "    </tr>\n",
       "    <tr>\n",
       "      <th>8</th>\n",
       "      <td>qa / qc manager</td>\n",
       "      <td>rs recruitment agency llp</td>\n",
       "    </tr>\n",
       "    <tr>\n",
       "      <th>9</th>\n",
       "      <td>executive/senior executive, graduate studies</td>\n",
       "      <td>national university of singapore</td>\n",
       "    </tr>\n",
       "    <tr>\n",
       "      <th>10</th>\n",
       "      <td>m&amp;e engineer</td>\n",
       "      <td>logistics construction pte ltd</td>\n",
       "    </tr>\n",
       "    <tr>\n",
       "      <th>11</th>\n",
       "      <td>executive officer</td>\n",
       "      <td>confidential</td>\n",
       "    </tr>\n",
       "    <tr>\n",
       "      <th>12</th>\n",
       "      <td>spa therapist</td>\n",
       "      <td>lian xin wellness spa</td>\n",
       "    </tr>\n",
       "    <tr>\n",
       "      <th>13</th>\n",
       "      <td>general ledger executive assistant</td>\n",
       "      <td>recruit express pte ltd</td>\n",
       "    </tr>\n",
       "    <tr>\n",
       "      <th>14</th>\n",
       "      <td>system administrator</td>\n",
       "      <td>dreamscape networks international pte ltd</td>\n",
       "    </tr>\n",
       "    <tr>\n",
       "      <th>15</th>\n",
       "      <td>analyst, data</td>\n",
       "      <td>confidential</td>\n",
       "    </tr>\n",
       "    <tr>\n",
       "      <th>16</th>\n",
       "      <td>management trainee</td>\n",
       "      <td>inter island manpower pte ltd</td>\n",
       "    </tr>\n",
       "    <tr>\n",
       "      <th>17</th>\n",
       "      <td>senior executive / executive, finance</td>\n",
       "      <td>capita</td>\n",
       "    </tr>\n",
       "    <tr>\n",
       "      <th>18</th>\n",
       "      <td>engineering assistant</td>\n",
       "      <td>capita pte ltd</td>\n",
       "    </tr>\n",
       "    <tr>\n",
       "      <th>19</th>\n",
       "      <td>executive, corporate communications &amp; sustaina...</td>\n",
       "      <td>starhub ltd</td>\n",
       "    </tr>\n",
       "    <tr>\n",
       "      <th>20</th>\n",
       "      <td>onboarding specialist</td>\n",
       "      <td>recruitfirst pte ltd</td>\n",
       "    </tr>\n",
       "    <tr>\n",
       "      <th>21</th>\n",
       "      <td>retail allocator</td>\n",
       "      <td>ua sports (s.e.a.) pte ltd</td>\n",
       "    </tr>\n",
       "    <tr>\n",
       "      <th>22</th>\n",
       "      <td>software engineer</td>\n",
       "      <td>weconex holdings (sea) pte ltd</td>\n",
       "    </tr>\n",
       "    <tr>\n",
       "      <th>23</th>\n",
       "      <td>research fellow</td>\n",
       "      <td>confidential</td>\n",
       "    </tr>\n",
       "    <tr>\n",
       "      <th>24</th>\n",
       "      <td>2d artist/animator</td>\n",
       "      <td>the leadership institute pte ltd</td>\n",
       "    </tr>\n",
       "    <tr>\n",
       "      <th>25</th>\n",
       "      <td>executive manager/ manager</td>\n",
       "      <td>national environment agency</td>\n",
       "    </tr>\n",
       "    <tr>\n",
       "      <th>26</th>\n",
       "      <td>sweets packer</td>\n",
       "      <td>confidential</td>\n",
       "    </tr>\n",
       "    <tr>\n",
       "      <th>27</th>\n",
       "      <td>medical affairs manager</td>\n",
       "      <td>integrity partners pte ltd</td>\n",
       "    </tr>\n",
       "    <tr>\n",
       "      <th>28</th>\n",
       "      <td>dishwasher</td>\n",
       "      <td>koubei brothers pte ltd</td>\n",
       "    </tr>\n",
       "    <tr>\n",
       "      <th>29</th>\n",
       "      <td>sales and marketing executive</td>\n",
       "      <td>recruit express pte ltd</td>\n",
       "    </tr>\n",
       "  </tbody>\n",
       "</table>\n",
       "</div>"
      ],
      "text/plain": [
       "                                            job_title  \\\n",
       "0                                business development   \n",
       "1                                        secretary/pa   \n",
       "2                           temporary admin assistant   \n",
       "3                                  program management   \n",
       "4                       automotive software engineers   \n",
       "5                                 managing consultant   \n",
       "6                                      lab technician   \n",
       "7                            senior software engineer   \n",
       "8                                     qa / qc manager   \n",
       "9        executive/senior executive, graduate studies   \n",
       "10                                       m&e engineer   \n",
       "11                                  executive officer   \n",
       "12                                      spa therapist   \n",
       "13                 general ledger executive assistant   \n",
       "14                               system administrator   \n",
       "15                                      analyst, data   \n",
       "16                                 management trainee   \n",
       "17              senior executive / executive, finance   \n",
       "18                              engineering assistant   \n",
       "19  executive, corporate communications & sustaina...   \n",
       "20                              onboarding specialist   \n",
       "21                                   retail allocator   \n",
       "22                                  software engineer   \n",
       "23                                    research fellow   \n",
       "24                                 2d artist/animator   \n",
       "25                         executive manager/ manager   \n",
       "26                                      sweets packer   \n",
       "27                            medical affairs manager   \n",
       "28                                         dishwasher   \n",
       "29                      sales and marketing executive   \n",
       "\n",
       "                                 company_name  \n",
       "0               call lade enterprises pte ltd  \n",
       "1                 talent trader group pte ltd  \n",
       "2                           jobstudio pte ltd  \n",
       "3         yash technologies singapore pte ltd  \n",
       "4                  ideals recruitment pte ltd  \n",
       "5          michael page international pte ltd  \n",
       "6                              recruitexpress  \n",
       "7                   openbet singapore pte ltd  \n",
       "8                   rs recruitment agency llp  \n",
       "9            national university of singapore  \n",
       "10             logistics construction pte ltd  \n",
       "11                               confidential  \n",
       "12                      lian xin wellness spa  \n",
       "13                    recruit express pte ltd  \n",
       "14  dreamscape networks international pte ltd  \n",
       "15                               confidential  \n",
       "16              inter island manpower pte ltd  \n",
       "17                                     capita  \n",
       "18                             capita pte ltd  \n",
       "19                                starhub ltd  \n",
       "20                       recruitfirst pte ltd  \n",
       "21                 ua sports (s.e.a.) pte ltd  \n",
       "22             weconex holdings (sea) pte ltd  \n",
       "23                               confidential  \n",
       "24           the leadership institute pte ltd  \n",
       "25                national environment agency  \n",
       "26                               confidential  \n",
       "27                 integrity partners pte ltd  \n",
       "28                    koubei brothers pte ltd  \n",
       "29                    recruit express pte ltd  "
      ]
     },
     "execution_count": 15,
     "metadata": {},
     "output_type": "execute_result"
    }
   ],
   "source": [
    "df[['job_title','company_name']][0:30]"
   ]
  },
  {
   "cell_type": "code",
   "execution_count": 16,
   "id": "c6d53dcc",
   "metadata": {},
   "outputs": [
    {
     "data": {
      "text/html": [
       "<div>\n",
       "<style scoped>\n",
       "    .dataframe tbody tr th:only-of-type {\n",
       "        vertical-align: middle;\n",
       "    }\n",
       "\n",
       "    .dataframe tbody tr th {\n",
       "        vertical-align: top;\n",
       "    }\n",
       "\n",
       "    .dataframe thead th {\n",
       "        text-align: right;\n",
       "    }\n",
       "</style>\n",
       "<table border=\"1\" class=\"dataframe\">\n",
       "  <thead>\n",
       "    <tr style=\"text-align: right;\">\n",
       "      <th></th>\n",
       "      <th>raw_job_title</th>\n",
       "      <th>job_title</th>\n",
       "    </tr>\n",
       "  </thead>\n",
       "  <tbody>\n",
       "    <tr>\n",
       "      <th>0</th>\n",
       "      <td>BUSINESS DEVELOPMENT (FREIGHT FORWARDING)</td>\n",
       "      <td>business development</td>\n",
       "    </tr>\n",
       "    <tr>\n",
       "      <th>1</th>\n",
       "      <td>Secretary/PA</td>\n",
       "      <td>secretary/pa</td>\n",
       "    </tr>\n",
       "    <tr>\n",
       "      <th>2</th>\n",
       "      <td>Temporary 3-6months Admin Assistant (Office ho...</td>\n",
       "      <td>temporary admin assistant</td>\n",
       "    </tr>\n",
       "    <tr>\n",
       "      <th>3</th>\n",
       "      <td>Program Management</td>\n",
       "      <td>program management</td>\n",
       "    </tr>\n",
       "    <tr>\n",
       "      <th>4</th>\n",
       "      <td>Automotive Software Engineers (C Programming /...</td>\n",
       "      <td>automotive software engineers</td>\n",
       "    </tr>\n",
       "    <tr>\n",
       "      <th>5</th>\n",
       "      <td>Managing Consultant</td>\n",
       "      <td>managing consultant</td>\n",
       "    </tr>\n",
       "    <tr>\n",
       "      <th>6</th>\n",
       "      <td>Lab Technician - $1700 #ERH</td>\n",
       "      <td>lab technician</td>\n",
       "    </tr>\n",
       "    <tr>\n",
       "      <th>7</th>\n",
       "      <td>Senior Software Engineer</td>\n",
       "      <td>senior software engineer</td>\n",
       "    </tr>\n",
       "    <tr>\n",
       "      <th>8</th>\n",
       "      <td>QA / QC MANAGER (Construction) (Dredging) (2 y...</td>\n",
       "      <td>qa / qc manager</td>\n",
       "    </tr>\n",
       "    <tr>\n",
       "      <th>9</th>\n",
       "      <td>Executive/Senior Executive, Graduate Studies (...</td>\n",
       "      <td>executive/senior executive, graduate studies</td>\n",
       "    </tr>\n",
       "    <tr>\n",
       "      <th>10</th>\n",
       "      <td>M&amp;E Engineer</td>\n",
       "      <td>m&amp;e engineer</td>\n",
       "    </tr>\n",
       "    <tr>\n",
       "      <th>11</th>\n",
       "      <td>Executive Officer - Muslimin Trust Fund Associ...</td>\n",
       "      <td>executive officer</td>\n",
       "    </tr>\n",
       "    <tr>\n",
       "      <th>12</th>\n",
       "      <td>Spa therapist</td>\n",
       "      <td>spa therapist</td>\n",
       "    </tr>\n",
       "    <tr>\n",
       "      <th>13</th>\n",
       "      <td>1 Year Contract General Ledger Executive Assis...</td>\n",
       "      <td>general ledger executive assistant</td>\n",
       "    </tr>\n",
       "    <tr>\n",
       "      <th>14</th>\n",
       "      <td>System Administrator (Server Maintenance)</td>\n",
       "      <td>system administrator</td>\n",
       "    </tr>\n",
       "    <tr>\n",
       "      <th>15</th>\n",
       "      <td>Analyst, Data -</td>\n",
       "      <td>analyst, data</td>\n",
       "    </tr>\n",
       "    <tr>\n",
       "      <th>16</th>\n",
       "      <td>Management Trainee</td>\n",
       "      <td>management trainee</td>\n",
       "    </tr>\n",
       "    <tr>\n",
       "      <th>17</th>\n",
       "      <td>Senior Executive / Executive, Finance - Capita...</td>\n",
       "      <td>senior executive / executive, finance</td>\n",
       "    </tr>\n",
       "    <tr>\n",
       "      <th>18</th>\n",
       "      <td>Engineering Assistant (calibration team) - Cap...</td>\n",
       "      <td>engineering assistant</td>\n",
       "    </tr>\n",
       "    <tr>\n",
       "      <th>19</th>\n",
       "      <td>Executive, Corporate Communications &amp; Sustaina...</td>\n",
       "      <td>executive, corporate communications &amp; sustaina...</td>\n",
       "    </tr>\n",
       "    <tr>\n",
       "      <th>20</th>\n",
       "      <td>Onboarding Specialist - RecruitFirst Pte. Ltd</td>\n",
       "      <td>onboarding specialist</td>\n",
       "    </tr>\n",
       "    <tr>\n",
       "      <th>21</th>\n",
       "      <td>Retail Allocator</td>\n",
       "      <td>retail allocator</td>\n",
       "    </tr>\n",
       "    <tr>\n",
       "      <th>22</th>\n",
       "      <td>Software Engineer - Weconex Holdings (SEA) Pte...</td>\n",
       "      <td>software engineer</td>\n",
       "    </tr>\n",
       "    <tr>\n",
       "      <th>23</th>\n",
       "      <td>Research Fellow [LKCMedicine] - Lee Kong Chian...</td>\n",
       "      <td>research fellow</td>\n",
       "    </tr>\n",
       "    <tr>\n",
       "      <th>24</th>\n",
       "      <td>2D Artist/Animator #SGUnitedJobs</td>\n",
       "      <td>2d artist/animator</td>\n",
       "    </tr>\n",
       "    <tr>\n",
       "      <th>25</th>\n",
       "      <td>Executive Manager/ Manager (Corporate Communic...</td>\n",
       "      <td>executive manager/ manager</td>\n",
       "    </tr>\n",
       "    <tr>\n",
       "      <th>26</th>\n",
       "      <td>⚡Sweets Packer @ West (START ASAP, Min 3 month...</td>\n",
       "      <td>sweets packer</td>\n",
       "    </tr>\n",
       "    <tr>\n",
       "      <th>27</th>\n",
       "      <td>Medical Affairs Manager [Nephrology] - Integri...</td>\n",
       "      <td>medical affairs manager</td>\n",
       "    </tr>\n",
       "    <tr>\n",
       "      <th>28</th>\n",
       "      <td>Dishwasher</td>\n",
       "      <td>dishwasher</td>\n",
       "    </tr>\n",
       "    <tr>\n",
       "      <th>29</th>\n",
       "      <td>Sales and Marketing Executive - RECRUIT EXPRES...</td>\n",
       "      <td>sales and marketing executive</td>\n",
       "    </tr>\n",
       "  </tbody>\n",
       "</table>\n",
       "</div>"
      ],
      "text/plain": [
       "                                        raw_job_title  \\\n",
       "0           BUSINESS DEVELOPMENT (FREIGHT FORWARDING)   \n",
       "1                                        Secretary/PA   \n",
       "2   Temporary 3-6months Admin Assistant (Office ho...   \n",
       "3                                  Program Management   \n",
       "4   Automotive Software Engineers (C Programming /...   \n",
       "5                                 Managing Consultant   \n",
       "6                         Lab Technician - $1700 #ERH   \n",
       "7                            Senior Software Engineer   \n",
       "8   QA / QC MANAGER (Construction) (Dredging) (2 y...   \n",
       "9   Executive/Senior Executive, Graduate Studies (...   \n",
       "10                                       M&E Engineer   \n",
       "11  Executive Officer - Muslimin Trust Fund Associ...   \n",
       "12                                      Spa therapist   \n",
       "13  1 Year Contract General Ledger Executive Assis...   \n",
       "14          System Administrator (Server Maintenance)   \n",
       "15                                    Analyst, Data -   \n",
       "16                                 Management Trainee   \n",
       "17  Senior Executive / Executive, Finance - Capita...   \n",
       "18  Engineering Assistant (calibration team) - Cap...   \n",
       "19  Executive, Corporate Communications & Sustaina...   \n",
       "20      Onboarding Specialist - RecruitFirst Pte. Ltd   \n",
       "21                                   Retail Allocator   \n",
       "22  Software Engineer - Weconex Holdings (SEA) Pte...   \n",
       "23  Research Fellow [LKCMedicine] - Lee Kong Chian...   \n",
       "24                   2D Artist/Animator #SGUnitedJobs   \n",
       "25  Executive Manager/ Manager (Corporate Communic...   \n",
       "26  ⚡Sweets Packer @ West (START ASAP, Min 3 month...   \n",
       "27  Medical Affairs Manager [Nephrology] - Integri...   \n",
       "28                                         Dishwasher   \n",
       "29  Sales and Marketing Executive - RECRUIT EXPRES...   \n",
       "\n",
       "                                            job_title  \n",
       "0                                business development  \n",
       "1                                        secretary/pa  \n",
       "2                           temporary admin assistant  \n",
       "3                                  program management  \n",
       "4                       automotive software engineers  \n",
       "5                                 managing consultant  \n",
       "6                                      lab technician  \n",
       "7                            senior software engineer  \n",
       "8                                     qa / qc manager  \n",
       "9        executive/senior executive, graduate studies  \n",
       "10                                       m&e engineer  \n",
       "11                                  executive officer  \n",
       "12                                      spa therapist  \n",
       "13                 general ledger executive assistant  \n",
       "14                               system administrator  \n",
       "15                                      analyst, data  \n",
       "16                                 management trainee  \n",
       "17              senior executive / executive, finance  \n",
       "18                              engineering assistant  \n",
       "19  executive, corporate communications & sustaina...  \n",
       "20                              onboarding specialist  \n",
       "21                                   retail allocator  \n",
       "22                                  software engineer  \n",
       "23                                    research fellow  \n",
       "24                                 2d artist/animator  \n",
       "25                         executive manager/ manager  \n",
       "26                                      sweets packer  \n",
       "27                            medical affairs manager  \n",
       "28                                         dishwasher  \n",
       "29                      sales and marketing executive  "
      ]
     },
     "execution_count": 16,
     "metadata": {},
     "output_type": "execute_result"
    }
   ],
   "source": [
    "df[['raw_job_title','job_title']][0:30]"
   ]
  },
  {
   "cell_type": "code",
   "execution_count": 17,
   "id": "a149925e",
   "metadata": {},
   "outputs": [
    {
     "data": {
      "text/html": [
       "<div>\n",
       "<style scoped>\n",
       "    .dataframe tbody tr th:only-of-type {\n",
       "        vertical-align: middle;\n",
       "    }\n",
       "\n",
       "    .dataframe tbody tr th {\n",
       "        vertical-align: top;\n",
       "    }\n",
       "\n",
       "    .dataframe thead th {\n",
       "        text-align: right;\n",
       "    }\n",
       "</style>\n",
       "<table border=\"1\" class=\"dataframe\">\n",
       "  <thead>\n",
       "    <tr style=\"text-align: right;\">\n",
       "      <th></th>\n",
       "      <th>raw_company_name</th>\n",
       "      <th>company_name</th>\n",
       "    </tr>\n",
       "  </thead>\n",
       "  <tbody>\n",
       "    <tr>\n",
       "      <th>0</th>\n",
       "      <td>CALL LADE ENTERPRISES PTE LTD</td>\n",
       "      <td>call lade enterprises pte ltd</td>\n",
       "    </tr>\n",
       "    <tr>\n",
       "      <th>1</th>\n",
       "      <td>TALENT TRADER GROUP PTE. LTD.</td>\n",
       "      <td>talent trader group pte ltd</td>\n",
       "    </tr>\n",
       "    <tr>\n",
       "      <th>2</th>\n",
       "      <td>Confidential</td>\n",
       "      <td>jobstudio pte ltd</td>\n",
       "    </tr>\n",
       "    <tr>\n",
       "      <th>3</th>\n",
       "      <td>YASH TECHNOLOGIES SINGAPORE PTE. LIMITED</td>\n",
       "      <td>yash technologies singapore pte ltd</td>\n",
       "    </tr>\n",
       "    <tr>\n",
       "      <th>4</th>\n",
       "      <td>Confidential</td>\n",
       "      <td>ideals recruitment pte ltd</td>\n",
       "    </tr>\n",
       "    <tr>\n",
       "      <th>5</th>\n",
       "      <td>MICHAEL PAGE INTERNATIONAL PTE LTD</td>\n",
       "      <td>michael page international pte ltd</td>\n",
       "    </tr>\n",
       "    <tr>\n",
       "      <th>6</th>\n",
       "      <td>RecruitExpress</td>\n",
       "      <td>recruitexpress</td>\n",
       "    </tr>\n",
       "    <tr>\n",
       "      <th>7</th>\n",
       "      <td>OPENBET SINGAPORE PTE. LIMITED</td>\n",
       "      <td>openbet singapore pte ltd</td>\n",
       "    </tr>\n",
       "    <tr>\n",
       "      <th>8</th>\n",
       "      <td>Confidential</td>\n",
       "      <td>rs recruitment agency llp</td>\n",
       "    </tr>\n",
       "    <tr>\n",
       "      <th>9</th>\n",
       "      <td>NATIONAL UNIVERSITY OF SINGAPORE</td>\n",
       "      <td>national university of singapore</td>\n",
       "    </tr>\n",
       "    <tr>\n",
       "      <th>10</th>\n",
       "      <td>LOGISTICS CONSTRUCTION PTE LTD</td>\n",
       "      <td>logistics construction pte ltd</td>\n",
       "    </tr>\n",
       "    <tr>\n",
       "      <th>11</th>\n",
       "      <td>Confidential</td>\n",
       "      <td>confidential</td>\n",
       "    </tr>\n",
       "    <tr>\n",
       "      <th>12</th>\n",
       "      <td>LIAN XIN WELLNESS SPA</td>\n",
       "      <td>lian xin wellness spa</td>\n",
       "    </tr>\n",
       "    <tr>\n",
       "      <th>13</th>\n",
       "      <td>Confidential</td>\n",
       "      <td>recruit express pte ltd</td>\n",
       "    </tr>\n",
       "    <tr>\n",
       "      <th>14</th>\n",
       "      <td>Dreamscape Networks International Pte Ltd</td>\n",
       "      <td>dreamscape networks international pte ltd</td>\n",
       "    </tr>\n",
       "    <tr>\n",
       "      <th>15</th>\n",
       "      <td>Confidential</td>\n",
       "      <td>confidential</td>\n",
       "    </tr>\n",
       "    <tr>\n",
       "      <th>16</th>\n",
       "      <td>INTER ISLAND MANPOWER PTE. LTD.</td>\n",
       "      <td>inter island manpower pte ltd</td>\n",
       "    </tr>\n",
       "    <tr>\n",
       "      <th>17</th>\n",
       "      <td>Confidential</td>\n",
       "      <td>capita</td>\n",
       "    </tr>\n",
       "    <tr>\n",
       "      <th>18</th>\n",
       "      <td>Confidential</td>\n",
       "      <td>capita pte ltd</td>\n",
       "    </tr>\n",
       "    <tr>\n",
       "      <th>19</th>\n",
       "      <td>STARHUB LTD.</td>\n",
       "      <td>starhub ltd</td>\n",
       "    </tr>\n",
       "    <tr>\n",
       "      <th>20</th>\n",
       "      <td>Confidential</td>\n",
       "      <td>recruitfirst pte ltd</td>\n",
       "    </tr>\n",
       "    <tr>\n",
       "      <th>21</th>\n",
       "      <td>UA SPORTS (S.E.A.) PTE. LTD.</td>\n",
       "      <td>ua sports (s.e.a.) pte ltd</td>\n",
       "    </tr>\n",
       "    <tr>\n",
       "      <th>22</th>\n",
       "      <td>Confidential</td>\n",
       "      <td>weconex holdings (sea) pte ltd</td>\n",
       "    </tr>\n",
       "    <tr>\n",
       "      <th>23</th>\n",
       "      <td>Confidential</td>\n",
       "      <td>confidential</td>\n",
       "    </tr>\n",
       "    <tr>\n",
       "      <th>24</th>\n",
       "      <td>THE LEADERSHIP INSTITUTE PTE. LTD.</td>\n",
       "      <td>the leadership institute pte ltd</td>\n",
       "    </tr>\n",
       "    <tr>\n",
       "      <th>25</th>\n",
       "      <td>National Environment Agency</td>\n",
       "      <td>national environment agency</td>\n",
       "    </tr>\n",
       "    <tr>\n",
       "      <th>26</th>\n",
       "      <td>Confidential</td>\n",
       "      <td>confidential</td>\n",
       "    </tr>\n",
       "    <tr>\n",
       "      <th>27</th>\n",
       "      <td>Confidential</td>\n",
       "      <td>integrity partners pte ltd</td>\n",
       "    </tr>\n",
       "    <tr>\n",
       "      <th>28</th>\n",
       "      <td>KOUBEI BROTHERS PTE. LTD.</td>\n",
       "      <td>koubei brothers pte ltd</td>\n",
       "    </tr>\n",
       "    <tr>\n",
       "      <th>29</th>\n",
       "      <td>Confidential</td>\n",
       "      <td>recruit express pte ltd</td>\n",
       "    </tr>\n",
       "  </tbody>\n",
       "</table>\n",
       "</div>"
      ],
      "text/plain": [
       "                             raw_company_name  \\\n",
       "0               CALL LADE ENTERPRISES PTE LTD   \n",
       "1               TALENT TRADER GROUP PTE. LTD.   \n",
       "2                                Confidential   \n",
       "3    YASH TECHNOLOGIES SINGAPORE PTE. LIMITED   \n",
       "4                                Confidential   \n",
       "5          MICHAEL PAGE INTERNATIONAL PTE LTD   \n",
       "6                              RecruitExpress   \n",
       "7              OPENBET SINGAPORE PTE. LIMITED   \n",
       "8                                Confidential   \n",
       "9            NATIONAL UNIVERSITY OF SINGAPORE   \n",
       "10             LOGISTICS CONSTRUCTION PTE LTD   \n",
       "11                               Confidential   \n",
       "12                      LIAN XIN WELLNESS SPA   \n",
       "13                               Confidential   \n",
       "14  Dreamscape Networks International Pte Ltd   \n",
       "15                               Confidential   \n",
       "16            INTER ISLAND MANPOWER PTE. LTD.   \n",
       "17                               Confidential   \n",
       "18                               Confidential   \n",
       "19                               STARHUB LTD.   \n",
       "20                               Confidential   \n",
       "21               UA SPORTS (S.E.A.) PTE. LTD.   \n",
       "22                               Confidential   \n",
       "23                               Confidential   \n",
       "24         THE LEADERSHIP INSTITUTE PTE. LTD.   \n",
       "25                National Environment Agency   \n",
       "26                               Confidential   \n",
       "27                               Confidential   \n",
       "28                  KOUBEI BROTHERS PTE. LTD.   \n",
       "29                               Confidential   \n",
       "\n",
       "                                 company_name  \n",
       "0               call lade enterprises pte ltd  \n",
       "1                 talent trader group pte ltd  \n",
       "2                           jobstudio pte ltd  \n",
       "3         yash technologies singapore pte ltd  \n",
       "4                  ideals recruitment pte ltd  \n",
       "5          michael page international pte ltd  \n",
       "6                              recruitexpress  \n",
       "7                   openbet singapore pte ltd  \n",
       "8                   rs recruitment agency llp  \n",
       "9            national university of singapore  \n",
       "10             logistics construction pte ltd  \n",
       "11                               confidential  \n",
       "12                      lian xin wellness spa  \n",
       "13                    recruit express pte ltd  \n",
       "14  dreamscape networks international pte ltd  \n",
       "15                               confidential  \n",
       "16              inter island manpower pte ltd  \n",
       "17                                     capita  \n",
       "18                             capita pte ltd  \n",
       "19                                starhub ltd  \n",
       "20                       recruitfirst pte ltd  \n",
       "21                 ua sports (s.e.a.) pte ltd  \n",
       "22             weconex holdings (sea) pte ltd  \n",
       "23                               confidential  \n",
       "24           the leadership institute pte ltd  \n",
       "25                national environment agency  \n",
       "26                               confidential  \n",
       "27                 integrity partners pte ltd  \n",
       "28                    koubei brothers pte ltd  \n",
       "29                    recruit express pte ltd  "
      ]
     },
     "execution_count": 17,
     "metadata": {},
     "output_type": "execute_result"
    }
   ],
   "source": [
    "df[['raw_company_name','company_name']][0:30]"
   ]
  },
  {
   "cell_type": "markdown",
   "id": "3be8aec2",
   "metadata": {},
   "source": [
    "### Categorized job by category"
   ]
  },
  {
   "cell_type": "code",
   "execution_count": 18,
   "id": "1fe77bd3",
   "metadata": {},
   "outputs": [],
   "source": [
    "## Semi-manually group each posting to different type of job category using basic search function in job_title column\n",
    "job_pattern = []\n",
    "def basic_job_pattern_creator(jobs_title):\n",
    "    return job_pattern.append('|'.join(name for name in jobs_title))\n",
    "\n",
    "## FILTER OUT THOSE WITH LOWER THAN 90 count\n",
    "basic_job_pattern_creator(['technician','electrician'])\n",
    "basic_job_pattern_creator(['hr','human'])\n",
    "basic_job_pattern_creator(['account'])\n",
    "basic_job_pattern_creator(['finance','financial','bank'])\n",
    "basic_job_pattern_creator(['admin'])\n",
    "basic_job_pattern_creator(['chef','cook','kitchen','barista','bartender','restaurant'])\n",
    "basic_job_pattern_creator(['healthcare','medical','nurse','hospital','pharma','clinic','patient'])\n",
    "basic_job_pattern_creator(['analytic','analyst','data'])\n",
    "basic_job_pattern_creator(['marketing','market','sales'])\n",
    "basic_job_pattern_creator(['customer','service','call'])\n",
    "basic_job_pattern_creator(['software','developer','java','network','system'])\n",
    "basic_job_pattern_creator(['engineer'])\n",
    "basic_job_pattern_creator(['manager'])\n",
    "# basic_job_pattern_creator(['teacher','school','principal'])\n",
    "##TOO LOW NUMBER --> less than 2%\n",
    "## basic_job_pattern_creator(['business'])\n",
    "## basic_job_pattern_creator(['operations'])\n",
    "## basic_job_pattern_creator(['consultant'])\n",
    "## basic_job_pattern_creator(['driver'])\n",
    "## basic_job_pattern_creator(['designer','graphic'])\n",
    "## basic_job_pattern_creator(['project'])\n",
    "## basic_job_pattern_creator(['research'])\n",
    "\n",
    "\n",
    "def create_job_category(job_title):\n",
    "    i = 0\n",
    "    for category in job_pattern:\n",
    "        i += 1\n",
    "        if re.search(category, job_title):\n",
    "            job_category = category\n",
    "            break\n",
    "        else:\n",
    "            job_category = 'other'\n",
    "    return job_category\n"
   ]
  },
  {
   "cell_type": "code",
   "execution_count": 19,
   "id": "94ed2a75",
   "metadata": {},
   "outputs": [],
   "source": [
    "df['job_category'] = df[\"job_title\"].map(create_job_category)\n",
    "\n",
    "## list of all job_category for late use\n",
    "job_category_in_df = []\n",
    "for category in df['job_category']:\n",
    "    job_category_in_df.append(category)\n",
    "job_category_in_df = list(set(job_category_in_df))"
   ]
  },
  {
   "cell_type": "code",
   "execution_count": 20,
   "id": "480bd497",
   "metadata": {
    "scrolled": true
   },
   "outputs": [
    {
     "data": {
      "text/html": [
       "<div>\n",
       "<style scoped>\n",
       "    .dataframe tbody tr th:only-of-type {\n",
       "        vertical-align: middle;\n",
       "    }\n",
       "\n",
       "    .dataframe tbody tr th {\n",
       "        vertical-align: top;\n",
       "    }\n",
       "\n",
       "    .dataframe thead th {\n",
       "        text-align: right;\n",
       "    }\n",
       "</style>\n",
       "<table border=\"1\" class=\"dataframe\">\n",
       "  <thead>\n",
       "    <tr style=\"text-align: right;\">\n",
       "      <th></th>\n",
       "      <th>job_title</th>\n",
       "      <th>job_category</th>\n",
       "    </tr>\n",
       "  </thead>\n",
       "  <tbody>\n",
       "    <tr>\n",
       "      <th>0</th>\n",
       "      <td>business development</td>\n",
       "      <td>other</td>\n",
       "    </tr>\n",
       "    <tr>\n",
       "      <th>1</th>\n",
       "      <td>secretary/pa</td>\n",
       "      <td>other</td>\n",
       "    </tr>\n",
       "    <tr>\n",
       "      <th>2</th>\n",
       "      <td>temporary admin assistant</td>\n",
       "      <td>admin</td>\n",
       "    </tr>\n",
       "    <tr>\n",
       "      <th>3</th>\n",
       "      <td>program management</td>\n",
       "      <td>other</td>\n",
       "    </tr>\n",
       "    <tr>\n",
       "      <th>4</th>\n",
       "      <td>automotive software engineers</td>\n",
       "      <td>software|developer|java|network|system</td>\n",
       "    </tr>\n",
       "    <tr>\n",
       "      <th>5</th>\n",
       "      <td>managing consultant</td>\n",
       "      <td>other</td>\n",
       "    </tr>\n",
       "    <tr>\n",
       "      <th>6</th>\n",
       "      <td>lab technician</td>\n",
       "      <td>technician|electrician</td>\n",
       "    </tr>\n",
       "    <tr>\n",
       "      <th>7</th>\n",
       "      <td>senior software engineer</td>\n",
       "      <td>software|developer|java|network|system</td>\n",
       "    </tr>\n",
       "    <tr>\n",
       "      <th>8</th>\n",
       "      <td>qa / qc manager</td>\n",
       "      <td>manager</td>\n",
       "    </tr>\n",
       "    <tr>\n",
       "      <th>9</th>\n",
       "      <td>executive/senior executive, graduate studies</td>\n",
       "      <td>other</td>\n",
       "    </tr>\n",
       "    <tr>\n",
       "      <th>10</th>\n",
       "      <td>m&amp;e engineer</td>\n",
       "      <td>engineer</td>\n",
       "    </tr>\n",
       "    <tr>\n",
       "      <th>11</th>\n",
       "      <td>executive officer</td>\n",
       "      <td>other</td>\n",
       "    </tr>\n",
       "    <tr>\n",
       "      <th>12</th>\n",
       "      <td>spa therapist</td>\n",
       "      <td>other</td>\n",
       "    </tr>\n",
       "    <tr>\n",
       "      <th>13</th>\n",
       "      <td>general ledger executive assistant</td>\n",
       "      <td>other</td>\n",
       "    </tr>\n",
       "    <tr>\n",
       "      <th>14</th>\n",
       "      <td>system administrator</td>\n",
       "      <td>admin</td>\n",
       "    </tr>\n",
       "    <tr>\n",
       "      <th>15</th>\n",
       "      <td>analyst, data</td>\n",
       "      <td>analytic|analyst|data</td>\n",
       "    </tr>\n",
       "    <tr>\n",
       "      <th>16</th>\n",
       "      <td>management trainee</td>\n",
       "      <td>other</td>\n",
       "    </tr>\n",
       "    <tr>\n",
       "      <th>17</th>\n",
       "      <td>senior executive / executive, finance</td>\n",
       "      <td>finance|financial|bank</td>\n",
       "    </tr>\n",
       "    <tr>\n",
       "      <th>18</th>\n",
       "      <td>engineering assistant</td>\n",
       "      <td>engineer</td>\n",
       "    </tr>\n",
       "    <tr>\n",
       "      <th>19</th>\n",
       "      <td>executive, corporate communications &amp; sustaina...</td>\n",
       "      <td>other</td>\n",
       "    </tr>\n",
       "    <tr>\n",
       "      <th>20</th>\n",
       "      <td>onboarding specialist</td>\n",
       "      <td>other</td>\n",
       "    </tr>\n",
       "    <tr>\n",
       "      <th>21</th>\n",
       "      <td>retail allocator</td>\n",
       "      <td>other</td>\n",
       "    </tr>\n",
       "    <tr>\n",
       "      <th>22</th>\n",
       "      <td>software engineer</td>\n",
       "      <td>software|developer|java|network|system</td>\n",
       "    </tr>\n",
       "    <tr>\n",
       "      <th>23</th>\n",
       "      <td>research fellow</td>\n",
       "      <td>other</td>\n",
       "    </tr>\n",
       "    <tr>\n",
       "      <th>24</th>\n",
       "      <td>2d artist/animator</td>\n",
       "      <td>other</td>\n",
       "    </tr>\n",
       "    <tr>\n",
       "      <th>25</th>\n",
       "      <td>executive manager/ manager</td>\n",
       "      <td>manager</td>\n",
       "    </tr>\n",
       "    <tr>\n",
       "      <th>26</th>\n",
       "      <td>sweets packer</td>\n",
       "      <td>other</td>\n",
       "    </tr>\n",
       "    <tr>\n",
       "      <th>27</th>\n",
       "      <td>medical affairs manager</td>\n",
       "      <td>healthcare|medical|nurse|hospital|pharma|clini...</td>\n",
       "    </tr>\n",
       "    <tr>\n",
       "      <th>28</th>\n",
       "      <td>dishwasher</td>\n",
       "      <td>other</td>\n",
       "    </tr>\n",
       "    <tr>\n",
       "      <th>29</th>\n",
       "      <td>sales and marketing executive</td>\n",
       "      <td>marketing|market|sales</td>\n",
       "    </tr>\n",
       "  </tbody>\n",
       "</table>\n",
       "</div>"
      ],
      "text/plain": [
       "                                            job_title  \\\n",
       "0                                business development   \n",
       "1                                        secretary/pa   \n",
       "2                           temporary admin assistant   \n",
       "3                                  program management   \n",
       "4                       automotive software engineers   \n",
       "5                                 managing consultant   \n",
       "6                                      lab technician   \n",
       "7                            senior software engineer   \n",
       "8                                     qa / qc manager   \n",
       "9        executive/senior executive, graduate studies   \n",
       "10                                       m&e engineer   \n",
       "11                                  executive officer   \n",
       "12                                      spa therapist   \n",
       "13                 general ledger executive assistant   \n",
       "14                               system administrator   \n",
       "15                                      analyst, data   \n",
       "16                                 management trainee   \n",
       "17              senior executive / executive, finance   \n",
       "18                              engineering assistant   \n",
       "19  executive, corporate communications & sustaina...   \n",
       "20                              onboarding specialist   \n",
       "21                                   retail allocator   \n",
       "22                                  software engineer   \n",
       "23                                    research fellow   \n",
       "24                                 2d artist/animator   \n",
       "25                         executive manager/ manager   \n",
       "26                                      sweets packer   \n",
       "27                            medical affairs manager   \n",
       "28                                         dishwasher   \n",
       "29                      sales and marketing executive   \n",
       "\n",
       "                                         job_category  \n",
       "0                                               other  \n",
       "1                                               other  \n",
       "2                                               admin  \n",
       "3                                               other  \n",
       "4              software|developer|java|network|system  \n",
       "5                                               other  \n",
       "6                              technician|electrician  \n",
       "7              software|developer|java|network|system  \n",
       "8                                             manager  \n",
       "9                                               other  \n",
       "10                                           engineer  \n",
       "11                                              other  \n",
       "12                                              other  \n",
       "13                                              other  \n",
       "14                                              admin  \n",
       "15                              analytic|analyst|data  \n",
       "16                                              other  \n",
       "17                             finance|financial|bank  \n",
       "18                                           engineer  \n",
       "19                                              other  \n",
       "20                                              other  \n",
       "21                                              other  \n",
       "22             software|developer|java|network|system  \n",
       "23                                              other  \n",
       "24                                              other  \n",
       "25                                            manager  \n",
       "26                                              other  \n",
       "27  healthcare|medical|nurse|hospital|pharma|clini...  \n",
       "28                                              other  \n",
       "29                             marketing|market|sales  "
      ]
     },
     "execution_count": 20,
     "metadata": {},
     "output_type": "execute_result"
    }
   ],
   "source": [
    "\n",
    "df[['job_title','job_category']][0:30]"
   ]
  },
  {
   "cell_type": "code",
   "execution_count": 21,
   "id": "bc0741c0",
   "metadata": {
    "scrolled": true
   },
   "outputs": [
    {
     "data": {
      "text/plain": [
       "[('other', 1125),\n",
       " ('manager', 260),\n",
       " ('engineer', 246),\n",
       " ('marketing|market|sales', 199),\n",
       " ('software|developer|java|network|system', 183),\n",
       " ('analytic|analyst|data', 144),\n",
       " ('admin', 126),\n",
       " ('account', 124),\n",
       " ('healthcare|medical|nurse|hospital|pharma|clinic|patient', 122),\n",
       " ('customer|service|call', 119),\n",
       " ('finance|financial|bank', 99),\n",
       " ('hr|human', 89),\n",
       " ('technician|electrician', 88),\n",
       " ('chef|cook|kitchen|barista|bartender|restaurant', 76)]"
      ]
     },
     "execution_count": 21,
     "metadata": {},
     "output_type": "execute_result"
    }
   ],
   "source": [
    "frequency_counter(df['job_category'],25)"
   ]
  },
  {
   "cell_type": "code",
   "execution_count": 22,
   "id": "b9842287",
   "metadata": {},
   "outputs": [
    {
     "data": {
      "text/plain": [
       "Text(0, 0.5, 'Job Category')"
      ]
     },
     "execution_count": 22,
     "metadata": {},
     "output_type": "execute_result"
    },
    {
     "data": {
      "image/png": "[encoded data removed]",
      "text/plain": [
       "<Figure size 900x500 with 1 Axes>"
      ]
     },
     "metadata": {},
     "output_type": "display_data"
    }
   ],
   "source": [
    "job_category = df['job_category'].value_counts().index\n",
    "plt.figure(figsize=(9, 5))\n",
    "sns.countplot(data=df, y='job_category', order=job_category)\n",
    "plt.title('No. of Postings per Category')\n",
    "plt.xlabel('No. of Postings')\n",
    "plt.ylabel('Job Category')"
   ]
  },
  {
   "cell_type": "code",
   "execution_count": 23,
   "id": "b3e2982e",
   "metadata": {},
   "outputs": [
    {
     "data": {
      "image/png": "[encoded data removed]",
      "text/plain": [
       "<Figure size 640x480 with 1 Axes>"
      ]
     },
     "metadata": {},
     "output_type": "display_data"
    }
   ],
   "source": [
    "data = [1125,260,246,199,183,144,126,124,122,119,99,89,88,76]\n",
    "keys = ['other','manager','engineer','marketing','software','analytic','admin','acccount','healthcare','customer','finance','hr','technician','chef']\n",
    "\n",
    "# plotting data on chart\n",
    "plt.pie(data, labels=keys, autopct='%.0f%%')\n",
    "plt.title('% of Postings per Category')\n",
    "\n",
    "# display\n",
    "plt.show()"
   ]
  },
  {
   "cell_type": "markdown",
   "id": "64027c92",
   "metadata": {},
   "source": [
    "# Cleaning job_description"
   ]
  },
  {
   "cell_type": "code",
   "execution_count": 24,
   "id": "9cf412dd",
   "metadata": {},
   "outputs": [
    {
     "name": "stderr",
     "output_type": "stream",
     "text": [
      "C:\\Users\\Sarun\\anaconda3\\lib\\site-packages\\bs4\\__init__.py:435: MarkupResemblesLocatorWarning: The input looks more like a filename than markup. You may want to open this file and pass the filehandle into Beautiful Soup.\n",
      "  warnings.warn(\n"
     ]
    }
   ],
   "source": [
    "def html_parser(text):\n",
    "    text = re.sub(r'<br/>', ' ', text)\n",
    "    text = re.sub(r'</br>', ' ',text)\n",
    "    text = BeautifulSoup(text, 'lxml')\n",
    "    text = text.get_text()\n",
    "    text = ''.join(filter(lambda x: x in printable, text)) #Remove non-printable\n",
    "    text = re.sub('\\A\\s?-\\s?', '', text) #Remove - in front of the string\n",
    "    text = \" \".join(text.split())\n",
    "    return text\n",
    "\n",
    "df['job_description'] = df['job_description'].map(html_parser)\n",
    "df['raw_job_description'] = df['job_description']"
   ]
  },
  {
   "cell_type": "code",
   "execution_count": 25,
   "id": "01623d26",
   "metadata": {},
   "outputs": [
    {
     "data": {
      "text/plain": [
       "0    Roles & Responsibilities : Job Role Descriptio...\n",
       "1    Roles & Responsibilities : Job Scope: Full spe...\n",
       "2    Monday to Friday Office hoursLocation : Buona ...\n",
       "3    Roles & Responsibilities : Key Responsibilitie...\n",
       "4    MNC $3500 - $6000 Basic + AWS + Variable Bonus...\n",
       "5    Roles & Responsibilities : PRIMARY OBJECTIVE T...\n",
       "6    Local Food Manufacturing company is hiring for...\n",
       "7    Roles & Responsibilities : OpenBet (now SG Dig...\n",
       "8    MNC 2 years contract Good benefits 5 days work...\n",
       "9    Roles & Responsibilities : To assist in the ad...\n",
       "Name: job_description, dtype: object"
      ]
     },
     "execution_count": 25,
     "metadata": {},
     "output_type": "execute_result"
    }
   ],
   "source": [
    "df['job_description'][0:10]"
   ]
  },
  {
   "cell_type": "code",
   "execution_count": 26,
   "id": "06097cfd",
   "metadata": {},
   "outputs": [],
   "source": [
    "df[['job_id','job_title','job_description','date_posted','company_name','job_category']].to_csv('exel_02_clean_job_posting.csv')"
   ]
  },
  {
   "cell_type": "markdown",
   "id": "a9fea29e",
   "metadata": {},
   "source": [
    "Get list of sentence that appear too many times in the corpus, most common 180 sentences repated at least 4 times + has no skills words.\n",
    "Will remove the sentence with legth greater than 3."
   ]
  },
  {
   "cell_type": "code",
   "execution_count": 27,
   "id": "560fbd09",
   "metadata": {},
   "outputs": [],
   "source": [
    "sentence_in_corpus = []\n",
    "too_frequent_sentences = []\n",
    "for job_description in df['job_description']:\n",
    "    for sentence in sent_tokenize(job_description):\n",
    "        sentence_in_corpus.append(sentence)\n",
    "\n",
    "frequency_sentence_in_corpus = Counter(sentence_in_corpus)\n",
    "for sentence in frequency_sentence_in_corpus.most_common(180):\n",
    "    if len(sentence[0]) > 3:\n",
    "        too_frequent_sentences.append(sentence[0])\n",
    "\n",
    "def remove_repeat_sentence(job_description):\n",
    "    temp = []\n",
    "    for sentence in sent_tokenize(job_description):\n",
    "        if 'skill' in sentence:\n",
    "            temp.append(sentence)\n",
    "        elif sentence not in too_frequent_sentences:\n",
    "            temp.append(sentence)\n",
    "    return ' '.join(temp)"
   ]
  },
  {
   "cell_type": "code",
   "execution_count": 28,
   "id": "f237cf23",
   "metadata": {},
   "outputs": [
    {
     "data": {
      "text/plain": [
       "[('Recruiters, please dont contact this job advertiser.no -- Please, no phone calls about this job!no -- Reposting this message elsewhere is NOT OK.',\n",
       "  116),\n",
       " ('No.', 84),\n",
       " ('We regret that only shortlisted candidates will be notified.', 78),\n",
       " ('2.', 42),\n",
       " ('3.', 40),\n",
       " ('> no -- Principals only.', 34),\n",
       " ('All applications will be treated with the strictest confidence.', 33),\n",
       " ('4.', 31),\n",
       " (': 08C2893', 29),\n",
       " ('If you wish to withdraw your consent, please drop us an email at [emailprotected] to let us know.',\n",
       "  28),\n",
       " ('**We regret to inform that only shortlisted candidates would be notified.',\n",
       "  27),\n",
       " ('We regret that only short-listed applicants will be notified.', 24),\n",
       " ('5.', 23),\n",
       " ('Please access our website at www.capitasingapore.com for a copy of our Privacy Policy.',\n",
       "  23),\n",
       " ('99C4599', 21),\n",
       " ('For more job opportunities, please visit our website at www.recruit-expert.com EA Licence: 19C9701 Registration: R1328870',\n",
       "  20),\n",
       " ('We regret to inform that only shortlisted candidates will be notified.',\n",
       "  20),\n",
       " ('All resumes and personal particulars sent to the aforementioned email address will NOT be attended to as the address is not for job application purposes.',\n",
       "  20),\n",
       " ('We welcome conversations on flexible working.', 17),\n",
       " ('EA License No.', 17)]"
      ]
     },
     "execution_count": 28,
     "metadata": {},
     "output_type": "execute_result"
    }
   ],
   "source": [
    "frequency_sentence_in_corpus.most_common(20)"
   ]
  },
  {
   "cell_type": "code",
   "execution_count": 29,
   "id": "7cbcf194",
   "metadata": {},
   "outputs": [],
   "source": [
    "df['job_description'] = df['job_description'].map(remove_repeat_sentence)"
   ]
  },
  {
   "cell_type": "code",
   "execution_count": 30,
   "id": "31087a0e",
   "metadata": {},
   "outputs": [
    {
     "data": {
      "text/plain": [
       "[('No.', 84),\n",
       " ('2.', 42),\n",
       " ('3.', 40),\n",
       " ('4.', 31),\n",
       " ('5.', 23),\n",
       " ('1.', 13),\n",
       " ('6.', 13),\n",
       " ('7.', 10),\n",
       " ('??', 9),\n",
       " ('!', 7),\n",
       " ('**', 6),\n",
       " ('no.', 6),\n",
       " ('8.', 6),\n",
       " ('Excellent written and verbal communication skills.', 5),\n",
       " ('Excellent communication skills.', 4),\n",
       " ('Strong communication skills.', 4),\n",
       " ('Perform critical inventory tasks to ensure the correct quantity of items are in stock.',\n",
       "  4),\n",
       " ('Maintain updated and accurate records of inventory, including transfers and cycle counts.',\n",
       "  4),\n",
       " ('Review documentation and monitor product codes to search for discrepancies; troubleshoot quantity discrepancies between stock and records.',\n",
       "  4),\n",
       " ('Develop and implement improvement to existing operational procedures in order to maximize efficiency and cut operations costs.',\n",
       "  4)]"
      ]
     },
     "execution_count": 30,
     "metadata": {},
     "output_type": "execute_result"
    }
   ],
   "source": [
    "sentence_in_corpus = []\n",
    "too_frequent_sentences = []\n",
    "for job_description in df['job_description']:\n",
    "    for sentence in sent_tokenize(job_description):\n",
    "        sentence_in_corpus.append(sentence)\n",
    "\n",
    "frequency_sentence_in_corpus = Counter(sentence_in_corpus)\n",
    "for sentence in frequency_sentence_in_corpus.most_common(177):\n",
    "    if len(sentence[0]) > 3:\n",
    "        too_frequent_sentences.append(sentence[0])\n",
    "\n",
    "frequency_sentence_in_corpus.most_common(20)"
   ]
  },
  {
   "cell_type": "code",
   "execution_count": 31,
   "id": "db87870c",
   "metadata": {},
   "outputs": [],
   "source": [
    "df[['job_id','raw_job_title','job_title','job_description','date_posted','company_name','job_category']].to_csv('exel_03_clean_job_posting_v2.csv')"
   ]
  },
  {
   "cell_type": "markdown",
   "id": "cb3ad41d",
   "metadata": {},
   "source": [
    "The data is now clean and standardized. Frequently appeared sentences have been removed. Those are mainly posted by job agents or non-skill related so their removal would not have negative impact on the analysis.\n",
    "\n",
    "Further data manipulation such as rempocal of stopwords, lemmatization, and tokenization will be done on case-by-case basis depending on the type of analysis we want. "
   ]
  },
  {
   "cell_type": "code",
   "execution_count": 32,
   "id": "5799da04",
   "metadata": {},
   "outputs": [],
   "source": [
    "## Functions for POS tagging\n",
    "\n",
    "def pos_header():\n",
    "    print(f\"{'text':{20}} {'POS':{6}} {'TAG':{6}} {'Dep':{6}} {'POS explained':{20}} {'tag explained'}\")\n",
    "    \n",
    "def extract_pos(text):\n",
    "    doc = nlp(text)\n",
    "    for token in doc:\n",
    "        print(f'{token.text:{20}} {token.pos_:{6}} {token.tag_:{6}} {token.dep_:{6}} {spacy.explain(token.pos_):{20}} {spacy.explain(token.tag_)}')"
   ]
  },
  {
   "cell_type": "code",
   "execution_count": 33,
   "id": "ff88b1dd",
   "metadata": {},
   "outputs": [
    {
     "name": "stdout",
     "output_type": "stream",
     "text": [
      "text                 POS    TAG    Dep    POS explained        tag explained\n",
      "Roles                PROPN  NNPS   nsubj  proper noun          noun, proper plural\n",
      "&                    CCONJ  CC     cc     coordinating conjunction conjunction, coordinating\n",
      "Responsibilities     PROPN  NNPS   conj   proper noun          noun, proper plural\n",
      ":                    PUNCT  :      punct  punctuation          punctuation mark, colon or ellipsis\n",
      "Job                  NOUN   NN     compound noun                 noun, singular or mass\n",
      "Role                 NOUN   NN     compound noun                 noun, singular or mass\n",
      "Description          NOUN   NN     appos  noun                 noun, singular or mass\n",
      ":                    PUNCT  :      punct  punctuation          punctuation mark, colon or ellipsis\n",
      "Responsible          ADJ    JJ     amod   adjective            adjective (English), other noun-modifier (Chinese)\n",
      "for                  ADP    IN     prep   adposition           conjunction, subordinating or preposition\n",
      "business             NOUN   NN     compound noun                 noun, singular or mass\n",
      "development          NOUN   NN     pobj   noun                 noun, singular or mass\n",
      "for                  ADP    IN     prep   adposition           conjunction, subordinating or preposition\n",
      "FREIGHT              NOUN   NN     pobj   noun                 noun, singular or mass\n",
      "FORWARDING           AUX    VBG    aux    auxiliary            verb, gerund or present participle\n",
      "Identify             VERB   VB     ROOT   verb                 verb, base form\n",
      "potential            ADJ    JJ     amod   adjective            adjective (English), other noun-modifier (Chinese)\n",
      "clients              NOUN   NNS    dobj   noun                 noun, plural\n",
      "in                   ADP    IN     prep   adposition           conjunction, subordinating or preposition\n",
      "the                  DET    DT     det    determiner           determiner\n",
      "target               NOUN   NN     compound noun                 noun, singular or mass\n",
      "market               NOUN   NN     pobj   noun                 noun, singular or mass\n",
      "and                  CCONJ  CC     cc     coordinating conjunction conjunction, coordinating\n",
      "complete             ADJ    JJ     amod   adjective            adjective (English), other noun-modifier (Chinese)\n",
      "appropriate          ADJ    JJ     amod   adjective            adjective (English), other noun-modifier (Chinese)\n",
      "research             NOUN   NN     conj   noun                 noun, singular or mass\n",
      "on                   ADP    IN     prep   adposition           conjunction, subordinating or preposition\n",
      "the                  DET    DT     det    determiner           determiner\n",
      "prospective          ADJ    JJ     amod   adjective            adjective (English), other noun-modifier (Chinese)\n",
      "client               NOUN   NN     poss   noun                 noun, singular or mass\n",
      "'s                   PART   POS    case   particle             possessive ending\n",
      "business             NOUN   NN     nmod   noun                 noun, singular or mass\n",
      "and                  CCONJ  CC     cc     coordinating conjunction conjunction, coordinating\n",
      "equipment            NOUN   NN     conj   noun                 noun, singular or mass\n",
      "needs                VERB   VBZ    conj   verb                 verb, 3rd person singular present\n",
      "Develop              VERB   VB     xcomp  verb                 verb, base form\n",
      "intervention         NOUN   NN     compound noun                 noun, singular or mass\n",
      "strategies           NOUN   NNS    dobj   noun                 noun, plural\n",
      "to                   PART   TO     aux    particle             infinitival \"to\"\n",
      "mitigate             VERB   VB     acl    verb                 verb, base form\n",
      "gaps                 NOUN   NNS    dobj   noun                 noun, plural\n",
      "in                   ADP    IN     prep   adposition           conjunction, subordinating or preposition\n",
      "delivery             NOUN   NN     pobj   noun                 noun, singular or mass\n",
      "of                   ADP    IN     prep   adposition           conjunction, subordinating or preposition\n",
      "logistics            NOUN   NNS    compound noun                 noun, plural\n",
      "services             NOUN   NNS    pobj   noun                 noun, plural\n",
      "Develop              VERB   VBP    conj   verb                 verb, non-3rd person singular present\n",
      "relationships        NOUN   NNS    dobj   noun                 noun, plural\n",
      "with                 ADP    IN     prep   adposition           conjunction, subordinating or preposition\n",
      "potential            ADJ    JJ     amod   adjective            adjective (English), other noun-modifier (Chinese)\n",
      "customers            NOUN   NNS    pobj   noun                 noun, plural\n",
      "and                  CCONJ  CC     cc     coordinating conjunction conjunction, coordinating\n",
      "meeting              VERB   VBG    conj   verb                 verb, gerund or present participle\n",
      "sales                NOUN   NNS    nsubj  noun                 noun, plural\n",
      "targets              NOUN   NNS    dobj   noun                 noun, plural\n",
      "Negotiate            NOUN   NN     compound noun                 noun, singular or mass\n",
      "contract             NOUN   NN     compound noun                 noun, singular or mass\n",
      "terms                NOUN   NNS    dobj   noun                 noun, plural\n",
      "with                 ADP    IN     prep   adposition           conjunction, subordinating or preposition\n",
      "clients              NOUN   NNS    pobj   noun                 noun, plural\n",
      "Actively             ADV    RB     advmod adverb               adverb\n",
      "seeking              VERB   VBG    acl    verb                 verb, gerund or present participle\n",
      "out                  ADP    RP     prt    adposition           adverb, particle\n",
      "new                  ADJ    JJ     amod   adjective            adjective (English), other noun-modifier (Chinese)\n",
      "sales                NOUN   NNS    compound noun                 noun, plural\n",
      "opportunities        NOUN   NNS    dobj   noun                 noun, plural\n",
      "through              ADP    IN     prep   adposition           conjunction, subordinating or preposition\n",
      "cold                 ADJ    JJ     amod   adjective            adjective (English), other noun-modifier (Chinese)\n",
      "calling              NOUN   NN     pobj   noun                 noun, singular or mass\n",
      ",                    PUNCT  ,      punct  punctuation          punctuation mark, comma\n",
      "networking           NOUN   NN     nmod   noun                 noun, singular or mass\n",
      "and                  CCONJ  CC     cc     coordinating conjunction conjunction, coordinating\n",
      "social               ADJ    JJ     amod   adjective            adjective (English), other noun-modifier (Chinese)\n",
      "media                NOUN   NNS    conj   noun                 noun, plural\n",
      "Requirements         NOUN   NNS    appos  noun                 noun, plural\n",
      ":                    PUNCT  :      punct  punctuation          punctuation mark, colon or ellipsis\n",
      "Proven               ADJ    JJ     amod   adjective            adjective (English), other noun-modifier (Chinese)\n",
      "working              VERB   VBG    amod   verb                 verb, gerund or present participle\n",
      "experience           NOUN   NN     nsubj  noun                 noun, singular or mass\n",
      "as                   ADP    IN     prep   adposition           conjunction, subordinating or preposition\n",
      "a                    DET    DT     det    determiner           determiner\n",
      "business             NOUN   NN     compound noun                 noun, singular or mass\n",
      "development          NOUN   NN     pobj   noun                 noun, singular or mass\n",
      ",                    PUNCT  ,      punct  punctuation          punctuation mark, comma\n",
      "sales                NOUN   NNS    compound noun                 noun, plural\n",
      "executive            NOUN   NN     conj   noun                 noun, singular or mass\n",
      "or                   CCONJ  CC     cc     coordinating conjunction conjunction, coordinating\n",
      "a                    DET    DT     det    determiner           determiner\n",
      "relevant             ADJ    JJ     amod   adjective            adjective (English), other noun-modifier (Chinese)\n",
      "role                 NOUN   NN     conj   noun                 noun, singular or mass\n",
      "Experience           NOUN   NN     conj   noun                 noun, singular or mass\n",
      "in                   ADP    IN     prep   adposition           conjunction, subordinating or preposition\n",
      "customer             NOUN   NN     compound noun                 noun, singular or mass\n",
      "support              NOUN   NN     pobj   noun                 noun, singular or mass\n",
      "is                   AUX    VBZ    conj   auxiliary            verb, 3rd person singular present\n",
      "a                    DET    DT     det    determiner           determiner\n",
      "plus                 ADJ    JJ     amod   adjective            adjective (English), other noun-modifier (Chinese)\n",
      "Proficiency          NOUN   NN     attr   noun                 noun, singular or mass\n",
      "in                   ADP    IN     prep   adposition           conjunction, subordinating or preposition\n",
      "MS                   PROPN  NNP    compound proper noun          noun, proper singular\n",
      "Office               PROPN  NNP    compound proper noun          noun, proper singular\n",
      "Market               PROPN  NNP    compound proper noun          noun, proper singular\n",
      "knowledge            NOUN   NN     pobj   noun                 noun, singular or mass\n",
      "Roles                PROPN  NNPS   nsubj  proper noun          noun, proper plural\n",
      "&                    CCONJ  CC     cc     coordinating conjunction conjunction, coordinating\n",
      "Responsibilities     PROPN  NNPS   conj   proper noun          noun, proper plural\n",
      ":                    PUNCT  :      punct  punctuation          punctuation mark, colon or ellipsis\n",
      "Job                  PROPN  NNP    compound proper noun          noun, proper singular\n",
      "Scope                NOUN   NN     appos  noun                 noun, singular or mass\n",
      ":                    PUNCT  :      punct  punctuation          punctuation mark, colon or ellipsis\n",
      "Full                 ADJ    JJ     amod   adjective            adjective (English), other noun-modifier (Chinese)\n",
      "spectrum             NOUN   NN     nsubj  noun                 noun, singular or mass\n",
      "of                   ADP    IN     prep   adposition           conjunction, subordinating or preposition\n",
      "secretarial          ADJ    JJ     amod   adjective            adjective (English), other noun-modifier (Chinese)\n",
      "support              NOUN   NN     pobj   noun                 noun, singular or mass\n",
      "to                   ADP    IN     prep   adposition           conjunction, subordinating or preposition\n",
      "the                  DET    DT     det    determiner           determiner\n",
      "CEO                  NOUN   NN     pobj   noun                 noun, singular or mass\n",
      "Provide              VERB   VB     ccomp  verb                 verb, base form\n",
      "support              NOUN   NN     dobj   noun                 noun, singular or mass\n",
      "to                   ADP    IN     prep   adposition           conjunction, subordinating or preposition\n",
      "the                  DET    DT     det    determiner           determiner\n",
      "daily                ADJ    JJ     amod   adjective            adjective (English), other noun-modifier (Chinese)\n",
      "activities           NOUN   NNS    pobj   noun                 noun, plural\n",
      "of                   ADP    IN     prep   adposition           conjunction, subordinating or preposition\n",
      "the                  DET    DT     det    determiner           determiner\n",
      "CEO                  NOUN   NN     pobj   noun                 noun, singular or mass\n",
      "including            VERB   VBG    prep   verb                 verb, gerund or present participle\n",
      "emails               NOUN   NNS    pobj   noun                 noun, plural\n",
      "and                  CCONJ  CC     cc     coordinating conjunction conjunction, coordinating\n",
      "meeting              NOUN   NN     compound noun                 noun, singular or mass\n",
      "arrangements         NOUN   NNS    conj   noun                 noun, plural\n",
      ";                    PUNCT  :      punct  punctuation          punctuation mark, colon or ellipsis\n",
      "Handle               ADJ    JJ     compound adjective            adjective (English), other noun-modifier (Chinese)\n",
      "travel               NOUN   NN     compound noun                 noun, singular or mass\n",
      "arrangements         NOUN   NNS    compound noun                 noun, plural\n",
      "-                    PUNCT  HYPH   punct  punctuation          punctuation mark, hyphen\n",
      "flight               NOUN   NN     compound noun                 noun, singular or mass\n",
      "reservation          NOUN   NN     appos  noun                 noun, singular or mass\n",
      ",                    PUNCT  ,      punct  punctuation          punctuation mark, comma\n",
      "hotel                NOUN   NN     compound noun                 noun, singular or mass\n",
      "accommodation        NOUN   NN     conj   noun                 noun, singular or mass\n",
      ",                    PUNCT  ,      punct  punctuation          punctuation mark, comma\n",
      "visa                 NOUN   NN     compound noun                 noun, singular or mass\n",
      "applications         NOUN   NNS    compound noun                 noun, plural\n",
      "etc                  X      FW     conj   other                foreign word\n",
      ";                    PUNCT  :      punct  punctuation          punctuation mark, colon or ellipsis\n",
      "Handle               ADJ    JJ     nmod   adjective            adjective (English), other noun-modifier (Chinese)\n",
      "confidential         ADJ    JJ     amod   adjective            adjective (English), other noun-modifier (Chinese)\n",
      "information          NOUN   NN     conj   noun                 noun, singular or mass\n",
      "and                  CCONJ  CC     cc     coordinating conjunction conjunction, coordinating\n",
      "maintain             VERB   VB     conj   verb                 verb, base form\n",
      "the                  DET    DT     det    determiner           determiner\n",
      "security             NOUN   NN     dobj   noun                 noun, singular or mass\n",
      "of                   ADP    IN     prep   adposition           conjunction, subordinating or preposition\n",
      "the                  DET    DT     det    determiner           determiner\n",
      "CEO                  PROPN  NNP    compound proper noun          noun, proper singular\n",
      "records              NOUN   NNS    pobj   noun                 noun, plural\n",
      "and                  CCONJ  CC     cc     coordinating conjunction conjunction, coordinating\n",
      "files                NOUN   NNS    conj   noun                 noun, plural\n",
      "Facilitate           PROPN  NNP    compound proper noun          noun, proper singular\n",
      "meeting              NOUN   NN     dobj   noun                 noun, singular or mass\n",
      "such                 ADJ    JJ     amod   adjective            adjective (English), other noun-modifier (Chinese)\n",
      "as                   ADP    IN     prep   adposition           conjunction, subordinating or preposition\n",
      "manage               VERB   VB     advcl  verb                 verb, base form\n",
      "the                  DET    DT     det    determiner           determiner\n",
      "conference           NOUN   NN     compound noun                 noun, singular or mass\n",
      "schedules            NOUN   NNS    dobj   noun                 noun, plural\n",
      ",                    PUNCT  ,      punct  punctuation          punctuation mark, comma\n",
      "refreshment          NOUN   NN     conj   noun                 noun, singular or mass\n",
      ",                    PUNCT  ,      punct  punctuation          punctuation mark, comma\n",
      "venues               NOUN   NNS    conj   noun                 noun, plural\n",
      ",                    PUNCT  ,      punct  punctuation          punctuation mark, comma\n",
      "teleconference       NOUN   NN     conj   noun                 noun, singular or mass\n",
      ",                    PUNCT  ,      punct  punctuation          punctuation mark, comma\n",
      "minutes              NOUN   NNS    conj   noun                 noun, plural\n",
      "and                  CCONJ  CC     cc     coordinating conjunction conjunction, coordinating\n",
      "etc                  X      FW     conj   other                foreign word\n",
      "for                  ADP    IN     prep   adposition           conjunction, subordinating or preposition\n",
      "CEO                  PROPN  NNP    compound proper noun          noun, proper singular\n",
      "Manage               PROPN  NNP    compound proper noun          noun, proper singular\n",
      "CEOs                 NOUN   NNS    pobj   noun                 noun, plural\n",
      "calendar             VERB   VBP    dep    verb                 verb, non-3rd person singular present\n",
      "by                   ADP    IN     prep   adposition           conjunction, subordinating or preposition\n",
      "setting              VERB   VBG    pcomp  verb                 verb, gerund or present participle\n",
      "up                   ADP    RP     prt    adposition           adverb, particle\n",
      "meetings             NOUN   NNS    dobj   noun                 noun, plural\n",
      "and                  CCONJ  CC     cc     coordinating conjunction conjunction, coordinating\n",
      "appointments         NOUN   NNS    conj   noun                 noun, plural\n",
      "and                  CCONJ  CC     cc     coordinating conjunction conjunction, coordinating\n",
      "organizing           VERB   VBG    conj   verb                 verb, gerund or present participle\n",
      "agenda               NOUN   NN     nmod   noun                 noun, singular or mass\n",
      "and                  CCONJ  CC     cc     coordinating conjunction conjunction, coordinating\n",
      "attendance           NOUN   NN     conj   noun                 noun, singular or mass\n",
      "list                 NOUN   NN     nsubj  noun                 noun, singular or mass\n",
      "Maintain             VERB   VBP    conj   verb                 verb, non-3rd person singular present\n",
      "CEOs                 NOUN   NNS    dep    noun                 noun, plural\n",
      "office               NOUN   NN     nmod   noun                 noun, singular or mass\n",
      "and                  CCONJ  CC     cc     coordinating conjunction conjunction, coordinating\n",
      "accounting           NOUN   NN     conj   noun                 noun, singular or mass\n",
      "records              NOUN   NNS    dobj   noun                 noun, plural\n",
      ";                    PUNCT  :      punct  punctuation          punctuation mark, colon or ellipsis\n",
      "monitor              VERB   VB     conj   verb                 verb, base form\n",
      ",                    PUNCT  ,      punct  punctuation          punctuation mark, comma\n",
      "review               VERB   VB     conj   verb                 verb, base form\n",
      "and                  CCONJ  CC     cc     coordinating conjunction conjunction, coordinating\n",
      "approve              VERB   VB     conj   verb                 verb, base form\n",
      "standard             ADJ    JJ     amod   adjective            adjective (English), other noun-modifier (Chinese)\n",
      "expenditures         NOUN   NNS    dobj   noun                 noun, plural\n",
      "to                   PART   TO     aux    particle             infinitival \"to\"\n",
      "ensure               VERB   VB     advcl  verb                 verb, base form\n",
      "that                 SCONJ  IN     mark   subordinating conjunction conjunction, subordinating or preposition\n",
      "the                  DET    DT     det    determiner           determiner\n",
      "activities           NOUN   NNS    nsubj  noun                 noun, plural\n",
      "of                   ADP    IN     prep   adposition           conjunction, subordinating or preposition\n",
      "the                  DET    DT     det    determiner           determiner\n",
      "office               NOUN   NN     pobj   noun                 noun, singular or mass\n",
      "are                  AUX    VBP    ccomp  auxiliary            verb, non-3rd person singular present\n",
      "conduct              NOUN   NN     attr   noun                 noun, singular or mass\n",
      "within               ADP    IN     prep   adposition           conjunction, subordinating or preposition\n",
      "the                  DET    DT     det    determiner           determiner\n",
      "budget               NOUN   NN     pobj   noun                 noun, singular or mass\n",
      "Take                 VERB   VB     conj   verb                 verb, base form\n",
      "instruction          NOUN   NN     dobj   noun                 noun, singular or mass\n",
      "and                  CCONJ  CC     cc     coordinating conjunction conjunction, coordinating\n",
      "respond              VERB   VB     conj   verb                 verb, base form\n",
      "to                   ADP    IN     prep   adposition           conjunction, subordinating or preposition\n",
      "emails               NOUN   NNS    pobj   noun                 noun, plural\n",
      "/                    SYM    SYM    punct  symbol               symbol\n",
      "letters              NOUN   NNS    conj   noun                 noun, plural\n",
      ";                    PUNCT  :      punct  punctuation          punctuation mark, colon or ellipsis\n",
      "Travelling           VERB   VBG    advcl  verb                 verb, gerund or present participle\n",
      "whenever             SCONJ  WRB    advmod subordinating conjunction wh-adverb\n",
      "is                   AUX    VBZ    auxpass auxiliary            verb, 3rd person singular present\n",
      "required             VERB   VBN    advcl  verb                 verb, past participle\n",
      "Co                   PROPN  NNP    compound proper noun          noun, proper singular\n",
      "-                    PROPN  NNP    amod   proper noun          noun, proper singular\n",
      "ordinates            ADJ    JJ     amod   adjective            adjective (English), other noun-modifier (Chinese)\n",
      "CEO                  PROPN  NNP    poss   proper noun          noun, proper singular\n",
      "'s                   PART   POS    case   particle             possessive ending\n",
      "personal             ADJ    JJ     amod   adjective            adjective (English), other noun-modifier (Chinese)\n",
      "matters              NOUN   NNS    dobj   noun                 noun, plural\n",
      "including            VERB   VBG    prep   verb                 verb, gerund or present participle\n",
      "flights              NOUN   NNS    pobj   noun                 noun, plural\n",
      ",                    PUNCT  ,      punct  punctuation          punctuation mark, comma\n",
      "housing              NOUN   NN     conj   noun                 noun, singular or mass\n",
      ",                    PUNCT  ,      punct  punctuation          punctuation mark, comma\n",
      "banking              NOUN   NN     conj   noun                 noun, singular or mass\n",
      "and                  CCONJ  CC     cc     coordinating conjunction conjunction, coordinating\n",
      "all                  DET    DT     det    determiner           determiner\n",
      "other                ADJ    JJ     amod   adjective            adjective (English), other noun-modifier (Chinese)\n",
      "matters              NOUN   NNS    conj   noun                 noun, plural\n",
      "assigned             VERB   VBN    acl    verb                 verb, past participle\n",
      "from                 ADP    IN     prep   adposition           conjunction, subordinating or preposition\n",
      "time                 NOUN   NN     pobj   noun                 noun, singular or mass\n",
      "to                   ADP    IN     prep   adposition           conjunction, subordinating or preposition\n",
      "time                 NOUN   NN     pobj   noun                 noun, singular or mass\n",
      "Any                  DET    DT     det    determiner           determiner\n",
      "other                ADJ    JJ     amod   adjective            adjective (English), other noun-modifier (Chinese)\n",
      "CEO                  NOUN   NN     nmod   noun                 noun, singular or mass\n",
      "corporate            ADJ    JJ     amod   adjective            adjective (English), other noun-modifier (Chinese)\n",
      "matters              NOUN   NNS    nsubj  noun                 noun, plural\n",
      "assigned             VERB   VBN    acl    verb                 verb, past participle\n",
      "by                   ADP    IN     agent  adposition           conjunction, subordinating or preposition\n",
      "CEO                  PROPN  NNP    compound proper noun          noun, proper singular\n",
      "Requirement          PROPN  NNP    pobj   proper noun          noun, proper singular\n",
      ":                    PUNCT  :      punct  punctuation          punctuation mark, colon or ellipsis\n",
      "Candidate            NOUN   NN     appos  noun                 noun, singular or mass\n",
      "must                 AUX    MD     aux    auxiliary            verb, modal auxiliary\n",
      "possess              VERB   VB     ROOT   verb                 verb, base form\n",
      "at                   ADP    IN     advmod adposition           conjunction, subordinating or preposition\n",
      "least                ADJ    JJS    advmod adjective            adjective, superlative\n",
      "a                    DET    DT     det    determiner           determiner\n",
      "Higher               ADJ    JJR    amod   adjective            adjective, comparative\n",
      "secondary            ADJ    JJ     amod   adjective            adjective (English), other noun-modifier (Chinese)\n",
      "/                    SYM    SYM    punct  symbol               symbol\n",
      "Pre                  NOUN   NN     conj   noun                 noun, singular or mass\n",
      "-                    NOUN   NN     conj   noun                 noun, singular or mass\n",
      "U                    NOUN   NN     nmod   noun                 noun, singular or mass\n",
      "/                    SYM    SYM    punct  symbol               symbol\n",
      "A                    PRON   DT     nmod   pronoun              determiner\n",
      "level                NOUN   NN     nmod   noun                 noun, singular or mass\n",
      "/                    SYM    SYM    punct  symbol               symbol\n",
      "College              PROPN  NNP    dobj   proper noun          noun, proper singular\n",
      ",                    PUNCT  ,      punct  punctuation          punctuation mark, comma\n",
      "Professional         PROPN  NNP    compound proper noun          noun, proper singular\n",
      "Certificate          PROPN  NNP    conj   proper noun          noun, proper singular\n",
      "/                    SYM    SYM    punct  symbol               symbol\n",
      "NiTEC                PROPN  NNP    conj   proper noun          noun, proper singular\n",
      ",                    PUNCT  ,      punct  punctuation          punctuation mark, comma\n",
      "Diploma              PROPN  NNP    nmod   proper noun          noun, proper singular\n",
      ",                    PUNCT  ,      punct  punctuation          punctuation mark, comma\n",
      "Advanced             PROPN  NNP    appos  proper noun          noun, proper singular\n",
      "/                    SYM    SYM    punct  symbol               symbol\n",
      "Higher               ADJ    JJR    nmod   adjective            adjective, comparative\n",
      "/                    SYM    SYM    punct  symbol               symbol\n",
      "Graduate             PROPN  NNP    compound proper noun          noun, proper singular\n",
      "Diploma              PROPN  NNP    appos  proper noun          noun, proper singular\n",
      ",                    PUNCT  ,      punct  punctuation          punctuation mark, comma\n",
      "any                  DET    DT     det    determiner           determiner\n",
      "field                NOUN   NN     appos  noun                 noun, singular or mass\n",
      ".                    PUNCT  .      punct  punctuation          punctuation mark, sentence closer\n",
      "At                   ADP    IN     advmod adposition           conjunction, subordinating or preposition\n",
      "least                ADJ    JJS    advmod adjective            adjective, superlative\n",
      "3                    NUM    CD     nummod numeral              cardinal number\n",
      "year(s               NOUN   NN     nsubjpass noun                 noun, singular or mass\n",
      ")                    PUNCT  -RRB-  punct  punctuation          right round bracket\n",
      "of                   ADP    IN     prep   adposition           conjunction, subordinating or preposition\n",
      "working              VERB   VBG    amod   verb                 verb, gerund or present participle\n",
      "experience           NOUN   NN     pobj   noun                 noun, singular or mass\n",
      "in                   ADP    IN     prep   adposition           conjunction, subordinating or preposition\n",
      "the                  DET    DT     det    determiner           determiner\n",
      "related              ADJ    JJ     amod   adjective            adjective (English), other noun-modifier (Chinese)\n",
      "field                NOUN   NN     pobj   noun                 noun, singular or mass\n",
      "is                   AUX    VBZ    auxpass auxiliary            verb, 3rd person singular present\n",
      "required             VERB   VBN    ROOT   verb                 verb, past participle\n",
      "for                  ADP    IN     prep   adposition           conjunction, subordinating or preposition\n",
      "this                 DET    DT     det    determiner           determiner\n",
      "position             NOUN   NN     pobj   noun                 noun, singular or mass\n",
      ".                    PUNCT  .      punct  punctuation          punctuation mark, sentence closer\n",
      "Preferably           ADV    RB     advmod adverb               adverb\n",
      "Senior               ADJ    JJ     compound adjective            adjective (English), other noun-modifier (Chinese)\n",
      "Executives           NOUN   NNS    ROOT   noun                 noun, plural\n",
      "specializing         VERB   VBG    acl    verb                 verb, gerund or present participle\n",
      "in                   ADP    IN     prep   adposition           conjunction, subordinating or preposition\n",
      "Secretarial          PROPN  NNP    nmod   proper noun          noun, proper singular\n",
      "/                    SYM    SYM    punct  symbol               symbol\n",
      "Executive            PROPN  NNP    pobj   proper noun          noun, proper singular\n",
      "&                    CCONJ  CC     cc     coordinating conjunction conjunction, coordinating\n",
      "Personal             PROPN  NNP    compound proper noun          noun, proper singular\n",
      "Assistant            PROPN  NNP    conj   proper noun          noun, proper singular\n",
      "or                   CCONJ  CC     cc     coordinating conjunction conjunction, coordinating\n",
      "equivalent           ADJ    JJ     conj   adjective            adjective (English), other noun-modifier (Chinese)\n",
      ".                    PUNCT  .      punct  punctuation          punctuation mark, sentence closer\n",
      "Interested           ADJ    JJ     amod   adjective            adjective (English), other noun-modifier (Chinese)\n",
      "candidates           NOUN   NNS    nsubj  noun                 noun, plural\n",
      "who                  PRON   WP     nsubj  pronoun              wh-pronoun, personal\n",
      "wish                 VERB   VBP    relcl  verb                 verb, non-3rd person singular present\n",
      "to                   PART   TO     aux    particle             infinitival \"to\"\n",
      "apply                VERB   VB     xcomp  verb                 verb, base form\n",
      "for                  ADP    IN     prep   adposition           conjunction, subordinating or preposition\n",
      "the                  DET    DT     det    determiner           determiner\n",
      "advertised           VERB   VBN    amod   verb                 verb, past participle\n",
      "position             NOUN   NN     pobj   noun                 noun, singular or mass\n",
      ",                    PUNCT  ,      punct  punctuation          punctuation mark, comma\n",
      "please               INTJ   UH     intj   interjection         interjection\n",
      "email                VERB   VB     ROOT   verb                 verb, base form\n",
      "us                   PRON   PRP    dative pronoun              pronoun, personal\n",
      "an                   DET    DT     det    determiner           determiner\n",
      "updated              VERB   VBN    amod   verb                 verb, past participle\n",
      "copy                 NOUN   NN     dobj   noun                 noun, singular or mass\n",
      "of                   ADP    IN     prep   adposition           conjunction, subordinating or preposition\n",
      "your                 PRON   PRP$   poss   pronoun              pronoun, possessive\n",
      "resume               NOUN   NN     pobj   noun                 noun, singular or mass\n",
      "to                   ADP    IN     prep   adposition           conjunction, subordinating or preposition\n",
      "Email                PROPN  NNP    compound proper noun          noun, proper singular\n",
      "Address              PROPN  NNP    pobj   proper noun          noun, proper singular\n",
      ":                    PUNCT  :      punct  punctuation          punctuation mark, colon or ellipsis\n",
      "gs2@talenttradersg.com PROPN  NNP    compound proper noun          noun, proper singular\n",
      "EA                   PROPN  NNP    compound proper noun          noun, proper singular\n",
      "License              PROPN  NNP    punct  proper noun          noun, proper singular\n",
      "No                   NOUN   NN     ROOT   noun                 noun, singular or mass\n",
      ":                    PUNCT  :      punct  punctuation          punctuation mark, colon or ellipsis\n",
      "13C6305              PROPN  NNP    compound proper noun          noun, proper singular\n",
      "Reg                  PROPN  NNP    appos  proper noun          noun, proper singular\n",
      ".                    PUNCT  .      punct  punctuation          punctuation mark, sentence closer\n",
      "No                   NOUN   NN     ROOT   noun                 noun, singular or mass\n",
      ".                    PUNCT  .      punct  punctuation          punctuation mark, sentence closer\n",
      ":                    PUNCT  :      punct  punctuation          punctuation mark, colon or ellipsis\n",
      "R1874110             NOUN   NN     ROOT   noun                 noun, singular or mass\n",
      "For                  ADP    IN     prep   adposition           conjunction, subordinating or preposition\n",
      "candidate            NOUN   NN     pobj   noun                 noun, singular or mass\n",
      "who                  PRON   WP     nsubj  pronoun              wh-pronoun, personal\n",
      "applied              VERB   VBD    relcl  verb                 verb, past tense\n",
      "for                  ADP    IN     prep   adposition           conjunction, subordinating or preposition\n",
      "the                  DET    DT     det    determiner           determiner\n",
      "advertised           VERB   VBN    amod   verb                 verb, past participle\n",
      "position             NOUN   NN     pobj   noun                 noun, singular or mass\n",
      "is                   AUX    VBZ    auxpass auxiliary            verb, 3rd person singular present\n",
      "deemed               VERB   VBN    ROOT   verb                 verb, past participle\n",
      "to                   PART   TO     aux    particle             infinitival \"to\"\n",
      "have                 AUX    VB     aux    auxiliary            verb, base form\n",
      "consented            VERB   VBN    xcomp  verb                 verb, past participle\n",
      "to                   ADP    IN     prep   adposition           conjunction, subordinating or preposition\n",
      "us                   PRON   PRP    pobj   pronoun              pronoun, personal\n",
      "that                 SCONJ  IN     mark   subordinating conjunction conjunction, subordinating or preposition\n",
      "we                   PRON   PRP    nsubj  pronoun              pronoun, personal\n",
      "may                  AUX    MD     aux    auxiliary            verb, modal auxiliary\n",
      "collect              VERB   VB     ccomp  verb                 verb, base form\n",
      ",                    PUNCT  ,      punct  punctuation          punctuation mark, comma\n",
      "use                  VERB   VB     conj   verb                 verb, base form\n",
      "or                   CCONJ  CC     cc     coordinating conjunction conjunction, coordinating\n",
      "disclose             VERB   VB     conj   verb                 verb, base form\n",
      "your                 PRON   PRP$   poss   pronoun              pronoun, possessive\n",
      "personal             ADJ    JJ     amod   adjective            adjective (English), other noun-modifier (Chinese)\n",
      "information          NOUN   NN     dobj   noun                 noun, singular or mass\n",
      "for                  ADP    IN     prep   adposition           conjunction, subordinating or preposition\n",
      "purpose              NOUN   NN     pobj   noun                 noun, singular or mass\n",
      "in                   ADP    IN     prep   adposition           conjunction, subordinating or preposition\n",
      "connection           NOUN   NN     pobj   noun                 noun, singular or mass\n",
      "with                 ADP    IN     prep   adposition           conjunction, subordinating or preposition\n",
      "the                  DET    DT     det    determiner           determiner\n",
      "services             NOUN   NNS    pobj   noun                 noun, plural\n",
      "provided             VERB   VBN    acl    verb                 verb, past participle\n",
      "by                   ADP    IN     agent  adposition           conjunction, subordinating or preposition\n",
      "us                   PRON   PRP    pobj   pronoun              pronoun, personal\n",
      ".                    PUNCT  .      punct  punctuation          punctuation mark, sentence closer\n"
     ]
    },
    {
     "data": {
      "text/plain": [
       "0    None\n",
       "1    None\n",
       "Name: job_description, dtype: object"
      ]
     },
     "execution_count": 33,
     "metadata": {},
     "output_type": "execute_result"
    }
   ],
   "source": [
    "pos_header()\n",
    "df['job_description'][0:2].map(extract_pos)"
   ]
  },
  {
   "cell_type": "code",
   "execution_count": 34,
   "id": "d095274a",
   "metadata": {},
   "outputs": [
    {
     "data": {
      "text/plain": [
       "[('experience', 3548),\n",
       " ('team', 2515),\n",
       " ('skills', 2440),\n",
       " ('management', 2107),\n",
       " ('business', 2033),\n",
       " ('years', 1644),\n",
       " ('work', 1610),\n",
       " ('data', 1549),\n",
       " ('development', 1345),\n",
       " ('communication', 1279),\n",
       " ('project', 1236),\n",
       " ('customer', 1201),\n",
       " ('knowledge', 1137),\n",
       " ('customers', 1053),\n",
       " ('Responsibilities', 1045),\n",
       " ('support', 1042),\n",
       " ('service', 1040),\n",
       " ('candidates', 1037),\n",
       " ('Experience', 1023),\n",
       " ('environment', 1014),\n",
       " ('requirements', 1009),\n",
       " ('resume', 998),\n",
       " ('sales', 965),\n",
       " ('projects', 936),\n",
       " ('process', 907)]"
      ]
     },
     "execution_count": 34,
     "metadata": {},
     "output_type": "execute_result"
    }
   ],
   "source": [
    "pos_list = []\n",
    "for sentence in df['job_description']:\n",
    "    sentence = nlp(sentence)\n",
    "    for token in sentence:\n",
    "        if token.pos_ == 'NOUN':\n",
    "            pos_list.append(token.text)\n",
    "\n",
    "Counter(pos_list).most_common(25)"
   ]
  },
  {
   "cell_type": "code",
   "execution_count": 35,
   "id": "80f62a11",
   "metadata": {},
   "outputs": [
    {
     "data": {
      "text/plain": [
       "[('Job', 1234),\n",
       " ('Responsibilities', 1152),\n",
       " ('Singapore', 1071),\n",
       " ('Roles', 940),\n",
       " ('Diploma', 809),\n",
       " ('Management', 801),\n",
       " ('Requirements', 786),\n",
       " ('Degree', 665),\n",
       " ('Engineering', 619),\n",
       " ('Pte', 566),\n",
       " ('Business', 556),\n",
       " ('MS', 528),\n",
       " ('Manager', 523),\n",
       " ('EA', 521),\n",
       " ('Office', 520),\n",
       " ('IT', 495),\n",
       " ('Ltd', 456),\n",
       " ('Microsoft', 419),\n",
       " ('Min', 384),\n",
       " ('Data', 368),\n",
       " ('Science', 366),\n",
       " ('Word', 363),\n",
       " ('Team', 351),\n",
       " ('Computer', 350),\n",
       " ('Services', 348)]"
      ]
     },
     "execution_count": 35,
     "metadata": {},
     "output_type": "execute_result"
    }
   ],
   "source": [
    "pos_list = []\n",
    "for sentence in df['job_description']:\n",
    "    sentence = nlp(sentence)\n",
    "    for token in sentence:\n",
    "        if token.pos_ == 'PROPN':\n",
    "            pos_list.append(token.text)\n",
    "\n",
    "Counter(pos_list).most_common(25)"
   ]
  },
  {
   "cell_type": "code",
   "execution_count": 36,
   "id": "8fb4d38d",
   "metadata": {},
   "outputs": [
    {
     "data": {
      "text/plain": [
       "[('other', 1512),\n",
       " ('new', 1246),\n",
       " ('relevant', 1117),\n",
       " ('technical', 965),\n",
       " ('Able', 958),\n",
       " ('Good', 954),\n",
       " ('such', 842),\n",
       " ('good', 809),\n",
       " ('-', 755),\n",
       " ('Strong', 733),\n",
       " ('internal', 677),\n",
       " ('strong', 675),\n",
       " ('able', 655),\n",
       " ('least', 633),\n",
       " ('financial', 572),\n",
       " ('equivalent', 539),\n",
       " ('high', 530),\n",
       " ('interpersonal', 528),\n",
       " ('Interested', 526),\n",
       " ('various', 521),\n",
       " ('related', 519),\n",
       " ('Responsible', 500),\n",
       " ('key', 485),\n",
       " ('external', 470),\n",
       " ('Excellent', 455)]"
      ]
     },
     "execution_count": 36,
     "metadata": {},
     "output_type": "execute_result"
    }
   ],
   "source": [
    "pos_list = []\n",
    "for sentence in df['job_description']:\n",
    "    sentence = nlp(sentence)\n",
    "    for token in sentence:\n",
    "        if token.pos_ == 'ADJ':\n",
    "            pos_list.append(token.text)\n",
    "\n",
    "Counter(pos_list).most_common(25)"
   ]
  },
  {
   "cell_type": "code",
   "execution_count": 37,
   "id": "91376ace",
   "metadata": {},
   "outputs": [
    {
     "data": {
      "text/plain": [
       "[('work', 1632),\n",
       " ('ensure', 1339),\n",
       " ('including', 1119),\n",
       " ('required', 1045),\n",
       " ('working', 1022),\n",
       " ('related', 808),\n",
       " ('have', 776),\n",
       " ('Ensure', 768),\n",
       " ('assigned', 766),\n",
       " ('Provide', 704),\n",
       " ('provide', 678),\n",
       " ('apply', 635),\n",
       " ('develop', 630),\n",
       " ('manage', 618),\n",
       " ('Assist', 608),\n",
       " ('Perform', 575),\n",
       " ('based', 523),\n",
       " ('support', 521),\n",
       " ('looking', 500),\n",
       " ('using', 493),\n",
       " ('maintain', 472),\n",
       " ('shortlisted', 468),\n",
       " ('written', 460),\n",
       " ('meet', 446),\n",
       " ('emailprotected', 424)]"
      ]
     },
     "execution_count": 37,
     "metadata": {},
     "output_type": "execute_result"
    }
   ],
   "source": [
    "pos_list = []\n",
    "for sentence in df['job_description']:\n",
    "    sentence = nlp(sentence)\n",
    "    for token in sentence:\n",
    "        if token.pos_ == 'VERB':\n",
    "            pos_list.append(token.text)\n",
    "\n",
    "Counter(pos_list).most_common(25)"
   ]
  },
  {
   "cell_type": "code",
   "execution_count": 38,
   "id": "e57cd687",
   "metadata": {},
   "outputs": [],
   "source": [
    "##Functions for NER tagging\n",
    "\n",
    "def ner_header():\n",
    "    print(f\"{'Enitiy':{40}} {'label':{10}} {'label explained'}\")\n",
    "\n",
    "def extract_ner(text):\n",
    "    doc = nlp(text)\n",
    "    if doc.ents:\n",
    "        for ent in doc.ents:\n",
    "            print(f'{ent.text:{40}} {ent.label_:{10}} {str(spacy.explain(ent.label_))}')"
   ]
  },
  {
   "cell_type": "code",
   "execution_count": 39,
   "id": "281fdc36",
   "metadata": {},
   "outputs": [
    {
     "name": "stdout",
     "output_type": "stream",
     "text": [
      "Enitiy                                   label      label explained\n",
      "Develop                                  ORG        Companies, agencies, institutions, etc.\n",
      "MS Office Market                         ORG        Companies, agencies, institutions, etc.\n",
      "daily                                    DATE       Absolute or relative dates or periods\n",
      "teleconference, minutes                  TIME       Times smaller than a day\n",
      "Advanced/Higher/Graduate Diploma         ORG        Companies, agencies, institutions, etc.\n",
      "At least 3 year(s                        DATE       Absolute or relative dates or periods\n",
      "Secretarial/Executive & Personal         ORG        Companies, agencies, institutions, etc.\n",
      "R1874110                                 PERSON     People, including fictional\n",
      "Monday to                                DATE       Absolute or relative dates or periods\n",
      "Friday                                   DATE       Absolute or relative dates or periods\n",
      "hoursLocation                            TIME       Times smaller than a day\n",
      "Buona vista/Novena/Outram                ORG        Companies, agencies, institutions, etc.\n",
      "LevelProficient                          PRODUCT    Objects, vehicles, foods, etc. (not services)\n",
      "Interested                               ORG        Companies, agencies, institutions, etc.\n",
      "10C4754EA                                CARDINAL   Numerals that do not fall under another type\n",
      "Indonesia                                GPE        Countries, cities, states\n",
      "Bank                                     ORG        Companies, agencies, institutions, etc.\n",
      "Indonesian                               NORP       Nationalities or religious or political groups\n",
      "the End User Compute Platform and Operating Systems ORG        Companies, agencies, institutions, etc.\n",
      "Solaris                                  PRODUCT    Objects, vehicles, foods, etc. (not services)\n",
      "Windows                                  PRODUCT    Objects, vehicles, foods, etc. (not services)\n",
      "Project                                  ORG        Companies, agencies, institutions, etc.\n",
      "Application Architects                   ORG        Companies, agencies, institutions, etc.\n",
      "Indonesia                                GPE        Countries, cities, states\n",
      "At least 15 years                        DATE       Absolute or relative dates or periods\n",
      "10+ Years                                DATE       Absolute or relative dates or periods\n",
      "Deep                                     PERSON     People, including fictional\n",
      "10+ Years                                DATE       Absolute or relative dates or periods\n",
      "5                                        CARDINAL   Numerals that do not fall under another type\n",
      "Stakeholder Management                   ORG        Companies, agencies, institutions, etc.\n",
      "CXO                                      ORG        Companies, agencies, institutions, etc.\n",
      "MAS/HKMA                                 ORG        Companies, agencies, institutions, etc.\n",
      "JSFA Data Centre                         ORG        Companies, agencies, institutions, etc.\n",
      "ITIL Foundation                          ORG        Companies, agencies, institutions, etc.\n",
      "MNC                                      ORG        Companies, agencies, institutions, etc.\n",
      "3500 - $6000 Basic +                     MONEY      Monetary values, including unit\n",
      "Ang Mo Kio Working                       PERSON     People, including fictional\n",
      "5 days                                   DATE       Absolute or relative dates or periods\n",
      "5.30pm                                   TIME       Times smaller than a day\n",
      "more than 3 years                        DATE       Absolute or relative dates or periods\n",
      "2D/3D                                    CARDINAL   Numerals that do not fall under another type\n",
      "SolidWorks                               ORG        Companies, agencies, institutions, etc.\n",
      "Vision System                            ORG        Companies, agencies, institutions, etc.\n",
      "SECS                                     ORG        Companies, agencies, institutions, etc.\n",
      "Education                                ORG        Companies, agencies, institutions, etc.\n"
     ]
    },
    {
     "data": {
      "text/plain": [
       "0    None\n",
       "1    None\n",
       "2    None\n",
       "3    None\n",
       "4    None\n",
       "Name: job_description, dtype: object"
      ]
     },
     "execution_count": 39,
     "metadata": {},
     "output_type": "execute_result"
    }
   ],
   "source": [
    "ner_header()\n",
    "df['job_description'][0:5].map(extract_ner)"
   ]
  },
  {
   "cell_type": "code",
   "execution_count": 40,
   "id": "5fc6c6bb",
   "metadata": {},
   "outputs": [
    {
     "data": {
      "text/plain": [
       "[('Interested', 253),\n",
       " ('Develop', 149),\n",
       " ('Microsoft Office', 139),\n",
       " ('MS Word', 105),\n",
       " ('Microsoft', 104),\n",
       " ('MS Office', 87),\n",
       " ('Bank', 81),\n",
       " ('APAC', 81),\n",
       " ('MS', 78),\n",
       " ('Recruit Express Pte Ltd', 67),\n",
       " ('Review', 66),\n",
       " ('Oracle', 50),\n",
       " ('Job Requirements', 50),\n",
       " ('Project', 47),\n",
       " ('Group', 47),\n",
       " ('Citi', 47),\n",
       " ('Company', 44),\n",
       " ('NRIC', 44),\n",
       " ('Computer Science', 39),\n",
       " ('Working', 38),\n",
       " ('AP', 38),\n",
       " ('the Personal Data Protection Act', 38),\n",
       " ('MNC', 36),\n",
       " ('Communicate', 32),\n",
       " ('Operations', 32)]"
      ]
     },
     "execution_count": 40,
     "metadata": {},
     "output_type": "execute_result"
    }
   ],
   "source": [
    "ner_list = []\n",
    "for sentence in df['job_description']:\n",
    "    sentence = nlp(sentence)\n",
    "    for token in sentence.ents:\n",
    "        if token.label_ == 'ORG':\n",
    "            ner_list.append(token.text)\n",
    "        \n",
    "Counter(ner_list).most_common(25)        "
   ]
  },
  {
   "cell_type": "code",
   "execution_count": 41,
   "id": "7bd90a36",
   "metadata": {},
   "outputs": [
    {
     "data": {
      "text/plain": [
       "[('Keen', 36),\n",
       " ('Min', 27),\n",
       " ('NRIC', 23),\n",
       " ('Tableau', 17),\n",
       " ('Deep', 16),\n",
       " ('Requirements', 16),\n",
       " ('Michelle Lee Ser Min', 15),\n",
       " ('MOM', 14),\n",
       " ('Kafka', 14),\n",
       " ('Diploma/ Degree', 14),\n",
       " ('Docker', 12),\n",
       " ('Min Degree', 12),\n",
       " ('Jenkins', 11),\n",
       " ('Charles Seah', 11),\n",
       " ('Foster', 11),\n",
       " ('Cook', 10),\n",
       " ('06C2859', 9),\n",
       " ('Jenalyn Ooi Huai Sian', 8),\n",
       " ('Weylchem', 8),\n",
       " ('Chloe Tan Hui Lin', 7),\n",
       " ('Ang Mo Kio', 7),\n",
       " ('Waters', 7),\n",
       " ('HAITEmail Address', 7),\n",
       " ('HAIT', 7),\n",
       " ('Lilian', 6)]"
      ]
     },
     "execution_count": 41,
     "metadata": {},
     "output_type": "execute_result"
    }
   ],
   "source": [
    "ner_list = []\n",
    "for sentence in df['job_description']:\n",
    "    sentence = nlp(sentence)\n",
    "    for token in sentence.ents:\n",
    "        if token.label_ == 'PERSON':\n",
    "            ner_list.append(token.text)\n",
    "        \n",
    "Counter(ner_list).most_common(25)   "
   ]
  },
  {
   "cell_type": "code",
   "execution_count": 42,
   "id": "31f0d123",
   "metadata": {},
   "outputs": [
    {
     "data": {
      "text/plain": [
       "[('Chinese', 119),\n",
       " ('Singaporeans', 91),\n",
       " ('Singaporean', 66),\n",
       " ('Japanese', 61),\n",
       " ('Nitec', 34),\n",
       " ('Asian', 21),\n",
       " ('Establish', 17),\n",
       " ('Agile', 16),\n",
       " ('Linux', 10),\n",
       " ('SOP', 9),\n",
       " ('Korean', 9),\n",
       " ('English', 8),\n",
       " ('European', 6),\n",
       " ('German', 6),\n",
       " ('Bilingual', 6),\n",
       " ('DevSecOps', 6),\n",
       " ('Indian', 6),\n",
       " ('Asias', 6),\n",
       " ('Western', 5),\n",
       " ('Malay', 5),\n",
       " ('Bengali', 4),\n",
       " ('SAP', 4),\n",
       " ('Singtels', 4),\n",
       " ('Scrum', 4),\n",
       " ('Thai', 4)]"
      ]
     },
     "execution_count": 42,
     "metadata": {},
     "output_type": "execute_result"
    }
   ],
   "source": [
    "ner_list = []\n",
    "for sentence in df['job_description']:\n",
    "    sentence = nlp(sentence)\n",
    "    for token in sentence.ents:\n",
    "        if token.label_ == 'NORP':\n",
    "            ner_list.append(token.text)\n",
    "        \n",
    "Counter(ner_list).most_common(25)   "
   ]
  },
  {
   "cell_type": "code",
   "execution_count": 43,
   "id": "a3b15136",
   "metadata": {},
   "outputs": [],
   "source": [
    "## Functions to extract noun_phrases\n",
    "\n",
    "def extract_noun_pharses(text):\n",
    "    doc = nlp(text)\n",
    "    if doc.noun_chunks:\n",
    "        for chunk in doc.noun_chunks:\n",
    "            print(chunk.text)\n",
    "\n",
    "\n",
    "def noun_pharses_to_analysis(text):\n",
    "    doc = nlp(text)\n",
    "    noun_pharses = []\n",
    "    for token in doc.noun_chunks:\n",
    "        token = re.sub(r' ','_',token.text)\n",
    "        noun_pharses.append(token)\n",
    "    return ' '.join(noun_pharses)"
   ]
  },
  {
   "cell_type": "code",
   "execution_count": 44,
   "id": "30255c06",
   "metadata": {},
   "outputs": [
    {
     "name": "stdout",
     "output_type": "stream",
     "text": [
      "Roles\n",
      "Responsibilities\n",
      "Job Role Description\n",
      "business development\n",
      "FREIGHT\n",
      "potential clients\n",
      "the target market\n",
      "complete appropriate research\n",
      "intervention strategies\n",
      "gaps\n",
      "delivery\n",
      "logistics services\n",
      "relationships\n",
      "potential customers\n",
      "sales\n",
      "Negotiate contract terms\n",
      "clients\n",
      "new sales opportunities\n",
      "cold calling\n",
      "networking and social media Requirements\n",
      "Proven working experience\n",
      "a business development\n",
      "sales executive\n",
      "a relevant role\n",
      "Experience\n",
      "customer support\n",
      "a plus Proficiency\n",
      "MS Office Market knowledge\n",
      "Roles\n",
      "Responsibilities\n",
      "Job Scope\n",
      "Full spectrum\n",
      "secretarial support\n",
      "the CEO\n",
      "support\n",
      "the daily activities\n",
      "the CEO\n",
      "emails\n",
      "meeting arrangements\n",
      "; Handle travel arrangements - flight reservation\n",
      "hotel accommodation\n",
      "Handle confidential information\n",
      "the security\n",
      "the CEO records\n",
      "Facilitate meeting\n",
      "the conference schedules\n",
      "refreshment\n",
      "venues\n",
      "teleconference\n",
      "minutes\n",
      "CEO Manage CEOs\n",
      "meetings\n",
      "appointments\n",
      "agenda and attendance list\n",
      "office and accounting records\n",
      "standard expenditures\n",
      "the activities\n",
      "the office\n",
      "conduct\n",
      "the budget\n",
      "instruction\n",
      "emails\n",
      "letters\n",
      "Co-ordinates CEO's personal matters\n",
      "flights\n",
      "housing\n",
      "banking\n",
      "all other matters\n",
      "time\n",
      "time\n",
      "Any other CEO corporate matters\n",
      "CEO Requirement\n",
      "Candidate\n",
      "at least a Higher secondary/Pre-U/A level/College\n",
      "Professional Certificate\n",
      "NiTEC\n",
      "Advanced\n",
      "any field\n",
      "At least 3 year(s\n",
      "working experience\n",
      "the related field\n",
      "this position\n",
      "Preferably Senior Executives\n",
      "Secretarial/Executive\n",
      "Personal Assistant\n",
      "Interested candidates\n",
      "who\n",
      "the advertised position\n",
      "us\n",
      "an updated copy\n",
      "your resume\n",
      "Email Address\n",
      "No\n",
      "13C6305 Reg\n",
      "No\n",
      "R1874110\n",
      "candidate\n",
      "who\n",
      "the advertised position\n",
      "us\n",
      "we\n",
      "your personal information\n",
      "purpose\n",
      "connection\n",
      "the services\n",
      "us\n"
     ]
    },
    {
     "data": {
      "text/plain": [
       "0    None\n",
       "1    None\n",
       "Name: job_description, dtype: object"
      ]
     },
     "execution_count": 44,
     "metadata": {},
     "output_type": "execute_result"
    }
   ],
   "source": [
    "df['job_description'][0:2].map(extract_noun_pharses)"
   ]
  },
  {
   "cell_type": "code",
   "execution_count": 45,
   "id": "57dc0649",
   "metadata": {},
   "outputs": [],
   "source": [
    "noun_chunk_list = []\n",
    "for sentence in df['job_description']:\n",
    "    sentence = nlp(sentence)\n",
    "    for chunk in sentence.noun_chunks:\n",
    "        noun_chunk_list.append(chunk.text)\n",
    "    "
   ]
  },
  {
   "cell_type": "code",
   "execution_count": 46,
   "id": "e2aed368",
   "metadata": {},
   "outputs": [
    {
     "data": {
      "text/plain": [
       "[('you', 1862),\n",
       " ('Responsibilities', 1409),\n",
       " ('We', 1187),\n",
       " ('You', 1025),\n",
       " ('that', 999),\n",
       " ('Roles', 795),\n",
       " ('experience', 762),\n",
       " ('we', 725),\n",
       " ('who', 632),\n",
       " ('us', 625),\n",
       " ('customers', 510),\n",
       " ('Experience', 484),\n",
       " ('your resume', 473),\n",
       " ('Singapore', 447),\n",
       " ('Requirements', 438),\n",
       " ('-', 370),\n",
       " ('clients', 353),\n",
       " ('only shortlisted candidates', 327),\n",
       " ('work', 327),\n",
       " ('part', 323),\n",
       " ('a team', 309),\n",
       " ('compliance', 297),\n",
       " ('which', 292),\n",
       " ('time', 289),\n",
       " ('them', 288),\n",
       " ('Ability', 266),\n",
       " ('Knowledge', 253),\n",
       " ('support', 249),\n",
       " ('working experience', 238),\n",
       " ('projects', 237),\n",
       " ('data', 237),\n",
       " ('training', 230),\n",
       " ('the team', 229),\n",
       " ('development', 225),\n",
       " ('procedures', 224),\n",
       " ('solutions', 223),\n",
       " ('ability', 222),\n",
       " ('management', 221),\n",
       " ('they', 218),\n",
       " ('accordance', 217),\n",
       " ('This', 217),\n",
       " ('order', 217),\n",
       " ('it', 210),\n",
       " ('knowledge', 209),\n",
       " ('issues', 206),\n",
       " ('processes', 204),\n",
       " ('maintenance', 197),\n",
       " ('relevant experience', 193),\n",
       " ('English', 189),\n",
       " ('people', 188)]"
      ]
     },
     "execution_count": 46,
     "metadata": {},
     "output_type": "execute_result"
    }
   ],
   "source": [
    "Counter(noun_chunk_list).most_common(50)"
   ]
  },
  {
   "cell_type": "code",
   "execution_count": 47,
   "id": "f8b74666",
   "metadata": {},
   "outputs": [],
   "source": [
    "## Functions for lemmatization, removal of stopwords and etc.\n",
    "\n",
    "def lemmatize(text):\n",
    "    text = nlp(text)\n",
    "    lemma_text = []\n",
    "    for token in text:\n",
    "        lemma_text.append(token.lemma_)\n",
    "    return ' '.join(lemma_text)\n",
    "\n",
    "stopwords = nlp.Defaults.stop_words\n",
    "def remove_stopwords(text):\n",
    "    no_stop_word = []\n",
    "    for token in text.split():\n",
    "        if token.lower() not in stopwords:\n",
    "            no_stop_word.append(token)\n",
    "    return ' '.join(no_stop_word)\n",
    "\n",
    "def clean_non_letter(text):\n",
    "    text = text.lower()\n",
    "    text = re.sub(\"\\S*\\d\\S*\", \"\", text).strip()\n",
    "    text= re.sub('[^A-Za-z]+', ' ', text)\n",
    "    text = ' '.join(text.split())\n",
    "    return text\n",
    "\n",
    "printable = set(string.printable)\n",
    "def remove_non_printable(text):\n",
    "    return ''.join(filter(lambda x: x in printable, text))"
   ]
  },
  {
   "cell_type": "code",
   "execution_count": 48,
   "id": "32ca6bfa",
   "metadata": {
    "scrolled": true
   },
   "outputs": [
    {
     "data": {
      "text/plain": [
       "\"Roles & Responsibilities : Job Role Description: Responsible for business development for FREIGHT FORWARDING Identify potential clients in the target market and complete appropriate research on the prospective client's business and equipment needs Develop intervention strategies to mitigate gaps in delivery of logistics services Develop relationships with potential customers and meeting sales targets Negotiate contract terms with clients Actively seeking out new sales opportunities through cold calling, networking and social media Requirements: Proven working experience as a business development, sales executive or a relevant role Experience in customer support is a plus Proficiency in MS Office Market knowledge\""
      ]
     },
     "execution_count": 48,
     "metadata": {},
     "output_type": "execute_result"
    }
   ],
   "source": [
    "df['job_description'][0]"
   ]
  },
  {
   "cell_type": "code",
   "execution_count": 49,
   "id": "238c3d60",
   "metadata": {},
   "outputs": [
    {
     "data": {
      "text/plain": [
       "\"Roles & Responsibilities : Job Scope: Full spectrum of secretarial support to the CEO Provide support to the daily activities of the CEO including emails and meeting arrangements; Handle travel arrangements - flight reservation, hotel accommodation, visa applications etc; Handle confidential information and maintain the security of the CEO records and files Facilitate meeting such as manage the conference schedules, refreshment, venues, teleconference, minutes and etc for CEO Manage CEOs calendar by setting up meetings and appointments and organizing agenda and attendance list Maintain CEOs office and accounting records; monitor, review and approve standard expenditures to ensure that the activities of the office are conduct within the budget Take instruction and respond to emails / letters; Travelling whenever is required Co-ordinates CEO's personal matters including flights, housing, banking and all other matters assigned from time to time Any other CEO corporate matters assigned by CEO Requirement: Candidate must possess at least a Higher secondary/Pre-U/A level/College, Professional Certificate/NiTEC, Diploma, Advanced/Higher/Graduate Diploma, any field. At least 3 year(s) of working experience in the related field is required for this position. Preferably Senior Executives specializing in Secretarial/Executive & Personal Assistant or equivalent. Interested candidates who wish to apply for the advertised position, please email us an updated copy of your resume to Email Address: gs2@talenttradersg.com EA License No: 13C6305 Reg. No. : R1874110 For candidate who applied for the advertised position is deemed to have consented to us that we may collect, use or disclose your personal information for purpose in connection with the services provided by us.\""
      ]
     },
     "execution_count": 49,
     "metadata": {},
     "output_type": "execute_result"
    }
   ],
   "source": [
    "df['job_description'][1]"
   ]
  },
  {
   "cell_type": "code",
   "execution_count": 50,
   "id": "60c712e2",
   "metadata": {},
   "outputs": [
    {
     "data": {
      "image/png": "[encoded data removed]",
      "text/plain": [
       "<Figure size 640x480 with 1 Axes>"
      ]
     },
     "metadata": {},
     "output_type": "display_data"
    }
   ],
   "source": [
    "words_in_jd = []\n",
    "for jd in df['job_description']:\n",
    "    words_in_jd.append(len(jd.split()))\n",
    "\n",
    "    \n",
    "bin_edges = [0,50,100,150,200,250,300,350,400,450,500,600,700,800,900,1000]\n",
    "plt.hist(words_in_jd, bins = bin_edges, density=False, histtype='bar', edgecolor='k')\n",
    "\n",
    "\n",
    "\n",
    "plt.xlabel('# of words in JD')\n",
    "plt.xticks([0,50,100,150,200,250,300,350,400,450,500,600,700,800,900,1000])\n",
    "plt.ylabel('Number of JD')\n",
    "plt.title('Histogram of # of Words in JD')\n",
    "\n",
    "plt.show()\n",
    "\n"
   ]
  },
  {
   "cell_type": "code",
   "execution_count": 51,
   "id": "a1534792",
   "metadata": {},
   "outputs": [],
   "source": [
    "df['job_description'] = df['job_description'].map(remove_stopwords)\n",
    "df['job_description'] = df['job_description'].map(lemmatize)\n",
    "df['job_description'] = df['job_description'].map(clean_non_letter)"
   ]
  },
  {
   "cell_type": "code",
   "execution_count": 52,
   "id": "80fc7959",
   "metadata": {
    "scrolled": false
   },
   "outputs": [
    {
     "data": {
      "text/plain": [
       "'roles responsibilities job role description responsible business development freight forwarding identify potential client target market complete appropriate research prospective client s business equipment need develop intervention strategy mitigate gap delivery logistic service develop relationship potential customer meet sale target negotiate contract term client actively seek new sale opportunity cold calling network social medium requirement proven work experience business development sale executive relevant role experience customer support plus proficiency ms office market knowledge'"
      ]
     },
     "execution_count": 52,
     "metadata": {},
     "output_type": "execute_result"
    }
   ],
   "source": [
    "df['job_description'][0]"
   ]
  },
  {
   "cell_type": "code",
   "execution_count": 53,
   "id": "1eb16b55",
   "metadata": {},
   "outputs": [
    {
     "data": {
      "text/plain": [
       "'roles responsibilities job scope spectrum secretarial support ceo provide support daily activity ceo include email meet arrangement handle travel arrangement flight reservation hotel accommodation visa application etc handle confidential information maintain security ceo record file facilitate meeting manage conference schedule refreshment venue teleconference minute etc ceo manage ceo calendar set meeting appointment organize agenda attendance list maintain ceo office accounting record monitor review approve standard expenditure ensure activity office conduct budget instruction respond email letter travel require co ordinates ceo s personal matter include flight housing banking matter assign time time ceo corporate matter assign ceo requirement candidate possess high secondary pre u a level college professional certificate nitec diploma advanced high graduate diploma field year s work experience relate field require position preferably senior executive specialize secretarial executive personal assistant equivalent interested candidate wish apply advertised position email update copy resume email address ea license no reg no candidate apply advertise position deem consented collect use disclose personal information purpose connection service provide we'"
      ]
     },
     "execution_count": 53,
     "metadata": {},
     "output_type": "execute_result"
    }
   ],
   "source": [
    "df['job_description'][1]"
   ]
  },
  {
   "cell_type": "code",
   "execution_count": 54,
   "id": "03609b02",
   "metadata": {},
   "outputs": [],
   "source": [
    "df[['job_id','raw_job_title','job_title','job_description','date_posted','company_name','job_category']].to_csv('exel_04_clean_job_posting_lemmantize_no_stopword.csv')"
   ]
  },
  {
   "cell_type": "code",
   "execution_count": 55,
   "id": "bc622f14",
   "metadata": {},
   "outputs": [
    {
     "data": {
      "image/png": "[encoded data removed]",
      "text/plain": [
       "<Figure size 640x480 with 1 Axes>"
      ]
     },
     "metadata": {},
     "output_type": "display_data"
    }
   ],
   "source": [
    "words_in_jd = []\n",
    "for jd in df['job_description']:\n",
    "    words_in_jd.append(len(jd.split()))\n",
    "\n",
    "    \n",
    "bin_edges = [0,50,100,150,200,250,300,350,400,450,500,600,700,800,900,1000]\n",
    "plt.hist(words_in_jd, bins = bin_edges, density=False, histtype='bar', edgecolor='k')\n",
    "\n",
    "\n",
    "\n",
    "plt.xlabel('# of words in JD')\n",
    "plt.xticks([0,50,100,150,200,250,300,350,400,450,500,600,700,800,900,1000])\n",
    "plt.ylabel('Number of JD')\n",
    "plt.title('Histogram of # of Words in JD')\n",
    "\n",
    "plt.show()\n",
    "\n"
   ]
  },
  {
   "cell_type": "markdown",
   "id": "c282a466",
   "metadata": {},
   "source": [
    "### Duplicate job postings"
   ]
  },
  {
   "cell_type": "markdown",
   "id": "12965392",
   "metadata": {},
   "source": [
    "This code snippet is used to determine whether any two job postings are a duplicate of each other or not.\n",
    "It make use of cosine similarity between the job description of the two postings.\n",
    "In order to minimize the search time, it will only compare postings that were posted up to 15 days before.\n",
    "In addition to that, it will also look at the length of description and filter out the postings that have absolute difference of greater than 1%. "
   ]
  },
  {
   "cell_type": "code",
   "execution_count": 56,
   "id": "5fab5f54",
   "metadata": {},
   "outputs": [
    {
     "name": "stderr",
     "output_type": "stream",
     "text": [
      "43it [00:14,  3.96it/s]"
     ]
    },
    {
     "name": "stdout",
     "output_type": "stream",
     "text": [
      "JD 42 and 1136 has similarity of 1.0. Please check for duplication\n",
      "soc analyst -- ember recruitment pte ltd -- 2020-11-09 00:00:00 -- client highly establish bank seek x information security analyst junior senior join soc team success\n",
      "l1 / l2 soc analyst -- ember recruitment pte ltd -- 2020-11-09 00:00:00 -- client highly establish bank seek x information security analyst junior senior join soc team success\n",
      "\n",
      "\n"
     ]
    },
    {
     "name": "stderr",
     "output_type": "stream",
     "text": [
      "188it [01:04,  2.76it/s]"
     ]
    },
    {
     "name": "stdout",
     "output_type": "stream",
     "text": [
      "JD 188 and 828 has similarity of 1.0. Please check for duplication\n",
      "inventory manager / -- achieve career consultant pte ltd -- 2020-11-25 00:00:00 -- till high bonus day work week experience sap liaise japanese speak customer year experience similar \n",
      "inventory manager / -- achieve career consultant pte ltd -- 2020-11-22 00:00:00 -- till high bonus day work week experience sap liaise japanese speak customer year experience similar \n",
      "\n",
      "\n"
     ]
    },
    {
     "name": "stderr",
     "output_type": "stream",
     "text": [
      "194it [01:06,  3.15it/s]"
     ]
    },
    {
     "name": "stdout",
     "output_type": "stream",
     "text": [
      "JD 193 and 2128 has similarity of 0.9989650359456617. Please check for duplication\n",
      "sql developer -- technopals pte ltd -- 2020-11-25 00:00:00 -- roles responsibilities skill qualification requirements in depth knowledge sql server experience mic\n",
      "sql developer -- people profilers (services) pte ltd -- 2020-11-25 00:00:00 -- roles responsibilities skill qualification requirements in depth knowledge sql server experience mic\n",
      "\n",
      "\n"
     ]
    },
    {
     "name": "stderr",
     "output_type": "stream",
     "text": [
      "267it [01:32,  2.55it/s]"
     ]
    },
    {
     "name": "stdout",
     "output_type": "stream",
     "text": [
      "JD 267 and 1290 has similarity of 1.0. Please check for duplication\n",
      "senior/ application consultant -- central provident fund board -- 2020-11-24 00:00:00 -- information technology system form backbone operation look individual passion expertise help improve\n",
      "senior/ application consultant -- central provident fund board -- 2020-11-11 00:00:00 -- information technology system form backbone operation look individual passion expertise help improve\n",
      "\n",
      "\n"
     ]
    },
    {
     "name": "stderr",
     "output_type": "stream",
     "text": [
      "397it [02:20,  3.35it/s]"
     ]
    },
    {
     "name": "stdout",
     "output_type": "stream",
     "text": [
      "JD 396 and 1326 has similarity of 1.0. Please check for duplication\n",
      "digital marketing intern -- tech2reachtech2reach -- 2020-11-13 00:00:00 -- marketing especially digital marketing important aspect business have right skillset marketing combi\n",
      "digital marketing intern -- tech2reachtech2reach -- 2020-11-03 00:00:00 -- marketing especially digital marketing important aspect business have right skillset marketing combi\n",
      "\n",
      "\n"
     ]
    },
    {
     "name": "stderr",
     "output_type": "stream",
     "text": [
      "542it [03:15,  2.37it/s]"
     ]
    },
    {
     "name": "stdout",
     "output_type": "stream",
     "text": [
      "JD 541 and 1842 has similarity of 1.0. Please check for duplication\n",
      "finance executive employment and employability institute -- confidential -- 2020-11-18 00:00:00 -- finance executive corporate finance team report finance deputy director work closely stakeholder int\n",
      "finance executive employment and employability institute -- confidential -- 2020-11-12 00:00:00 -- finance executive corporate finance team report finance deputy director work closely stakeholder int\n",
      "\n",
      "\n"
     ]
    },
    {
     "name": "stderr",
     "output_type": "stream",
     "text": [
      "548it [03:16,  3.30it/s]"
     ]
    },
    {
     "name": "stdout",
     "output_type": "stream",
     "text": [
      "JD 547 and 1325 has similarity of 0.9962450913947156. Please check for duplication\n",
      "head cook -- woods cafe pte ltd -- 2020-11-25 00:00:00 -- roles responsibilities head cook responsible go employer kitchen require oversee dish start finish t\n",
      "chief cook -- haji syed eating house pte ltd -- 2020-11-25 00:00:00 -- roles responsibilities chief cook responsible go employer kitchen require oversee dish start finish \n",
      "\n",
      "\n"
     ]
    },
    {
     "name": "stderr",
     "output_type": "stream",
     "text": [
      "679it [04:02,  3.03it/s]"
     ]
    },
    {
     "name": "stdout",
     "output_type": "stream",
     "text": [
      "JD 678 and 520 has similarity of 1.0. Please check for duplication\n",
      "clinic receptionist/ pharmacy apprentice -- recruitexpress -- 2020-12-23 00:00:00 -- assist pharmacist dispensing supply drug chemical outpatient inpatient retail section assist pharmac\n",
      "pharmacy assistant/clinic assistant -- recruitexpress -- 2020-12-09 00:00:00 -- assist pharmacist dispensing supply drug chemical outpatient inpatient retail section assist pharmac\n",
      "\n",
      "\n"
     ]
    },
    {
     "name": "stderr",
     "output_type": "stream",
     "text": [
      "758it [04:28,  3.11it/s]"
     ]
    },
    {
     "name": "stdout",
     "output_type": "stream",
     "text": [
      "JD 758 and 964 has similarity of 0.9955038027123435. Please check for duplication\n",
      "spa therapist -- imperial apple spa @ orchard pte ltd -- 2020-11-26 00:00:00 -- roles responsibilities job description provide consistent professional spa massage either body foot \n",
      "beautician -- a new u beauty & wellness -- 2020-11-21 00:00:00 -- roles responsibilities job description provide beauty spa massage service confirm high standard serv\n",
      "\n",
      "\n"
     ]
    },
    {
     "name": "stderr",
     "output_type": "stream",
     "text": [
      "797it [04:44,  2.58it/s]"
     ]
    },
    {
     "name": "stdout",
     "output_type": "stream",
     "text": [
      "JD 796 and 1930 has similarity of 1.0. Please check for duplication\n",
      "service -- confidential -- 2020-11-27 00:00:00 -- han s cafe cake house pte ltdjob details time hr min week service crew able perform main duty main d\n",
      "service crew -- confidential -- 2020-11-27 00:00:00 -- han s cafe cake house pte ltdjob details time hr min week service crew able perform main duty main d\n",
      "\n",
      "\n"
     ]
    },
    {
     "name": "stderr",
     "output_type": "stream",
     "text": [
      "934it [05:35,  2.14it/s]"
     ]
    },
    {
     "name": "stdout",
     "output_type": "stream",
     "text": [
      "JD 933 and 1080 has similarity of 0.9996908503847171. Please check for duplication\n",
      "sales personnel customers provided -- locanto -- 2020-11-18 00:00:00 -- position sales personnel client relationship marketing salary comm need find customer interested cus\n",
      "sales service personnel customers fully providedclient relationship business marketing -- recruitment express -- 2020-11-09 00:00:00 -- roles responsibilities salary comm sales personnel client relationship marketing need find customer \n",
      "\n",
      "\n"
     ]
    },
    {
     "name": "stderr",
     "output_type": "stream",
     "text": [
      "1072it [06:23,  2.53it/s]"
     ]
    },
    {
     "name": "stdout",
     "output_type": "stream",
     "text": [
      "JD 1071 and 2067 has similarity of 1.0. Please check for duplication\n",
      "customer service ambassador -- kelly services (s) pte ltd -- 2020-11-18 00:00:00 -- job description ensure enter booth counter adhere safe distancing measure safe entry check in safe d\n",
      "customer service ambassador -- kelly services (s) pte ltd -- 2020-11-12 00:00:00 -- job description ensure enter booth counter adhere safe distancing measure safe entry check in safe d\n",
      "\n",
      "\n"
     ]
    },
    {
     "name": "stderr",
     "output_type": "stream",
     "text": [
      "1078it [06:25,  3.18it/s]"
     ]
    },
    {
     "name": "stdout",
     "output_type": "stream",
     "text": [
      "JD 1078 and 526 has similarity of 1.0. Please check for duplication\n",
      "product manager -- recruitplus consulting pte ltd -- 2020-11-20 00:00:00 -- basic aws vb mnc mobile app mondayfriday day paya lebar mrt client tech firm design produce mobile a\n",
      "product manager -- recruitplus consulting pte ltd -- 2020-11-17 00:00:00 -- basic aws vb mnc mobile app mondayfriday day paya lebar mrt client tech firm design produce mobile a\n",
      "\n",
      "\n"
     ]
    },
    {
     "name": "stderr",
     "output_type": "stream",
     "text": [
      "1137it [06:45,  3.46it/s]"
     ]
    },
    {
     "name": "stdout",
     "output_type": "stream",
     "text": [
      "JD 1136 and 42 has similarity of 1.0. Please check for duplication\n",
      "l1 / l2 soc analyst -- ember recruitment pte ltd -- 2020-11-09 00:00:00 -- client highly establish bank seek x information security analyst junior senior join soc team success\n",
      "soc analyst -- ember recruitment pte ltd -- 2020-11-09 00:00:00 -- client highly establish bank seek x information security analyst junior senior join soc team success\n",
      "\n",
      "\n"
     ]
    },
    {
     "name": "stderr",
     "output_type": "stream",
     "text": [
      "\r",
      "1138it [06:45,  2.78it/s]"
     ]
    },
    {
     "name": "stdout",
     "output_type": "stream",
     "text": [
      "JD 1138 and 188 has similarity of 1.0. Please check for duplication\n",
      "inventory manager / -- achieve career consultant pte ltd -- 2020-11-26 00:00:00 -- till high bonus day work week experience sap liaise japanese speak customer year experience similar \n",
      "inventory manager / -- achieve career consultant pte ltd -- 2020-11-25 00:00:00 -- till high bonus day work week experience sap liaise japanese speak customer year experience similar \n",
      "\n",
      "\n",
      "JD 1138 and 828 has similarity of 1.0. Please check for duplication\n",
      "inventory manager / -- achieve career consultant pte ltd -- 2020-11-26 00:00:00 -- till high bonus day work week experience sap liaise japanese speak customer year experience similar \n",
      "inventory manager / -- achieve career consultant pte ltd -- 2020-11-22 00:00:00 -- till high bonus day work week experience sap liaise japanese speak customer year experience similar \n",
      "\n",
      "\n"
     ]
    },
    {
     "name": "stderr",
     "output_type": "stream",
     "text": [
      "1262it [07:27,  3.33it/s]"
     ]
    },
    {
     "name": "stdout",
     "output_type": "stream",
     "text": [
      "JD 1261 and 1959 has similarity of 0.9979731462529611. Please check for duplication\n",
      "temp patient service associate / contract dental assistant hsj -- recruitexpress -- 2020-12-20 00:00:00 -- job scope providing frontline customer service handle counter registration scheduling appointment co\n",
      "clinic assistant / healthcare customer service associate hsj -- recruitexpress -- 2020-12-11 00:00:00 -- job scope providing frontline customer service handle counter registration scheduling appointment co\n",
      "\n",
      "\n"
     ]
    },
    {
     "name": "stderr",
     "output_type": "stream",
     "text": [
      "1304it [07:41,  2.92it/s]"
     ]
    },
    {
     "name": "stdout",
     "output_type": "stream",
     "text": [
      "JD 1303 and 2944 has similarity of 0.9993797209339046. Please check for duplication\n",
      "consultant, systems -- ncs -- 2020-11-18 00:00:00 -- ncs lead information communication technology ict communication engineering service provider asia pa\n",
      "engineer -- ncs -- 2020-11-18 00:00:00 -- ncs lead information communication technology ict communication engineering service provider asia pa\n",
      "\n",
      "\n"
     ]
    },
    {
     "name": "stderr",
     "output_type": "stream",
     "text": [
      "1325it [07:48,  2.34it/s]"
     ]
    },
    {
     "name": "stdout",
     "output_type": "stream",
     "text": [
      "JD 1325 and 547 has similarity of 0.9962450913947156. Please check for duplication\n",
      "chief cook -- haji syed eating house pte ltd -- 2020-11-25 00:00:00 -- roles responsibilities chief cook responsible go employer kitchen require oversee dish start finish \n",
      "head cook -- woods cafe pte ltd -- 2020-11-25 00:00:00 -- roles responsibilities head cook responsible go employer kitchen require oversee dish start finish t\n",
      "\n",
      "\n"
     ]
    },
    {
     "name": "stderr",
     "output_type": "stream",
     "text": [
      "1678it [09:53,  2.76it/s]"
     ]
    },
    {
     "name": "stdout",
     "output_type": "stream",
     "text": [
      "JD 1677 and 1919 has similarity of 0.99990635981308. Please check for duplication\n",
      "site supervisor / foremen -- accesstech engineering pte ltd -- 2020-11-10 00:00:00 -- roles responsibilities role responsibility plan lead group worker perform project work assign projec\n",
      "site supervisor -- otc construction engineering pte ltd -- 2020-11-10 00:00:00 -- roles responsibilities roles responsibilities plan lead group worker perform project work assign pro\n",
      "\n",
      "\n"
     ]
    },
    {
     "name": "stderr",
     "output_type": "stream",
     "text": [
      "1680it [09:54,  2.91it/s]"
     ]
    },
    {
     "name": "stdout",
     "output_type": "stream",
     "text": [
      "JD 1680 and 1552 has similarity of 0.9997555488665107. Please check for duplication\n",
      "pharmaceutical sales representative -- recruit express pte ltd -- 2020-11-26 00:00:00 -- job description work sophisticated audience comprise surgeon healthcare professional communicate cus\n",
      "pharmaceutical sales representative -- recruit express pte ltd -- 2020-11-19 00:00:00 -- job description work sophisticated audience comprise surgeon healthcare professional communicate cus\n",
      "\n",
      "\n"
     ]
    },
    {
     "name": "stderr",
     "output_type": "stream",
     "text": [
      "1884it [11:07,  4.04it/s]"
     ]
    },
    {
     "name": "stdout",
     "output_type": "stream",
     "text": [
      "JD 1883 and 2911 has similarity of 1.0. Please check for duplication\n",
      "qa/qc technician -- recruit expert pte ltd -- 2020-11-20 00:00:00 -- roles responsibilities responsibility responsible handle incoming outcome inspection manufacture flo\n",
      "qa/qc technician -- recruit expert pte ltd -- 2020-11-17 00:00:00 -- roles responsibilities responsibility responsible handle incoming outcome inspection manufacture flo\n",
      "\n",
      "\n"
     ]
    },
    {
     "name": "stderr",
     "output_type": "stream",
     "text": [
      "1896it [11:10,  3.08it/s]"
     ]
    },
    {
     "name": "stdout",
     "output_type": "stream",
     "text": [
      "JD 1896 and 1255 has similarity of 1.0. Please check for duplication\n",
      "preclinical imaging scientist/operator/specialist -- national university of singapore -- 2020-11-20 00:00:00 -- candidate expect establish new preclinical acquisition protocol t mri scanner order meet increase de\n",
      "preclinical imaging scientist/operator/specialist -- national university of singapore -- 2020-11-14 00:00:00 -- candidate expect establish new preclinical acquisition protocol t mri scanner order meet increase de\n",
      "\n",
      "\n"
     ]
    },
    {
     "name": "stderr",
     "output_type": "stream",
     "text": [
      "1920it [11:19,  2.81it/s]"
     ]
    },
    {
     "name": "stdout",
     "output_type": "stream",
     "text": [
      "JD 1919 and 1677 has similarity of 0.99990635981308. Please check for duplication\n",
      "site supervisor -- otc construction engineering pte ltd -- 2020-11-10 00:00:00 -- roles responsibilities roles responsibilities plan lead group worker perform project work assign pro\n",
      "site supervisor / foremen -- accesstech engineering pte ltd -- 2020-11-10 00:00:00 -- roles responsibilities role responsibility plan lead group worker perform project work assign projec\n",
      "\n",
      "\n"
     ]
    },
    {
     "name": "stderr",
     "output_type": "stream",
     "text": [
      "1931it [11:22,  4.72it/s]"
     ]
    },
    {
     "name": "stdout",
     "output_type": "stream",
     "text": [
      "JD 1930 and 796 has similarity of 1.0. Please check for duplication\n",
      "service crew -- confidential -- 2020-11-27 00:00:00 -- han s cafe cake house pte ltdjob details time hr min week service crew able perform main duty main d\n",
      "service -- confidential -- 2020-11-27 00:00:00 -- han s cafe cake house pte ltdjob details time hr min week service crew able perform main duty main d\n",
      "\n",
      "\n"
     ]
    },
    {
     "name": "stderr",
     "output_type": "stream",
     "text": [
      "1957it [11:33,  2.24it/s]"
     ]
    },
    {
     "name": "stdout",
     "output_type": "stream",
     "text": [
      "JD 1957 and 158 has similarity of 1.0. Please check for duplication\n",
      "section manager, payroll & claims -- vital -- 2020-11-18 00:00:00 -- section manager payroll claim lead team senior executive executives handle payroll claim processing \n",
      "section manager, payroll & claims -- vital -- 2020-11-04 00:00:00 -- section manager payroll claim lead team senior executive executives handle payroll claim processing \n",
      "\n",
      "\n"
     ]
    },
    {
     "name": "stderr",
     "output_type": "stream",
     "text": [
      "2075it [12:13,  3.24it/s]"
     ]
    },
    {
     "name": "stdout",
     "output_type": "stream",
     "text": [
      "JD 2075 and 1204 has similarity of 1.0. Please check for duplication\n",
      "sales executive -- confidential -- 2020-11-25 00:00:00 -- membership executive evolve mma positively impact people s life commitment self improvement achieve \n",
      "membership executive -- confidential -- 2020-11-12 00:00:00 -- membership executive evolve mma positively impact people s life commitment self improvement achieve \n",
      "\n",
      "\n"
     ]
    },
    {
     "name": "stderr",
     "output_type": "stream",
     "text": [
      "2128it [12:34,  3.18it/s]"
     ]
    },
    {
     "name": "stdout",
     "output_type": "stream",
     "text": [
      "JD 2128 and 193 has similarity of 0.9989650359456617. Please check for duplication\n",
      "sql developer -- people profilers (services) pte ltd -- 2020-11-25 00:00:00 -- roles responsibilities skill qualification requirements in depth knowledge sql server experience mic\n",
      "sql developer -- technopals pte ltd -- 2020-11-25 00:00:00 -- roles responsibilities skill qualification requirements in depth knowledge sql server experience mic\n",
      "\n",
      "\n"
     ]
    },
    {
     "name": "stderr",
     "output_type": "stream",
     "text": [
      "2198it [12:56,  3.89it/s]"
     ]
    },
    {
     "name": "stdout",
     "output_type": "stream",
     "text": [
      "JD 2197 and 1124 has similarity of 1.0. Please check for duplication\n",
      "temp admin assistant training provided -- recruitexpress -- 2020-12-17 00:00:00 -- assist department maintain attendance tracking report datum management medical report planning meeti\n",
      "temp admin assistant training provided -- recruitexpress -- 2020-12-16 00:00:00 -- assist department maintain attendance tracking report datum management medical report planning meeti\n",
      "\n",
      "\n"
     ]
    },
    {
     "name": "stderr",
     "output_type": "stream",
     "text": [
      "2203it [12:58,  3.19it/s]"
     ]
    },
    {
     "name": "stdout",
     "output_type": "stream",
     "text": [
      "JD 2203 and 638 has similarity of 1.0. Please check for duplication\n",
      "specialist, d.c site operations dnh -- capita pte ltd - engineering -- 2020-11-19 00:00:00 -- responsibility work rotate shift support datum centre onsite operation critical facility strong desi\n",
      "specialist, d.c site operations dnh -- capita pte ltd - engineering -- 2020-11-13 00:00:00 -- responsibility work rotate shift support datum centre onsite operation critical facility strong desi\n",
      "\n",
      "\n"
     ]
    },
    {
     "name": "stderr",
     "output_type": "stream",
     "text": [
      "2212it [13:01,  2.02it/s]"
     ]
    },
    {
     "name": "stdout",
     "output_type": "stream",
     "text": [
      "JD 2211 and 2775 has similarity of 1.0. Please check for duplication\n",
      "preschool reading & writing teacher -- mindchamps preschool @ buangkok pte ltd -- 2020-11-23 00:00:00 -- roles responsibilities join dream team discover champion you mindchampion leader join premium presch\n",
      "preschool reading & writing teacher -- mindchamps preschool @ marina square pte ltd -- 2020-11-23 00:00:00 -- roles responsibilities join dream team discover champion you mindchampion leader join premium presch\n",
      "\n",
      "\n"
     ]
    },
    {
     "name": "stderr",
     "output_type": "stream",
     "text": [
      "2222it [13:06,  2.54it/s]"
     ]
    },
    {
     "name": "stdout",
     "output_type": "stream",
     "text": [
      "JD 2222 and 225 has similarity of 1.0. Please check for duplication\n",
      "corporate sales executive -- oom pte ltd -- 2020-11-19 00:00:00 -- role statement corporate sale hunter role require acquire new client digital marketing solution basi\n",
      "corporate sales executive -- oom pte ltd -- 2020-11-10 00:00:00 -- role statement corporate sale hunter role require acquire new client digital marketing solution basi\n",
      "\n",
      "\n"
     ]
    },
    {
     "name": "stderr",
     "output_type": "stream",
     "text": [
      "2324it [13:41,  2.92it/s]"
     ]
    },
    {
     "name": "stdout",
     "output_type": "stream",
     "text": [
      "JD 2323 and 2354 has similarity of 1.0. Please check for duplication\n",
      "it support engineer | no experience is required | salary from to -- primestaff management services pte ltd -- 2020-11-26 00:00:00 -- responsibility maintain support laptop desktop provide level troubleshoot wireless printer scanner i\n",
      "it support engineer | no experience is required | salary from to -- primestaff management services pte ltd -- 2020-11-21 00:00:00 -- responsibility maintain support laptop desktop provide level troubleshoot wireless printer scanner i\n",
      "\n",
      "\n"
     ]
    },
    {
     "name": "stderr",
     "output_type": "stream",
     "text": [
      "2492it [14:39,  2.36it/s]"
     ]
    },
    {
     "name": "stdout",
     "output_type": "stream",
     "text": [
      "JD 2491 and 2823 has similarity of 1.0. Please check for duplication\n",
      "toolmaker -- recruit expert pte ltd -- 2020-11-26 00:00:00 -- roles responsibilities responsibility responsible perform assembly debug press tool requirement min \n",
      "toolmaker -- recruit expert pte ltd -- 2020-11-19 00:00:00 -- roles responsibilities responsibility responsible perform assembly debug press tool requirement min \n",
      "\n",
      "\n"
     ]
    },
    {
     "name": "stderr",
     "output_type": "stream",
     "text": [
      "2556it [15:02,  3.62it/s]"
     ]
    },
    {
     "name": "stdout",
     "output_type": "stream",
     "text": [
      "JD 2556 and 336 has similarity of 1.0. Please check for duplication\n",
      "hr manager / east / -- capita pte ltd - business support 2 -- 2020-11-15 00:00:00 -- job descriptionresponsible spectrum human resource function include manpower planning recruitment se\n",
      "hr manager / east / -- capita pte ltd - business support 2 -- 2020-11-09 00:00:00 -- job descriptionresponsible spectrum human resource function include manpower planning recruitment se\n",
      "\n",
      "\n"
     ]
    },
    {
     "name": "stderr",
     "output_type": "stream",
     "text": [
      "2736it [16:06,  3.47it/s]"
     ]
    },
    {
     "name": "stdout",
     "output_type": "stream",
     "text": [
      "JD 2736 and 1498 has similarity of 1.0. Please check for duplication\n",
      "order management team lead , -- recruit express pte ltd -- 2020-11-14 00:00:00 -- responsibility elevate service consumer maximize inventory productivity collaboration external inter\n",
      "regional order fulfillment executive , -- recruit express pte ltd -- 2020-11-09 00:00:00 -- responsibility elevate service consumer maximize inventory productivity collaboration external inter\n",
      "\n",
      "\n"
     ]
    },
    {
     "name": "stderr",
     "output_type": "stream",
     "text": [
      "2776it [16:21,  2.13it/s]"
     ]
    },
    {
     "name": "stdout",
     "output_type": "stream",
     "text": [
      "JD 2775 and 2211 has similarity of 1.0. Please check for duplication\n",
      "preschool reading & writing teacher -- mindchamps preschool @ marina square pte ltd -- 2020-11-23 00:00:00 -- roles responsibilities join dream team discover champion you mindchampion leader join premium presch\n",
      "preschool reading & writing teacher -- mindchamps preschool @ buangkok pte ltd -- 2020-11-23 00:00:00 -- roles responsibilities join dream team discover champion you mindchampion leader join premium presch\n",
      "\n",
      "\n"
     ]
    },
    {
     "name": "stderr",
     "output_type": "stream",
     "text": [
      "2779it [16:22,  2.30it/s]"
     ]
    },
    {
     "name": "stdout",
     "output_type": "stream",
     "text": [
      "JD 2778 and 2861 has similarity of 1.0. Please check for duplication\n",
      "gross armed officer certis group -- confidential -- 2020-11-21 00:00:00 -- armed auxiliary police officers bonus gross auxiliary police officer train handle wide range securit\n",
      "gross direct entry cpl/sgt whatsapp certis group -- confidential -- 2020-11-12 00:00:00 -- armed auxiliary police officers bonus gross auxiliary police officer train handle wide range securit\n",
      "\n",
      "\n"
     ]
    },
    {
     "name": "stderr",
     "output_type": "stream",
     "text": [
      "2883it [16:58,  2.54it/s]"
     ]
    },
    {
     "name": "stdout",
     "output_type": "stream",
     "text": [
      "JD 2882 and 2192 has similarity of 1.0. Please check for duplication\n",
      "process engineer -- koch industries, inc -- 2020-11-19 00:00:00 -- description rolebe responsible pre order evaluation design estimation technical solution meet custom\n",
      "process engineer -- koch industries, inc -- 2020-11-11 00:00:00 -- description rolebe responsible pre order evaluation design estimation technical solution meet custom\n",
      "\n",
      "\n"
     ]
    },
    {
     "name": "stderr",
     "output_type": "stream",
     "text": [
      "2945it [17:20,  2.52it/s]"
     ]
    },
    {
     "name": "stdout",
     "output_type": "stream",
     "text": [
      "JD 2944 and 1303 has similarity of 0.9993797209339046. Please check for duplication\n",
      "engineer -- ncs -- 2020-11-18 00:00:00 -- ncs lead information communication technology ict communication engineering service provider asia pa\n",
      "consultant, systems -- ncs -- 2020-11-18 00:00:00 -- ncs lead information communication technology ict communication engineering service provider asia pa\n",
      "\n",
      "\n"
     ]
    },
    {
     "name": "stderr",
     "output_type": "stream",
     "text": [
      "2971it [17:29,  3.16it/s]"
     ]
    },
    {
     "name": "stdout",
     "output_type": "stream",
     "text": [
      "JD 2970 and 2279 has similarity of 1.0. Please check for duplication\n",
      "qc inspector -- persol singapore (a division of capita pte ltd) -- 2020-11-19 00:00:00 -- well establish mnc company look talent quality control technician otj provide job responsibility per\n",
      "qc inspector -- persol singapore (a division of capita pte ltd) -- 2020-11-13 00:00:00 -- well establish mnc company look talent quality control technician otj provide job responsibility per\n",
      "\n",
      "\n"
     ]
    },
    {
     "name": "stderr",
     "output_type": "stream",
     "text": [
      "3000it [17:40,  2.83it/s]\n"
     ]
    }
   ],
   "source": [
    "# # THIS CODE WORK BUT TAKE 18 minutes to run\n",
    "\n",
    "# def get_difference(date1, date2):\n",
    "#     delta = date2 - date1\n",
    "#     return delta.days\n",
    "\n",
    "# for index, row in tqdm(df.iterrows()):\n",
    "#     main_index = index\n",
    "#     main_job_title  = row['job_title']\n",
    "#     main_company_name = row['company_name']\n",
    "#     main_date_posted = row['date_posted']\n",
    "#     main_jd = row['job_description']\n",
    "#     main_jd_nlp = nlp(main_jd)\n",
    "#     for index_2, row_2 in df.iterrows():\n",
    "#         if main_index != index_2:\n",
    "#             another_date_posted = row_2['date_posted']\n",
    "#             ### only look at postings that have been posted within the last 15 days\n",
    "#             if get_difference(main_date_posted,another_date_posted) < 1:\n",
    "#                 if get_difference(main_date_posted,another_date_posted) > -15:\n",
    "                    \n",
    "#                     another_jd = row_2['job_description']\n",
    "                    \n",
    "#                     if abs(len(main_jd)-len(another_jd)) < 0.01*len(main_jd): \n",
    "     \n",
    "#                         another_jd_nlp = nlp(another_jd)\n",
    "        \n",
    "#                         if main_jd_nlp.similarity(another_jd_nlp) > 0.995:\n",
    "            \n",
    "#                             another_job_title = row_2['job_title']\n",
    "#                             another_company_name = row_2['company_name']\n",
    "                        \n",
    "#                             print(f\"JD {index} and {index_2} has similarity of {main_jd_nlp.similarity(another_jd_nlp)}. Please check for duplication\")\n",
    "#                             print(main_job_title,'--', main_company_name,'--',main_date_posted,'--', main_jd[0:100])\n",
    "#                             print(another_job_title,'--', another_company_name,'--', another_date_posted,'--',another_jd[0:100])\n",
    "#                             print(f\"\\n\")"
   ]
  },
  {
   "attachments": {},
   "cell_type": "markdown",
   "id": "1685652b",
   "metadata": {},
   "source": []
  },
  {
   "cell_type": "markdown",
   "id": "f0c20041",
   "metadata": {},
   "source": [
    "### All job tops key words"
   ]
  },
  {
   "cell_type": "code",
   "execution_count": 57,
   "id": "d08b38d8",
   "metadata": {},
   "outputs": [],
   "source": [
    "## Functions to generate 2-grams, 3-grams, and 4-grams words.\n",
    "def generate_2_grams(text,ngram=2):\n",
    "    words=[word for word in text.split(\" \")]\n",
    "    temp = zip(*[words[i:] for i in range(0,ngram)])\n",
    "    ans=['_'.join(ngram) for ngram in temp]\n",
    "    return ' '.join(ans)\n",
    "\n",
    "def generate_3_grams(text,ngram=3):\n",
    "    words=[word for word in text.split(\" \")]\n",
    "    temp = zip(*[words[i:] for i in range(0,ngram)])\n",
    "    ans=['_'.join(ngram) for ngram in temp]\n",
    "    return ' '.join(ans)\n",
    "\n",
    "def generate_4_grams(text,ngram=4):\n",
    "    words=[word for word in text.split(\" \")]\n",
    "    temp = zip(*[words[i:] for i in range(0,ngram)])\n",
    "    ans=['_'.join(ngram) for ngram in temp]\n",
    "    return ' '.join(ans)\n"
   ]
  },
  {
   "cell_type": "code",
   "execution_count": 58,
   "id": "0f9c3aaa",
   "metadata": {},
   "outputs": [
    {
     "data": {
      "text/plain": [
       "[('work', 5508),\n",
       " ('experience', 5133),\n",
       " ('team', 3616),\n",
       " ('management', 2994),\n",
       " ('skill', 2835),\n",
       " ('business', 2767),\n",
       " ('project', 2602),\n",
       " ('ensure', 2539),\n",
       " ('support', 2495),\n",
       " ('customer', 2468),\n",
       " ('job', 2458),\n",
       " ('good', 2359),\n",
       " ('requirement', 2278),\n",
       " ('provide', 2231),\n",
       " ('service', 2172),\n",
       " ('year', 2154),\n",
       " ('candidate', 1911),\n",
       " ('system', 1875),\n",
       " ('process', 1846),\n",
       " ('development', 1738),\n",
       " ('product', 1719),\n",
       " ('include', 1690),\n",
       " ('manage', 1690),\n",
       " ('able', 1686),\n",
       " ('knowledge', 1684),\n",
       " ('client', 1667),\n",
       " ('application', 1598),\n",
       " ('responsibility', 1566),\n",
       " ('communication', 1552),\n",
       " ('strong', 1478),\n",
       " ('design', 1461),\n",
       " ('develop', 1454),\n",
       " ('relate', 1340),\n",
       " ('require', 1339),\n",
       " ('new', 1338),\n",
       " ('report', 1304),\n",
       " ('apply', 1298),\n",
       " ('ability', 1289),\n",
       " ('company', 1276),\n",
       " ('technology', 1264),\n",
       " ('degree', 1247),\n",
       " ('datum', 1244),\n",
       " ('relevant', 1196),\n",
       " ('perform', 1195),\n",
       " ('maintain', 1192),\n",
       " ('responsibilities', 1182),\n",
       " ('s', 1175),\n",
       " ('resume', 1171),\n",
       " ('technical', 1155),\n",
       " ('assist', 1154)]"
      ]
     },
     "execution_count": 58,
     "metadata": {},
     "output_type": "execute_result"
    }
   ],
   "source": [
    "frequency_counter(df['job_description'],50)"
   ]
  },
  {
   "cell_type": "code",
   "execution_count": 59,
   "id": "b385cc44",
   "metadata": {},
   "outputs": [
    {
     "data": {
      "text/plain": [
       "[('roles_responsibilities', 940),\n",
       " ('communication_skill', 702),\n",
       " ('able_work', 563),\n",
       " ('year_experience', 558),\n",
       " ('work_experience', 535),\n",
       " ('and_or', 523),\n",
       " ('pte_ltd', 490),\n",
       " ('team_player', 465),\n",
       " ('minimum_year', 433),\n",
       " ('shortlist_candidate', 417),\n",
       " ('job_description', 406),\n",
       " ('ad_hoc', 395),\n",
       " ('work_closely', 393),\n",
       " ('year_relevant', 389),\n",
       " ('customer_service', 377),\n",
       " ('interpersonal_skill', 369),\n",
       " ('candidate_notify', 358),\n",
       " ('e_g', 354),\n",
       " ('duty_assign', 345),\n",
       " ('interested_candidate', 318),\n",
       " ('work_independently', 314),\n",
       " ('relevant_experience', 303),\n",
       " ('project_management', 277),\n",
       " ('computer_science', 270),\n",
       " ('problem_solve', 270),\n",
       " ('good_communication', 262),\n",
       " ('fast_pace', 257),\n",
       " ('add_advantage', 251),\n",
       " ('job_requirements', 251),\n",
       " ('ability_work', 247),\n",
       " ('update_resume', 246),\n",
       " ('job_requirement', 245),\n",
       " ('license_no', 243),\n",
       " ('interested_applicant', 242),\n",
       " ('internal_external', 242),\n",
       " ('working_experience', 242),\n",
       " ('ea_license', 236),\n",
       " ('ms_word', 236),\n",
       " ('relate_field', 234),\n",
       " ('skill_ability', 234),\n",
       " ('resume_ms', 227),\n",
       " ('year_work', 227),\n",
       " ('regret_shortlist', 224),\n",
       " ('word_format', 219),\n",
       " ('hand_on', 210),\n",
       " ('microsoft_office', 205),\n",
       " ('candidate_possess', 200),\n",
       " ('hoc_duty', 199),\n",
       " ('reg_no', 196),\n",
       " ('communication_interpersonal', 192)]"
      ]
     },
     "execution_count": 59,
     "metadata": {},
     "output_type": "execute_result"
    }
   ],
   "source": [
    "frequency_counter(df['job_description'].map(generate_2_grams),50)"
   ]
  },
  {
   "cell_type": "code",
   "execution_count": 60,
   "id": "14bd34c2",
   "metadata": {},
   "outputs": [
    {
     "data": {
      "text/plain": [
       "[('shortlist_candidate_notify', 317),\n",
       " ('year_work_experience', 221),\n",
       " ('regret_shortlist_candidate', 204),\n",
       " ('ad_hoc_duty', 198),\n",
       " ('year_relevant_experience', 191),\n",
       " ('pte_ltd_ea', 186),\n",
       " ('resume_ms_word', 180),\n",
       " ('able_work_independently', 177),\n",
       " ('communication_interpersonal_skill', 175),\n",
       " ('fast_pace_environment', 169),\n",
       " ('ms_word_format', 168),\n",
       " ('roles_responsibilities_job', 163),\n",
       " ('ea_license_no', 159),\n",
       " ('bachelor_s_degree', 137),\n",
       " ('problem_solve_skill', 137),\n",
       " ('interpersonal_communication_skill', 134),\n",
       " ('hoc_duty_assign', 134),\n",
       " ('roles_responsibilities_responsibility', 127),\n",
       " ('minimum_year_experience', 127),\n",
       " ('relevant_working_experience', 126),\n",
       " ('good_communication_skill', 123),\n",
       " ('day_work_week', 120),\n",
       " ('express_pte_ltd', 118),\n",
       " ('write_communication_skill', 116),\n",
       " ('recruit_express_pte', 110),\n",
       " ('year_relevant_working', 110),\n",
       " ('hand_on_experience', 110),\n",
       " ('update_resume_ms', 106),\n",
       " ('minimum_year_relevant', 105),\n",
       " ('degree_computer_science', 105),\n",
       " ('candidate_wish_apply', 103),\n",
       " ('current_expect_salary', 102),\n",
       " ('interested_candidate_wish', 100),\n",
       " ('click_apply_now', 100),\n",
       " ('update_copy_resume', 99),\n",
       " ('email_update_copy', 97),\n",
       " ('work_fast_pace', 95),\n",
       " ('day_to_day', 95),\n",
       " ('responsibilities_job_description', 94),\n",
       " ('end_to_end', 93),\n",
       " ('wish_apply_advertised', 92),\n",
       " ('apply_advertised_position', 92),\n",
       " ('regret_inform_shortlist', 92),\n",
       " ('experience_relate_field', 91),\n",
       " ('proficient_microsoft_office', 91),\n",
       " ('good_team_player', 88),\n",
       " ('inform_shortlist_candidate', 87),\n",
       " ('good_communication_interpersonal', 87),\n",
       " ('ltd_ea_license', 85),\n",
       " ('work_experience_relate', 84)]"
      ]
     },
     "execution_count": 60,
     "metadata": {},
     "output_type": "execute_result"
    }
   ],
   "source": [
    "frequency_counter(df['job_description'].map(generate_3_grams),50)"
   ]
  },
  {
   "cell_type": "code",
   "execution_count": 61,
   "id": "b58fba56",
   "metadata": {},
   "outputs": [
    {
     "data": {
      "text/plain": [
       "[('regret_shortlist_candidate_notify', 161),\n",
       " ('resume_ms_word_format', 138),\n",
       " ('ad_hoc_duty_assign', 134),\n",
       " ('year_relevant_working_experience', 107),\n",
       " ('interested_candidate_wish_apply', 99),\n",
       " ('recruit_express_pte_ltd', 99),\n",
       " ('email_update_copy_resume', 97),\n",
       " ('roles_responsibilities_job_description', 94),\n",
       " ('wish_apply_advertised_position', 92),\n",
       " ('candidate_wish_apply_advertised', 86),\n",
       " ('pte_ltd_ea_license', 85),\n",
       " ('regret_inform_shortlist_candidate', 85),\n",
       " ('good_communication_interpersonal_skill', 85),\n",
       " ('work_experience_relate_field', 80),\n",
       " ('update_resume_ms_word', 74),\n",
       " ('express_pte_ltd_ea', 72),\n",
       " ('work_fast_pace_environment', 68),\n",
       " ('pte_ltd_ea_licence', 67),\n",
       " ('inform_shortlist_candidate_notify', 66),\n",
       " ('write_verbal_communication_skill', 65),\n",
       " ('good_interpersonal_communication_skill', 63),\n",
       " ('datum_and_or_resume', 63),\n",
       " ('personal_datum_and_or', 62),\n",
       " ('minimum_year_work_experience', 59),\n",
       " ('diploma_advanced_high_graduate', 58),\n",
       " ('we_regret_shortlist_candidate', 58),\n",
       " ('ltd_ea_license_no', 58),\n",
       " ('update_copy_resume_attn', 58),\n",
       " ('experience_relate_field_require', 57),\n",
       " ('relate_field_require_position', 56),\n",
       " ('analytical_problem_solve_skill', 56),\n",
       " ('verbal_write_communication_skill', 56),\n",
       " ('minimum_year_relevant_experience', 55),\n",
       " ('alternatively_email_update_copy', 53),\n",
       " ('apply_advertised_position_click', 52),\n",
       " ('advertised_position_click_apply', 52),\n",
       " ('advanced_high_graduate_diploma', 51),\n",
       " ('position_click_apply_now', 51),\n",
       " ('ltd_ea_licence_no', 49),\n",
       " ('collection_use_disclosure_personal', 47),\n",
       " ('use_disclosure_personal_datum', 47),\n",
       " ('degree_post_graduate_diploma', 47),\n",
       " ('computer_science_information_technology', 47),\n",
       " ('post_graduate_diploma_professional', 46),\n",
       " ('pte_ltdea_license_no', 44),\n",
       " ('year_relevant_work_experience', 44),\n",
       " ('detailed_resume_ms_word', 44),\n",
       " ('graduate_diploma_professional_degree', 43),\n",
       " ('personal_data_protection_act', 42),\n",
       " ('current_expect_salary_reason', 41)]"
      ]
     },
     "execution_count": 61,
     "metadata": {},
     "output_type": "execute_result"
    }
   ],
   "source": [
    "frequency_counter(df['job_description'].map(generate_4_grams),50)"
   ]
  },
  {
   "cell_type": "code",
   "execution_count": 62,
   "id": "4854acbf",
   "metadata": {},
   "outputs": [
    {
     "name": "stdout",
     "output_type": "stream",
     "text": [
      "finance|financial|bank  ------>  99 posting(s)\n",
      "\n",
      "\n",
      "[('financial', 201), ('team', 185), ('business', 184), ('experience', 178), ('work', 166), ('management', 150), ('finance', 120), ('client', 119), ('requirement', 108), ('skill', 106), ('banking', 98), ('ensure', 96), ('singapore', 95), ('bank', 92), ('product', 91), ('support', 88), ('good', 86), ('accounting', 84), ('customer', 84), ('knowledge', 82), ('process', 80), ('ltd', 80), ('project', 79), ('provide', 77), ('year', 77), ('strong', 77), ('service', 76), ('job', 73), ('system', 71), ('development', 69), ('company', 68), ('report', 67), ('manage', 66), ('communication', 64), ('new', 63), ('ability', 63), ('include', 61), ('able', 60), ('review', 59), ('prepare', 59), ('responsibility', 56), ('assist', 56), ('group', 54), ('role', 54), ('lead', 54), ('technology', 54), ('account', 54), ('stakeholder', 53), ('datum', 53), ('investment', 53), ('degree', 52), ('candidate', 52), ('internal', 51), ('drive', 50), ('audit', 49), ('analysis', 49), ('develop', 49), ('pte', 48), ('manager', 47), ('relevant', 47), ('tax', 47), ('compliance', 47), ('s', 46), ('solution', 46), ('perform', 45), ('responsible', 43), ('asset', 42), ('relate', 42), ('responsibilities', 42), ('maintain', 42), ('require', 40), ('apply', 40), ('monthly', 39), ('environment', 39), ('understand', 38), ('function', 38), ('need', 38), ('industry', 38), ('end', 37), ('control', 36), ('requirements', 36), ('global', 36), ('digital', 36), ('design', 36), ('application', 36), ('minimum', 36), ('base', 35), ('insurance', 35), ('people', 34), ('market', 34), ('technical', 34), ('high', 34), ('corporate', 34), ('working', 33), ('possess', 33), ('level', 33), ('user', 33), ('excellent', 33), ('risk', 33), ('professional', 33)]\n",
      "\n",
      "\n",
      "[('pte_ltd', 44), ('communication_skill', 32), ('roles_responsibilities', 31), ('team_player', 30), ('able_work', 24), ('work_closely', 23), ('work_experience', 23), ('year_experience', 19), ('skill_ability', 18), ('year_relevant', 16), ('work_independently', 16), ('financial_service', 16), ('minimum_year', 16), ('internal_external', 16), ('ad_hoc', 15), ('job_description', 15), ('job_requirements', 15), ('interpersonal_skill', 15), ('asset_management', 15), ('dynamic_environment', 14), ('and_or', 14), ('singapore_pte', 14), ('problem_solve', 13), ('year_work', 13), ('offer_competitive', 13), ('benefit_package', 13), ('add_advantage', 13), ('duty_assign', 12), ('financial_services', 12), ('e_g', 12), ('hand_on', 12), ('competitive_salary', 12), ('salary_benefit', 12), ('package_professional', 12), ('professional_advantage', 12), ('advantage_dynamic', 12), ('environment_support', 12), ('support_development', 12), ('fast_pace', 12), ('finance_manager', 11), ('interpersonal_communication', 11), ('ability_work', 11), ('regulatory_requirement', 11), ('business_function', 11), ('technology_operations', 11), ('apply_offer', 11), ('development_recognise', 11), ('recognise_achievement', 11), ('good_knowledge', 11), ('communication_interpersonal', 11), ('project_management', 11), ('singapore_ltd', 11), ('interested_candidate', 11), ('ms_word', 11), ('management_report', 10), ('business_unit', 10), ('working_experience', 10), ('express_pte', 10), ('relevant_experience', 10), ('com_sg', 10), ('word_format', 10), ('financial_reporting', 9), ('internal_control', 9), ('degree_accountancy', 9), ('bank_s', 9), ('product_service', 9), ('accounting_standard', 9), ('skill_able', 9), ('function_group', 9), ('group_technology', 9), ('t_o', 9), ('business_requirement', 9), ('strong_analytical', 9), ('multi_task', 9), ('financial_planning', 9), ('ensure_compliance', 9), ('set_account', 9), ('customer_service', 9), ('prepare_monthly', 9), ('financial_markets', 9), ('finance_team', 8), ('min_year', 8), ('excel_powerpoint', 8), ('knowledge_financial', 8), ('licence_no', 8), ('process_improvement', 8), ('operations_t', 8), ('o_enable', 8), ('enable_empower', 8), ('empower_bank', 8), ('bank_efficient', 8), ('efficient_nimble', 8), ('nimble_resilient', 8), ('resilient_infrastructure', 8), ('infrastructure_strategic', 8), ('strategic_focus', 8), ('focus_productivity', 8), ('productivity_quality', 8), ('quality_control', 8), ('control_technology', 8)]\n",
      "\n",
      "\n",
      "[('year_work_experience', 13), ('singapore_pte_ltd', 13), ('able_work_independently', 12), ('offer_competitive_salary', 12), ('competitive_salary_benefit', 12), ('salary_benefit_package', 12), ('benefit_package_professional', 12), ('package_professional_advantage', 12), ('professional_advantage_dynamic', 12), ('advantage_dynamic_environment', 12), ('dynamic_environment_support', 12), ('environment_support_development', 12), ('apply_offer_competitive', 11), ('support_development_recognise', 11), ('development_recognise_achievement', 11), ('business_function_group', 9), ('group_technology_operations', 9), ('communication_interpersonal_skill', 9), ('interpersonal_communication_skill', 8), ('function_group_technology', 8), ('technology_operations_t', 8), ('operations_t_o', 8), ('t_o_enable', 8), ('o_enable_empower', 8), ('enable_empower_bank', 8), ('empower_bank_efficient', 8), ('bank_efficient_nimble', 8), ('efficient_nimble_resilient', 8), ('nimble_resilient_infrastructure', 8), ('resilient_infrastructure_strategic', 8), ('infrastructure_strategic_focus', 8), ('strategic_focus_productivity', 8), ('focus_productivity_quality', 8), ('productivity_quality_control', 8), ('quality_control_technology', 8), ('control_technology_people', 8), ('technology_people_capability', 8), ('people_capability_innovation', 8), ('recruit_express_pte', 8), ('pte_ltd_ea', 8), ('ms_word_format', 8), ('roles_responsibilities_job', 7), ('year_relevant_experience', 7), ('minimum_year_experience', 7), ('express_pte_ltd', 7), ('compliance_accounting_standard', 7), ('hand_on_experience', 6), ('multi_task_work', 6), ('bachelor_s_degree', 6), ('mizuho_bank_ltd', 6), ('insurance_pte_ltd', 6), ('fast_pace_environment', 6), ('team_player_good', 6), ('communication_skill_ability', 6), ('ad_hoc_duty', 5), ('relevant_working_experience', 5), ('strong_analytical_skill', 5), ('write_verbal_communication', 5), ('insurance_singapore_pte', 5), ('capability_innovation_responsibility', 5), ('able_multi_task', 5), ('problem_solve_skill', 5), ('strong_team_player', 5), ('end_to_end', 5), ('internal_external_stakeholder', 5), ('resume_ms_word', 5), ('recruitexpress_com_sg', 5), ('interested_candidate_email', 5), ('hoc_duty_assign', 4), ('year_relevant_working', 4), ('good_team_player', 4), ('shortlist_candidate_notify', 4), ('excellent_interpersonal_communication', 4), ('write_communication_skill', 4), ('responsibilities_job_description', 4), ('ability_multi_task', 4), ('work_fast_pace', 4), ('fast_pace_dynamic', 4), ('united_overseas_bank', 4), ('overseas_bank_limited', 4), ('bank_limited_uob', 4), ('strong_communication_interpersonal', 4), ('management_report_assist', 4), ('asset_management_singapore', 4), ('add_advantage_proficient', 4), ('add_advantage_good', 4), ('assign_job_requirements', 4), ('job_requirements_minimum', 4), ('proficient_ms_office', 4), ('include_limit_to', 4), ('excellent_write_verbal', 4), ('verbal_communication_skill', 4), ('proficient_microsoft_office', 4), ('ea_license_no', 4), ('assist_svp_ia', 4), ('internal_audit_division', 4), ('candidate_email_resume', 4), ('external_auditor_tax', 4), ('non_compliance_accounting', 4), ('able_use_maintain', 4)]\n",
      "\n",
      "\n",
      "[('offer_competitive_salary_benefit', 12), ('competitive_salary_benefit_package', 12), ('salary_benefit_package_professional', 12), ('benefit_package_professional_advantage', 12), ('package_professional_advantage_dynamic', 12), ('professional_advantage_dynamic_environment', 12), ('advantage_dynamic_environment_support', 12), ('dynamic_environment_support_development', 12), ('apply_offer_competitive_salary', 11), ('environment_support_development_recognise', 11), ('support_development_recognise_achievement', 11), ('business_function_group_technology', 8), ('function_group_technology_operations', 8), ('group_technology_operations_t', 8), ('technology_operations_t_o', 8), ('operations_t_o_enable', 8), ('t_o_enable_empower', 8), ('o_enable_empower_bank', 8), ('enable_empower_bank_efficient', 8), ('empower_bank_efficient_nimble', 8), ('bank_efficient_nimble_resilient', 8), ('efficient_nimble_resilient_infrastructure', 8), ('nimble_resilient_infrastructure_strategic', 8), ('resilient_infrastructure_strategic_focus', 8), ('infrastructure_strategic_focus_productivity', 8), ('strategic_focus_productivity_quality', 8), ('focus_productivity_quality_control', 8), ('productivity_quality_control_technology', 8), ('quality_control_technology_people', 8), ('control_technology_people_capability', 8), ('technology_people_capability_innovation', 8), ('recruit_express_pte_ltd', 7), ('express_pte_ltd_ea', 7), ('insurance_singapore_pte_ltd', 5), ('people_capability_innovation_responsibility', 5), ('resume_ms_word_format', 5), ('ad_hoc_duty_assign', 4), ('year_relevant_working_experience', 4), ('roles_responsibilities_job_description', 4), ('united_overseas_bank_limited', 4), ('overseas_bank_limited_uob', 4), ('strong_communication_interpersonal_skill', 4), ('excellent_write_verbal_communication', 4), ('write_verbal_communication_skill', 4), ('interested_candidate_email_resume', 4), ('non_compliance_accounting_standard', 4), ('equivalent_year_relevant_working', 3), ('global_consumer_financial_services', 3), ('excellent_verbal_write_communication', 3), ('ability_multi_task_work', 3), ('degree_year_relevant_experience', 3), ('communication_interpersonal_skill_ability', 3), ('financial_advisory_firm_singapore', 3), ('asset_management_asia_ltd', 3), ('asset_management_singapore_ltd', 3), ('duty_assign_job_requirements', 3), ('assign_job_requirements_minimum', 3), ('add_advantage_good_knowledge', 3), ('advantage_good_knowledge_accounting', 3), ('pte_ltd_ea_licence', 3), ('excellent_interpersonal_communication_skill', 3), ('pte_ltd_ea_license', 3), ('work_experience_relate_field', 3), ('proficient_microsoft_office_application', 3), ('candidate_email_resume_ms', 3), ('email_resume_ms_word', 3), ('interested_applicant_please_forward', 3), ('applicant_please_forward_copy', 3), ('please_forward_copy_resume', 3), ('forward_copy_resume_emailprotecte', 3), ('copy_resume_emailprotecte_chang', 3), ('resume_emailprotecte_chang_wei', 3), ('emailprotecte_chang_wei_chieh', 3), ('chang_wei_chieh_amber', 3), ('wei_chieh_amber_pte', 3), ('chieh_amber_pte_ltd', 3), ('amber_pte_ltd_e', 3), ('pte_ltd_e_a', 3), ('you_will_need_succeed', 3), ('able_multi_task_work', 3), ('material_non_compliance_accounting', 3), ('accountancy_equivalent_year_relevant', 2), ('self_drive_able_work', 2), ('good_interpersonal_communication_skill', 2), ('proficient_microsoft_excel_powerpoint', 2), ('in_depth_knowledge_financial', 2), ('investment_banking_equity_research', 2), ('formulate_implement_new_valuation', 2), ('implement_new_valuation_adjustment', 2), ('new_valuation_adjustment_methodology', 2), ('verbal_write_communication_skill', 2), ('skill_apply_offer_competitive', 2), ('emailprotecte_recruit_express_pte', 2), ('express_pte_ltdea_licence', 2), ('pte_ltdea_licence_no', 2), ('minimum_year_work_experience', 2), ('year_work_experience_experience', 2), ('candidate_prior_work_experience', 2), ('multi_task_work_fast', 2), ('task_work_fast_pace', 2)]\n",
      "\n",
      "\n",
      "marketing|market|sales  ------>  199 posting(s)\n",
      "\n",
      "\n",
      "[('sale', 450), ('marketing', 391), ('customer', 353), ('work', 316), ('experience', 285), ('business', 230), ('team', 226), ('product', 199), ('skill', 191), ('client', 188), ('market', 172), ('good', 167), ('job', 161), ('new', 153), ('service', 153), ('provide', 149), ('manage', 147), ('communication', 137), ('candidate', 134), ('support', 131), ('develop', 128), ('management', 125), ('ensure', 122), ('lead', 116), ('year', 116), ('sales', 114), ('able', 109), ('digital', 107), ('company', 107), ('requirement', 102), ('industry', 98), ('social', 98), ('maintain', 97), ('strong', 96), ('responsibility', 95), ('strategy', 95), ('plan', 90), ('report', 90), ('relationship', 90), ('knowledge', 89), ('diploma', 87), ('target', 87), ('need', 87), ('require', 87), ('medium', 85), ('content', 84), ('brand', 84), ('excellent', 84), ('time', 84), ('drive', 84), ('development', 83), ('email', 82), ('platform', 82), ('relate', 79), ('include', 79), ('campaign', 78), ('apply', 78), ('opportunity', 76), ('project', 76), ('order', 75), ('degree', 74), ('manager', 74), ('activity', 74), ('resume', 73), ('position', 72), ('working', 71), ('high', 71), ('assist', 70), ('build', 70), ('information', 70), ('assign', 68), ('performance', 68), ('level', 67), ('ability', 67), ('office', 67), ('requirements', 66), ('event', 66), ('role', 66), ('account', 64), ('s', 63), ('environment', 63), ('responsible', 62), ('design', 62), ('training', 60), ('duty', 60), ('singapore', 59), ('possess', 59), ('key', 59), ('to', 59), ('responsibilities', 59), ('presentation', 59), ('day', 58), ('identify', 57), ('relevant', 57), ('career', 56), ('achieve', 56), ('look', 56), ('no', 55), ('understand', 55), ('application', 55)]\n",
      "\n",
      "\n",
      "[('digital_marketing', 68), ('customer_service', 58), ('social_medium', 55), ('roles_responsibilities', 47), ('able_work', 37), ('communication_skill', 33), ('work_closely', 33), ('sale_target', 33), ('interpersonal_skill', 31), ('and_or', 31), ('work_experience', 31), ('year_experience', 30), ('social_media', 28), ('ad_hoc', 28), ('shortlist_candidate', 27), ('duty_assign', 25), ('marketing_campaign', 25), ('candidate_notify', 25), ('job_description', 23), ('pte_ltd', 23), ('candidate_possess', 23), ('regret_shortlist', 23), ('fast_pace', 23), ('job_requirements', 22), ('business_development', 22), ('diploma_degree', 21), ('team_player', 21), ('track_record', 21), ('marketing_strategy', 20), ('communication_interpersonal', 20), ('training_provide', 20), ('new_product', 19), ('job_scope', 19), ('pace_environment', 19), ('add_advantage', 18), ('hoc_duty', 18), ('full_time', 18), ('minimum_year', 18), ('sale_team', 17), ('good_communication', 17), ('resume_ms', 17), ('ability_work', 17), ('update_resume', 17), ('relate_field', 16), ('graduate_diploma', 16), ('day_work', 16), ('requirement_minimum', 16), ('excellent_customer', 16), ('develop_new', 16), ('achieve_sale', 16), ('job_responsibility', 15), ('interested_applicant', 15), ('ms_word', 15), ('word_format', 15), ('excellent_communication', 15), ('sale_marketing', 15), ('year_relevant', 15), ('internal_external', 15), ('new_account', 14), ('ltd_ea', 14), ('working_hour', 14), ('degree_marketing', 14), ('ea_license', 14), ('minimum_diploma', 14), ('interested_candidate', 14), ('marketing_activity', 14), ('sales_manager', 14), ('market_segment', 14), ('sales_marketing', 14), ('asia_pacific', 14), ('product_service', 14), ('interior_design', 14), ('customer_need', 14), ('marketing_executive', 13), ('skill_good', 13), ('problem_solve', 13), ('work_fast', 13), ('high_level', 13), ('year_work', 13), ('marketing_team', 13), ('new_business', 13), ('part_time', 13), ('market_share', 12), ('provide_support', 12), ('licence_no', 12), ('marketing_business', 12), ('career_progression', 12), ('medium_platform', 12), ('english_mandarin', 12), ('license_no', 12), ('sale_performance', 12), ('possess_diploma', 12), ('work_independently', 12), ('new_client', 12), ('write_verbal', 12), ('sale_experience', 12), ('skill_ability', 12), ('long_term', 12), ('microsoft_office', 12), ('project_management', 12)]\n",
      "\n",
      "\n",
      "[('shortlist_candidate_notify', 22), ('regret_shortlist_candidate', 21), ('fast_pace_environment', 19), ('communication_interpersonal_skill', 18), ('ad_hoc_duty', 18), ('hoc_duty_assign', 16), ('pte_ltd_ea', 14), ('excellent_customer_service', 14), ('resume_ms_word', 13), ('year_work_experience', 13), ('social_medium_platform', 12), ('work_fast_pace', 12), ('achieve_sale_target', 11), ('ms_word_format', 10), ('day_work_week', 10), ('requirement_minimum_diploma', 10), ('candidate_possess_diploma', 10), ('digital_marketing_campaign', 10), ('ltd_ea_license', 9), ('excellent_communication_interpersonal', 9), ('diploma_advanced_high', 9), ('advanced_high_graduate', 9), ('able_work_independently', 9), ('interpersonal_communication_skill', 9), ('requirement_candidate_possess', 8), ('roles_responsibilities_job', 8), ('up_to_date', 8), ('high_graduate_diploma', 8), ('write_communication_skill', 8), ('services_development_team', 8), ('personal_datum_and', 8), ('datum_and_or', 8), ('and_or_resume', 8), ('experience_digital_marketing', 8), ('recruit_express_pte', 7), ('email_detailed_resume', 7), ('day_to_day', 7), ('bachelor_s_degree', 7), ('post_graduate_diploma', 7), ('social_media_marketing', 7), ('able_work_fast', 7), ('excellent_write_verbal', 7), ('write_verbal_communication', 7), ('year_sale_experience', 7), ('emailprotecte_regret_shortlist', 7), ('long_term_relationship', 7), ('end_to_end', 7), ('problem_solve_skill', 7), ('minimum_year_experience', 7), ('good_communication_interpersonal', 7), ('update_resume_ms', 7), ('current_expect_salary', 7), ('meet_sale_target', 7), ('proficient_microsoft_office', 7), ('maintain_good_relationship', 7), ('express_pte_ltd', 6), ('digital_marketing_executive', 6), ('digital_marketing_strategy', 6), ('social_medium_presence', 6), ('good_communication_skill', 6), ('experience_relate_field', 6), ('preferably_junior_executive', 6), ('ea_license_no', 6), ('possess_diploma_advanced', 6), ('diploma_degree_marketing', 6), ('team_player_able', 6), ('we_regret_shortlist', 6), ('duty_assign_requirement', 6), ('develop_new_business', 6), ('internal_external_stakeholder', 6), ('liaise_mandarin_speak', 6), ('personal_information_prospective', 6), ('work_experience_relate', 6), ('year_relevant_experience', 6), ('singapore_malaysia_export', 6), ('clinical_area_product', 6), ('area_product_platform', 6), ('lazada_shopee_carousell', 6), ('shopee_carousell_platform', 6), ('relate_field_require', 5), ('head_student_recruitment', 5), ('requirements_candidate_possess', 5), ('degree_post_graduate', 5), ('graduate_diploma_professional', 5), ('diploma_professional_degree', 5), ('junior_executive_specialize', 5), ('good_customer_service', 5), ('duty_assign_requirements', 5), ('good_interpersonal_skill', 5), ('conduct_market_research', 5), ('relate_field_year', 5), ('shortlist_candidate_contact', 5), ('communication_skill_good', 5), ('social_medium_channel', 5), ('prove_track_record', 5), ('go_to_market', 5), ('communication_presentation_skill', 5), ('in_order_handle', 5), ('able_start_work', 5), ('recruitexpress_com_sg', 5)]\n",
      "\n",
      "\n",
      "[('regret_shortlist_candidate_notify', 17), ('ad_hoc_duty_assign', 16), ('resume_ms_word_format', 10), ('work_fast_pace_environment', 10), ('pte_ltd_ea_license', 9), ('diploma_advanced_high_graduate', 9), ('excellent_communication_interpersonal_skill', 8), ('advanced_high_graduate_diploma', 8), ('personal_datum_and_or', 8), ('datum_and_or_resume', 8), ('emailprotecte_regret_shortlist_candidate', 7), ('recruit_express_pte_ltd', 6), ('candidate_possess_diploma_advanced', 6), ('possess_diploma_advanced_high', 6), ('able_work_fast_pace', 6), ('excellent_write_verbal_communication', 6), ('we_regret_shortlist_candidate', 6), ('good_communication_interpersonal_skill', 6), ('clinical_area_product_platform', 6), ('lazada_shopee_carousell_platform', 6), ('experience_relate_field_require', 5), ('degree_post_graduate_diploma', 5), ('post_graduate_diploma_professional', 5), ('graduate_diploma_professional_degree', 5), ('preferably_junior_executive_specialize', 5), ('hoc_duty_assign_requirement', 5), ('provide_excellent_customer_service', 5), ('consented_collecting_use_retain', 5), ('work_experience_relate_field', 5), ('requirement_candidate_possess_diploma', 5), ('current_expect_salary_reason', 5), ('good_interpersonal_communication_skill', 5), ('assign_clinical_area_product', 5), ('express_pte_ltd_ea', 4), ('pte_ltd_ea_licence', 4), ('email_detailed_resume_ms', 4), ('detailed_resume_ms_word', 4), ('bachelor_s_degree_post', 4), ('s_degree_post_graduate', 4), ('hoc_duty_assign_requirements', 4), ('licence_no_regret_shortlist', 4), ('no_regret_shortlist_candidate', 4), ('regret_shortlist_candidate_contact', 4), ('united_overseas_bank_limited', 4), ('overseas_bank_limited_uob', 4), ('emailprotected_we_regret_shortlist', 4), ('ea_license_ea_personnel', 4), ('write_verbal_communication_skill', 4), ('partnership_services_development_team', 4), ('able_start_work_immediately', 4), ('ability_work_fast_pace', 4), ('submit_update_resume_ms', 4), ('update_resume_ms_format', 4), ('submit_personal_datum_and', 4), ('and_or_resume_consent', 4), ('or_resume_consent_collection', 4), ('resume_consent_collection_use', 4), ('consent_collection_use_disclosure', 4), ('collection_use_disclosure_personal', 4), ('use_disclosure_personal_datum', 4), ('disclosure_personal_datum_and', 4), ('and_or_resume_company', 4), ('purpose_processing_administration_company', 4), ('processing_administration_company_relate', 4), ('administration_company_relate_job', 4), ('company_relate_job_application', 4), ('customers_meet_office_appointment', 4), ('meet_office_appointment_fully', 4), ('training_provide_career_progression', 4), ('applications_enquiries_alvin_pay', 4), ('enquiries_alvin_pay_package', 4), ('alvin_pay_package_negotiated', 4), ('pay_package_negotiated_base', 4), ('package_negotiated_base_interviewing', 4), ('negotiated_base_interviewing_confidence', 4), ('base_interviewing_confidence_past', 4), ('interviewing_confidence_past_work', 4), ('confidence_past_work_experience', 4), ('past_work_experience_drawn', 4), ('work_experience_drawn_salary', 4), ('experience_drawn_salary_require', 4), ('prospected_customers_office_appointment', 4), ('customers_office_appointment_provide', 4), ('office_appointment_provide_job', 4), ('serve_customers_clients_office', 4), ('customers_clients_office_appointment', 4), ('clients_office_appointment_basis', 4), ('office_appointment_basis_explain', 4), ('appointment_basis_explain_enquiries', 4), ('basis_explain_enquiries_office', 4), ('explain_enquiries_office_show', 4), ('enquiries_office_show_customers', 4), ('office_show_customers_companys', 4), ('show_customers_companys_facilities', 4), ('customers_companys_facilities_sale', 4), ('companys_facilities_sale_event', 4), ('facilities_sale_event_presentation', 4), ('sale_event_presentation_maintain', 4), ('event_presentation_maintain_relationship', 4), ('presentation_maintain_relationship_existing', 4)]\n",
      "\n",
      "\n",
      "other  ------>  1125 posting(s)\n",
      "\n",
      "\n",
      "[('work', 2025), ('experience', 1662), ('team', 1166), ('skill', 977), ('management', 943), ('job', 933), ('ensure', 837), ('project', 833), ('good', 797), ('business', 783), ('support', 777), ('provide', 767), ('year', 737), ('service', 736), ('requirement', 730), ('candidate', 693), ('customer', 692), ('able', 622), ('client', 586), ('product', 584), ('include', 576), ('responsibility', 568), ('process', 566), ('communication', 531), ('development', 520), ('knowledge', 517), ('manage', 512), ('system', 510), ('design', 507), ('application', 496), ('apply', 491), ('responsibilities', 484), ('relate', 475), ('require', 473), ('company', 464), ('strong', 463), ('relevant', 450), ('ability', 440), ('perform', 436), ('develop', 430), ('s', 422), ('resume', 422), ('new', 421), ('research', 415), ('report', 411), ('time', 405), ('singapore', 405), ('environment', 400), ('roles', 397), ('maintain', 393), ('degree', 392), ('level', 391), ('assist', 391), ('technology', 390), ('role', 389), ('information', 385), ('security', 377), ('day', 370), ('duty', 369), ('operation', 369), ('office', 348), ('position', 347), ('need', 345), ('quality', 343), ('working', 339), ('lead', 330), ('technical', 327), ('diploma', 325), ('responsible', 320), ('solution', 320), ('conduct', 318), ('assign', 315), ('plan', 310), ('industry', 308), ('drive', 303), ('training', 298), ('high', 294), ('datum', 293), ('follow', 290), ('update', 289), ('sale', 288), ('opportunity', 284), ('possess', 284), ('risk', 284), ('minimum', 278), ('requirements', 277), ('standard', 274), ('no', 271), ('e', 268), ('activity', 266), ('issue', 266), ('excellent', 266), ('review', 263), ('etc', 261), ('delivery', 256), ('understand', 255), ('order', 255), ('safety', 250), ('write', 248), ('prepare', 247)]\n",
      "\n",
      "\n",
      "[('roles_responsibilities', 393), ('communication_skill', 235), ('able_work', 228), ('and_or', 201), ('year_experience', 180), ('work_experience', 171), ('team_player', 166), ('shortlist_candidate', 162), ('job_description', 155), ('pte_ltd', 151), ('minimum_year', 144), ('duty_assign', 141), ('year_relevant', 136), ('interpersonal_skill', 135), ('candidate_notify', 132), ('ad_hoc', 130), ('e_g', 128), ('work_closely', 122), ('work_independently', 118), ('relevant_experience', 117), ('customer_service', 103), ('interested_candidate', 101), ('job_requirement', 98), ('good_communication', 97), ('ability_work', 95), ('relate_field', 88), ('job_requirements', 86), ('fast_pace', 83), ('regret_shortlist', 83), ('responsibilities_job', 81), ('internal_external', 79), ('skill_ability', 78), ('update_resume', 78), ('project_management', 78), ('interested_applicant', 77), ('license_no', 76), ('add_advantage', 74), ('resume_ms', 73), ('ea_license', 72), ('communication_interpersonal', 72), ('hoc_duty', 72), ('working_experience', 72), ('ms_word', 72), ('problem_solve', 71), ('microsoft_office', 68), ('word_format', 68), ('working_hour', 67), ('job_responsibility', 66), ('risk_management', 66), ('year_work', 64), ('expect_salary', 63), ('team_member', 62), ('supply_chain', 62), ('click_apply', 62), ('computer_science', 61), ('good_interpersonal', 60), ('ltd_ea', 60), ('candidate_possess', 59), ('work_team', 58), ('interpersonal_communication', 58), ('reg_no', 57), ('com_sg', 57), ('full_time', 57), ('send_resume', 57), ('work_environment', 57), ('diploma_degree', 57), ('management_skill', 56), ('personal_datum', 56), ('excellent_communication', 55), ('min_year', 55), ('hand_on', 55), ('he_she', 53), ('ms_office', 52), ('day_work', 52), ('job_scope', 51), ('s_degree', 50), ('pace_environment', 50), ('relevant_working', 50), ('email_update', 49), ('copy_resume', 49), ('welcome_apply', 49), ('responsibilities_responsibility', 49), ('good_knowledge', 49), ('work_week', 49), ('apply_now', 48), ('write_communication', 48), ('skill_able', 48), ('experience_work', 47), ('mon_fri', 47), ('work_pressure', 46), ('strong_communication', 46), ('business_development', 45), ('wish_apply', 45), ('bachelor_s', 45), ('high_level', 45), ('current_expect', 45), ('training_provide', 45), ('o_level', 45), ('requirement_minimum', 44), ('email_resume', 44)]\n",
      "\n",
      "\n"
     ]
    },
    {
     "name": "stdout",
     "output_type": "stream",
     "text": [
      "[('shortlist_candidate_notify', 120), ('roles_responsibilities_job', 81), ('regret_shortlist_candidate', 73), ('ad_hoc_duty', 72), ('able_work_independently', 68), ('year_relevant_experience', 66), ('communication_interpersonal_skill', 65), ('year_work_experience', 61), ('pte_ltd_ea', 60), ('resume_ms_word', 55), ('ms_word_format', 54), ('hoc_duty_assign', 53), ('fast_pace_environment', 50), ('ea_license_no', 49), ('roles_responsibilities_responsibility', 49), ('relevant_working_experience', 48), ('day_work_week', 46), ('responsibilities_job_description', 45), ('interpersonal_communication_skill', 44), ('good_communication_skill', 43), ('update_copy_resume', 42), ('current_expect_salary', 42), ('year_relevant_working', 42), ('candidate_wish_apply', 41), ('email_update_copy', 41), ('minimum_year_relevant', 40), ('interested_candidate_wish', 38), ('bachelor_s_degree', 38), ('write_communication_skill', 38), ('click_apply_now', 37), ('minimum_year_experience', 37), ('problem_solve_skill', 37), ('wish_apply_advertised', 36), ('apply_advertised_position', 36), ('update_resume_ms', 36), ('regret_inform_shortlist', 35), ('experience_relate_field', 34), ('good_communication_interpersonal', 34), ('inform_shortlist_candidate', 33), ('weekend_public_holiday', 31), ('recruit_express_pte', 30), ('ability_work_independently', 30), ('work_experience_relate', 29), ('good_team_player', 29), ('work_independently_team', 29), ('verbal_write_communication', 28), ('proficient_microsoft_office', 27), ('day_to_day', 27), ('personal_datum_and', 27), ('datum_and_or', 27), ('and_or_resume', 27), ('send_update_resume', 26), ('express_pte_ltd', 26), ('shortlist_candidate_contact', 26), ('internal_external_stakeholder', 25), ('degree_computer_science', 25), ('disclose_personal_information', 24), ('verbal_communication_skill', 24), ('work_fast_pace', 24), ('ltd_ea_licence', 24), ('hand_on_experience', 24), ('copy_resume_attn', 24), ('good_interpersonal_skill', 24), ('gce_o_level', 24), ('write_verbal_communication', 23), ('good_interpersonal_communication', 23), ('position_click_apply', 23), ('able_work_weekend', 23), ('excellent_communication_skill', 23), ('start_work_immediately', 22), ('alternatively_email_update', 22), ('end_to_end', 22), ('services_pte_ltd', 22), ('ltd_ea_license', 22), ('skill_able_work', 22), ('email_detailed_resume', 22), ('relate_field_require', 21), ('able_multi_task', 21), ('we_regret_shortlist', 21), ('interested_applicant_kindly', 21), ('word_format_emailprotecte', 21), ('able_start_work', 21), ('advertised_position_click', 20), ('ea_licence_no', 20), ('up_to_date', 20), ('equal_opportunity_employer', 20), ('class_drive_license', 20), ('field_require_position', 19), ('recruitexpress_com_sg', 19), ('skill_ability_work', 19), ('reason_s_leave', 19), ('communication_skill_able', 19), ('able_work_pressure', 19), ('submit_update_resume', 18), ('collection_use_disclosure', 18), ('duty_assign_requirement', 18), ('work_weekend_public', 18), ('career_services_pte', 18), ('communication_skill_ability', 18), ('type_full_time', 18)]\n",
      "\n",
      "\n",
      "[('regret_shortlist_candidate_notify', 58), ('ad_hoc_duty_assign', 53), ('roles_responsibilities_job_description', 45), ('resume_ms_word_format', 43), ('email_update_copy_resume', 41), ('year_relevant_working_experience', 40), ('interested_candidate_wish_apply', 38), ('wish_apply_advertised_position', 36), ('candidate_wish_apply_advertised', 33), ('good_communication_interpersonal_skill', 33), ('regret_inform_shortlist_candidate', 32), ('work_experience_relate_field', 28), ('personal_datum_and_or', 27), ('datum_and_or_resume', 27), ('inform_shortlist_candidate_notify', 25), ('pte_ltd_ea_licence', 24), ('update_copy_resume_attn', 24), ('recruit_express_pte_ltd', 24), ('good_interpersonal_communication_skill', 22), ('verbal_write_communication_skill', 22), ('pte_ltd_ea_license', 22), ('experience_relate_field_require', 21), ('we_regret_shortlist_candidate', 21), ('update_resume_ms_word', 21), ('position_click_apply_now', 21), ('alternatively_email_update_copy', 21), ('write_verbal_communication_skill', 20), ('minimum_year_relevant_experience', 20), ('apply_advertised_position_click', 20), ('advertised_position_click_apply', 20), ('relate_field_require_position', 19), ('submit_update_resume_ms', 17), ('collection_use_disclosure_personal', 17), ('use_disclosure_personal_datum', 17), ('click_apply_now_alternatively', 17), ('apply_now_alternatively_email', 17), ('now_alternatively_email_update', 17), ('collect_use_disclose_personal', 16), ('able_start_work_immediately', 16), ('minimum_year_work_experience', 16), ('analytical_problem_solve_skill', 16), ('apply_advertised_position_email', 15), ('work_fast_pace_environment', 15), ('able_work_independently_team', 15), ('approachable_mci_consultant_soon', 15), ('mci_consultant_soon_confidential', 15), ('consultant_soon_confidential_discussion', 15), ('express_pte_ltd_ea', 15), ('update_resume_ms_format', 15), ('degree_post_graduate_diploma', 15), ('detailed_resume_ms_word', 15), ('emailprotected_ea_license_no', 15), ('contact_office_confidential_discussion', 15), ('diploma_advanced_high_graduate', 14), ('advertised_position_email_update', 14), ('position_email_update_copy', 14), ('candidate_apply_advertise_position', 14), ('apply_advertise_position_deem', 14), ('advertise_position_deem_consented', 14), ('position_deem_consented_collect', 14), ('deem_consented_collect_use', 14), ('consented_collect_use_disclose', 14), ('use_disclose_personal_information', 14), ('disclose_personal_information_purpose', 14), ('personal_information_purpose_connection', 14), ('information_purpose_connection_service', 14), ('purpose_connection_service_provide', 14), ('connection_service_provide_we', 14), ('submit_personal_datum_and', 14), ('shortlist_candidate_notify_job', 14), ('work_weekend_public_holiday', 14), ('career_services_pte_ltd', 14), ('post_graduate_diploma_professional', 14), ('graduate_diploma_professional_degree', 14), ('expect_salary_date_availability', 14), ('minimum_year_relevant_working', 14), ('current_expect_salary_reason', 14), ('advanced_high_graduate_diploma', 13), ('year_s_work_experience', 13), ('dedicate_approachable_mci_consultant', 13), ('date_availability_notice_period', 13), ('and_or_resume_consent', 13), ('or_resume_consent_collection', 13), ('resume_consent_collection_use', 13), ('consent_collection_use_disclosure', 13), ('disclosure_personal_datum_and', 13), ('and_or_resume_company', 13), ('or_resume_company_or', 13), ('resume_company_or_agent', 13), ('company_or_agent_purpose', 13), ('or_agent_purpose_processing', 13), ('agent_purpose_processing_administration', 13), ('purpose_processing_administration_company', 13), ('processing_administration_company_relate', 13), ('administration_company_relate_job', 13), ('company_relate_job_application', 13), ('ltd_ea_licence_no', 13), ('we_regret_inform_shortlist', 13), ('current_expect_salary_date', 13), ('ltd_ea_license_no', 13)]\n",
      "\n",
      "\n",
      "admin  ------>  126 posting(s)\n",
      "\n",
      "\n",
      "[('work', 183), ('experience', 145), ('office', 121), ('support', 120), ('job', 119), ('administrative', 119), ('skill', 111), ('customer', 108), ('provide', 94), ('service', 93), ('management', 93), ('good', 93), ('team', 92), ('ensure', 84), ('duty', 80), ('able', 79), ('day', 75), ('year', 73), ('candidate', 72), ('assist', 69), ('requirement', 69), ('require', 67), ('order', 62), ('client', 61), ('communication', 60), ('system', 58), ('responsibility', 58), ('maintain', 57), ('manage', 55), ('diploma', 54), ('resume', 54), ('ms', 54), ('include', 53), ('information', 53), ('handle', 53), ('admin', 51), ('department', 50), ('report', 50), ('update', 49), ('level', 48), ('operation', 47), ('knowledge', 47), ('apply', 46), ('relevant', 46), ('company', 45), ('relate', 45), ('document', 44), ('task', 44), ('responsibilities', 44), ('no', 43), ('perform', 43), ('administration', 43), ('process', 42), ('datum', 42), ('working', 42), ('email', 42), ('interested', 41), ('requirements', 41), ('etc', 40), ('application', 40), ('project', 40), ('training', 40), ('database', 39), ('prepare', 39), ('record', 38), ('roles', 38), ('ad', 37), ('general', 36), ('excel', 35), ('minimum', 35), ('possess', 34), ('assign', 34), ('ability', 34), ('sale', 34), ('position', 34), ('hoc', 34), ('pte', 33), ('follow', 33), ('call', 33), ('interpersonal', 33), ('contract', 33), ('delivery', 33), ('salary', 33), ('proficient', 32), ('e', 32), ('business', 31), ('documentation', 31), ('hour', 31), ('liaise', 31), ('server', 30), ('environment', 30), ('time', 30), ('word', 30), ('to', 29), ('advantage', 29), ('location', 29), ('min', 29), ('meeting', 28), ('policy', 28), ('daily', 28)]\n",
      "\n",
      "\n",
      "[('roles_responsibilities', 38), ('ad_hoc', 34), ('able_work', 33), ('communication_skill', 30), ('customer_service', 26), ('administrative_support', 26), ('ms_office', 26), ('team_player', 25), ('job_description', 24), ('interpersonal_skill', 24), ('pte_ltd', 24), ('administrative_duty', 22), ('work_experience', 21), ('microsoft_office', 20), ('year_experience', 20), ('duty_assign', 19), ('interested_applicant', 18), ('provide_administrative', 18), ('job_requirements', 18), ('proficient_ms', 17), ('year_relevant', 17), ('interested_candidate', 17), ('shortlist_candidate', 16), ('o_level', 16), ('good_communication', 16), ('work_independently', 16), ('candidate_possess', 15), ('multi_task', 15), ('day_work', 15), ('relevant_experience', 15), ('general_administrative', 14), ('minimum_year', 14), ('work_week', 14), ('candidate_notify', 14), ('phone_call', 14), ('day_to', 13), ('to_day', 13), ('communication_interpersonal', 13), ('hoc_duty', 13), ('licence_no', 13), ('skill_ability', 12), ('good_interpersonal', 12), ('work_closely', 12), ('send_resume', 12), ('job_responsibility', 12), ('expect_salary', 12), ('working_hour', 12), ('job_requirement', 11), ('ltd_ea', 11), ('regret_shortlist', 11), ('ms_word', 11), ('fast_pace', 11), ('provide_support', 10), ('datum_entry', 10), ('proficient_microsoft', 10), ('skill_good', 10), ('minimum_diploma', 10), ('e_g', 10), ('short_notice', 10), ('recruit_express', 10), ('express_pte', 10), ('update_resume', 10), ('monday_friday', 9), ('click_apply', 9), ('time_management', 9), ('management_skill', 9), ('delivery_order', 9), ('ea_licence', 9), ('responsibilities_responsibility', 9), ('working_experience', 9), ('duty_require', 9), ('gce_o', 9), ('relate_field', 9), ('requirement_minimum', 9), ('hour_monday', 9), ('pace_environment', 9), ('resume_ms', 8), ('reg_no', 8), ('responsibility_provide', 8), ('add_advantage', 8), ('interpersonal_communication', 8), ('ability_multi', 8), ('year_work', 8), ('able_start', 8), ('applicant_send', 8), ('word_format', 8), ('answer_phone', 8), ('data_entry', 8), ('am_pm', 8), ('email_resume', 8), ('assign_requirement', 8), ('skill_able', 8), ('resume_emailprotecte', 8), ('detailed_resume', 7), ('apply_now', 7), ('license_no', 7), ('duty_include', 7), ('word_excel', 7), ('good_team', 7), ('working_attitude', 7)]\n",
      "\n",
      "\n",
      "[('provide_administrative_support', 15), ('proficient_ms_office', 14), ('day_to_day', 13), ('ad_hoc_duty', 13), ('day_work_week', 13), ('shortlist_candidate_notify', 13), ('communication_interpersonal_skill', 12), ('year_relevant_experience', 12), ('pte_ltd_ea', 11), ('able_work_independently', 11), ('roles_responsibilities_responsibility', 9), ('good_communication_interpersonal', 9), ('regret_shortlist_candidate', 9), ('express_pte_ltd', 9), ('fast_pace_environment', 9), ('proficient_microsoft_office', 8), ('ability_multi_task', 8), ('year_work_experience', 8), ('interested_applicant_send', 8), ('recruit_express_pte', 8), ('ea_licence_no', 8), ('time_management_skill', 7), ('hoc_duty_assign', 7), ('roles_responsibilities_job', 7), ('good_interpersonal_skill', 7), ('able_start_work', 7), ('hour_monday_friday', 7), ('answer_phone_call', 7), ('general_administrative_duty', 6), ('candidate_possess_diploma', 6), ('to_day_operation', 6), ('good_team_player', 6), ('ltd_ea_licence', 6), ('relevant_working_experience', 6), ('interested_candidate_wish', 6), ('candidate_wish_apply', 6), ('gce_o_level', 6), ('diploma_advanced_high', 6), ('advanced_high_graduate', 6), ('provide_general_administrative', 6), ('expect_salary_reason', 6), ('duty_assign_requirement', 6), ('skill_able_work', 6), ('work_fast_pace', 6), ('verbal_communication_skill', 6), ('interpersonal_communication_skill', 6), ('good_communication_skill', 6), ('good_interpersonal_communication', 5), ('responsibilities_job_description', 5), ('high_graduate_diploma', 5), ('disclose_personal_information', 5), ('singapore_pte_ltd', 5), ('resume_ms_word', 5), ('skill_proficient_ms', 5), ('ms_word_format', 5), ('interested_candidate_send', 5), ('recruitexpress_com_sg', 5), ('working_hour_monday', 5), ('interested_applicant_kindly', 4), ('click_apply_now', 4), ('apply_now_button', 4), ('interpersonal_skill_ability', 4), ('team_player_able', 4), ('year_relevant_working', 4), ('problem_solve_skill', 4), ('hoc_duty_require', 4), ('email_update_copy', 4), ('update_copy_resume', 4), ('minimum_year_work', 4), ('customer_service_experience', 4), ('requirement_minimum_diploma', 4), ('start_work_immediately', 4), ('applicant_send_resume', 4), ('reason_s_leave', 4), ('candidate_notify_submit', 4), ('deem_agree_consented', 4), ('agree_consented_collecting', 4), ('consented_collecting_use', 4), ('collecting_use_retain', 4), ('use_retain_disclose', 4), ('retain_disclose_personal', 4), ('personal_information_prospective', 4), ('information_prospective_employer', 4), ('prospective_employer_consideration', 4), ('immediately_short_notice', 4), ('communication_skill_able', 4), ('able_work_fast', 4), ('ad_hoc_administrative', 4), ('general_administrative_support', 4), ('write_verbal_communication', 4), ('requirements_candidate_possess', 4), ('experience_relate_field', 4), ('interpersonal_skill_proficient', 4), ('microsoft_office_excel', 4), ('wish_apply_advertised', 4), ('apply_advertised_position', 4), ('recent_update_resume', 4), ('good_working_attitude', 4), ('assign_requirement_min', 4), ('admin_duty_assign', 4)]\n",
      "\n",
      "\n",
      "[('good_communication_interpersonal_skill', 9), ('recruit_express_pte_ltd', 8), ('express_pte_ltd_ea', 8), ('ad_hoc_duty_assign', 7), ('regret_shortlist_candidate_notify', 7), ('day_to_day_operation', 6), ('pte_ltd_ea_licence', 6), ('interested_candidate_wish_apply', 6), ('diploma_advanced_high_graduate', 6), ('roles_responsibilities_job_description', 5), ('advanced_high_graduate_diploma', 5), ('ltd_ea_licence_no', 5), ('skill_proficient_ms_office', 5), ('work_fast_pace_environment', 5), ('year_relevant_working_experience', 4), ('ad_hoc_duty_require', 4), ('email_update_copy_resume', 4), ('minimum_year_work_experience', 4), ('able_start_work_immediately', 4), ('interested_applicant_send_resume', 4), ('deem_agree_consented_collecting', 4), ('agree_consented_collecting_use', 4), ('consented_collecting_use_retain', 4), ('collecting_use_retain_disclose', 4), ('use_retain_disclose_personal', 4), ('retain_disclose_personal_information', 4), ('disclose_personal_information_prospective', 4), ('personal_information_prospective_employer', 4), ('information_prospective_employer_consideration', 4), ('able_work_fast_pace', 4), ('write_verbal_communication_skill', 4), ('communication_interpersonal_skill_proficient', 4), ('candidate_wish_apply_advertised', 4), ('wish_apply_advertised_position', 4), ('resume_ms_word_format', 4), ('inclusive_min_lunch_break', 4), ('responsibility_provide_administrative_support', 3), ('skill_ability_multi_task', 3), ('preferably_customer_service_experience', 3), ('candidate_possess_diploma_advanced', 3), ('possess_diploma_advanced_high', 3), ('responsibility_provide_general_administrative', 3), ('expect_salary_reason_s', 3), ('salary_reason_s_leave', 3), ('reason_s_leave_availability', 3), ('s_leave_availability_commence', 3), ('leave_availability_commence_work', 3), ('availability_commence_work_regret', 3), ('shortlist_candidate_notify_submit', 3), ('candidate_notify_submit_application', 3), ('we_deem_agree_consented', 3), ('services_singapore_pte_ltd', 3), ('work_immediately_short_notice', 3), ('communication_skill_able_work', 3), ('ad_hoc_administrative_duty', 3), ('work_independently_multi_task', 3), ('provide_general_administrative_support', 3), ('ensure_efficient_smooth_day', 3), ('efficient_smooth_day_to', 3), ('smooth_day_to_day', 3), ('time_management_skill_ability', 3), ('requirements_candidate_possess_diploma', 3), ('work_experience_relate_field', 3), ('experience_relate_field_require', 3), ('relate_field_require_position', 3), ('able_work_independently_minimal', 3), ('work_independently_minimal_supervision', 3), ('interpersonal_skill_proficient_ms', 3), ('regret_inform_shortlist_candidate', 3), ('inform_shortlist_candidate_notify', 3), ('apply_advertised_position_email', 3), ('advertised_position_email_update', 3), ('position_email_update_copy', 3), ('able_start_work_short', 3), ('start_work_short_notice', 3), ('proficient_ms_office_good', 3), ('ms_office_good_interpersonal', 3), ('interested_candidate_send_recent', 3), ('candidate_send_recent_update', 3), ('send_recent_update_resume', 3), ('recruitexpress_com_sg_subject', 3), ('com_sg_subject_heading', 3), ('michelle_lee_ser_min', 3), ('require_skill_s_ms', 3), ('preferably_junior_executive_specialize', 3), ('good_interpersonal_communication_skill', 3), ('day_to_day_administrative', 3), ('interpersonal_communication_skill_able', 3), ('working_hour_monday_friday', 3), ('duty_assign_requirement_min', 3), ('handle_admin_duty_assign', 3), ('admin_duty_assign_requirement', 3), ('current_expect_salary_reason', 3), ('range_interested_applicant_send', 3), ('interested_applicant_send_detailed', 3), ('applicant_send_detailed_resume', 3), ('send_detailed_resume_emailprotecte', 3), ('cei_jane_lui_jie', 3), ('jane_lui_jie_en', 3), ('general_administrative_duty_requirement', 2)]\n",
      "\n",
      "\n",
      "engineer  ------>  246 posting(s)\n",
      "\n",
      "\n",
      "[('work', 552), ('experience', 477), ('project', 429), ('engineering', 395), ('team', 315), ('design', 282), ('process', 276), ('support', 275), ('system', 272), ('requirement', 243), ('provide', 236), ('technical', 233), ('skill', 211), ('year', 204), ('ensure', 200), ('good', 195), ('management', 193), ('knowledge', 193), ('job', 183), ('candidate', 177), ('product', 174), ('technology', 166), ('equipment', 165), ('customer', 163), ('development', 161), ('engineer', 161), ('degree', 160), ('application', 152), ('responsibility', 148), ('site', 142), ('include', 141), ('develop', 141), ('require', 136), ('service', 136), ('relate', 134), ('quality', 127), ('electrical', 125), ('perform', 124), ('new', 124), ('client', 123), ('solution', 120), ('communication', 119), ('manage', 118), ('responsible', 117), ('able', 116), ('strong', 115), ('environment', 114), ('software', 112), ('singapore', 112), ('test', 111), ('diploma', 111), ('resume', 109), ('information', 104), ('security', 104), ('report', 102), ('relevant', 102), ('tool', 101), ('datum', 101), ('ability', 101), ('responsibilities', 100), ('business', 100), ('s', 99), ('problem', 98), ('position', 96), ('build', 96), ('maintenance', 95), ('apply', 95), ('issue', 93), ('plan', 93), ('construction', 92), ('control', 90), ('maintain', 90), ('review', 88), ('production', 88), ('prepare', 85), ('computer', 85), ('analysis', 85), ('company', 85), ('roles', 84), ('minimum', 84), ('improvement', 84), ('level', 83), ('activity', 83), ('operation', 83), ('industry', 82), ('or', 82), ('day', 81), ('manufacturing', 81), ('update', 80), ('assist', 78), ('mechanical', 77), ('lead', 76), ('time', 75), ('specification', 75), ('testing', 75), ('performance', 74), ('conduct', 73), ('equivalent', 73), ('understand', 72), ('etc', 72)]\n",
      "\n",
      "\n",
      "[('roles_responsibilities', 83), ('and_or', 69), ('work_experience', 57), ('minimum_year', 53), ('year_experience', 53), ('communication_skill', 52), ('shortlist_candidate', 45), ('candidate_notify', 42), ('problem_solve', 41), ('pte_ltd', 39), ('able_work', 37), ('computer_science', 37), ('team_player', 35), ('job_description', 35), ('year_relevant', 34), ('interpersonal_skill', 33), ('work_closely', 33), ('technical_support', 29), ('provide_technical', 29), ('mechanical_engineering', 28), ('interested_candidate', 28), ('word_format', 28), ('e_g', 28), ('year_work', 27), ('good_communication', 27), ('work_independently', 27), ('electrical_engineering', 27), ('job_requirement', 27), ('ms_word', 26), ('internal_external', 26), ('relevant_experience', 26), ('hand_on', 26), ('s_degree', 26), ('diploma_degree', 26), ('project_management', 25), ('team_member', 25), ('engineering_equivalent', 24), ('regret_shortlist', 24), ('bachelor_s', 24), ('working_experience', 24), ('update_resume', 24), ('new_product', 23), ('resume_ms', 22), ('ad_hoc', 22), ('degree_electrical', 22), ('m_e', 21), ('responsibilities_responsibility', 21), ('responsibility_responsible', 21), ('min_year', 21), ('microsoft_office', 21), ('relate_field', 21), ('requirement_diploma', 20), ('add_advantage', 20), ('license_no', 19), ('duty_assign', 18), ('degree_diploma', 18), ('reg_no', 18), ('continuous_improvement', 18), ('civil_engineering', 18), ('sub_contractor', 17), ('information_technology', 17), ('good_knowledge', 17), ('on_experience', 17), ('degree_engineering', 17), ('interested_applicant', 16), ('expect_salary', 16), ('mechanical_electrical', 16), ('requirement_degree', 16), ('national_origin', 16), ('sexual_orientation', 16), ('application_process', 16), ('candidate_possess', 16), ('ability_work', 16), ('supply_chain', 16), ('electrical_electronics', 16), ('analytical_problem', 15), ('solve_skill', 15), ('ea_license', 15), ('corrective_action', 15), ('ltd_ea', 15), ('personal_datum', 15), ('project_team', 15), ('send_resume', 15), ('diploma_mechanical', 14), ('product_development', 14), ('method_statement', 14), ('engineering_mechanical', 14), ('degree_civil', 14), ('click_apply', 14), ('training_provide', 14), ('entry_level', 14), ('job_requirements', 14), ('bachelor_degree', 14), ('willing_work', 13), ('equivalent_year', 13), ('skill_good', 13), ('operating_system', 13), ('hardware_software', 13), ('ensure_proper', 13), ('requirements_degree', 13)]\n",
      "\n",
      "\n",
      "[('shortlist_candidate_notify', 39), ('year_work_experience', 26), ('regret_shortlist_candidate', 23), ('roles_responsibilities_responsibility', 21), ('resume_ms_word', 19), ('bachelor_s_degree', 19), ('year_relevant_experience', 18), ('able_work_independently', 18), ('ms_word_format', 18), ('hand_on_experience', 16), ('provide_technical_support', 16), ('minimum_year_experience', 16), ('problem_solve_skill', 15), ('pte_ltd_ea', 15), ('good_communication_skill', 14), ('analytical_problem_solve', 13), ('minimum_year_relevant', 13), ('roles_responsibilities_job', 13), ('relevant_working_experience', 12), ('communication_interpersonal_skill', 12), ('good_team_player', 11), ('year_relevant_working', 11), ('update_resume_ms', 11), ('requirement_diploma_degree', 11), ('request_assistance_application', 11), ('assistance_application_process', 11), ('interested_candidate_wish', 11), ('candidate_wish_apply', 11), ('degree_electrical_engineering', 11), ('ad_hoc_duty', 10), ('diploma_degree_electrical', 10), ('ea_license_no', 10), ('race_color_religion', 10), ('color_religion_sex', 10), ('sexual_orientation_gender', 10), ('orientation_gender_identity', 10), ('microns_human_resources', 10), ('human_resources_department', 10), ('degree_computer_science', 10), ('inform_shortlist_candidate', 10), ('i_c_scada', 10), ('current_expect_salary', 9), ('day_to_day', 9), ('process_and_or', 9), ('ltd_ea_license', 9), ('degree_civil_engineering', 9), ('personal_data_protection', 9), ('data_protection_act', 9), ('responsibilities_job_description', 9), ('write_communication_skill', 9), ('day_work_week', 9), ('transform_world_use', 9), ('world_use_information', 9), ('click_apply_now', 9), ('regret_inform_shortlist', 9), ('singapore_pte_ltd', 9), ('work_experience_relate', 9), ('root_cause_analysis', 9), ('c_scada_iot', 9), ('scada_iot_tgm', 9), ('responsibilities_responsibility_responsible', 8), ('mechanical_engineering_equivalent', 8), ('email_detailed_resume', 8), ('proficient_microsoft_office', 8), ('cross_functional_team', 8), ('requirement_candidate_possess', 8), ('wish_apply_advertised', 8), ('apply_advertised_position', 8), ('good_communication_interpersonal', 8), ('discipline_minimum_year', 8), ('verbal_write_communication', 8), ('fast_pace_environment', 8), ('minimum_year_work', 8), ('send_update_resume', 8), ('min_year_experience', 8), ('experience_relate_field', 8), ('electrical_electronic_engineering', 8), ('diploma_mechanical_engineering', 7), ('min_year_work', 7), ('detailed_resume_ms', 7), ('recruit_expert_com', 7), ('requirements_degree_diploma', 7), ('hoc_duty_assign', 7), ('computer_science_computer', 7), ('age_national_origin', 7), ('engineering_min_year', 7), ('experience_construction_industry', 7), ('tool_e_g', 7), ('word_format_emailprotecte', 7), ('requirement_min_diploma', 6), ('keen_apply_position', 6), ('apply_position_kindly', 6), ('position_kindly_email', 6), ('kindly_email_detailed', 6), ('ms_word_hr', 6), ('word_hr_recruit', 6), ('hr_recruit_expert', 6), ('note_shortlist_candidate', 6), ('internal_external_customer', 6), ('information_technology_computer', 6)]\n",
      "\n",
      "\n",
      "[('regret_shortlist_candidate_notify', 20), ('resume_ms_word_format', 12), ('year_relevant_working_experience', 11), ('request_assistance_application_process', 11), ('interested_candidate_wish_apply', 11), ('race_color_religion_sex', 10), ('sexual_orientation_gender_identity', 10), ('microns_human_resources_department', 10), ('analytical_problem_solve_skill', 9), ('pte_ltd_ea_license', 9), ('personal_data_protection_act', 9), ('roles_responsibilities_job_description', 9), ('transform_world_use_information', 9), ('regret_inform_shortlist_candidate', 9), ('inform_shortlist_candidate_notify', 9), ('i_c_scada_iot', 9), ('c_scada_iot_tgm', 9), ('roles_responsibilities_responsibility_responsible', 8), ('update_resume_ms_word', 8), ('candidate_wish_apply_advertised', 8), ('wish_apply_advertised_position', 8), ('good_communication_interpersonal_skill', 8), ('minimum_year_relevant_experience', 8), ('work_experience_relate_field', 8), ('min_year_work_experience', 7), ('detailed_resume_ms_word', 7), ('ad_hoc_duty_assign', 7), ('ltd_ea_license_no', 7), ('minimum_year_work_experience', 7), ('keen_apply_position_kindly', 6), ('apply_position_kindly_email', 6), ('position_kindly_email_detailed', 6), ('kindly_email_detailed_resume', 6), ('email_detailed_resume_ms', 6), ('resume_ms_word_hr', 6), ('ms_word_hr_recruit', 6), ('word_hr_recruit_expert', 6), ('hr_recruit_expert_com', 6), ('note_shortlist_candidate_notify', 6), ('requirement_diploma_degree_electrical', 6), ('singapore_north_west_singapore', 6), ('north_west_singapore_sg', 6), ('site_only_request_assistance', 6), ('only_request_assistance_application', 6), ('assistance_application_process_and', 6), ('application_process_and_or', 6), ('process_and_or_reasonable', 6), ('and_or_reasonable_accommodation', 6), ('pte_ltd_ea_licence', 6), ('apply_advertised_position_click', 6), ('advertised_position_click_apply', 6), ('position_click_apply_now', 6), ('qualified_applicant_receive_consideration', 6), ('applicant_receive_consideration_employment', 6), ('receive_consideration_employment_regard', 6), ('consideration_employment_regard_race', 6), ('child_below_year_old', 6), ('diploma_mechanical_engineering_equivalent', 5), ('recruit_expert_com_note', 5), ('expert_com_note_shortlist', 5), ('com_note_shortlist_candidate', 5), ('write_verbal_communication_skill', 5), ('skill_able_work_independently', 5), ('mandarin_liaise_mandarin_speak', 5), ('shortlist_candidate_notify_job', 5), ('candidate_notify_job_code', 5), ('recruit_hire_train_promote', 5), ('hire_train_promote_discipline', 5), ('train_promote_discipline_provide', 5), ('promote_discipline_provide_condition', 5), ('discipline_provide_condition_employment', 5), ('provide_condition_employment_regard', 5), ('condition_employment_regard_person', 5), ('employment_regard_person_s', 5), ('regard_person_s_race', 5), ('person_s_race_color', 5), ('s_race_color_religion', 5), ('color_religion_sex_age', 5), ('religion_sex_age_national', 5), ('sex_age_national_origin', 5), ('age_national_origin_disability', 5), ('national_origin_disability_sexual', 5), ('origin_disability_sexual_orientation', 5), ('disability_sexual_orientation_gender', 5), ('orientation_gender_identity_expression', 5), ('gender_identity_expression_pregnancy', 5), ('identity_expression_pregnancy_veteran', 5), ('expression_pregnancy_veteran_status', 5), ('pregnancy_veteran_status_classification', 5), ('veteran_status_classification_protect', 5), ('status_classification_protect_law', 5), ('administrator_monitor_compliance_available', 5), ('monitor_compliance_available_answer', 5), ('compliance_available_answer_question', 5), ('available_answer_question_eeo', 5), ('answer_question_eeo_matter', 5), ('human_resources_department_or', 5), ('strong_analytical_problem_solve', 5), ('candidate_possess_bachelor_s', 5), ('possess_bachelor_s_degree', 5)]\n",
      "\n",
      "\n",
      "analytic|analyst|data  ------>  144 posting(s)\n",
      "\n",
      "\n",
      "[('business', 412), ('datum', 367), ('experience', 353), ('data', 294), ('work', 284), ('team', 258), ('support', 234), ('management', 211), ('requirement', 200), ('system', 198), ('project', 189), ('skill', 181), ('process', 180), ('application', 175), ('solution', 157), ('ensure', 156), ('analysis', 147), ('development', 141), ('good', 139), ('knowledge', 132), ('stakeholder', 129), ('year', 129), ('develop', 128), ('technology', 125), ('provide', 124), ('job', 117), ('user', 117), ('strong', 115), ('include', 113), ('risk', 111), ('report', 109), ('technical', 105), ('candidate', 101), ('ability', 100), ('role', 98), ('model', 98), ('require', 97), ('design', 97), ('science', 96), ('client', 94), ('understand', 93), ('analytic', 92), ('degree', 92), ('information', 92), ('customer', 90), ('security', 89), ('apply', 87), ('manage', 87), ('analyst', 86), ('service', 82), ('tool', 81), ('implementation', 81), ('new', 80), ('need', 80), ('perform', 79), ('quality', 79), ('responsibility', 79), ('drive', 77), ('analytical', 75), ('communication', 74), ('s', 74), ('environment', 73), ('issue', 73), ('base', 72), ('change', 72), ('performance', 71), ('review', 71), ('key', 71), ('product', 71), ('problem', 71), ('test', 69), ('software', 69), ('singapore', 69), ('relevant', 68), ('identify', 68), ('relate', 67), ('end', 66), ('lead', 65), ('company', 64), ('computer', 63), ('responsibilities', 63), ('operation', 63), ('opportunity', 63), ('assist', 60), ('testing', 60), ('level', 60), ('etc', 60), ('financial', 60), ('maintain', 60), ('build', 59), ('functional', 58), ('use', 58), ('market', 57), ('deliver', 57), ('network', 56), ('e', 56), ('able', 56), ('control', 56), ('global', 55), ('position', 54)]\n",
      "\n",
      "\n",
      "[('computer_science', 50), ('pte_ltd', 43), ('year_experience', 40), ('roles_responsibilities', 39), ('e_g', 37), ('communication_skill', 35), ('and_or', 35), ('business_requirement', 31), ('work_closely', 31), ('minimum_year', 28), ('business_analyst', 27), ('project_management', 26), ('skill_ability', 24), ('data_quality', 23), ('year_relevant', 22), ('end_user', 22), ('relevant_experience', 21), ('information_technology', 21), ('business_process', 21), ('problem_solve', 20), ('software_development', 19), ('degree_computer', 19), ('datum_analytic', 19), ('team_player', 19), ('business_need', 19), ('good_practice', 18), ('data_management', 18), ('analytical_skill', 18), ('bachelor_s', 18), ('candidate_notify', 18), ('data_science', 17), ('risk_management', 17), ('ability_work', 17), ('s_degree', 17), ('hand_on', 17), ('interested_candidate', 16), ('work_independently', 16), ('big_data', 16), ('ad_hoc', 16), ('personal_datum', 16), ('datum_analysis', 15), ('provide_support', 15), ('cross_functional', 15), ('strong_analytical', 15), ('work_experience', 15), ('interpersonal_skill', 15), ('shortlist_candidate', 15), ('machine_learning', 15), ('good_knowledge', 14), ('able_work', 14), ('business_user', 14), ('job_description', 14), ('license_no', 14), ('on_experience', 14), ('job_requirement', 14), ('add_advantage', 13), ('word_format', 13), ('understand_business', 13), ('science_information', 13), ('ea_license', 13), ('management_skill', 13), ('decision_make', 13), ('datum_science', 13), ('application_development', 13), ('write_communication', 13), ('datum_quality', 13), ('user_acceptance', 12), ('life_cycle', 12), ('update_resume', 12), ('datum_source', 12), ('internal_external', 12), ('datum_scientist', 12), ('ms_word', 12), ('experience_work', 12), ('business_problem', 12), ('good_understanding', 11), ('i_e', 11), ('submit_application', 11), ('technical_skills', 11), ('management_system', 11), ('high_level', 11), ('business_analysis', 11), ('equal_opportunity', 11), ('work_environment', 11), ('attention_detail', 11), ('machine_learn', 11), ('track_record', 11), ('business_stakeholder', 11), ('candidate_possess', 11), ('support_team', 11), ('year_work', 11), ('project_manager', 11), ('skill_good', 11), ('to_end', 11), ('click_apply', 11), ('resume_ms', 11), ('data_stewards', 11), ('use_case', 11), ('real_estate', 11), ('data_visualization', 10)]\n",
      "\n",
      "\n"
     ]
    },
    {
     "name": "stdout",
     "output_type": "stream",
     "text": [
      "[('degree_computer_science', 19), ('bachelor_s_degree', 16), ('year_relevant_experience', 14), ('hand_on_experience', 13), ('computer_science_information', 12), ('minimum_year_experience', 12), ('ea_license_no', 12), ('shortlist_candidate_notify', 11), ('resume_ms_word', 11), ('ms_word_format', 11), ('science_information_technology', 10), ('pte_ltd_ea', 10), ('year_work_experience', 10), ('end_to_end', 10), ('write_communication_skill', 10), ('strong_analytical_skill', 9), ('problem_solve_skill', 9), ('development_life_cycle', 8), ('ability_work_independently', 8), ('kelly_services_singapore', 8), ('services_singapore_pte', 8), ('singapore_pte_ltd', 8), ('pte_ltd_persolkelly', 8), ('disclose_personal_datum', 8), ('user_acceptance_testing', 7), ('technical_skills_competencies', 7), ('communication_skill_ability', 7), ('communication_interpersonal_skill', 7), ('click_apply_now', 7), ('regret_shortlist_candidate', 7), ('verbal_write_communication', 7), ('equal_opportunity_employer', 7), ('machine_learning_model', 7), ('interested_candidate_wish', 6), ('candidate_wish_apply', 6), ('capita_pte_ltd', 6), ('ltd_ea_license', 6), ('cross_functional_team', 6), ('computer_science_equivalent', 6), ('ad_hoc_analysis', 6), ('graduating_calendar_year', 6), ('analytical_problem_solve', 6), ('minimum_year_relevant', 6), ('subject_matter_expert', 6), ('computer_science_engineering', 5), ('fmo_data_management', 5), ('write_verbal_communication', 5), ('verbal_communication_skill', 5), ('software_development_life', 5), ('wish_apply_advertised', 5), ('apply_advertised_position', 5), ('work_independently_team', 5), ('skill_ability_work', 5), ('roles_responsibilities_responsibility', 5), ('minimum_year_work', 5), ('simply_submit_application', 5), ('ea_personnel_reg', 5), ('personnel_reg_no', 5), ('calendar_year_university', 5), ('good_communication_skill', 5), ('day_to_day', 5), ('support_data_stewards', 5), ('singapore_citizen_permanent', 5), ('citizen_permanent_resident', 5), ('interested_applicant_send', 5), ('skill_attention_detail', 5), ('consulting_pte_ltd', 5), ('we_regret_shortlist', 5), ('min_year_experience', 5), ('business_use_case', 5), ('s_degree_computer', 5), ('sexual_orientation_gender', 5), ('orientation_gender_identity', 5), ('update_resume_ms', 5), ('job_requirements_degree', 5), ('involve_software_development', 5), ('authoritative_provisioning_point', 5), ('familiar_soc_process', 4), ('strong_technical_knowledge', 4), ('what_be_offer', 4), ('interested_qualified_candidate', 4), ('word_format_emailprotecte', 4), ('standard_chartered_lead', 4), ('chartered_lead_international', 4), ('lead_international_bank', 4), ('international_bank_focus', 4), ('bank_focus_help', 4), ('focus_help_people', 4), ('help_people_company', 4), ('people_company_prosper', 4), ('company_prosper_asia', 4), ('prosper_asia_africa', 4), ('asia_africa_middle', 4), ('africa_middle_east', 4), ('multi_task_prioritize', 4), ('good_analytical_skill', 4), ('information_technology_equivalent', 4), ('prove_track_record', 4), ('able_work_independently', 4), ('project_management_skill', 4)]\n",
      "\n",
      "\n",
      "[('resume_ms_word_format', 10), ('computer_science_information_technology', 9), ('degree_computer_science_information', 8), ('kelly_services_singapore_pte', 8), ('services_singapore_pte_ltd', 8), ('regret_shortlist_candidate_notify', 7), ('interested_candidate_wish_apply', 6), ('pte_ltd_ea_license', 6), ('ltd_ea_license_no', 6), ('software_development_life_cycle', 5), ('candidate_wish_apply_advertised', 5), ('wish_apply_advertised_position', 5), ('minimum_year_work_experience', 5), ('ea_personnel_reg_no', 5), ('singapore_citizen_permanent_resident', 5), ('we_regret_shortlist_candidate', 5), ('bachelor_s_degree_computer', 5), ('s_degree_computer_science', 5), ('sexual_orientation_gender_identity', 5), ('verbal_write_communication_skill', 5), ('update_resume_ms_word', 5), ('standard_chartered_lead_international', 4), ('chartered_lead_international_bank', 4), ('lead_international_bank_focus', 4), ('international_bank_focus_help', 4), ('bank_focus_help_people', 4), ('focus_help_people_company', 4), ('help_people_company_prosper', 4), ('people_company_prosper_asia', 4), ('company_prosper_asia_africa', 4), ('prosper_asia_africa_middle', 4), ('asia_africa_middle_east', 4), ('write_verbal_communication_skill', 4), ('science_information_technology_equivalent', 4), ('requirement_degree_computer_science', 4), ('apply_advertised_position_click', 4), ('advertised_position_click_apply', 4), ('position_click_apply_now', 4), ('click_apply_now_alternatively', 4), ('apply_now_alternatively_email', 4), ('now_alternatively_email_update', 4), ('alternatively_email_update_copy', 4), ('email_update_copy_resume', 4), ('good_verbal_write_communication', 4), ('graduating_calendar_year_university', 4), ('competencies_trainee_learn_sgunited', 4), ('trainee_learn_sgunited_traineeship', 4), ('learn_sgunited_traineeship_programme', 4), ('graduated_graduating_calendar_year', 4), ('analytical_problem_solve_skill', 4), ('recruit_express_pte_ltd', 4), ('express_pte_ltd_ea', 4), ('singapore_pte_ltd_ea', 4), ('ea_license_no_rcb', 4), ('license_no_rcb_no', 4), ('submit_curriculum_vitae_personal', 4), ('curriculum_vitae_personal_datum', 4), ('vitae_personal_datum_connection', 4), ('personal_datum_connection_job', 4), ('datum_connection_job_application', 4), ('connection_job_application_consent', 4), ('job_application_consent_kelly', 4), ('application_consent_kelly_services', 4), ('consent_kelly_services_singapore', 4), ('singapore_pte_ltd_affiliate', 4), ('pte_ltd_affiliate_include', 4), ('ltd_affiliate_include_capita', 4), ('affiliate_include_capita_pte', 4), ('include_capita_pte_ltd', 4), ('capita_pte_ltd_p', 4), ('pte_ltd_p_serv', 4), ('ltd_p_serv_pte', 4), ('p_serv_pte_ltd', 4), ('serv_pte_ltd_persolkelly', 4), ('pte_ltd_persolkelly_pte', 4), ('ltd_persolkelly_pte_ltd', 4), ('persolkelly_pte_ltd_bti', 4), ('pte_ltd_bti_executive', 4), ('ltd_bti_executive_search', 4), ('bti_executive_search_pte', 4), ('executive_search_pte_ltd', 4), ('search_pte_ltd_persolkelly', 4), ('pte_ltd_persolkelly_consulting', 4), ('ltd_persolkelly_consulting_pte', 4), ('persolkelly_consulting_pte_ltd', 4), ('consulting_pte_ltd_collecting', 4), ('pte_ltd_collecting_disclose', 4), ('ltd_collecting_disclose_personal', 4), ('collecting_disclose_personal_datum', 4), ('disclose_personal_datum_prospective', 4), ('personal_datum_prospective_employer', 4), ('datum_prospective_employer_collect', 4), ('prospective_employer_collect_use', 4), ('employer_collect_use_disclose', 4), ('collect_use_disclose_personal', 4), ('use_disclose_personal_datum', 4), ('disclose_personal_datum_purpose', 4), ('personal_datum_purpose_evaluate', 4), ('datum_purpose_evaluate_suitability', 4), ('purpose_evaluate_suitability_employment', 4)]\n",
      "\n",
      "\n",
      "customer|service|call  ------>  119 posting(s)\n",
      "\n",
      "\n",
      "[('customer', 374), ('service', 285), ('work', 190), ('experience', 184), ('provide', 150), ('job', 130), ('team', 117), ('ensure', 111), ('support', 110), ('management', 107), ('skill', 104), ('able', 104), ('good', 103), ('business', 88), ('requirement', 77), ('candidate', 69), ('process', 69), ('communication', 69), ('day', 69), ('handle', 69), ('manage', 68), ('year', 66), ('require', 64), ('apply', 64), ('duty', 64), ('knowledge', 63), ('include', 62), ('responsibility', 61), ('resume', 60), ('report', 59), ('environment', 57), ('system', 55), ('email', 55), ('client', 54), ('ability', 54), ('centre', 52), ('perform', 52), ('issue', 52), ('order', 51), ('product', 51), ('maintain', 51), ('level', 50), ('strong', 50), ('time', 48), ('office', 48), ('information', 48), ('operation', 47), ('hour', 47), ('project', 47), ('application', 45), ('sale', 44), ('company', 43), ('working', 43), ('responsible', 43), ('relevant', 42), ('no', 42), ('excellent', 42), ('services', 42), ('diploma', 41), ('need', 41), ('lead', 41), ('role', 41), ('pte', 40), ('s', 40), ('assist', 39), ('manager', 39), ('assign', 37), ('staff', 36), ('minimum', 36), ('follow', 36), ('responsibilities', 35), ('change', 35), ('activity', 34), ('requirements', 34), ('standard', 34), ('training', 34), ('contact', 34), ('update', 33), ('new', 33), ('interested', 33), ('account', 33), ('location', 33), ('write', 33), ('personal', 33), ('contract', 32), ('ea', 32), ('procedure', 32), ('high', 32), ('technology', 32), ('relate', 31), ('maintenance', 31), ('quality', 31), ('relationship', 31), ('technical', 31), ('shift', 30), ('datum', 30), ('complaint', 30), ('call', 29), ('performance', 29), ('personnel', 29)]\n",
      "\n",
      "\n",
      "[('customer_service', 81), ('communication_skill', 40), ('able_work', 35), ('pte_ltd', 25), ('roles_responsibilities', 24), ('shortlist_candidate', 23), ('ad_hoc', 22), ('job_description', 21), ('candidate_notify', 20), ('interested_applicant', 20), ('team_player', 18), ('good_communication', 18), ('training_provide', 17), ('work_experience', 16), ('fast_pace', 16), ('skill_able', 15), ('license_no', 15), ('minimum_year', 15), ('year_experience', 15), ('pace_environment', 15), ('hoc_duty', 15), ('duty_assign', 15), ('personal_datum', 15), ('working_hour', 15), ('and_or', 14), ('privacy_policy', 14), ('year_relevant', 13), ('interpersonal_skill', 13), ('resume_ms', 13), ('job_responsibility', 13), ('job_requirement', 13), ('service_customer', 13), ('update_resume', 13), ('detailed_resume', 13), ('service_experience', 13), ('ea_license', 12), ('work_closely', 12), ('requirements_minimum', 12), ('click_apply', 12), ('expect_salary', 12), ('ms_word', 11), ('ltd_ea', 11), ('job_requirements', 11), ('excellent_customer', 11), ('handle_customer', 11), ('food_beverage', 11), ('o_level', 11), ('reg_no', 11), ('customer_experience', 11), ('job_application', 11), ('work_independently', 11), ('customer_enquiry', 11), ('authentication_services', 11), ('gce_o', 10), ('relevant_experience', 10), ('able_commit', 10), ('regret_shortlist', 10), ('add_advantage', 10), ('follow_up', 10), ('manage_customer', 10), ('administrative_duty', 10), ('interested_candidate', 10), ('resolve_customer', 10), ('interpersonal_communication', 10), ('problem_solve', 10), ('email_detailed', 10), ('skill_good', 10), ('customer_complaint', 10), ('work_fast', 9), ('short_notice', 9), ('word_format', 9), ('excellent_communication', 9), ('public_holiday', 9), ('day_day', 9), ('com_sg', 9), ('express_pte', 9), ('kindly_email', 9), ('pte_ltdea', 9), ('ms_office', 9), ('work_week', 9), ('requirement_minimum', 9), ('day_week', 9), ('task_assign', 9), ('current_expect', 9), ('ea_personnel', 9), ('nric_number', 9), ('customer_relationship', 9), ('good_knowledge', 9), ('personnel_shall', 9), ('good_interpersonal', 8), ('root_cause', 8), ('internal_external', 8), ('service_orient', 8), ('customer_feedback', 8), ('solve_skill', 8), ('apply_now', 8), ('microsoft_office', 8), ('work_team', 8), ('ability_work', 8), ('customer_query', 8)]\n",
      "\n",
      "\n",
      "[('shortlist_candidate_notify', 18), ('ad_hoc_duty', 15), ('fast_pace_environment', 14), ('good_communication_skill', 14), ('resume_ms_word', 11), ('pte_ltd_ea', 11), ('excellent_customer_service', 11), ('regret_shortlist_candidate', 10), ('customer_service_experience', 10), ('interpersonal_communication_skill', 9), ('current_expect_salary', 9), ('year_relevant_experience', 8), ('ms_word_format', 8), ('ea_license_no', 8), ('problem_solve_skill', 8), ('gce_o_level', 7), ('express_pte_ltd', 7), ('able_work_independently', 7), ('privileged_management_authentication', 7), ('management_authentication_services', 7), ('communication_skill_able', 6), ('skill_able_work', 6), ('weekend_public_holiday', 6), ('communication_interpersonal_skill', 6), ('work_fast_pace', 6), ('recruitexpress_com_sg', 6), ('recruit_express_pte', 6), ('ltd_ea_licence', 6), ('ea_licence_no', 6), ('email_detailed_resume', 6), ('click_apply_now', 6), ('pte_ltdea_license', 6), ('ltdea_license_no', 6), ('personnel_reg_no', 6), ('hoc_duty_assign', 6), ('customer_service_customer', 6), ('good_team_player', 6), ('customer_relationship_management', 6), ('able_commit_month', 5), ('ltd_ea_license', 5), ('excellent_communication_skill', 5), ('roles_responsibilities_job', 5), ('interested_applicant_kindly', 5), ('detailed_resume_ms', 5), ('position_urgent_kindly', 5), ('urgent_kindly_email', 5), ('read_agree_term', 5), ('collection_use_disclosure', 5), ('use_disclosure_personal', 5), ('disclosure_personal_datum', 5), ('good_interpersonal_communication', 5), ('interested_applicant_send', 5), ('minimum_year_experience', 5), ('update_resume_ms', 5), ('experience_require_training', 5), ('require_training_provide', 5), ('authentication_services_service', 5), ('end_to_end', 5), ('provide_excellent_customer', 5), ('day_work_week', 5), ('root_cause_analysis', 5), ('ms_office_application', 5), ('shortlist_candidate_contact', 5), ('start_work_immediately', 5), ('global_business_services', 5), ('able_work_fast', 4), ('requirements_minimum_year', 4), ('minimum_year_relevant', 4), ('job_responsibility_provide', 4), ('interested_candidate_send', 4), ('level_customer_service', 4), ('handle_customer_feedback', 4), ('license_no_personnel', 4), ('company_currently_look', 4), ('job_requirements_minimum', 4), ('minimum_gce_o', 4), ('regret_inform_shortlist', 4), ('inform_shortlist_candidate', 4), ('provide_customer_service', 4), ('team_player_able', 4), ('kindly_email_detailed', 4), ('submit_curriculum_vitae', 4), ('curriculum_vitae_personal', 4), ('vitae_personal_datum', 4), ('personal_datum_connection', 4), ('datum_connection_job', 4), ('connection_job_application', 4), ('agree_term_privacy', 4), ('term_privacy_policy', 4), ('personal_datum_affiliate', 4), ('datum_affiliate_accordance', 4), ('affiliate_accordance_privacy', 4), ('accordance_privacy_policy', 4), ('able_work_team', 4), ('resolve_customer_query', 4), ('year_work_experience', 4), ('ea_personnel_reg', 4), ('personal_data_protection', 4), ('data_protection_act', 4), ('services_service_domain', 4)]\n",
      "\n",
      "\n",
      "[('resume_ms_word_format', 8), ('regret_shortlist_candidate_notify', 8), ('privileged_management_authentication_services', 7), ('work_fast_pace_environment', 6), ('recruit_express_pte_ltd', 6), ('pte_ltd_ea_licence', 6), ('ltd_ea_licence_no', 6), ('pte_ltdea_license_no', 6), ('ad_hoc_duty_assign', 6), ('pte_ltd_ea_license', 5), ('position_urgent_kindly_email', 5), ('collection_use_disclosure_personal', 5), ('use_disclosure_personal_datum', 5), ('good_interpersonal_communication_skill', 5), ('update_resume_ms_word', 5), ('experience_require_training_provide', 5), ('provide_excellent_customer_service', 5), ('express_pte_ltd_ea', 4), ('ltdea_license_no_personnel', 4), ('regret_inform_shortlist_candidate', 4), ('inform_shortlist_candidate_notify', 4), ('submit_curriculum_vitae_personal', 4), ('curriculum_vitae_personal_datum', 4), ('vitae_personal_datum_connection', 4), ('personal_datum_connection_job', 4), ('datum_connection_job_application', 4), ('read_agree_term_privacy', 4), ('agree_term_privacy_policy', 4), ('disclosure_personal_datum_affiliate', 4), ('personal_datum_affiliate_accordance', 4), ('datum_affiliate_accordance_privacy', 4), ('affiliate_accordance_privacy_policy', 4), ('ea_personnel_reg_no', 4), ('personal_data_protection_act', 4), ('authentication_services_service_domain', 4), ('privileged_id_authentication_services', 4), ('communication_skill_able_work', 3), ('work_fast_paced_environment', 3), ('able_commit_month_contract', 3), ('kindly_send_resume_ms', 3), ('send_resume_ms_word', 3), ('we_regret_shortlist_candidate', 3), ('ltd_ea_license_no', 3), ('interested_candidate_send_recent', 3), ('candidate_send_recent_update', 3), ('send_recent_update_resume', 3), ('recruitexpress_com_sg_subject', 3), ('com_sg_subject_heading', 3), ('michelle_lee_ser_min', 3), ('no_regret_shortlist_candidate', 3), ('able_work_fast_pace', 3), ('experience_need_training_provide', 3), ('as_position_urgent_kindly', 3), ('notice_period_reason_leave', 3), ('period_reason_leave_job', 3), ('deem_read_agree_term', 3), ('term_privacy_policy_consented', 3), ('privacy_policy_consented_collection', 3), ('policy_consented_collection_use', 3), ('consented_collection_use_disclosure', 3), ('kindly_email_detailed_resume', 3), ('email_detailed_resume_ms', 3), ('detailed_resume_ms_word', 3), ('submit_application_email_detailed', 3), ('application_email_detailed_copy', 3), ('email_detailed_copy_update', 3), ('detailed_copy_update_resume', 3), ('copy_update_resume_ms', 3), ('cessation_collection_nric_number', 3), ('compliance_personal_data_protection', 3), ('data_protection_act_commitment', 3), ('protection_act_commitment_protect', 3), ('act_commitment_protect_candidate', 3), ('commitment_protect_candidate_personal', 3), ('protect_candidate_personal_datum', 3), ('candidate_personal_datum_achieve', 3), ('cease_collect_process_use', 3), ('collect_process_use_nric', 3), ('process_use_nric_number', 3), ('use_nric_number_screen', 3), ('nric_number_screen_job', 3), ('number_screen_job_application', 3), ('screen_job_application_process', 3), ('job_application_process_kindly', 3), ('application_process_kindly_ensure', 3), ('process_kindly_ensure_resume', 3), ('kindly_ensure_resume_provide', 3), ('ensure_resume_provide_contain', 3), ('resume_provide_contain_nric', 3), ('provide_contain_nric_number', 3), ('contain_nric_number_home', 3), ('nric_number_home_address', 3), ('yes_ok_recruiter_contact', 3), ('ok_recruiter_contact_job', 3), ('recruiter_contact_job_advertiser', 3), ('contact_job_advertiser_yes', 3), ('job_advertiser_yes_phone', 3), ('advertiser_yes_phone_call', 3), ('yes_phone_call_job', 3), ('phone_call_job_ok', 3)]\n",
      "\n",
      "\n",
      "technician|electrician  ------>  88 posting(s)\n",
      "\n",
      "\n",
      "[('work', 195), ('equipment', 128), ('experience', 122), ('job', 102), ('maintenance', 100), ('perform', 93), ('resume', 74), ('ensure', 74), ('good', 74), ('engineering', 74), ('system', 73), ('candidate', 72), ('requirement', 66), ('apply', 66), ('able', 65), ('provide', 62), ('support', 58), ('working', 57), ('machine', 55), ('electrical', 55), ('responsibility', 52), ('team', 52), ('production', 49), ('shift', 49), ('training', 47), ('mechanical', 46), ('repair', 45), ('technician', 43), ('process', 43), ('nitec', 43), ('year', 42), ('knowledge', 42), ('no', 41), ('activity', 41), ('carry', 40), ('environment', 40), ('service', 40), ('diploma', 39), ('assist', 39), ('relevant', 39), ('basic', 39), ('salary', 38), ('duty', 37), ('manufacturing', 36), ('safety', 36), ('operation', 36), ('company', 35), ('min', 35), ('application', 34), ('quality', 33), ('require', 33), ('troubleshoot', 33), ('technical', 33), ('include', 33), ('relate', 32), ('responsibilities', 31), ('daily', 31), ('assign', 30), ('equivalent', 30), ('day', 30), ('report', 29), ('roles', 29), ('update', 29), ('license', 29), ('interested', 28), ('skill', 28), ('information', 28), ('or', 28), ('time', 28), ('customer', 28), ('ms', 27), ('preventive', 27), ('possess', 27), ('building', 27), ('submit', 27), ('personal', 27), ('email', 26), ('shortlist', 26), ('maintain', 26), ('requirements', 26), ('allowance', 26), ('minimum', 26), ('position', 26), ('management', 26), ('hour', 26), ('location', 25), ('level', 25), ('on', 25), ('area', 25), ('site', 25), ('industry', 24), ('word', 24), ('responsible', 24), ('and', 24), ('improvement', 24), ('control', 24), ('s', 24), ('installation', 24), ('test', 23), ('plant', 23)]\n",
      "\n",
      "\n",
      "[('roles_responsibilities', 28), ('shortlist_candidate', 24), ('training_provide', 21), ('and_or', 21), ('candidate_notify', 20), ('work_experience', 20), ('preventive_maintenance', 19), ('able_work', 19), ('resume_ms', 17), ('ms_word', 16), ('min_year', 16), ('update_resume', 16), ('mechanical_electrical', 16), ('regret_shortlist', 14), ('ad_hoc', 14), ('welcome_apply', 14), ('personal_datum', 14), ('duty_assign', 13), ('interested_applicant', 13), ('year_relevant', 13), ('team_player', 13), ('job_description', 13), ('pte_ltd', 12), ('word_format', 12), ('hand_on', 12), ('engineering_equivalent', 12), ('working_experience', 11), ('experience_welcome', 11), ('nitec_engineering', 11), ('nitec_diploma', 11), ('expect_salary', 11), ('year_work', 11), ('job_requirement', 10), ('interested_candidate', 10), ('detailed_resume', 10), ('responsibilities_responsibility', 10), ('mechanical_engineering', 10), ('minimum_year', 10), ('submit_application', 10), ('job_application', 10), ('responsibility_perform', 10), ('relevant_experience', 10), ('working_hour', 10), ('maintenance_work', 10), ('apply_button', 10), ('air_conditioning', 10), ('candidate_possess', 10), ('datum_and', 10), ('or_resume', 10), ('job_scope', 9), ('licence_no', 9), ('email_detailed', 9), ('m_e', 9), ('diploma_engineering', 9), ('interpersonal_skill', 9), ('reg_no', 9), ('access_control', 9), ('rotate_shift', 9), ('trouble_shoot', 9), ('working_location', 8), ('good_communication', 8), ('day_work', 8), ('am_pm', 8), ('pte_ltdea', 8), ('services_pte', 8), ('on_site', 8), ('professional_certificate', 8), ('click_apply', 8), ('license_no', 8), ('job_requirements', 8), ('send_resume', 8), ('com_sg', 7), ('hoc_duty', 7), ('requirements_min', 7), ('pharmacy_technician', 7), ('experience_work', 7), ('able_start', 7), ('set_up', 7), ('machine_equipment', 7), ('drive_license', 7), ('mon_fri', 7), ('manufacturing_environment', 7), ('confidential_discussion', 7), ('work_week', 7), ('experience_manufacturing', 7), ('information_resume', 7), ('current_expect', 7), ('equipment_perform', 7), ('e_g', 7), ('kindly_email', 7), ('year_experience', 7), ('min_nitec', 7), ('shift_work', 7), ('notice_period', 7), ('requirement_min', 7), ('electrical_electronic', 7), ('certificate_nitec', 7), ('resume_emailprotecte', 7), ('apply_interested', 7), ('manufacturing_industry', 6)]\n",
      "\n",
      "\n",
      "[('shortlist_candidate_notify', 19), ('resume_ms_word', 13), ('regret_shortlist_candidate', 13), ('year_work_experience', 11), ('roles_responsibilities_responsibility', 10), ('personal_datum_and', 10), ('datum_and_or', 10), ('and_or_resume', 10), ('ms_word_format', 9), ('update_resume_ms', 8), ('ad_hoc_duty', 7), ('email_detailed_resume', 7), ('experience_welcome_apply', 7), ('current_expect_salary', 7), ('professional_certificate_nitec', 7), ('able_work_independently', 6), ('communication_interpersonal_skill', 6), ('day_work_week', 6), ('reason_s_leave', 6), ('word_format_emailprotecte', 6), ('submit_update_resume', 6), ('security_alarm_system', 6), ('alarm_system_door', 6), ('system_door_access', 6), ('door_access_control', 6), ('access_control_system', 6), ('min_year_work', 6), ('com_note_shortlist', 6), ('note_shortlist_candidate', 6), ('pte_ltd_ea', 5), ('ea_licence_no', 5), ('hoc_duty_assign', 5), ('able_start_work', 5), ('relevant_working_experience', 5), ('minimum_year_relevant', 5), ('year_relevant_working', 5), ('nitec_diploma_engineering', 5), ('class_drive_license', 5), ('hand_on_experience', 5), ('good_communication_interpersonal', 5), ('roles_responsibilities_job', 5), ('collecting_use_retain', 5), ('use_retain_disclose', 5), ('retain_disclose_personal', 5), ('disclose_personal_information', 5), ('personal_information_prospective', 5), ('information_prospective_employer', 5), ('prospective_employer_consideration', 5), ('weekend_public_holiday', 5), ('possess_relevant_experience', 5), ('format_apply_button', 5), ('approachable_mci_consultant', 5), ('mci_consultant_soon', 5), ('consultant_soon_confidential', 5), ('soon_confidential_discussion', 5), ('career_services_pte', 5), ('expect_salary_date', 5), ('salary_date_availability', 5), ('electrical_electronic_engineering', 5), ('regret_inform_shortlist', 5), ('inform_shortlist_candidate', 5), ('include_follow_information', 5), ('follow_information_resume', 5), ('information_resume_education', 5), ('availability_notice_period', 5), ('submit_personal_datum', 5), ('or_resume_consent', 5), ('resume_consent_collection', 5), ('consent_collection_use', 5), ('collection_use_disclosure', 5), ('use_disclosure_personal', 5), ('disclosure_personal_datum', 5), ('or_resume_company', 5), ('resume_company_or', 5), ('company_or_agent', 5), ('or_agent_purpose', 5), ('agent_purpose_processing', 5), ('purpose_processing_administration', 5), ('processing_administration_company', 5), ('administration_company_relate', 5), ('company_relate_job', 5), ('relate_job_application', 5), ('services_pte_ltdea', 5), ('air_conditioning_system', 5), ('start_work_immediately', 5), ('responsibilities_responsibility_responsible', 5), ('keen_apply_position', 5), ('apply_position_kindly', 5), ('position_kindly_email', 5), ('kindly_email_detailed', 5), ('detailed_resume_ms', 5), ('ms_word_hr', 5), ('word_hr_recruit', 5), ('hr_recruit_expert', 5), ('recruit_expert_com', 5), ('expert_com_note', 5), ('on_the_job', 5), ('shortlist_candidate_contact', 4), ('diploma_pharmaceutical_science', 4), ('personal_data_protection', 4)]\n",
      "\n",
      "\n",
      "[('regret_shortlist_candidate_notify', 12), ('personal_datum_and_or', 10), ('datum_and_or_resume', 10), ('resume_ms_word_format', 7), ('security_alarm_system_door', 6), ('alarm_system_door_access', 6), ('system_door_access_control', 6), ('door_access_control_system', 6), ('min_year_work_experience', 6), ('com_note_shortlist_candidate', 6), ('ad_hoc_duty_assign', 5), ('good_communication_interpersonal_skill', 5), ('collecting_use_retain_disclose', 5), ('use_retain_disclose_personal', 5), ('retain_disclose_personal_information', 5), ('disclose_personal_information_prospective', 5), ('personal_information_prospective_employer', 5), ('information_prospective_employer_consideration', 5), ('submit_update_resume_ms', 5), ('approachable_mci_consultant_soon', 5), ('mci_consultant_soon_confidential', 5), ('consultant_soon_confidential_discussion', 5), ('expect_salary_date_availability', 5), ('regret_inform_shortlist_candidate', 5), ('include_follow_information_resume', 5), ('follow_information_resume_education', 5), ('submit_personal_datum_and', 5), ('and_or_resume_consent', 5), ('or_resume_consent_collection', 5), ('resume_consent_collection_use', 5), ('consent_collection_use_disclosure', 5), ('collection_use_disclosure_personal', 5), ('use_disclosure_personal_datum', 5), ('disclosure_personal_datum_and', 5), ('and_or_resume_company', 5), ('or_resume_company_or', 5), ('resume_company_or_agent', 5), ('company_or_agent_purpose', 5), ('or_agent_purpose_processing', 5), ('agent_purpose_processing_administration', 5), ('purpose_processing_administration_company', 5), ('processing_administration_company_relate', 5), ('administration_company_relate_job', 5), ('company_relate_job_application', 5), ('roles_responsibilities_responsibility_responsible', 5), ('keen_apply_position_kindly', 5), ('apply_position_kindly_email', 5), ('position_kindly_email_detailed', 5), ('kindly_email_detailed_resume', 5), ('email_detailed_resume_ms', 5), ('detailed_resume_ms_word', 5), ('resume_ms_word_hr', 5), ('ms_word_hr_recruit', 5), ('word_hr_recruit_expert', 5), ('hr_recruit_expert_com', 5), ('recruit_expert_com_note', 5), ('expert_com_note_shortlist', 5), ('note_shortlist_candidate_notify', 5), ('year_relevant_working_experience', 4), ('update_resume_ms_word', 4), ('personal_data_protection_act', 4), ('submit_application_resume_we', 4), ('applicant_possess_relevant_experience', 4), ('possess_relevant_experience_responsibility', 4), ('relevant_experience_responsibility_welcome', 4), ('experience_responsibility_welcome_apply', 4), ('responsibility_welcome_apply_submit', 4), ('update_resume_ms_format', 4), ('dedicate_approachable_mci_consultant', 4), ('cctv_security_alarm_system', 4), ('information_resume_education_background', 4), ('resume_education_background_work', 4), ('education_background_work_experience', 4), ('background_work_experience_point', 4), ('work_experience_point_form', 4), ('experience_point_form_reason', 4), ('point_form_reason_s', 4), ('form_reason_s_leave', 4), ('reason_s_leave_current', 4), ('s_leave_current_expect', 4), ('leave_current_expect_salary', 4), ('current_expect_salary_date', 4), ('salary_date_availability_notice', 4), ('date_availability_notice_period', 4), ('availability_notice_period_submit', 4), ('notice_period_submit_personal', 4), ('period_submit_personal_datum', 4), ('career_services_pte_ltdea', 4), ('able_start_work_immediately', 4), ('candidate_possess_professional_certificate', 4), ('possess_professional_certificate_nitec', 4), ('engineering_mechatronic_electromechanical_equivalent', 4), ('on_the_job_training', 4), ('we_regret_shortlist_candidate', 3), ('minimum_year_relevant_working', 3), ('possess_class_drive_license', 3), ('salary_commensurate_accord_experience', 3), ('commensurate_accord_experience_qualification', 3), ('roles_responsibilities_job_description', 3), ('application_resume_we_deem', 3)]\n",
      "\n",
      "\n",
      "software|developer|java|network|system  ------>  183 posting(s)\n",
      "\n",
      "\n",
      "[('experience', 540), ('work', 329), ('development', 319), ('system', 317), ('application', 316), ('team', 274), ('design', 265), ('software', 226), ('business', 194), ('support', 187), ('technology', 180), ('develop', 179), ('requirement', 176), ('year', 173), ('knowledge', 173), ('network', 171), ('skill', 170), ('project', 168), ('test', 159), ('technical', 156), ('good', 156), ('service', 142), ('strong', 134), ('web', 132), ('engineering', 130), ('solution', 128), ('code', 126), ('computer', 126), ('management', 125), ('provide', 121), ('job', 120), ('ensure', 117), ('degree', 111), ('new', 111), ('user', 111), ('product', 110), ('candidate', 104), ('java', 104), ('include', 99), ('responsibility', 98), ('relate', 97), ('security', 96), ('science', 95), ('understand', 92), ('tool', 92), ('implementation', 91), ('customer', 90), ('process', 88), ('platform', 88), ('build', 87), ('information', 86), ('end', 86), ('developer', 86), ('framework', 85), ('testing', 84), ('responsibilities', 83), ('working', 80), ('quality', 80), ('implement', 80), ('s', 79), ('manage', 79), ('apply', 78), ('maintain', 78), ('datum', 77), ('issue', 76), ('environment', 76), ('company', 76), ('problem', 76), ('role', 76), ('position', 75), ('client', 75), ('communication', 75), ('server', 74), ('mobile', 73), ('roles', 71), ('high', 71), ('lead', 70), ('engineer', 70), ('level', 69), ('database', 69), ('sql', 68), ('write', 67), ('ability', 67), ('etc', 66), ('able', 65), ('c', 64), ('diploma', 64), ('perform', 64), ('resume', 63), ('singapore', 63), ('create', 63), ('documentation', 62), ('performance', 62), ('api', 62), ('require', 62), ('base', 61), ('infrastructure', 61), ('review', 60), ('javascript', 60), ('data', 60)]\n",
      "\n",
      "\n",
      "[('computer_science', 88), ('roles_responsibilities', 69), ('software_development', 64), ('year_experience', 53), ('degree_computer', 45), ('communication_skill', 37), ('work_closely', 36), ('information_technology', 34), ('working_experience', 33), ('work_experience', 32), ('minimum_year', 32), ('hand_on', 32), ('web_application', 32), ('problem_solve', 30), ('sql_server', 29), ('e_g', 28), ('application_development', 28), ('and_or', 27), ('ea_license', 27), ('add_advantage', 26), ('mobile_application', 25), ('relate_field', 25), ('interested_candidate', 24), ('software_engineering', 24), ('license_no', 24), ('pte_ltd', 24), ('development_experience', 23), ('on_experience', 23), ('year_relevant', 23), ('business_requirement', 23), ('experience_develop', 22), ('design_develop', 22), ('high_quality', 22), ('design_development', 21), ('design_implementation', 21), ('front_end', 20), ('computer_engineering', 20), ('shortlist_candidate', 20), ('network_security', 20), ('work_independently', 20), ('system_design', 19), ('reg_no', 19), ('team_player', 18), ('life_cycle', 18), ('good_practice', 18), ('ui_ux', 18), ('new_technology', 17), ('diploma_degree', 17), ('degree_diploma', 17), ('engineering_computer', 17), ('you_ll', 16), ('large_scale', 16), ('job_description', 16), ('word_format', 16), ('code_review', 15), ('software_engineer', 15), ('send_resume', 15), ('candidate_notify', 15), ('development_life', 15), ('end_to', 15), ('to_end', 15), ('solve_skill', 15), ('email_update', 15), ('good_knowledge', 15), ('year_work', 14), ('relevant_experience', 14), ('science_information', 14), ('science_relate', 14), ('able_work', 14), ('supply_chain', 14), ('experience_software', 13), ('responsibility_develop', 13), ('work_team', 13), ('candidate_possess', 13), ('high_performance', 13), ('skill_ability', 13), ('attention_detail', 13), ('ci_cd', 13), ('ms_word', 13), ('test_plan', 13), ('experience_manage', 13), ('candidate_wish', 13), ('wish_apply', 13), ('job_responsibility', 12), ('bachelor_degree', 12), ('skill_experience', 12), ('ideal_candidate', 12), ('job_requirements', 12), ('ad_hoc', 12), ('requirements_diploma', 12), ('node_js', 12), ('root_cause', 12), ('programming_language', 12), ('hand_experience', 12), ('develop_test', 12), ('test_case', 12), ('update_copy', 12), ('copy_resume', 12), ('html_css', 12), ('development_team', 12)]\n",
      "\n",
      "\n",
      "[('degree_computer_science', 43), ('hand_on_experience', 22), ('ea_license_no', 20), ('end_to_end', 15), ('problem_solve_skill', 15), ('year_work_experience', 14), ('shortlist_candidate_notify', 14), ('computer_science_information', 14), ('development_life_cycle', 14), ('computer_science_relate', 14), ('science_information_technology', 13), ('ms_word_format', 13), ('interested_candidate_wish', 13), ('candidate_wish_apply', 13), ('email_update_copy', 12), ('update_copy_resume', 12), ('regret_shortlist_candidate', 11), ('year_relevant_experience', 11), ('minimum_year_experience', 11), ('alternatively_email_update', 11), ('copy_resume_attn', 11), ('pte_ltd_ea', 11), ('computer_science_computer', 10), ('wish_apply_advertised', 10), ('apply_advertised_position', 10), ('experience_software_development', 9), ('degree_information_technology', 9), ('engineering_computer_science', 9), ('roles_responsibilities_job', 9), ('science_relate_field', 9), ('software_development_life', 9), ('agile_software_development', 9), ('diploma_computer_science', 9), ('ui_ux_design', 9), ('science_computer_engineering', 9), ('resume_ms_word', 9), ('computer_science_engineering', 8), ('minimum_year_relevant', 8), ('ad_hoc_duty', 8), ('bachelor_s_degree', 8), ('large_scale_network', 8), ('work_independently_team', 8), ('html_css_javascript', 8), ('software_engineering_solution', 8), ('ltd_ea_license', 8), ('singapore_citizen_permanent', 8), ('citizen_permanent_resident', 8), ('able_work_independently', 8), ('computer_science_equivalent', 8), ('click_apply_now', 8), ('analytical_problem_solve', 8), ('interested_candidate_send', 7), ('information_technology_equivalent', 7), ('interpersonal_communication_skill', 7), ('write_communication_skill', 7), ('diploma_degree_computer', 7), ('regret_inform_shortlist', 7), ('degree_diploma_computer', 7), ('emailprotecte_ea_license', 7), ('verbal_communication_skill', 7), ('shortlist_applicant_notify', 7), ('fast_pace_environment', 7), ('director_business_development', 7), ('add_advantage_working', 7), ('requirement_diploma_degree', 6), ('day_to_day', 6), ('requirement_degree_computer', 6), ('inform_shortlist_candidate', 6), ('address_emailprotecte_ea', 6), ('user_acceptance_testing', 6), ('resolve_issue_arise', 6), ('write_verbal_communication', 6), ('learn_new_technology', 6), ('information_systems_equivalent', 6), ('roles_responsibilities_position', 6), ('send_update_resume', 6), ('root_cause_analysis', 6), ('ideal_candidate_possess', 6), ('advertised_position_click', 6), ('position_click_apply', 6), ('min_year_experience', 6), ('ea_reg_no', 6), ('equal_opportunity_employer', 6), ('verbal_write_communication', 6), ('high_quality_code', 6), ('advantage_working_experience', 6), ('software_design_development', 5), ('diploma_degree_information', 5), ('information_technology_computer', 5), ('team_player_good', 5), ('web_mobile_application', 5), ('requirements_diploma_degree', 5), ('year_hand_on', 5), ('diploma_advanced_high', 5), ('advanced_high_graduate', 5), ('high_graduate_diploma', 5), ('work_experience_relate', 5), ('experience_relate_field', 5), ('good_communication_skill', 5), ('user_acceptance_test', 5)]\n",
      "\n",
      "\n",
      "[('computer_science_information_technology', 13), ('interested_candidate_wish_apply', 13), ('email_update_copy_resume', 12), ('alternatively_email_update_copy', 11), ('update_copy_resume_attn', 11), ('degree_computer_science_information', 10), ('candidate_wish_apply_advertised', 10), ('wish_apply_advertised_position', 10), ('computer_science_relate_field', 9), ('software_development_life_cycle', 9), ('computer_science_computer_engineering', 9), ('resume_ms_word_format', 9), ('regret_shortlist_candidate_notify', 8), ('pte_ltd_ea_license', 8), ('singapore_citizen_permanent_resident', 8), ('diploma_degree_computer_science', 7), ('degree_diploma_computer_science', 7), ('regret_inform_shortlist_candidate', 6), ('address_emailprotecte_ea_license', 6), ('emailprotecte_ea_license_no', 6), ('apply_advertised_position_click', 6), ('advertised_position_click_apply', 6), ('analytical_problem_solve_skill', 6), ('add_advantage_working_experience', 6), ('diploma_degree_information_technology', 5), ('requirement_degree_computer_science', 5), ('diploma_advanced_high_graduate', 5), ('advanced_high_graduate_diploma', 5), ('work_experience_relate_field', 5), ('degree_computer_science_relate', 5), ('ea_license_no_reg', 5), ('support_application_production_analyze', 5), ('application_production_analyze_resolve', 5), ('production_analyze_resolve_issue', 5), ('analyze_resolve_issue_arise', 5), ('write_verbal_communication_skill', 5), ('shortlist_applicant_notify_consultant', 5), ('capita_pte_ltd_ea', 5), ('ltd_ea_license_no', 5), ('bachelor_degree_computer_science', 5), ('year_relevant_working_experience', 5), ('technical_skills_competencies_trainee', 5), ('roles_responsibilities_job_description', 5), ('competencies_trainee_learn_sgunited', 5), ('trainee_learn_sgunited_traineeship', 5), ('learn_sgunited_traineeship_programme', 5), ('candidate_send_update_resume', 5), ('computer_science_software_engineering', 5), ('degree_computer_science_computer', 5), ('personal_data_protection_act', 5), ('position_click_apply_now', 5), ('verbal_write_communication_skill', 5), ('degree_computer_science_equivalent', 5), ('success_human_resource_centre', 5), ('human_resource_centre_pte', 5), ('resource_centre_pte_ltd', 5), ('degree_information_technology_computer', 4), ('good_interpersonal_communication_skill', 4), ('minimum_year_relevant_experience', 4), ('inform_shortlist_candidate_notify', 4), ('diploma_bachelor_s_degree', 4), ('year_s_work_experience', 4), ('s_work_experience_relate', 4), ('experience_relate_field_require', 4), ('relate_field_require_position', 4), ('large_scale_network_route', 4), ('development_life_cycle_include', 4), ('we_regret_shortlist_candidate', 4), ('shortlist_candidate_notify_job', 4), ('candidate_notify_job_code', 4), ('address_emailprotected_ea_license', 4), ('emailprotected_ea_license_no', 4), ('study_evaluate_analyze_business', 4), ('evaluate_analyze_business_requirement', 4), ('analyze_business_requirement_functional', 4), ('business_requirement_functional_specification', 4), ('provide_detailed_estimation_software', 4), ('detailed_estimation_software_engineering', 4), ('estimation_software_engineering_solution', 4), ('implement_test_software_engineering', 4), ('test_software_engineering_solution', 4), ('enable_support_functional_user', 4), ('support_functional_user_acceptance', 4), ('functional_user_acceptance_testing', 4), ('ea_personnel_reg_no', 4), ('software_engineering_computer_engineering', 4), ('interested_party_send_resume', 4), ('degree_computer_science_engineering', 4), ('science_information_technology_equivalent', 4), ('experience_agile_software_development', 4), ('criteria_sgunitedtraineeships_singapore_citizen', 4), ('sgunitedtraineeships_singapore_citizen_permanent', 4), ('graduated_graduating_calendar_year', 4), ('bachelors_degree_computer_science', 4), ('able_work_independently_team', 4), ('lead_information_communication_technology', 4), ('information_communication_technology_ict', 4), ('ideal_candidate_possess_follow', 4), ('ad_hoc_duty_assign', 4), ('degree_computer_science_it', 4)]\n",
      "\n",
      "\n",
      "account  ------>  124 posting(s)\n",
      "\n",
      "\n",
      "[('experience', 204), ('account', 189), ('work', 186), ('accounting', 185), ('customer', 145), ('business', 125), ('management', 125), ('team', 123), ('skill', 120), ('report', 106), ('client', 101), ('prepare', 99), ('year', 99), ('ensure', 94), ('sale', 94), ('financial', 90), ('assist', 90), ('job', 87), ('manage', 81), ('monthly', 80), ('support', 80), ('payment', 79), ('process', 78), ('good', 78), ('tax', 76), ('requirement', 75), ('finance', 74), ('reconciliation', 68), ('candidate', 67), ('responsibility', 66), ('include', 65), ('service', 62), ('degree', 61), ('end', 60), ('relate', 60), ('communication', 60), ('handle', 60), ('diploma', 60), ('office', 57), ('company', 57), ('knowledge', 57), ('new', 57), ('provide', 55), ('review', 54), ('strong', 54), ('able', 54), ('duty', 54), ('system', 54), ('ap', 53), ('project', 52), ('audit', 50), ('require', 50), ('perform', 50), ('relevant', 50), ('assign', 49), ('responsibilities', 49), ('invoice', 49), ('singapore', 48), ('responsible', 46), ('position', 45), ('role', 45), ('bank', 44), ('industry', 43), ('month', 43), ('apply', 43), ('gst', 43), ('ability', 42), ('set', 42), ('matter', 41), ('internal', 41), ('s', 40), ('excel', 40), ('function', 40), ('opportunity', 40), ('application', 39), ('roles', 39), ('day', 39), ('maintain', 39), ('statement', 37), ('preparation', 37), ('email', 37), ('development', 37), ('ad', 36), ('hoc', 36), ('working', 36), ('advantage', 36), ('ms', 36), ('equivalent', 36), ('develop', 36), ('compliance', 35), ('minimum', 35), ('update', 35), ('reporting', 35), ('relationship', 35), ('environment', 34), ('requirements', 34), ('accountancy', 34), ('cash', 34), ('schedule', 34), ('task', 33)]\n",
      "\n",
      "\n",
      "[('roles_responsibilities', 38), ('ad_hoc', 36), ('communication_skill', 36), ('work_experience', 34), ('month_end', 33), ('set_account', 27), ('year_experience', 25), ('duty_assign', 24), ('bank_reconciliation', 24), ('team_player', 24), ('pte_ltd', 18), ('ability_work', 18), ('prepare_monthly', 18), ('degree_accounting', 17), ('ensure_timely', 17), ('minimum_year', 17), ('shortlist_candidate', 17), ('ap_ar', 17), ('year_relevant', 17), ('end_closing', 17), ('interested_candidate', 16), ('year_end', 16), ('ms_office', 16), ('microsoft_office', 15), ('and_or', 15), ('degree_accountancy', 15), ('diploma_degree', 15), ('fast_pace', 14), ('hoc_duty', 14), ('year_work', 14), ('able_work', 14), ('job_description', 14), ('add_advantage', 14), ('audit_schedule', 13), ('requirement_minimum', 13), ('account_payable', 13), ('multi_task', 13), ('financial_statement', 12), ('balance_sheet', 12), ('proficient_ms', 12), ('license_no', 12), ('work_closely', 12), ('candidate_notify', 12), ('new_business', 12), ('relate_field', 12), ('accounting_software', 12), ('cash_flow', 12), ('work_independently', 12), ('internal_external', 12), ('external_auditor', 11), ('financial_management', 11), ('business_development', 11), ('account_management', 11), ('experience_relate', 11), ('account_receivable', 11), ('good_communication', 11), ('relevant_experience', 11), ('customer_service', 11), ('problem_solve', 10), ('verbal_write', 10), ('click_apply', 10), ('handle_set', 10), ('interested_applicant', 10), ('fix_asset', 10), ('working_experience', 10), ('monthly_bank', 10), ('diploma_accounting', 10), ('ms_word', 10), ('quarterly_gst', 10), ('experience_accounting', 10), ('accounting_equivalent', 10), ('equivalent_year', 10), ('key_account', 10), ('general_ledger', 9), ('assist_preparation', 9), ('accounting_experience', 9), ('strong_communication', 9), ('short_notice', 9), ('interpersonal_skill', 9), ('proficient_microsoft', 9), ('e_g', 9), ('accountancy_equivalent', 9), ('data_entry', 9), ('attention_detail', 9), ('financial_reporting', 9), ('accounting_finance', 9), ('statement_account', 9), ('tax_return', 9), ('s_degree', 8), ('account_reconciliation', 8), ('journal_entry', 8), ('management_report', 8), ('ensure_compliance', 8), ('strong_analytical', 8), ('hand_on', 8), ('relate_matter', 8), ('graduate_diploma', 8), ('good_knowledge', 8), ('com_sg', 8), ('diploma_accountancy', 8)]\n",
      "\n",
      "\n",
      "[('ad_hoc_duty', 14), ('year_work_experience', 14), ('month_end_closing', 14), ('hoc_duty_assign', 10), ('shortlist_candidate_notify', 10), ('experience_relate_field', 10), ('handle_set_account', 9), ('monthly_bank_reconciliation', 9), ('work_fast_pace', 8), ('proficient_ms_office', 8), ('work_experience_relate', 8), ('fast_pace_environment', 8), ('strong_analytical_problem', 7), ('problem_solve_skill', 7), ('proficient_microsoft_office', 7), ('roles_responsibilities_job', 7), ('ms_word_format', 7), ('communication_interpersonal_skill', 7), ('good_team_player', 7), ('interpersonal_communication_skill', 7), ('regret_shortlist_candidate', 7), ('write_communication_skill', 7), ('diploma_degree_accountancy', 7), ('year_relevant_experience', 7), ('financial_reporting_standards', 7), ('analytical_problem_solve', 6), ('minimum_year_work', 6), ('ea_license_no', 6), ('bachelor_s_degree', 6), ('resume_ms_word', 6), ('write_verbal_communication', 6), ('verbal_communication_skill', 6), ('verbal_write_communication', 6), ('singapore_financial_reporting', 6), ('ability_work_independently', 6), ('able_multi_task', 6), ('equivalent_year_experience', 6), ('advanced_high_graduate', 5), ('high_graduate_diploma', 5), ('day_to_day', 5), ('ad_hoc_assignment', 5), ('requirement_minimum_diploma', 5), ('require_skill_s', 5), ('financial_management_reporting', 5), ('finance_accountancy_banking', 5), ('accountancy_banking_equivalent', 5), ('ap_ar_gl', 5), ('interested_candidate_send', 5), ('degree_accounting_finance', 5), ('good_communication_skill', 5), ('requirements_min_diploma', 5), ('able_start_work', 5), ('prepare_monthly_bank', 5), ('perform_ad_hoc', 5), ('express_pte_ltdea', 5), ('assist_month_end', 5), ('year_accounting_experience', 4), ('diploma_advanced_high', 4), ('proficient_ms_excel', 4), ('microsoft_office_application', 4), ('interested_candidate_wish', 4), ('candidate_wish_apply', 4), ('wish_apply_advertised', 4), ('apply_advertised_position', 4), ('advertised_position_click', 4), ('position_click_apply', 4), ('click_apply_now', 4), ('apply_now_alternatively', 4), ('now_alternatively_email', 4), ('alternatively_email_update', 4), ('email_update_copy', 4), ('update_copy_resume', 4), ('copy_resume_attn', 4), ('month_end_close', 4), ('fix_asset_register', 4), ('responsibilities_job_description', 4), ('companys_product_service', 4), ('c_level_executive', 4), ('partial_set_account', 4), ('relevant_work_experience', 4), ('team_player_able', 4), ('year_end_audit', 4), ('requirement_minimum_year', 4), ('prepare_monthly_financial', 4), ('monthly_financial_management', 4), ('candidate_possess_diploma', 4), ('diploma_finance_accountancy', 4), ('equivalent_require_language', 4), ('require_language_s', 4), ('language_s_english', 4), ('year_s_work', 4), ('s_work_experience', 4), ('good_interpersonal_communication', 4), ('relate_field_require', 4), ('field_require_position', 4), ('experience_accounting_software', 4), ('roles_responsibilities_responsibility', 4), ('diploma_professional_degree', 4), ('invoice_credit_note', 4), ('relevant_working_experience', 4)]\n",
      "\n",
      "\n",
      "[('ad_hoc_duty_assign', 10), ('work_experience_relate_field', 8), ('strong_analytical_problem_solve', 6), ('minimum_year_work_experience', 6), ('resume_ms_word_format', 6), ('write_verbal_communication_skill', 6), ('verbal_write_communication_skill', 6), ('singapore_financial_reporting_standards', 6), ('analytical_problem_solve_skill', 5), ('advanced_high_graduate_diploma', 5), ('finance_accountancy_banking_equivalent', 5), ('prepare_monthly_bank_reconciliation', 5), ('diploma_advanced_high_graduate', 4), ('interested_candidate_wish_apply', 4), ('candidate_wish_apply_advertised', 4), ('wish_apply_advertised_position', 4), ('apply_advertised_position_click', 4), ('advertised_position_click_apply', 4), ('position_click_apply_now', 4), ('click_apply_now_alternatively', 4), ('apply_now_alternatively_email', 4), ('now_alternatively_email_update', 4), ('alternatively_email_update_copy', 4), ('email_update_copy_resume', 4), ('update_copy_resume_attn', 4), ('roles_responsibilities_job_description', 4), ('equivalent_require_language_s', 4), ('require_language_s_english', 4), ('year_s_work_experience', 4), ('good_interpersonal_communication_skill', 4), ('regret_shortlist_candidate_notify', 4), ('experience_relate_field_require', 4), ('relate_field_require_position', 4), ('month_end_year_end', 4), ('work_fast_pace_environment', 4), ('duty_assign_requirement_minimum', 4), ('pte_ltdea_license_no', 4), ('contact_office_confidential_discussion', 3), ('office_confidential_discussion_job', 3), ('confidential_discussion_job_code', 3), ('address_emailprotecte_ea_license', 3), ('emailprotecte_ea_license_no', 3), ('able_work_fast_pace', 3), ('year_relevant_work_experience', 3), ('liaise_auditor_tax_agent', 3), ('provide_ad_hoc_support', 3), ('prepare_monthly_financial_management', 3), ('monthly_financial_management_report', 3), ('high_graduate_diploma_finance', 3), ('graduate_diploma_finance_accountancy', 3), ('diploma_finance_accountancy_banking', 3), ('accountancy_banking_equivalent_require', 3), ('banking_equivalent_require_language', 3), ('language_s_english_work', 3), ('s_english_work_experience', 3), ('english_work_experience_relate', 3), ('field_require_position_require', 3), ('require_position_require_skill', 3), ('position_require_skill_s', 3), ('year_work_experience_relate', 3), ('bachelor_s_degree_post', 3), ('s_degree_post_graduate', 3), ('degree_post_graduate_diploma', 3), ('post_graduate_diploma_professional', 3), ('graduate_diploma_professional_degree', 3), ('diploma_professional_degree_finance', 3), ('professional_degree_finance_accountancy', 3), ('skill_s_microsoft_office', 3), ('specialize_finance_general_cost', 3), ('finance_general_cost_accounting', 3), ('general_cost_accounting_equivalent', 3), ('year_relevant_working_experience', 3), ('team_player_able_work', 3), ('disclose_personal_information_prospective', 3), ('personal_information_prospective_employer', 3), ('information_prospective_employer_consideration', 3), ('we_regret_shortlist_candidate', 3), ('end_year_end_closing', 3), ('ms_office_skill_particularly', 3), ('office_skill_particularly_excel', 3), ('recruit_express_pte_ltd', 3), ('ms_word_format_to', 3), ('requirements_min_diploma_degree', 3), ('strong_verbal_write_communication', 3), ('ability_work_independently_team', 3), ('hoc_duty_assign_requirement', 3), ('excellent_interpersonal_communication_skill', 3), ('express_pte_ltdea_license', 3), ('assist_month_end_closing', 3), ('minimum_year_relevant_experience', 3), ('fresh_graduate_welcome_apply', 3), ('account_receivable_account_payable', 3), ('good_communication_interpersonal_skill', 3), ('balance_sheet_account_reconciliation', 2), ('p_l_balance_sheet', 2), ('degree_accounting_minimum_year', 2), ('possess_strong_analytical_problem', 2), ('hoc_duty_assign_time', 2), ('duty_assign_time_time', 2), ('year_work_experience_finance', 2)]\n",
      "\n",
      "\n",
      "hr|human  ------>  89 posting(s)\n",
      "\n",
      "\n",
      "[('hr', 327), ('work', 155), ('employee', 149), ('management', 117), ('support', 111), ('experience', 93), ('business', 93), ('job', 91), ('process', 86), ('team', 83), ('ensure', 82), ('good', 80), ('skill', 80), ('include', 75), ('provide', 70), ('staff', 70), ('development', 67), ('relate', 66), ('human', 64), ('requirement', 64), ('candidate', 64), ('assist', 63), ('manage', 60), ('training', 58), ('year', 55), ('strong', 54), ('position', 54), ('payroll', 53), ('communication', 53), ('administration', 52), ('resource', 51), ('report', 50), ('office', 50), ('company', 50), ('etc', 49), ('new', 49), ('recruitment', 49), ('application', 48), ('duty', 47), ('system', 47), ('able', 47), ('diploma', 46), ('performance', 46), ('s', 45), ('manager', 45), ('review', 44), ('maintain', 43), ('update', 43), ('develop', 42), ('degree', 42), ('resume', 41), ('require', 41), ('datum', 41), ('responsibility', 40), ('matter', 40), ('day', 40), ('prepare', 39), ('handle', 39), ('apply', 39), ('service', 38), ('email', 38), ('project', 38), ('activity', 37), ('function', 37), ('policy', 37), ('no', 36), ('learn', 36), ('talent', 36), ('pass', 35), ('salary', 35), ('follow', 35), ('knowledge', 34), ('record', 34), ('contract', 34), ('e', 34), ('information', 33), ('initiative', 33), ('role', 33), ('relevant', 33), ('benefit', 33), ('interested', 33), ('employment', 32), ('environment', 31), ('learning', 31), ('department', 30), ('ea', 30), ('express', 29), ('send', 29), ('interpersonal', 29), ('working', 28), ('assign', 28), ('location', 28), ('hour', 28), ('people', 28), ('annual', 27), ('issue', 27), ('drive', 27), ('ability', 27), ('recruit', 27), ('pte', 27)]\n",
      "\n",
      "\n",
      "[('human_resource', 42), ('communication_skill', 29), ('recruit_express', 26), ('pte_ltd', 24), ('work_pass', 24), ('ad_hoc', 23), ('bu_s', 21), ('team_player', 20), ('roles_responsibilities', 19), ('express_pte', 18), ('human_resources', 17), ('interested_candidate', 17), ('shortlist_candidate', 17), ('hr_manager', 17), ('com_sg', 16), ('support_hr', 16), ('work_experience', 16), ('employee_engagement', 16), ('interpersonal_skill', 16), ('performance_management', 15), ('hr_function', 15), ('e_g', 15), ('job_description', 14), ('duty_assign', 14), ('hr_operations', 14), ('hr_policy', 14), ('ltd_ea', 14), ('resource_management', 13), ('hr_relate', 13), ('good_communication', 13), ('year_relevant', 13), ('spectrum_hr', 12), ('relate_matter', 12), ('hoc_duty', 12), ('microsoft_office', 12), ('recruitment_selection', 12), ('new_hire', 12), ('ea_license', 12), ('interested_applicant', 12), ('work_independently', 11), ('recruitexpress_com', 11), ('able_work', 11), ('compensation_benefit', 11), ('license_no', 11), ('regret_shortlist', 11), ('update_resume', 11), ('ms_word', 11), ('payroll_processing', 10), ('and_or', 10), ('multi_task', 10), ('hr_operation', 10), ('business_unit', 10), ('able_start', 10), ('relate_field', 10), ('hr_department', 10), ('provide_administrative', 10), ('administrative_support', 10), ('training_development', 10), ('talent_acquisition', 10), ('performance_appraisal', 10), ('work_environment', 10), ('send_resume', 10), ('interpersonal_communication', 10), ('talent_management', 10), ('possess_good', 9), ('fast_pace', 9), ('on_boarding', 9), ('hr_initiative', 9), ('short_notice', 9), ('job_scope', 9), ('function_include', 9), ('follow_up', 9), ('line_manager', 9), ('relevant_experience', 9), ('personal_datum', 9), ('degree_human', 9), ('minimum_year', 9), ('experience_hr', 9), ('learn_programme', 9), ('ability_multi', 8), ('proficient_ms', 8), ('foreign_worker', 8), ('cpf_submission', 8), ('hr_experience', 8), ('year_experience', 8), ('licence_no', 8), ('skill_ability', 8), ('email_update', 8), ('year_hr', 8), ('ms_office', 8), ('hr_business', 8), ('candidate_contact', 8), ('e_learning', 8), ('communication_interpersonal', 8), ('diploma_degree', 8), ('requirement_minimum', 8), ('privacy_policy', 8), ('shared_services', 8), ('resume_ms', 8), ('candidate_notify', 8)]\n",
      "\n",
      "\n",
      "[('express_pte_ltd', 16), ('recruit_express_pte', 15), ('pte_ltd_ea', 14), ('human_resource_management', 13), ('recruitexpress_com_sg', 11), ('ad_hoc_duty', 11), ('regret_shortlist_candidate', 11), ('hr_relate_matter', 8), ('ea_license_no', 8), ('year_relevant_experience', 8), ('shortlist_candidate_contact', 8), ('communication_interpersonal_skill', 8), ('shortlist_candidate_notify', 8), ('ability_multi_task', 7), ('hoc_duty_assign', 7), ('good_communication_skill', 7), ('able_work_independently', 7), ('provide_administrative_support', 7), ('ea_licence_no', 7), ('interpersonal_communication_skill', 7), ('position_urgent_kindly', 7), ('urgent_kindly_email', 7), ('interested_candidate_send', 7), ('resume_ms_word', 7), ('degree_human_resource', 7), ('able_start_work', 6), ('proficient_microsoft_office', 6), ('work_pass_application', 6), ('work_pass_administration', 6), ('interested_candidate_wish', 6), ('candidate_wish_apply', 6), ('wish_apply_advertised', 6), ('apply_advertised_position', 6), ('proficient_ms_office', 6), ('hire_recruit_express', 6), ('recruit_express_headcount', 6), ('hr_shared_services', 6), ('diploma_human_resource', 6), ('treat_strictest_confidence', 5), ('on_boarding_off', 5), ('boarding_off_boarding', 5), ('human_resource_function', 5), ('bachelor_s_degree', 5), ('send_resume_emailprotecte', 5), ('ltd_ea_licence', 5), ('write_communication_skill', 5), ('https_t_me', 5), ('recruit_express_services', 5), ('express_services_pte', 5), ('services_pte_ltd', 5), ('job_requirements_minimum', 5), ('possess_good_communication', 5), ('good_communication_interpersonal', 5), ('update_resume_ms', 5), ('diploma_degree_human', 5), ('strong_interpersonal_communication', 5), ('lee_recruitexpress_com', 5), ('immediately_short_notice', 5), ('spectrum_hr_function', 5), ('support_bu_s', 5), ('ensure_timely_accurate', 4), ('multi_task_work', 4), ('fast_pace_environment', 4), ('chloe_tan_hui', 4), ('tan_hui_lin', 4), ('no_recruit_express', 4), ('application_renewal_cancellation', 4), ('candidate_possess_diploma', 4), ('possess_diploma_advanced', 4), ('work_experience_relate', 4), ('experience_relate_field', 4), ('relate_field_require', 4), ('field_require_position', 4), ('annual_performance_appraisal', 4), ('performance_appraisal_process', 4), ('annual_salary_review', 4), ('employee_engagement_activity', 4), ('resource_management_year', 4), ('experience_human_resource', 4), ('good_interpersonal_skill', 4), ('advertised_position_email', 4), ('email_update_copy', 4), ('update_copy_resume', 4), ('hr_policy_procedure', 4), ('interested_applicant_send', 4), ('problem_solve_skill', 4), ('roles_responsibilities_job', 4), ('up_to_date', 4), ('requirements_min_diploma', 4), ('interested_applicant_kindly', 4), ('submit_curriculum_vitae', 4), ('curriculum_vitae_personal', 4), ('vitae_personal_datum', 4), ('personal_datum_connection', 4), ('datum_connection_job', 4), ('connection_job_application', 4), ('job_application_deem', 4), ('application_deem_read', 4), ('deem_read_agree', 4), ('read_agree_term', 4)]\n",
      "\n",
      "\n",
      "[('recruit_express_pte_ltd', 14), ('express_pte_ltd_ea', 10), ('ad_hoc_duty_assign', 7), ('regret_shortlist_candidate_contact', 7), ('position_urgent_kindly_email', 7), ('interested_candidate_wish_apply', 6), ('candidate_wish_apply_advertised', 6), ('wish_apply_advertised_position', 6), ('hire_recruit_express_headcount', 6), ('on_boarding_off_boarding', 5), ('pte_ltd_ea_licence', 5), ('ltd_ea_licence_no', 5), ('recruit_express_services_pte', 5), ('express_services_pte_ltd', 5), ('good_communication_interpersonal_skill', 5), ('update_resume_ms_word', 5), ('lee_recruitexpress_com_sg', 5), ('diploma_human_resource_management', 5), ('chloe_tan_hui_lin', 4), ('no_recruit_express_pte', 4), ('candidate_possess_diploma_advanced', 4), ('work_experience_relate_field', 4), ('experience_relate_field_require', 4), ('relate_field_require_position', 4), ('human_resource_management_year', 4), ('apply_advertised_position_email', 4), ('email_update_copy_resume', 4), ('submit_curriculum_vitae_personal', 4), ('curriculum_vitae_personal_datum', 4), ('vitae_personal_datum_connection', 4), ('personal_datum_connection_job', 4), ('datum_connection_job_application', 4), ('connection_job_application_deem', 4), ('job_application_deem_read', 4), ('application_deem_read_agree', 4), ('deem_read_agree_term', 4), ('collection_use_disclosure_personal', 4), ('use_disclosure_personal_datum', 4), ('disclosure_personal_datum_affiliate', 4), ('personal_datum_affiliate_accordance', 4), ('datum_affiliate_accordance_privacy', 4), ('affiliate_accordance_privacy_policy', 4), ('recruit_express_headcount_deploy', 4), ('express_headcount_deploy_to', 4), ('headcount_deploy_to_location', 4), ('outsourcing_team_recruit_express', 4), ('pte_ltd_ea_license', 4), ('urgent_kindly_email_update', 4), ('kindly_email_update_resume', 4), ('email_update_resume_ms', 4), ('resume_ms_word_pdf', 4), ('ms_word_pdf_format', 4), ('diploma_degree_human_resource', 4), ('michelle_lee_recruitexpress_com', 4), ('services_pte_ltd_ea', 4), ('regret_shortlist_candidate_notify', 4), ('human_resource_management_equivalent', 3), ('meet_requirement_role_email', 3), ('requirement_role_email_detailed', 3), ('role_email_detailed_resume', 3), ('email_detailed_resume_word', 3), ('detailed_resume_word_document', 3), ('all_information_treat_strictest', 3), ('information_treat_strictest_confidence', 3), ('perform_daily_hr_duty', 3), ('daily_hr_duty_on', 3), ('hr_duty_on_boarding', 3), ('duty_on_boarding_off', 3), ('able_start_work_short', 3), ('start_work_short_notice', 3), ('spectrum_human_resource_function', 3), ('human_resource_function_include', 3), ('provide_administrative_support_hr', 3), ('qualifications_required_traineeship_role', 3), ('required_traineeship_role_sgunite', 3), ('traineeship_role_sgunite_traineeship', 3), ('performance_management_training_development', 3), ('human_resources_function_include', 3), ('bachelor_s_degree_equivalent', 3), ('advertised_position_email_update', 3), ('position_email_update_copy', 3), ('interested_applicant_send_resume', 3), ('applicant_send_resume_emailprotecte', 3), ('licence_no_regret_shortlist', 3), ('no_regret_shortlist_candidate', 3), ('analytical_problem_solve_skill', 3), ('provide_hr_advice_different', 3), ('respective_business_leader_proactive', 3), ('business_leader_proactive_hr', 3), ('leader_proactive_hr_matter', 3), ('handle_respective_department_core', 3), ('respective_department_core_hr', 3), ('department_core_hr_function', 3), ('core_hr_function_process', 3), ('hr_function_process_recruitment', 3), ('function_process_recruitment_selection', 3), ('process_recruitment_selection_onboarding', 3), ('recruitment_selection_onboarding_compensation', 3), ('selection_onboarding_compensation_benefit', 3), ('onboarding_compensation_benefit_grant', 3)]\n",
      "\n",
      "\n",
      "manager  ------>  260 posting(s)\n",
      "\n",
      "\n",
      "[('management', 687), ('experience', 659), ('work', 628), ('team', 581), ('project', 580), ('business', 475), ('skill', 424), ('ensure', 373), ('manage', 334), ('year', 288), ('product', 287), ('good', 274), ('requirement', 263), ('development', 261), ('strong', 258), ('support', 253), ('include', 246), ('manager', 241), ('process', 241), ('develop', 227), ('communication', 224), ('customer', 221), ('ability', 216), ('lead', 215), ('provide', 215), ('service', 207), ('client', 200), ('technology', 198), ('stakeholder', 195), ('drive', 190), ('job', 184), ('risk', 181), ('able', 180), ('knowledge', 179), ('plan', 178), ('role', 171), ('quality', 169), ('relate', 169), ('industry', 169), ('responsibility', 167), ('relevant', 165), ('review', 163), ('candidate', 163), ('need', 162), ('s', 161), ('system', 159), ('strategy', 154), ('operation', 154), ('key', 153), ('degree', 151), ('new', 150), ('solution', 150), ('office', 150), ('environment', 137), ('design', 135), ('responsible', 134), ('report', 133), ('technical', 133), ('internal', 132), ('company', 130), ('digital', 128), ('opportunity', 126), ('singapore', 126), ('time', 124), ('performance', 123), ('information', 121), ('level', 121), ('application', 119), ('maintain', 116), ('excellent', 114), ('marketing', 113), ('build', 112), ('identify', 111), ('require', 109), ('market', 109), ('delivery', 109), ('datum', 108), ('conduct', 107), ('implementation', 106), ('relationship', 106), ('understand', 106), ('implement', 105), ('standard', 104), ('high', 104), ('compliance', 103), ('engineering', 102), ('monitor', 101), ('activity', 100), ('responsibilities', 100), ('e', 100), ('partner', 98), ('apply', 98), ('staff', 97), ('issue', 96), ('global', 96), ('base', 95), ('meet', 95), ('policy', 93), ('group', 92), ('platform', 92)]\n",
      "\n",
      "\n",
      "[('communication_skill', 104), ('project_management', 95), ('year_experience', 79), ('roles_responsibilities', 79), ('work_experience', 71), ('and_or', 62), ('able_work', 56), ('team_player', 56), ('work_closely', 56), ('e_g', 55), ('minimum_year', 55), ('year_relevant', 52), ('internal_external', 48), ('risk_management', 47), ('management_skill', 42), ('fast_pace', 41), ('customer_service', 41), ('skill_ability', 41), ('problem_solve', 39), ('business_development', 38), ('year_work', 38), ('management_experience', 38), ('add_advantage', 37), ('interpersonal_skill', 37), ('project_manager', 36), ('relevant_experience', 35), ('work_independently', 33), ('track_record', 33), ('ability_work', 32), ('job_description', 29), ('hand_on', 28), ('working_experience', 28), ('candidate_notify', 27), ('strong_analytical', 27), ('cross_functional', 26), ('multi_task', 26), ('skill_able', 26), ('real_estate', 26), ('pace_environment', 25), ('good_interpersonal', 25), ('ensure_compliance', 25), ('relate_field', 25), ('good_practice', 24), ('external_stakeholder', 24), ('strong_communication', 24), ('project_team', 24), ('high_level', 24), ('job_requirement', 23), ('experience_project', 23), ('business_process', 23), ('process_improvement', 23), ('write_communication', 23), ('develop_implement', 22), ('solve_skill', 22), ('s_degree', 22), ('reg_no', 22), ('duty_assign', 22), ('relevant_working', 22), ('long_term', 22), ('team_member', 21), ('interpersonal_communication', 21), ('update_resume', 21), ('government_agency', 21), ('pte_ltd', 21), ('min_year', 21), ('analytical_skill', 20), ('bachelor_s', 20), ('skill_strong', 20), ('experience_work', 20), ('lead_team', 19), ('microsoft_office', 19), ('supply_chain', 19), ('requirement_year', 19), ('change_management', 19), ('ad_hoc', 19), ('write_verbal', 19), ('shortlist_candidate', 19), ('requirement_degree', 18), ('job_requirements', 18), ('ideal_candidate', 18), ('resume_ms', 18), ('ms_word', 18), ('computer_science', 18), ('end_to', 18), ('to_end', 18), ('ea_license', 18), ('ensure_quality', 17), ('work_fast', 17), ('skill_good', 17), ('attention_detail', 17), ('possess_strong', 17), ('internal_stakeholder', 17), ('i_e', 17), ('leadership_skill', 17), ('work_team', 17), ('senior_manager', 17), ('presentation_skill', 17), ('interested_candidate', 17), ('product_development', 17), ('interested_applicant', 16)]\n",
      "\n",
      "\n",
      "[('year_work_experience', 37), ('fast_pace_environment', 25), ('year_relevant_experience', 24), ('problem_solve_skill', 22), ('relevant_working_experience', 21), ('internal_external_stakeholder', 19), ('year_relevant_working', 19), ('shortlist_candidate_notify', 19), ('interpersonal_communication_skill', 18), ('experience_project_management', 18), ('bachelor_s_degree', 18), ('end_to_end', 18), ('write_communication_skill', 17), ('resume_ms_word', 16), ('hand_on_experience', 16), ('work_fast_pace', 15), ('prove_track_record', 15), ('minimum_year_experience', 15), ('able_work_independently', 14), ('strong_project_management', 13), ('project_management_skill', 13), ('ms_word_format', 13), ('strong_communication_skill', 13), ('roles_responsibilities_job', 13), ('write_verbal_communication', 13), ('year_experience_similar', 12), ('cross_functional_team', 12), ('communication_interpersonal_skill', 12), ('communication_skill_ability', 12), ('strong_analytical_skill', 12), ('update_resume_ms', 11), ('personnel_reg_no', 11), ('skill_team_player', 11), ('proficient_microsoft_office', 11), ('ability_multi_task', 11), ('relevant_work_experience', 10), ('good_interpersonal_communication', 10), ('able_multi_task', 10), ('excellent_communication_skill', 10), ('subject_matter_expert', 10), ('stakeholder_management_skill', 10), ('verbal_write_communication', 10), ('email_update_copy', 10), ('update_copy_resume', 10), ('ea_license_no', 10), ('south_east_asia', 10), ('analytical_problem_solve', 9), ('short_list_candidate', 9), ('good_interpersonal_skill', 9), ('minimum_year_relevant', 9), ('ability_work_independently', 9), ('roles_responsibilities_responsibility', 9), ('disclose_personal_information', 9), ('minimum_year_work', 9), ('regret_shortlist_candidate', 9), ('wish_apply_advertised', 9), ('apply_advertised_position', 9), ('click_apply_now', 9), ('communication_presentation_skill', 9), ('day_work_week', 8), ('work_independently_team', 8), ('list_candidate_notify', 8), ('ea_personnel_reg', 8), ('skill_able_work', 8), ('experience_similar_industry', 8), ('similar_industry_similar', 8), ('industry_similar_position', 8), ('day_to_day', 8), ('ad_hoc_duty', 8), ('time_management_skill', 8), ('to_end_product', 8), ('min_year_relevant', 8), ('verbal_communication_skill', 8), ('responsibilities_job_description', 8), ('interested_candidate_wish', 8), ('candidate_wish_apply', 8), ('multi_task_work', 7), ('regret_short_list', 7), ('relate_discipline_year', 7), ('microsoft_office_application', 7), ('relate_field_year', 7), ('join_grow_business', 7), ('interpersonal_skill_able', 7), ('simply_submit_application', 7), ('submit_application_email', 7), ('application_email_detailed', 7), ('email_detailed_copy', 7), ('detailed_copy_update', 7), ('copy_update_resume', 7), ('equal_opportunity_employer', 7), ('ms_office_application', 7), ('liaise_japanese_speak', 7), ('japanese_speak_customer', 7), ('year_relevant_work', 7), ('project_management_experience', 7), ('new_business_opportunity', 7), ('good_communication_skill', 7), ('current_expect_salary', 7), ('fast_pace_dynamic', 7), ('management_skill_ability', 7)]\n",
      "\n",
      "\n"
     ]
    },
    {
     "name": "stdout",
     "output_type": "stream",
     "text": [
      "[('year_relevant_working_experience', 19), ('resume_ms_word_format', 13), ('work_fast_pace_environment', 12), ('update_resume_ms_word', 11), ('email_update_copy_resume', 10), ('minimum_year_work_experience', 9), ('regret_shortlist_candidate_notify', 9), ('wish_apply_advertised_position', 9), ('short_list_candidate_notify', 8), ('ea_personnel_reg_no', 8), ('year_experience_similar_industry', 8), ('experience_similar_industry_similar', 8), ('similar_industry_similar_position', 8), ('end_to_end_product', 8), ('write_verbal_communication_skill', 8), ('roles_responsibilities_job_description', 8), ('candidate_wish_apply_advertised', 8), ('good_interpersonal_communication_skill', 7), ('regret_short_list_candidate', 7), ('submit_application_email_detailed', 7), ('application_email_detailed_copy', 7), ('email_detailed_copy_update', 7), ('detailed_copy_update_resume', 7), ('copy_update_resume_ms', 7), ('strong_project_management_skill', 7), ('liaise_japanese_speak_customer', 7), ('year_relevant_work_experience', 7), ('interested_candidate_wish_apply', 7), ('analytical_problem_solve_skill', 6), ('individual_join_grow_business', 6), ('simply_submit_application_email', 6), ('salary_commensurate_accord_experience', 6), ('commensurate_accord_experience_qualification', 6), ('reg_no_email_emailprotecte', 6), ('ad_hoc_duty_assign', 6), ('verbal_write_communication_skill', 6), ('to_end_product_management', 6), ('end_product_management_shape', 6), ('product_management_shape_product', 6), ('management_shape_product_vision', 6), ('shape_product_vision_direction', 6), ('product_vision_direction_oversee', 6), ('vision_direction_oversee_product', 6), ('direction_oversee_product_development', 6), ('oversee_product_development_release', 6), ('applicant_invite_send_update', 6), ('apply_advertised_position_email', 6), ('advertised_position_email_update', 6), ('position_email_update_copy', 6), ('fast_pace_dynamic_environment', 6), ('we_regret_short_list', 5), ('discipline_year_work_experience', 5), ('good_interpersonal_skill_able', 5), ('offer_competitive_salary_benefit', 5), ('competitive_salary_benefit_package', 5), ('salary_benefit_package_professional', 5), ('benefit_package_professional_advantage', 5), ('package_professional_advantage_dynamic', 5), ('professional_advantage_dynamic_environment', 5), ('advantage_dynamic_environment_support', 5), ('dynamic_environment_support_development', 5), ('environment_support_development_recognise', 5), ('support_development_recognise_achievement', 5), ('proficient_microsoft_office_application', 5), ('relate_field_year_experience', 5), ('excellent_verbal_write_communication', 5), ('computer_science_information_technology', 5), ('year_s_work_experience', 5), ('work_experience_relate_field', 5), ('skill_ability_multi_task', 5), ('communication_skill_write_verbal', 5), ('excellent_write_verbal_communication', 5), ('invite_send_update_resume', 5), ('able_work_fast_pace', 5), ('minimum_year_relevant_experience', 5), ('interested_applicant_invite_send', 5), ('candidate_apply_advertise_position', 5), ('apply_advertise_position_deem', 5), ('advertise_position_deem_consented', 5), ('position_deem_consented_collect', 5), ('deem_consented_collect_use', 5), ('consented_collect_use_disclose', 5), ('collect_use_disclose_personal', 5), ('use_disclose_personal_information', 5), ('disclose_personal_information_purpose', 5), ('personal_information_purpose_connection', 5), ('information_purpose_connection_service', 5), ('purpose_connection_service_provide', 5), ('connection_service_provide_we', 5), ('multi_task_fast_pace', 5), ('assign_service_contract_carrier', 5), ('resourceful_able_work_independently', 4), ('able_work_independently_team', 4), ('lead_financial_banking_group', 4), ('financial_banking_group_asia', 4), ('banking_group_asia_pacific', 4), ('structured_training_provide_career', 4), ('training_provide_career_progression', 4), ('provide_career_progression_development', 4), ('information_location_central_working', 4)]\n",
      "\n",
      "\n",
      "healthcare|medical|nurse|hospital|pharma|clinic|patient  ------>  122 posting(s)\n",
      "\n",
      "\n",
      "[('patient', 183), ('work', 169), ('experience', 158), ('nursing', 128), ('clinical', 123), ('care', 123), ('candidate', 112), ('job', 106), ('team', 104), ('ensure', 93), ('provide', 92), ('skill', 92), ('service', 92), ('good', 88), ('resume', 87), ('medical', 86), ('assist', 85), ('duty', 75), ('requirement', 75), ('no', 73), ('able', 67), ('support', 64), ('year', 64), ('perform', 64), ('degree', 64), ('healthcare', 62), ('management', 62), ('include', 59), ('apply', 57), ('plan', 57), ('diploma', 57), ('requirements', 56), ('product', 55), ('project', 54), ('clinic', 54), ('datum', 53), ('require', 53), ('communication', 53), ('interested', 53), ('customer', 51), ('manage', 50), ('day', 50), ('procedure', 49), ('research', 48), ('nurse', 47), ('need', 47), ('maintain', 47), ('singapore', 46), ('knowledge', 46), ('office', 45), ('develop', 45), ('pte', 45), ('training', 45), ('ea', 44), ('position', 43), ('minimum', 43), ('business', 43), ('operation', 43), ('min', 42), ('hospital', 42), ('license', 41), ('s', 41), ('responsibility', 41), ('follow', 41), ('update', 41), ('quality', 41), ('staff', 40), ('information', 39), ('health', 39), ('professional', 39), ('process', 38), ('new', 38), ('to', 38), ('email', 38), ('development', 37), ('interpersonal', 36), ('ltd', 36), ('application', 36), ('registration', 35), ('participate', 35), ('relate', 35), ('doctor', 35), ('record', 34), ('activity', 34), ('role', 33), ('medication', 33), ('ability', 33), ('department', 33), ('relevant', 33), ('company', 33), ('hour', 33), ('lead', 32), ('possess', 32), ('express', 32), ('personal', 32), ('responsible', 31), ('send', 31), ('report', 30), ('com', 30), ('emailprotecte', 30)]\n",
      "\n",
      "\n",
      "[('pte_ltd', 36), ('interested_candidate', 33), ('express_pte', 32), ('ea_license', 27), ('com_sg', 26), ('communication_skill', 25), ('license_no', 25), ('update_resume', 23), ('job_description', 23), ('nursing_care', 22), ('patient_care', 22), ('singapore_nursing', 22), ('nursing_board', 22), ('recruit_express', 22), ('shortlist_candidate', 20), ('resume_ms', 19), ('able_work', 19), ('job_requirements', 19), ('work_experience', 19), ('good_interpersonal', 18), ('recruitexpress_com', 18), ('degree_nursing', 18), ('year_experience', 18), ('ad_hoc', 18), ('michelle_lee', 18), ('ltd_ea', 18), ('care_patient', 17), ('minimum_year', 17), ('interpersonal_skill', 17), ('candidate_notify', 17), ('reg_no', 17), ('and_or', 17), ('assist_doctor', 17), ('candidate_send', 17), ('interpersonal_communication', 16), ('requirements_min', 16), ('roles_responsibilities', 16), ('interested_applicant', 15), ('nitec_diploma', 15), ('work_independently', 15), ('customer_service', 15), ('send_resume', 15), ('year_relevant', 14), ('diploma_degree', 14), ('duty_assign', 14), ('skill_able', 14), ('diploma_nursing', 13), ('staff_nurse', 12), ('registered_singapore', 12), ('prior_experience', 12), ('resume_to', 12), ('regret_inform', 12), ('inform_shortlist', 12), ('expect_salary', 12), ('personal_datum', 12), ('licence_no', 12), ('rotate_shift', 12), ('click_apply', 12), ('healthcare_industry', 12), ('image_analysis', 12), ('work_closely', 11), ('clinical_study', 11), ('clinical_research', 11), ('good_communication', 11), ('relevant_experience', 11), ('s_degree', 11), ('registered_nurse', 11), ('email_update', 11), ('detailed_resume', 11), ('medical_device', 10), ('word_format', 10), ('confidential_discussion', 10), ('team_player', 10), ('ms_word', 10), ('skill_interested', 10), ('multi_task', 10), ('minimum_supervision', 10), ('candidate_possess', 10), ('lee_ser', 10), ('life_science', 10), ('hoc_duty', 10), ('mri_image', 10), ('public_health', 9), ('team_member', 9), ('ltd_company', 9), ('company_reg', 9), ('apply_button', 9), ('clinical_development', 9), ('bachelor_s', 9), ('regional_medical', 9), ('apply_now', 9), ('administrative_duty', 9), ('job_requirement', 9), ('short_notice', 9), ('training_provide', 9), ('send_recent', 9), ('recent_update', 9), ('subject_heading', 9), ('ser_min', 9), ('independently_minimum', 9)]\n",
      "\n",
      "\n",
      "[('express_pte_ltd', 31), ('singapore_nursing_board', 22), ('recruit_express_pte', 22), ('recruitexpress_com_sg', 18), ('pte_ltd_ea', 18), ('ea_license_no', 18), ('shortlist_candidate_notify', 17), ('interested_candidate_send', 17), ('regret_inform_shortlist', 12), ('inform_shortlist_candidate', 12), ('ltd_ea_license', 12), ('registered_singapore_nursing', 11), ('interpersonal_communication_skill', 10), ('resume_ms_word', 10), ('good_interpersonal_skill', 10), ('michelle_lee_ser', 10), ('ad_hoc_duty', 10), ('mri_image_analysis', 10), ('update_resume_ms', 9), ('diploma_degree_nursing', 9), ('send_resume_to', 9), ('pte_ltd_company', 9), ('ltd_company_reg', 9), ('company_reg_no', 9), ('minimum_year_experience', 9), ('candidate_send_recent', 9), ('send_recent_update', 9), ('recent_update_resume', 9), ('lee_ser_min', 9), ('work_independently_minimum', 9), ('independently_minimum_supervision', 9), ('good_interpersonal_communication', 8), ('ms_word_format', 8), ('able_work_independently', 8), ('personal_datum_and', 8), ('datum_and_or', 8), ('and_or_resume', 8), ('bachelor_s_degree', 8), ('ea_licence_no', 8), ('michelle_lee_recruitexpress', 8), ('lee_recruitexpress_com', 8), ('skill_interested_candidate', 8), ('requirements_min_degree', 7), ('fast_pace_environment', 7), ('general_nursing_duty', 7), ('email_update_copy', 7), ('update_copy_resume', 7), ('pte_ltdea_license', 7), ('ltdea_license_no', 7), ('write_communication_skill', 7), ('able_start_work', 7), ('update_resume_michelle', 7), ('resume_michelle_lee', 7), ('com_sg_subject', 7), ('sg_subject_heading', 7), ('ser_min_recruit', 7), ('min_recruit_express', 7), ('skill_able_work', 7), ('candidate_send_resume', 7), ('valerie_yong_kian', 7), ('jenalyn_ooi_huai', 7), ('ooi_huai_sian', 7), ('interpersonal_skill_interested', 6), ('able_multi_task', 6), ('year_relevant_experience', 6), ('nitec_diploma_degree', 6), ('resume_to_emailprotecte', 6), ('current_expect_salary', 6), ('collection_use_disclosure', 6), ('use_disclosure_personal', 6), ('disclosure_personal_datum', 6), ('nursing_care_patient', 6), ('relevant_working_experience', 6), ('personnel_reg_no', 6), ('year_work_experience', 6), ('work_short_notice', 6), ('strong_interpersonal_communication', 6), ('ea_personnel_valerie', 6), ('personnel_valerie_yong', 6), ('ltd_ea_licence', 6), ('email_detailed_resume', 6), ('hoc_duty_assign', 6), ('work_rotate_shift', 6), ('t_mri_protocol', 6), ('interested_candidate_invite', 6), ('word_format_to', 6), ('nitec_diploma_nursing', 6), ('senior_staff_nurse', 5), ('nursing_registered_singapore', 5), ('communication_interpersonal_skill', 5), ('no_express_pte', 5), ('ea_license_number', 5), ('reason_s_leave', 5), ('requirements_candidate_possess', 5), ('click_apply_button', 5), ('regret_shortlist_candidate', 5), ('year_relevant_working', 5), ('interested_applicant_kindly', 5), ('applicant_kindly_furnish', 5), ('kindly_furnish_detailed', 5)]\n",
      "\n",
      "\n",
      "[('recruit_express_pte_ltd', 22), ('express_pte_ltd_ea', 16), ('regret_inform_shortlist_candidate', 12), ('pte_ltd_ea_license', 12), ('ltd_ea_license_no', 12), ('registered_singapore_nursing_board', 11), ('inform_shortlist_candidate_notify', 11), ('express_pte_ltd_company', 9), ('pte_ltd_company_reg', 9), ('ltd_company_reg_no', 9), ('interested_candidate_send_recent', 9), ('candidate_send_recent_update', 9), ('send_recent_update_resume', 9), ('michelle_lee_ser_min', 9), ('work_independently_minimum_supervision', 9), ('resume_ms_word_format', 8), ('personal_datum_and_or', 8), ('datum_and_or_resume', 8), ('michelle_lee_recruitexpress_com', 8), ('lee_recruitexpress_com_sg', 8), ('good_interpersonal_communication_skill', 7), ('email_update_copy_resume', 7), ('pte_ltdea_license_no', 7), ('recent_update_resume_michelle', 7), ('update_resume_michelle_lee', 7), ('resume_michelle_lee_recruitexpress', 7), ('recruitexpress_com_sg_subject', 7), ('com_sg_subject_heading', 7), ('lee_ser_min_recruit', 7), ('ser_min_recruit_express', 7), ('min_recruit_express_pte', 7), ('interested_candidate_send_resume', 7), ('jenalyn_ooi_huai_sian', 7), ('send_resume_to_emailprotecte', 6), ('collection_use_disclosure_personal', 6), ('use_disclosure_personal_datum', 6), ('candidate_send_resume_to', 6), ('ea_personnel_valerie_yong', 6), ('personnel_valerie_yong_kian', 6), ('pte_ltd_ea_licence', 6), ('ltd_ea_licence_no', 6), ('ad_hoc_duty_assign', 6), ('ms_word_format_to', 6), ('nursing_registered_singapore_nursing', 5), ('update_resume_ms_word', 5), ('no_express_pte_ltd', 5), ('nitec_diploma_degree_nursing', 5), ('year_relevant_working_experience', 5), ('interested_applicant_kindly_furnish', 5), ('applicant_kindly_furnish_detailed', 5), ('kindly_furnish_detailed_resume', 5), ('furnish_detailed_resume_ms', 5), ('detailed_resume_ms_words', 5), ('resume_ms_words_format', 5), ('ms_words_format_click', 5), ('words_format_click_apply', 5), ('jobstudio_pte_ltdea_license', 5), ('ltdea_license_no_personnel', 5), ('able_start_work_short', 5), ('start_work_short_notice', 5), ('job_description_work_sophisticated', 5), ('description_work_sophisticated_audience', 5), ('work_sophisticated_audience_comprise', 5), ('sophisticated_audience_comprise_surgeon', 5), ('audience_comprise_surgeon_healthcare', 5), ('comprise_surgeon_healthcare_professional', 5), ('surgeon_healthcare_professional_communicate', 5), ('healthcare_professional_communicate_customer', 5), ('professional_communicate_customer_account', 5), ('communicate_customer_account_variety', 5), ('customer_account_variety_topic', 5), ('account_variety_topic_include', 5), ('variety_topic_include_product', 5), ('topic_include_product_update', 5), ('include_product_update_change', 5), ('product_update_change_product', 5), ('update_change_product_portfolio', 5), ('change_product_portfolio_educational', 5), ('product_portfolio_educational_program', 5), ('portfolio_educational_program_identify', 5), ('educational_program_identify_need', 5), ('program_identify_need_new', 5), ('identify_need_new_prospect', 5), ('need_new_prospect_develop', 5), ('new_prospect_develop_appropriate', 5), ('prospect_develop_appropriate_response', 5), ('develop_appropriate_response_cross', 5), ('appropriate_response_cross_sell', 5), ('response_cross_sell_additional', 5), ('cross_sell_additional_product', 5), ('sell_additional_product_manage', 5), ('additional_product_manage_new', 5), ('product_manage_new_product', 5), ('manage_new_product_introduction', 5), ('new_product_introduction_available', 5), ('product_introduction_available_work', 5), ('introduction_available_work_sale', 5), ('available_work_sale_team', 5), ('work_sale_team_receive', 5), ('sale_team_receive_coaching', 5)]\n",
      "\n",
      "\n",
      "chef|cook|kitchen|barista|bartender|restaurant  ------>  76 posting(s)\n",
      "\n",
      "\n",
      "[('food', 218), ('work', 130), ('kitchen', 128), ('ensure', 100), ('experience', 73), ('standard', 72), ('order', 64), ('able', 62), ('quality', 60), ('cook', 57), ('prepare', 57), ('preparation', 54), ('maintain', 53), ('job', 52), ('customer', 49), ('chef', 47), ('ingredient', 47), ('duty', 45), ('safety', 43), ('dish', 42), ('equipment', 42), ('hygiene', 41), ('responsibilities', 40), ('team', 40), ('operation', 40), ('skill', 40), ('roles', 39), ('menu', 39), ('area', 39), ('cooking', 39), ('cuisine', 37), ('responsibility', 37), ('time', 37), ('ability', 36), ('staff', 34), ('high', 33), ('year', 31), ('restaurant', 31), ('candidate', 31), ('stock', 30), ('requirement', 30), ('management', 30), ('day', 30), ('service', 30), ('knowledge', 30), ('good', 29), ('include', 28), ('follow', 28), ('require', 27), ('shift', 26), ('item', 26), ('culinary', 25), ('hour', 25), ('recipe', 25), ('supply', 25), ('clean', 25), ('responsible', 24), ('new', 24), ('beverage', 24), ('daily', 24), ('plan', 23), ('environment', 23), ('health', 23), ('product', 23), ('need', 23), ('control', 22), ('cleanliness', 22), ('assign', 22), ('inventory', 22), ('o', 22), ('chinese', 22), ('handle', 21), ('serve', 21), ('requirements', 21), ('procedure', 21), ('manage', 20), ('public', 20), ('working', 20), ('provide', 19), ('check', 19), ('communication', 19), ('level', 19), ('assist', 19), ('company', 19), ('activity', 18), ('training', 18), ('position', 17), ('look', 17), ('holiday', 17), ('weekend', 16), ('meal', 16), ('manner', 16), ('sanitation', 16), ('store', 16), ('s', 16), ('apply', 16), ('monitor', 15), ('basic', 15), ('create', 15), ('accord', 15)]\n",
      "\n",
      "\n",
      "[('roles_responsibilities', 36), ('food_preparation', 32), ('able_work', 22), ('ensure_food', 19), ('public_holiday', 17), ('food_item', 17), ('health_safety', 16), ('food_beverage', 14), ('food_hygiene', 13), ('food_quality', 12), ('weekend_public', 12), ('duty_assign', 12), ('safety_standard', 12), ('year_experience', 11), ('food_safety', 10), ('high_quality', 10), ('job_description', 10), ('cook_food', 10), ('knowledge_food', 10), ('high_standard', 10), ('team_player', 10), ('work_shift', 10), ('work_area', 9), ('skill_able', 9), ('fast_pace', 9), ('ability_work', 9), ('communication_skill', 9), ('work_team', 9), ('food_supply', 9), ('chinese_cuisine', 9), ('work_experience', 9), ('work_weekend', 8), ('kitchen_equipment', 8), ('timely_manner', 8), ('standard_food', 8), ('customer_service', 8), ('f_b', 8), ('head_chef', 8), ('ensure_smooth', 7), ('pace_environment', 7), ('chef_de', 7), ('prepare_ingredient', 7), ('candidate_possess', 7), ('kitchen_operation', 7), ('daily_operation', 7), ('kitchen_ensure', 7), ('interested_applicant', 6), ('training_provide', 6), ('plan_menu', 6), ('menu_ensure', 6), ('executive_chef', 6), ('preparation_cooking', 6), ('kitchen_area', 6), ('work_fast', 6), ('working_experience', 6), ('shortlist_candidate', 6), ('food_product', 6), ('ad_hoc', 6), ('day_work', 6), ('work_week', 6), ('job_requirement', 6), ('experience_chinese', 6), ('maintain_high', 6), ('pte_ltd', 6), ('working_hour', 6), ('job_training', 5), ('min_year', 5), ('sous_chef', 5), ('management_skill', 5), ('ensure_high', 5), ('food_ingredient', 5), ('direct_food', 5), ('leadership_skill', 5), ('de_partie', 5), ('hygiene_standard', 5), ('maintain_kitchen', 5), ('food_production', 5), ('minimum_year', 5), ('place_order', 5), ('ready_work', 5), ('long_hour', 5), ('new_dish', 5), ('time_management', 5), ('prepare_food', 5), ('maintain_clean', 5), ('hoc_duty', 5), ('good_communication', 5), ('interpersonal_skill', 5), ('job_responsibility', 5), ('area_kitchen', 5), ('duty_responsibility', 5), ('requirement_candidate', 5), ('apply_button', 5), ('prepare_serve', 5), ('serve_food', 5), ('job_requirements', 5), ('high_level', 5), ('smooth_operation', 5), ('fine_dining', 5), ('shift_weekend', 5)]\n",
      "\n",
      "\n",
      "[('weekend_public_holiday', 12), ('fast_pace_environment', 7), ('health_safety_standard', 7), ('day_work_week', 6), ('direct_food_preparation', 5), ('able_work_weekend', 5), ('work_weekend_public', 5), ('chef_de_partie', 5), ('ensure_food_item', 5), ('work_fast_pace', 5), ('ad_hoc_duty', 5), ('experience_chinese_cuisine', 5), ('shift_weekend_public', 5), ('check_freshness_food', 4), ('cook_food_preparation', 4), ('food_preparation_cooking', 4), ('stock_place_order', 4), ('ability_work_team', 4), ('o_ready_work', 4), ('able_stand_long', 4), ('stand_long_hour', 4), ('time_management_skill', 4), ('communication_interpersonal_skill', 4), ('duty_responsibility_assign', 4), ('storage_food_item', 4), ('standard_operating_procedure', 4), ('food_health_safety', 4), ('standard_food_quality', 4), ('ensure_smooth_operation', 4), ('experience_japanese_cuisine', 3), ('position_job_description', 3), ('organize_kitchen_activity', 3), ('ensure_high_quality', 3), ('freshness_food_ingredient', 3), ('food_ingredient_supervise', 3), ('ingredient_supervise_coordinate', 3), ('supervise_coordinate_activity', 3), ('coordinate_activity_cook', 3), ('activity_cook_food', 3), ('develop_recipe_determine', 3), ('recipe_determine_present', 3), ('determine_present_food', 3), ('present_food_plan', 3), ('food_plan_menu', 3), ('plan_menu_ensure', 3), ('menu_ensure_uniform', 3), ('ensure_uniform_serve', 3), ('uniform_serve_size', 3), ('serve_size_quality', 3), ('inspect_supply_equipment', 3), ('supply_equipment_work', 3), ('equipment_work_area', 3), ('work_area_cleanliness', 3), ('area_cleanliness_functionality', 3), ('cleanliness_functionality_control', 3), ('functionality_control_direct', 3), ('control_direct_food', 3), ('food_preparation_process', 3), ('preparation_process_relative', 3), ('process_relative_activity', 3), ('relative_activity_construct', 3), ('activity_construct_menu', 3), ('construct_menu_new', 3), ('menu_new_exist', 3), ('new_exist_culinary', 3), ('exist_culinary_creation', 3), ('culinary_creation_ensure', 3), ('creation_ensure_variety', 3), ('ensure_variety_quality', 3), ('variety_quality_serving', 3), ('quality_serving_approve', 3), ('serving_approve_polish', 3), ('approve_polish_dish', 3), ('polish_dish_reach', 3), ('dish_reach_customer', 3), ('reach_customer_plan', 3), ('customer_plan_order', 3), ('plan_order_equipment', 3), ('order_equipment_ingredient', 3), ('equipment_ingredient_accord', 3), ('ingredient_accord_identify', 3), ('accord_identify_shortage', 3), ('ability_divide_responsibility', 3), ('divide_responsibility_monitor', 3), ('responsibility_monitor_progress', 3), ('communication_leadership_skill', 3), ('leadership_skill_up', 3), ('skill_up_to', 3), ('up_to_date', 3), ('to_date_culinary', 3), ('date_culinary_trend', 3), ('culinary_trend_optimize', 3), ('trend_optimize_kitchen', 3), ('optimize_kitchen_process', 3), ('station_prepare_ingredient', 3), ('work_rotate_shift', 3), ('relevant_working_experience', 3), ('shortlist_candidate_notify', 3), ('service_provider_agent', 3), ('food_preparation_worker', 3)]\n",
      "\n",
      "\n",
      "[('work_weekend_public_holiday', 5), ('shift_weekend_public_holiday', 5), ('able_stand_long_hour', 4), ('check_freshness_food_ingredient', 3), ('freshness_food_ingredient_supervise', 3), ('food_ingredient_supervise_coordinate', 3), ('ingredient_supervise_coordinate_activity', 3), ('supervise_coordinate_activity_cook', 3), ('coordinate_activity_cook_food', 3), ('activity_cook_food_preparation', 3), ('develop_recipe_determine_present', 3), ('recipe_determine_present_food', 3), ('determine_present_food_plan', 3), ('present_food_plan_menu', 3), ('food_plan_menu_ensure', 3), ('plan_menu_ensure_uniform', 3), ('menu_ensure_uniform_serve', 3), ('ensure_uniform_serve_size', 3), ('uniform_serve_size_quality', 3), ('inspect_supply_equipment_work', 3), ('supply_equipment_work_area', 3), ('equipment_work_area_cleanliness', 3), ('work_area_cleanliness_functionality', 3), ('area_cleanliness_functionality_control', 3), ('cleanliness_functionality_control_direct', 3), ('functionality_control_direct_food', 3), ('control_direct_food_preparation', 3), ('direct_food_preparation_process', 3), ('food_preparation_process_relative', 3), ('preparation_process_relative_activity', 3), ('process_relative_activity_construct', 3), ('relative_activity_construct_menu', 3), ('activity_construct_menu_new', 3), ('construct_menu_new_exist', 3), ('menu_new_exist_culinary', 3), ('new_exist_culinary_creation', 3), ('exist_culinary_creation_ensure', 3), ('culinary_creation_ensure_variety', 3), ('creation_ensure_variety_quality', 3), ('ensure_variety_quality_serving', 3), ('variety_quality_serving_approve', 3), ('quality_serving_approve_polish', 3), ('serving_approve_polish_dish', 3), ('approve_polish_dish_reach', 3), ('polish_dish_reach_customer', 3), ('dish_reach_customer_plan', 3), ('reach_customer_plan_order', 3), ('customer_plan_order_equipment', 3), ('plan_order_equipment_ingredient', 3), ('order_equipment_ingredient_accord', 3), ('equipment_ingredient_accord_identify', 3), ('ingredient_accord_identify_shortage', 3), ('ability_divide_responsibility_monitor', 3), ('divide_responsibility_monitor_progress', 3), ('communication_leadership_skill_up', 3), ('leadership_skill_up_to', 3), ('skill_up_to_date', 3), ('up_to_date_culinary', 3), ('to_date_culinary_trend', 3), ('date_culinary_trend_optimize', 3), ('culinary_trend_optimize_kitchen', 3), ('trend_optimize_kitchen_process', 3), ('cook_food_preparation_worker', 3), ('ensure_food_item_store', 3), ('food_item_store_properly', 3), ('monitor_stock_place_order', 3), ('stock_place_order_shortage', 3), ('knowledge_cooking_procedure_method', 3), ('responsible_go_employer_kitchen', 3), ('go_employer_kitchen_require', 3), ('employer_kitchen_require_oversee', 3), ('kitchen_require_oversee_dish', 3), ('require_oversee_dish_start', 3), ('oversee_dish_start_finish', 3), ('meet_health_safety_standard', 3), ('new_recipe_restaurant_work', 3), ('recipe_restaurant_work_in', 3), ('possess_lot_stamina_power', 3), ('lot_stamina_power_able', 3), ('stamina_power_able_stand', 3), ('power_able_stand_long', 3), ('stand_long_hour_work', 3), ('long_hour_work_extend', 3), ('hour_work_extend_hour', 3), ('work_extend_hour_order', 3), ('extend_hour_order_experiment', 3), ('hour_order_experiment_create', 3), ('order_experiment_create_new', 3), ('experiment_create_new_dish', 3), ('create_new_dish_candidate', 3), ('new_dish_candidate_possess', 3), ('dish_candidate_possess_good', 3), ('candidate_possess_good_knowledge', 3), ('possess_good_knowledge_food', 3), ('good_knowledge_food_product', 3), ('knowledge_food_product_availability', 3), ('food_product_availability_order', 3), ('product_availability_order_plan', 3), ('availability_order_plan_cuisine', 3), ('order_plan_cuisine_accordingly', 3)]\n",
      "\n",
      "\n"
     ]
    }
   ],
   "source": [
    "FD_N = 100\n",
    "for category in job_category_in_df:\n",
    "    print(category,' ------> ',len(df['job_description'][df['job_category']==category]),f\"posting(s)\")\n",
    "    print(f\"\\n\")\n",
    "    FD = frequency_counter(df['job_description'][df['job_category']==category],FD_N)\n",
    "    print(FD)\n",
    "    print(f\"\\n\")\n",
    "    FD = frequency_counter(df['job_description'][df['job_category']==category].map(generate_2_grams),FD_N)\n",
    "    print(FD)\n",
    "    print(f\"\\n\")\n",
    "    FD = frequency_counter(df['job_description'][df['job_category']==category].map(generate_3_grams),FD_N)\n",
    "    print(FD)\n",
    "    print(f\"\\n\")\n",
    "    FD = frequency_counter(df['job_description'][df['job_category']==category].map(generate_4_grams),FD_N)\n",
    "    print(FD)\n",
    "    print(f\"\\n\")"
   ]
  },
  {
   "cell_type": "markdown",
   "id": "956d204a",
   "metadata": {},
   "source": [
    "### Skill Extraction vs Frequencey Count"
   ]
  },
  {
   "cell_type": "code",
   "execution_count": 63,
   "id": "32279aca",
   "metadata": {},
   "outputs": [],
   "source": [
    "def extract_to_list_top_1gram_keyword(job_category,top_word=100):\n",
    "    temp = []\n",
    "    temp_counter = frequency_counter(df['job_description'][df['job_category']==job_category],top_word)\n",
    "    for token in temp_counter:\n",
    "        temp.append(token[0])\n",
    "    return temp\n",
    "\n",
    "top_1gram_other =  extract_to_list_top_1gram_keyword('other')\n",
    "top_1gram_engineer = extract_to_list_top_1gram_keyword('engineer')\n",
    "top_1gram_manager = extract_to_list_top_1gram_keyword('manager')\n",
    "top_1gram_marketing = extract_to_list_top_1gram_keyword('marketing|market|sales')\n",
    "top_1gram_analytic = extract_to_list_top_1gram_keyword('analytic|analyst|data')\n",
    "top_1gram_admin = extract_to_list_top_1gram_keyword('admin')\n",
    "top_1gram_account= extract_to_list_top_1gram_keyword('account')\n",
    "top_1gram_health = extract_to_list_top_1gram_keyword('healthcare|medical|nurse|hospital|pharma|clinic|patient')\n",
    "top_1gram_customer = extract_to_list_top_1gram_keyword('customer|service|call')\n",
    "top_1gram_finance = extract_to_list_top_1gram_keyword('finance|financial|bank')\n",
    "top_1gram_software = extract_to_list_top_1gram_keyword('software|developer|java|network|system')\n",
    "top_1gram_hr = extract_to_list_top_1gram_keyword('hr|human')\n",
    "top_1gram_technician = extract_to_list_top_1gram_keyword('technician')\n",
    "top_1gram_chef =  extract_to_list_top_1gram_keyword('chef|cook|kitchen|barista|bartender|restaurant')"
   ]
  },
  {
   "cell_type": "code",
   "execution_count": 64,
   "id": "c046b5aa",
   "metadata": {},
   "outputs": [],
   "source": [
    "def extract_to_list_top_2gram_keyword(job_category,top_word=100):\n",
    "    temp = []\n",
    "    temp_counter = frequency_counter(df['job_description'][df['job_category']==job_category].map(generate_2_grams),top_word)\n",
    "    for token in temp_counter:\n",
    "        temp.append(token[0])\n",
    "    return temp\n",
    "\n",
    "top_2gram_other =  extract_to_list_top_2gram_keyword('other')\n",
    "top_2gram_engineer = extract_to_list_top_2gram_keyword('engineer')\n",
    "top_2gram_manager = extract_to_list_top_2gram_keyword('manager')\n",
    "top_2gram_marketing = extract_to_list_top_2gram_keyword('marketing|market|sales')\n",
    "top_2gram_analytic = extract_to_list_top_2gram_keyword('analytic|analyst|data')\n",
    "top_2gram_admin = extract_to_list_top_2gram_keyword('admin')\n",
    "top_2gram_account= extract_to_list_top_2gram_keyword('account')\n",
    "top_2gram_health = extract_to_list_top_2gram_keyword('healthcare|medical|nurse|hospital|pharma|clinic|patient')\n",
    "top_2gram_customer = extract_to_list_top_2gram_keyword('customer|service|call')\n",
    "top_2gram_finance = extract_to_list_top_2gram_keyword('finance|financial|bank')\n",
    "top_2gram_software = extract_to_list_top_2gram_keyword('software|developer|java|network|system')\n",
    "top_2gram_hr = extract_to_list_top_2gram_keyword('hr|human')\n",
    "top_2gram_technician = extract_to_list_top_2gram_keyword('technician')\n",
    "top_2gram_chef =  extract_to_list_top_2gram_keyword('chef|cook|kitchen|barista|bartender|restaurant')"
   ]
  },
  {
   "cell_type": "code",
   "execution_count": 65,
   "id": "fc20bd67",
   "metadata": {},
   "outputs": [],
   "source": [
    "def extract_to_list_top_3gram_keyword(job_category,top_word=100):\n",
    "    temp = []\n",
    "    temp_counter = frequency_counter(df['job_description'][df['job_category']==job_category].map(generate_3_grams),top_word)\n",
    "    for token in temp_counter:\n",
    "        temp.append(token[0])\n",
    "    return temp\n",
    "\n",
    "\n",
    "top_3gram_other =  extract_to_list_top_3gram_keyword('other')\n",
    "top_3gram_engineer = extract_to_list_top_3gram_keyword('engineer')\n",
    "top_3gram_manager = extract_to_list_top_3gram_keyword('manager')\n",
    "top_3gram_marketing = extract_to_list_top_3gram_keyword('marketing|market|sales')\n",
    "top_3gram_analytic = extract_to_list_top_3gram_keyword('analytic|analyst|data')\n",
    "top_3gram_admin = extract_to_list_top_3gram_keyword('admin')\n",
    "top_3gram_account= extract_to_list_top_3gram_keyword('account')\n",
    "top_3gram_health = extract_to_list_top_3gram_keyword('healthcare|medical|nurse|hospital|pharma|clinic|patient')\n",
    "top_3gram_customer = extract_to_list_top_3gram_keyword('customer|service|call')\n",
    "top_3gram_finance = extract_to_list_top_3gram_keyword('finance|financial|bank')\n",
    "top_3gram_software = extract_to_list_top_3gram_keyword('software|developer|java|network|system')\n",
    "top_3gram_hr = extract_to_list_top_3gram_keyword('hr|human')\n",
    "top_3gram_technician = extract_to_list_top_3gram_keyword('technician')\n",
    "top_3gram_chef =  extract_to_list_top_3gram_keyword('chef|cook|kitchen|barista|bartender|restaurant')\n"
   ]
  },
  {
   "cell_type": "markdown",
   "id": "3df7c169",
   "metadata": {},
   "source": [
    "### For 'healthcare|medical|nurse|hospital|pharma|clinic|patient'"
   ]
  },
  {
   "cell_type": "code",
   "execution_count": 66,
   "id": "cad18832",
   "metadata": {},
   "outputs": [],
   "source": [
    "\n",
    "top_1_gram_not_health = top_1gram_other + top_1gram_engineer + top_1gram_manager + top_1gram_marketing + top_1gram_analytic + top_1gram_admin + top_1gram_account + top_1gram_customer + top_1gram_finance + top_1gram_software + top_1gram_hr + top_1gram_technician + top_1gram_chef\n"
   ]
  },
  {
   "cell_type": "code",
   "execution_count": 67,
   "id": "8fe0971d",
   "metadata": {},
   "outputs": [],
   "source": [
    "top_2gram_not_health = top_2gram_other + top_2gram_engineer + top_2gram_manager + top_2gram_marketing + top_2gram_analytic + top_2gram_admin + top_2gram_account + top_2gram_customer + top_2gram_finance + top_2gram_software + top_2gram_hr + top_2gram_technician + top_2gram_chef"
   ]
  },
  {
   "cell_type": "code",
   "execution_count": 68,
   "id": "48408f62",
   "metadata": {},
   "outputs": [],
   "source": [
    "top_3_gram_not_health = top_3gram_other + top_3gram_engineer + top_3gram_manager + top_3gram_marketing + top_3gram_analytic + top_3gram_admin + top_3gram_account + top_3gram_customer + top_3gram_finance + top_3gram_software + top_3gram_hr + top_3gram_technician + top_3gram_chef\n"
   ]
  },
  {
   "cell_type": "code",
   "execution_count": 69,
   "id": "b721e8e8",
   "metadata": {},
   "outputs": [],
   "source": [
    "unique_1gram_health = []\n",
    "for token in top_1gram_health:\n",
    "    if token not in top_1_gram_not_health:\n",
    "        unique_1gram_health.append(token)\n"
   ]
  },
  {
   "cell_type": "code",
   "execution_count": 70,
   "id": "38eb9ca0",
   "metadata": {},
   "outputs": [],
   "source": [
    "unique_2gram_health = []\n",
    "for token in top_2gram_health:\n",
    "    if token not in top_2gram_not_health:\n",
    "        unique_2gram_health.append(token)"
   ]
  },
  {
   "cell_type": "code",
   "execution_count": 71,
   "id": "f1c9714c",
   "metadata": {},
   "outputs": [],
   "source": [
    "unique_3gram_health = []\n",
    "for token in top_3gram_health:\n",
    "    if token not in top_3_gram_not_health:\n",
    "        unique_3gram_health.append(token)"
   ]
  },
  {
   "cell_type": "code",
   "execution_count": 72,
   "id": "26ccbbe3",
   "metadata": {},
   "outputs": [
    {
     "data": {
      "text/plain": [
       "['patient',\n",
       " 'nursing',\n",
       " 'clinical',\n",
       " 'care',\n",
       " 'medical',\n",
       " 'healthcare',\n",
       " 'clinic',\n",
       " 'nurse',\n",
       " 'hospital',\n",
       " 'license',\n",
       " 'registration',\n",
       " 'participate',\n",
       " 'doctor',\n",
       " 'medication',\n",
       " 'com',\n",
       " 'emailprotecte']"
      ]
     },
     "execution_count": 72,
     "metadata": {},
     "output_type": "execute_result"
    }
   ],
   "source": [
    "unique_1gram_health"
   ]
  },
  {
   "cell_type": "code",
   "execution_count": 73,
   "id": "2227e975",
   "metadata": {
    "scrolled": true
   },
   "outputs": [
    {
     "data": {
      "text/plain": [
       "['nursing_care',\n",
       " 'patient_care',\n",
       " 'singapore_nursing',\n",
       " 'nursing_board',\n",
       " 'degree_nursing',\n",
       " 'michelle_lee',\n",
       " 'care_patient',\n",
       " 'assist_doctor',\n",
       " 'candidate_send',\n",
       " 'requirements_min',\n",
       " 'nitec_diploma',\n",
       " 'diploma_nursing',\n",
       " 'staff_nurse',\n",
       " 'registered_singapore',\n",
       " 'prior_experience',\n",
       " 'resume_to',\n",
       " 'regret_inform',\n",
       " 'inform_shortlist',\n",
       " 'rotate_shift',\n",
       " 'healthcare_industry',\n",
       " 'image_analysis',\n",
       " 'clinical_study',\n",
       " 'clinical_research',\n",
       " 'registered_nurse',\n",
       " 'medical_device',\n",
       " 'confidential_discussion',\n",
       " 'skill_interested',\n",
       " 'minimum_supervision',\n",
       " 'lee_ser',\n",
       " 'life_science',\n",
       " 'mri_image',\n",
       " 'public_health',\n",
       " 'ltd_company',\n",
       " 'company_reg',\n",
       " 'clinical_development',\n",
       " 'regional_medical',\n",
       " 'send_recent',\n",
       " 'recent_update',\n",
       " 'subject_heading',\n",
       " 'ser_min',\n",
       " 'independently_minimum']"
      ]
     },
     "execution_count": 73,
     "metadata": {},
     "output_type": "execute_result"
    }
   ],
   "source": [
    "unique_2gram_health"
   ]
  },
  {
   "cell_type": "code",
   "execution_count": 74,
   "id": "499fd86a",
   "metadata": {
    "scrolled": true
   },
   "outputs": [
    {
     "data": {
      "text/plain": [
       "['singapore_nursing_board',\n",
       " 'registered_singapore_nursing',\n",
       " 'michelle_lee_ser',\n",
       " 'mri_image_analysis',\n",
       " 'diploma_degree_nursing',\n",
       " 'send_resume_to',\n",
       " 'pte_ltd_company',\n",
       " 'ltd_company_reg',\n",
       " 'company_reg_no',\n",
       " 'candidate_send_recent',\n",
       " 'send_recent_update',\n",
       " 'lee_ser_min',\n",
       " 'work_independently_minimum',\n",
       " 'independently_minimum_supervision',\n",
       " 'michelle_lee_recruitexpress',\n",
       " 'skill_interested_candidate',\n",
       " 'requirements_min_degree',\n",
       " 'general_nursing_duty',\n",
       " 'update_resume_michelle',\n",
       " 'resume_michelle_lee',\n",
       " 'com_sg_subject',\n",
       " 'sg_subject_heading',\n",
       " 'ser_min_recruit',\n",
       " 'min_recruit_express',\n",
       " 'candidate_send_resume',\n",
       " 'valerie_yong_kian',\n",
       " 'jenalyn_ooi_huai',\n",
       " 'ooi_huai_sian',\n",
       " 'interpersonal_skill_interested',\n",
       " 'nitec_diploma_degree',\n",
       " 'resume_to_emailprotecte',\n",
       " 'nursing_care_patient',\n",
       " 'work_short_notice',\n",
       " 'ea_personnel_valerie',\n",
       " 'personnel_valerie_yong',\n",
       " 't_mri_protocol',\n",
       " 'interested_candidate_invite',\n",
       " 'word_format_to',\n",
       " 'nitec_diploma_nursing',\n",
       " 'senior_staff_nurse',\n",
       " 'nursing_registered_singapore',\n",
       " 'no_express_pte',\n",
       " 'ea_license_number',\n",
       " 'click_apply_button',\n",
       " 'applicant_kindly_furnish',\n",
       " 'kindly_furnish_detailed']"
      ]
     },
     "execution_count": 74,
     "metadata": {},
     "output_type": "execute_result"
    }
   ],
   "source": [
    "unique_3gram_health"
   ]
  },
  {
   "cell_type": "markdown",
   "id": "aab67541",
   "metadata": {},
   "source": [
    "### For engineer"
   ]
  },
  {
   "cell_type": "code",
   "execution_count": 75,
   "id": "de303091",
   "metadata": {},
   "outputs": [],
   "source": [
    "\n",
    "top_1_gram_not_engineer = top_1gram_other + top_1gram_manager + top_1gram_marketing + top_1gram_analytic + top_1gram_admin + top_1gram_account + top_1gram_health + top_1gram_customer + top_1gram_finance + top_1gram_software + top_1gram_hr + top_1gram_technician + top_1gram_chef\n"
   ]
  },
  {
   "cell_type": "code",
   "execution_count": 76,
   "id": "4a5bb711",
   "metadata": {},
   "outputs": [],
   "source": [
    "top_2_gram_not_engineer = top_2gram_other + top_2gram_manager + top_2gram_marketing + top_2gram_analytic + top_2gram_admin + top_2gram_account + top_2gram_health + top_2gram_customer + top_2gram_finance + top_2gram_software + top_2gram_hr + top_2gram_technician + top_2gram_chef\n"
   ]
  },
  {
   "cell_type": "code",
   "execution_count": 77,
   "id": "321a4133",
   "metadata": {},
   "outputs": [],
   "source": [
    "top_3_gram_not_engineer = top_3gram_other + top_3gram_manager + top_3gram_marketing + top_3gram_analytic + top_3gram_admin + top_3gram_account + top_3gram_health + top_3gram_customer + top_3gram_finance + top_3gram_software + top_3gram_hr + top_3gram_technician + top_3gram_chef\n"
   ]
  },
  {
   "cell_type": "code",
   "execution_count": 78,
   "id": "56e17edf",
   "metadata": {},
   "outputs": [],
   "source": [
    "unique_1gram_engineer = []\n",
    "for token in top_1gram_engineer:\n",
    "    if token not in top_1_gram_not_engineer:\n",
    "        unique_1gram_engineer.append(token)"
   ]
  },
  {
   "cell_type": "code",
   "execution_count": 79,
   "id": "a1662b65",
   "metadata": {},
   "outputs": [],
   "source": [
    "unique_2gram_engineer = []\n",
    "for token in top_2gram_engineer:\n",
    "    if token not in top_2_gram_not_engineer:\n",
    "        unique_2gram_engineer.append(token)"
   ]
  },
  {
   "cell_type": "code",
   "execution_count": 80,
   "id": "49b86308",
   "metadata": {},
   "outputs": [],
   "source": [
    "unique_3gram_engineer = []\n",
    "for token in top_3gram_engineer:\n",
    "    if token not in top_3_gram_not_engineer:\n",
    "        unique_3gram_engineer.append(token)"
   ]
  },
  {
   "cell_type": "code",
   "execution_count": 81,
   "id": "27bf15a6",
   "metadata": {},
   "outputs": [
    {
     "data": {
      "text/plain": [
       "['site',\n",
       " 'electrical',\n",
       " 'construction',\n",
       " 'production',\n",
       " 'improvement',\n",
       " 'or',\n",
       " 'manufacturing',\n",
       " 'mechanical',\n",
       " 'specification']"
      ]
     },
     "execution_count": 81,
     "metadata": {},
     "output_type": "execute_result"
    }
   ],
   "source": [
    "unique_1gram_engineer"
   ]
  },
  {
   "cell_type": "code",
   "execution_count": 82,
   "id": "6949b138",
   "metadata": {},
   "outputs": [
    {
     "data": {
      "text/plain": [
       "['technical_support',\n",
       " 'provide_technical',\n",
       " 'mechanical_engineering',\n",
       " 'electrical_engineering',\n",
       " 'engineering_equivalent',\n",
       " 'degree_electrical',\n",
       " 'm_e',\n",
       " 'responsibility_responsible',\n",
       " 'requirement_diploma',\n",
       " 'continuous_improvement',\n",
       " 'civil_engineering',\n",
       " 'sub_contractor',\n",
       " 'degree_engineering',\n",
       " 'mechanical_electrical',\n",
       " 'national_origin',\n",
       " 'sexual_orientation',\n",
       " 'application_process',\n",
       " 'electrical_electronics',\n",
       " 'analytical_problem',\n",
       " 'corrective_action',\n",
       " 'diploma_mechanical',\n",
       " 'method_statement',\n",
       " 'engineering_mechanical',\n",
       " 'degree_civil',\n",
       " 'entry_level',\n",
       " 'willing_work',\n",
       " 'operating_system',\n",
       " 'hardware_software',\n",
       " 'ensure_proper',\n",
       " 'requirements_degree']"
      ]
     },
     "execution_count": 82,
     "metadata": {},
     "output_type": "execute_result"
    }
   ],
   "source": [
    "unique_2gram_engineer"
   ]
  },
  {
   "cell_type": "code",
   "execution_count": 83,
   "id": "2a54ed68",
   "metadata": {
    "scrolled": true
   },
   "outputs": [
    {
     "data": {
      "text/plain": [
       "['provide_technical_support',\n",
       " 'request_assistance_application',\n",
       " 'assistance_application_process',\n",
       " 'degree_electrical_engineering',\n",
       " 'diploma_degree_electrical',\n",
       " 'race_color_religion',\n",
       " 'color_religion_sex',\n",
       " 'microns_human_resources',\n",
       " 'human_resources_department',\n",
       " 'i_c_scada',\n",
       " 'process_and_or',\n",
       " 'degree_civil_engineering',\n",
       " 'transform_world_use',\n",
       " 'world_use_information',\n",
       " 'c_scada_iot',\n",
       " 'scada_iot_tgm',\n",
       " 'responsibilities_responsibility_responsible',\n",
       " 'mechanical_engineering_equivalent',\n",
       " 'discipline_minimum_year',\n",
       " 'electrical_electronic_engineering',\n",
       " 'diploma_mechanical_engineering',\n",
       " 'min_year_work',\n",
       " 'recruit_expert_com',\n",
       " 'requirements_degree_diploma',\n",
       " 'age_national_origin',\n",
       " 'engineering_min_year',\n",
       " 'experience_construction_industry',\n",
       " 'tool_e_g',\n",
       " 'requirement_min_diploma',\n",
       " 'keen_apply_position',\n",
       " 'apply_position_kindly',\n",
       " 'position_kindly_email',\n",
       " 'ms_word_hr',\n",
       " 'word_hr_recruit',\n",
       " 'hr_recruit_expert',\n",
       " 'note_shortlist_candidate',\n",
       " 'internal_external_customer']"
      ]
     },
     "execution_count": 83,
     "metadata": {},
     "output_type": "execute_result"
    }
   ],
   "source": [
    "unique_3gram_engineer "
   ]
  },
  {
   "cell_type": "markdown",
   "id": "de05b56c",
   "metadata": {},
   "source": [
    "### For analytic|analyst|data"
   ]
  },
  {
   "cell_type": "code",
   "execution_count": 84,
   "id": "bdfe7ce7",
   "metadata": {},
   "outputs": [],
   "source": [
    "top_1_gram_not_analytic = top_1gram_other + top_1gram_engineer + top_1gram_manager + top_1gram_marketing + top_1gram_admin + top_1gram_account + top_1gram_health + top_1gram_customer + top_1gram_finance + top_1gram_software + top_1gram_hr + top_1gram_technician + top_1gram_chef\n"
   ]
  },
  {
   "cell_type": "code",
   "execution_count": 85,
   "id": "3a111675",
   "metadata": {},
   "outputs": [],
   "source": [
    "top_2_gram_not_analytic = top_2gram_other + top_2gram_engineer + top_2gram_manager + top_2gram_marketing + top_2gram_admin + top_2gram_account + top_2gram_health + top_2gram_customer + top_2gram_finance + top_2gram_software + top_2gram_hr + top_2gram_technician + top_2gram_chef\n"
   ]
  },
  {
   "cell_type": "code",
   "execution_count": 86,
   "id": "5042eebf",
   "metadata": {},
   "outputs": [],
   "source": [
    "top_3_gram_not_analytic = top_3gram_other + top_3gram_engineer + top_3gram_manager + top_3gram_marketing + top_3gram_admin + top_3gram_account + top_3gram_health + top_3gram_customer + top_3gram_finance + top_3gram_software + top_3gram_hr + top_3gram_technician + top_3gram_chef"
   ]
  },
  {
   "cell_type": "code",
   "execution_count": 87,
   "id": "c4348717",
   "metadata": {},
   "outputs": [],
   "source": [
    "unique_1gram_analytic = []\n",
    "for token in top_1gram_analytic:\n",
    "    if token not in top_1_gram_not_analytic:\n",
    "        unique_1gram_analytic.append(token)"
   ]
  },
  {
   "cell_type": "code",
   "execution_count": 88,
   "id": "cf8a33e7",
   "metadata": {},
   "outputs": [],
   "source": [
    "unique_2gram_analytic = []\n",
    "for token in top_2gram_analytic:\n",
    "    if token not in top_2_gram_not_analytic:\n",
    "        unique_2gram_analytic.append(token)"
   ]
  },
  {
   "cell_type": "code",
   "execution_count": 89,
   "id": "6969156f",
   "metadata": {},
   "outputs": [],
   "source": [
    "unique_3gram_analytic = []\n",
    "for token in top_3gram_analytic:\n",
    "    if token not in top_3_gram_not_analytic:\n",
    "        unique_3gram_analytic.append(token)"
   ]
  },
  {
   "cell_type": "code",
   "execution_count": 90,
   "id": "973097a2",
   "metadata": {},
   "outputs": [
    {
     "data": {
      "text/plain": [
       "['model', 'analytic', 'analyst', 'analytical', 'functional', 'use', 'deliver']"
      ]
     },
     "execution_count": 90,
     "metadata": {},
     "output_type": "execute_result"
    }
   ],
   "source": [
    "unique_1gram_analytic"
   ]
  },
  {
   "cell_type": "code",
   "execution_count": 91,
   "id": "429dd1b7",
   "metadata": {},
   "outputs": [
    {
     "data": {
      "text/plain": [
       "['business_analyst',\n",
       " 'data_quality',\n",
       " 'end_user',\n",
       " 'datum_analytic',\n",
       " 'business_need',\n",
       " 'data_management',\n",
       " 'data_science',\n",
       " 'big_data',\n",
       " 'datum_analysis',\n",
       " 'machine_learning',\n",
       " 'business_user',\n",
       " 'understand_business',\n",
       " 'decision_make',\n",
       " 'datum_science',\n",
       " 'datum_quality',\n",
       " 'user_acceptance',\n",
       " 'datum_source',\n",
       " 'datum_scientist',\n",
       " 'business_problem',\n",
       " 'good_understanding',\n",
       " 'submit_application',\n",
       " 'technical_skills',\n",
       " 'management_system',\n",
       " 'business_analysis',\n",
       " 'equal_opportunity',\n",
       " 'machine_learn',\n",
       " 'business_stakeholder',\n",
       " 'support_team',\n",
       " 'data_stewards',\n",
       " 'use_case',\n",
       " 'data_visualization']"
      ]
     },
     "execution_count": 91,
     "metadata": {},
     "output_type": "execute_result"
    }
   ],
   "source": [
    "unique_2gram_analytic"
   ]
  },
  {
   "cell_type": "code",
   "execution_count": 92,
   "id": "ca48db4a",
   "metadata": {},
   "outputs": [
    {
     "data": {
      "text/plain": [
       "['kelly_services_singapore',\n",
       " 'services_singapore_pte',\n",
       " 'pte_ltd_persolkelly',\n",
       " 'disclose_personal_datum',\n",
       " 'technical_skills_competencies',\n",
       " 'machine_learning_model',\n",
       " 'capita_pte_ltd',\n",
       " 'ad_hoc_analysis',\n",
       " 'graduating_calendar_year',\n",
       " 'fmo_data_management',\n",
       " 'calendar_year_university',\n",
       " 'support_data_stewards',\n",
       " 'skill_attention_detail',\n",
       " 'consulting_pte_ltd',\n",
       " 'business_use_case',\n",
       " 's_degree_computer',\n",
       " 'job_requirements_degree',\n",
       " 'involve_software_development',\n",
       " 'authoritative_provisioning_point',\n",
       " 'familiar_soc_process',\n",
       " 'strong_technical_knowledge',\n",
       " 'what_be_offer',\n",
       " 'interested_qualified_candidate',\n",
       " 'standard_chartered_lead',\n",
       " 'chartered_lead_international',\n",
       " 'lead_international_bank',\n",
       " 'international_bank_focus',\n",
       " 'bank_focus_help',\n",
       " 'focus_help_people',\n",
       " 'help_people_company',\n",
       " 'people_company_prosper',\n",
       " 'company_prosper_asia',\n",
       " 'prosper_asia_africa',\n",
       " 'asia_africa_middle',\n",
       " 'africa_middle_east',\n",
       " 'multi_task_prioritize',\n",
       " 'good_analytical_skill']"
      ]
     },
     "execution_count": 92,
     "metadata": {},
     "output_type": "execute_result"
    }
   ],
   "source": [
    "unique_3gram_analytic"
   ]
  },
  {
   "cell_type": "code",
   "execution_count": 93,
   "id": "5d3f6b57",
   "metadata": {},
   "outputs": [],
   "source": [
    "top_2_gram_not_manager = top_2gram_other + top_2gram_engineer + top_2gram_marketing + top_2gram_analytic + top_2gram_admin + top_2gram_account + top_2gram_health + top_2gram_customer + top_2gram_finance + top_2gram_software + top_2gram_hr + top_2gram_technician + top_2gram_chef\n"
   ]
  },
  {
   "cell_type": "markdown",
   "id": "3ae084ff",
   "metadata": {},
   "source": [
    "### Random "
   ]
  },
  {
   "cell_type": "code",
   "execution_count": 94,
   "id": "ce19b067",
   "metadata": {},
   "outputs": [],
   "source": [
    "unique_2gram_manager = []\n",
    "for token in top_2gram_manager:\n",
    "    if token not in top_2_gram_not_manager:\n",
    "        unique_2gram_manager.append(token)"
   ]
  },
  {
   "cell_type": "code",
   "execution_count": 95,
   "id": "2317e800",
   "metadata": {},
   "outputs": [
    {
     "data": {
      "text/plain": [
       "['management_experience',\n",
       " 'external_stakeholder',\n",
       " 'experience_project',\n",
       " 'develop_implement',\n",
       " 'government_agency',\n",
       " 'skill_strong',\n",
       " 'lead_team',\n",
       " 'requirement_year',\n",
       " 'change_management',\n",
       " 'ensure_quality',\n",
       " 'possess_strong',\n",
       " 'internal_stakeholder',\n",
       " 'senior_manager',\n",
       " 'presentation_skill']"
      ]
     },
     "execution_count": 95,
     "metadata": {},
     "output_type": "execute_result"
    }
   ],
   "source": [
    "unique_2gram_manager "
   ]
  },
  {
   "cell_type": "code",
   "execution_count": 96,
   "id": "d370e071",
   "metadata": {},
   "outputs": [],
   "source": [
    "top_2_gram_not_chef = top_2gram_other + top_2gram_engineer + top_2gram_manager + top_2gram_marketing + top_2gram_analytic + top_2gram_admin + top_2gram_account + top_2gram_health + top_2gram_customer + top_2gram_finance + top_2gram_software + top_2gram_hr + top_2gram_technician\n"
   ]
  },
  {
   "cell_type": "code",
   "execution_count": 97,
   "id": "25a9ca51",
   "metadata": {},
   "outputs": [],
   "source": [
    "unique_2gram_chef = []\n",
    "for token in top_2gram_chef:\n",
    "    if token not in top_2_gram_not_chef:\n",
    "        unique_2gram_chef.append(token)"
   ]
  },
  {
   "cell_type": "code",
   "execution_count": 98,
   "id": "9c1d7788",
   "metadata": {},
   "outputs": [
    {
     "data": {
      "text/plain": [
       "['food_preparation',\n",
       " 'ensure_food',\n",
       " 'food_item',\n",
       " 'health_safety',\n",
       " 'food_hygiene',\n",
       " 'food_quality',\n",
       " 'weekend_public',\n",
       " 'safety_standard',\n",
       " 'food_safety',\n",
       " 'cook_food',\n",
       " 'knowledge_food',\n",
       " 'high_standard',\n",
       " 'work_shift',\n",
       " 'work_area',\n",
       " 'food_supply',\n",
       " 'chinese_cuisine',\n",
       " 'work_weekend',\n",
       " 'kitchen_equipment',\n",
       " 'timely_manner',\n",
       " 'standard_food',\n",
       " 'f_b',\n",
       " 'head_chef',\n",
       " 'ensure_smooth',\n",
       " 'chef_de',\n",
       " 'prepare_ingredient',\n",
       " 'kitchen_operation',\n",
       " 'daily_operation',\n",
       " 'kitchen_ensure',\n",
       " 'plan_menu',\n",
       " 'menu_ensure',\n",
       " 'executive_chef',\n",
       " 'preparation_cooking',\n",
       " 'kitchen_area',\n",
       " 'food_product',\n",
       " 'experience_chinese',\n",
       " 'maintain_high',\n",
       " 'job_training',\n",
       " 'sous_chef',\n",
       " 'ensure_high',\n",
       " 'food_ingredient',\n",
       " 'direct_food',\n",
       " 'de_partie',\n",
       " 'hygiene_standard',\n",
       " 'maintain_kitchen',\n",
       " 'food_production',\n",
       " 'place_order',\n",
       " 'ready_work',\n",
       " 'long_hour',\n",
       " 'new_dish',\n",
       " 'prepare_food',\n",
       " 'maintain_clean',\n",
       " 'area_kitchen',\n",
       " 'duty_responsibility',\n",
       " 'requirement_candidate',\n",
       " 'prepare_serve',\n",
       " 'serve_food',\n",
       " 'smooth_operation',\n",
       " 'fine_dining',\n",
       " 'shift_weekend']"
      ]
     },
     "execution_count": 98,
     "metadata": {},
     "output_type": "execute_result"
    }
   ],
   "source": [
    "unique_2gram_chef"
   ]
  },
  {
   "cell_type": "markdown",
   "id": "b89a3798",
   "metadata": {},
   "source": [
    "### Using Noun Chunk"
   ]
  },
  {
   "cell_type": "code",
   "execution_count": 99,
   "id": "06fa3e1f",
   "metadata": {},
   "outputs": [],
   "source": [
    "def extract_to_list_top_noun_chunk_keyword(job_category,top_word=50):\n",
    "    temp = []\n",
    "    noun_chunk_list = []\n",
    "    for sentence in df['job_description'][df['job_category']==job_category]:\n",
    "        sentence = nlp(sentence)\n",
    "        for chunk in sentence.noun_chunks:\n",
    "            noun_chunk_list.append(chunk.text)\n",
    "    \n",
    "    for token in Counter(noun_chunk_list).most_common(top_word):\n",
    "        temp.append(token[0])\n",
    "    return temp\n",
    "    \n",
    "top_noun_chunk_other =  extract_to_list_top_noun_chunk_keyword('other')\n",
    "top_noun_chunk_engineer = extract_to_list_top_noun_chunk_keyword('engineer')\n",
    "top_noun_chunk_manager = extract_to_list_top_noun_chunk_keyword('manager')\n",
    "top_noun_chunk_marketing = extract_to_list_top_noun_chunk_keyword('marketing|market|sales')\n",
    "top_noun_chunk_analytic = extract_to_list_top_noun_chunk_keyword('analytic|analyst|data')\n",
    "top_noun_chunk_admin = extract_to_list_top_noun_chunk_keyword('admin')\n",
    "top_noun_chunk_account= extract_to_list_top_noun_chunk_keyword('account')\n",
    "top_noun_chunk_health = extract_to_list_top_noun_chunk_keyword('healthcare|medical|nurse|hospital|pharma|clinic|patient')\n",
    "top_noun_chunk_customer = extract_to_list_top_noun_chunk_keyword('customer|service|call')\n",
    "top_noun_chunk_finance = extract_to_list_top_noun_chunk_keyword('finance|financial|bank')\n",
    "top_noun_chunk_software = extract_to_list_top_noun_chunk_keyword('software|developer|java|network|system')\n",
    "top_noun_chunk_hr = extract_to_list_top_noun_chunk_keyword('hr|human')\n",
    "top_noun_chunk_technician = extract_to_list_top_noun_chunk_keyword('technician')\n",
    "top_noun_chunk_chef =  extract_to_list_top_noun_chunk_keyword('chef|cook|kitchen|barista|bartender|restaurant')"
   ]
  },
  {
   "cell_type": "code",
   "execution_count": 100,
   "id": "3c6cd152",
   "metadata": {},
   "outputs": [],
   "source": [
    "\n",
    "top_noun_chunk_not_health = top_noun_chunk_other + top_noun_chunk_engineer + top_noun_chunk_manager + top_noun_chunk_marketing + top_noun_chunk_analytic + top_noun_chunk_admin + top_noun_chunk_account + top_noun_chunk_customer + top_noun_chunk_finance + top_noun_chunk_software + top_noun_chunk_hr + top_noun_chunk_technician + top_noun_chunk_chef\n"
   ]
  },
  {
   "cell_type": "code",
   "execution_count": 101,
   "id": "d6915e7f",
   "metadata": {},
   "outputs": [],
   "source": [
    "unique_noun_chunk_health = []\n",
    "for token in top_noun_chunk_health:\n",
    "    if token not in top_noun_chunk_not_health:\n",
    "        unique_noun_chunk_health.append(token)"
   ]
  },
  {
   "cell_type": "code",
   "execution_count": 102,
   "id": "81f96fed",
   "metadata": {},
   "outputs": [
    {
     "data": {
      "text/plain": [
       "['recent update resume',\n",
       " 'michelle lee recruitexpress com sg',\n",
       " 'the candidate',\n",
       " 'sophisticated audience',\n",
       " 'surgeon healthcare professional',\n",
       " 'customer account variety topic',\n",
       " 'product update change product portfolio educational program',\n",
       " 'new prospect',\n",
       " 'appropriate response cross',\n",
       " 'additional product',\n",
       " 'new product introduction available work sale team',\n",
       " 'coaching training mentoring transfer knowledge peer sales representatives sales associates',\n",
       " 'training product feature benefit critical business application',\n",
       " 'competitive datum',\n",
       " 'current industry customer competitive trend',\n",
       " 'professional association meeting',\n",
       " 'regular business hour',\n",
       " 'implement sale strategy strong interpersonal communication influence skill',\n",
       " 'requirements',\n",
       " 'jen ooi',\n",
       " 'recruitexpress com sg jenalyn ooi',\n",
       " 'current expect salary date availability notice period',\n",
       " 'consent collection',\n",
       " 'disclosure personal datum']"
      ]
     },
     "execution_count": 102,
     "metadata": {},
     "output_type": "execute_result"
    }
   ],
   "source": [
    " unique_noun_chunk_health"
   ]
  },
  {
   "cell_type": "code",
   "execution_count": 103,
   "id": "7cd61a3c",
   "metadata": {},
   "outputs": [],
   "source": [
    "top_noun_chunk_not_chef = top_noun_chunk_other + top_noun_chunk_engineer + top_noun_chunk_manager + top_noun_chunk_marketing + top_noun_chunk_analytic + top_noun_chunk_admin + top_noun_chunk_account + top_noun_chunk_customer + top_noun_chunk_finance + top_noun_chunk_software + top_noun_chunk_hr + top_noun_chunk_technician + top_noun_chunk_health\n"
   ]
  },
  {
   "cell_type": "code",
   "execution_count": 104,
   "id": "59f5b145",
   "metadata": {},
   "outputs": [],
   "source": [
    "unique_noun_chunk_chef = []\n",
    "for token in top_noun_chunk_chef:\n",
    "    if token not in top_noun_chunk_not_chef:\n",
    "        unique_noun_chunk_chef.append(token)"
   ]
  },
  {
   "cell_type": "code",
   "execution_count": 105,
   "id": "7a7b4b47",
   "metadata": {},
   "outputs": [
    {
     "data": {
      "text/plain": [
       "['food',\n",
       " 'recipe',\n",
       " 'timely manner',\n",
       " 'dish',\n",
       " 'cook',\n",
       " 'l',\n",
       " 'position job description',\n",
       " 'freshness food ingredient',\n",
       " 'coordinate activity',\n",
       " 'present food plan menu',\n",
       " 'uniform',\n",
       " 'supply equipment work area cleanliness functionality control direct food preparation process',\n",
       " 'relative activity',\n",
       " 'culinary creation',\n",
       " 'variety quality',\n",
       " 'approve polish dish',\n",
       " 'customer plan order equipment ingredient accord',\n",
       " 'culinary trend',\n",
       " 'ingredient',\n",
       " 'food item store',\n",
       " 'long hour work',\n",
       " 'hour order experiment',\n",
       " 'new dish candidate',\n",
       " 'good knowledge food product availability order plan cuisine',\n",
       " 'time management skill',\n",
       " 'activity place kitchen',\n",
       " 'duty responsibility',\n",
       " 'portion control',\n",
       " 'o',\n",
       " 'menu',\n",
       " 'personal corporate order delivery order',\n",
       " 'place']"
      ]
     },
     "execution_count": 105,
     "metadata": {},
     "output_type": "execute_result"
    }
   ],
   "source": [
    "unique_noun_chunk_chef"
   ]
  },
  {
   "cell_type": "code",
   "execution_count": 106,
   "id": "0393a773",
   "metadata": {},
   "outputs": [],
   "source": [
    "top_noun_chunk_not_engineer = top_noun_chunk_other + top_noun_chunk_chef + top_noun_chunk_manager + top_noun_chunk_marketing + top_noun_chunk_analytic + top_noun_chunk_admin + top_noun_chunk_account + top_noun_chunk_customer + top_noun_chunk_finance + top_noun_chunk_software + top_noun_chunk_hr + top_noun_chunk_technician + top_noun_chunk_health\n"
   ]
  },
  {
   "cell_type": "code",
   "execution_count": 107,
   "id": "de85efc4",
   "metadata": {},
   "outputs": [],
   "source": [
    "unique_noun_chunk_engineer = []\n",
    "for token in top_noun_chunk_engineer:\n",
    "    if token not in top_noun_chunk_not_engineer:\n",
    "        unique_noun_chunk_engineer.append(token)"
   ]
  },
  {
   "cell_type": "code",
   "execution_count": 108,
   "id": "7c1cfb1b",
   "metadata": {},
   "outputs": [
    {
     "data": {
      "text/plain": [
       "['world',\n",
       " 'discipline',\n",
       " 'knowledge',\n",
       " 'english',\n",
       " 'quotation',\n",
       " 'train',\n",
       " 'condition employment regard person',\n",
       " 'technology',\n",
       " 'only request assistance application process',\n",
       " 'sg',\n",
       " 'site']"
      ]
     },
     "execution_count": 108,
     "metadata": {},
     "output_type": "execute_result"
    }
   ],
   "source": [
    "unique_noun_chunk_engineer"
   ]
  },
  {
   "cell_type": "markdown",
   "id": "31a4d8b9",
   "metadata": {},
   "source": [
    "### Skill extraction via topic modeling"
   ]
  },
  {
   "cell_type": "code",
   "execution_count": 109,
   "id": "1a4af638",
   "metadata": {},
   "outputs": [],
   "source": [
    "save_number = 0\n",
    "def IMPLEMENT_LDA_ALGORITHM(df,column_name='job_description',n_grams_map=1,n_components=10):\n",
    "    global save_number\n",
    "    save_number +=1\n",
    "    lda_df = df.reset_index(drop=True)\n",
    "\n",
    "    cv = CountVectorizer(max_df=0.90,min_df=2,stop_words='english')\n",
    "    if n_grams_map == 1:\n",
    "        dtm = cv.fit_transform(lda_df[f\"{column_name}\"])\n",
    "    elif n_grams_map == 2:\n",
    "        dtm = cv.fit_transform(lda_df[f\"{column_name}\"].map(generate_2_grams))\n",
    "    elif n_grams_map == 3:\n",
    "        dtm = cv.fit_transform(lda_df[f\"{column_name}\"].map(generate_3_grams))\n",
    "    elif n_grams_map == 4:\n",
    "        dtm = cv.fit_transform(lda_df[f\"{column_name}\"].map(generate_4_grams))\n",
    "    else:\n",
    "        dtm = cv.fit_transform(lda_df[f\"{column_name}\"])\n",
    "\n",
    "        \n",
    "    LDA = LatentDirichletAllocation(n_components=n_components, random_state=42)\n",
    "    LDA.fit(dtm)\n",
    "\n",
    "    \n",
    "    print(f\"Number of posting {len(lda_df)}\")\n",
    "    print(f'Number of features {len(cv.get_feature_names_out())}')\n",
    "    print(f'Number of topics {len(LDA.components_)}')\n",
    "\n",
    "    \n",
    "    i = 0\n",
    "    for_csv = []\n",
    "    for topic in LDA.components_:\n",
    "        print(f\"Topic_Model_{save_number}#{i}\")\n",
    "        single_topic = topic\n",
    "        top_n_words = single_topic.argsort()[-150:]\n",
    "        words = []\n",
    "        words_in_csv = [f\"Topic #{i}\"]\n",
    "        total = 0\n",
    "        single = 0\n",
    "        double = 0\n",
    "        triple = 0\n",
    "        quad = 0\n",
    "        for index in top_n_words:\n",
    "            total += 1\n",
    "            if single >= 20 and double >= 20 and triple >= 20 and quad >= 20 or total > 50:\n",
    "                break\n",
    "            elif cv.get_feature_names_out()[index].count('_') == 0 and single < 20:\n",
    "                words.append(cv.get_feature_names_out()[index])\n",
    "                single += 1\n",
    "            elif cv.get_feature_names_out()[index].count('_') == 1 and double < 20:\n",
    "                words.append(cv.get_feature_names_out()[index])\n",
    "                double += 1\n",
    "            elif cv.get_feature_names_out()[index].count('_') == 2 and triple < 20:\n",
    "                words.append(cv.get_feature_names_out()[index])\n",
    "                triple += 1\n",
    "            elif cv.get_feature_names_out()[index].count('_') == 3 and quad < 20:\n",
    "                words.append(cv.get_feature_names_out()[index])\n",
    "                quad += 1\n",
    "        print(words)\n",
    "        print(f\"\\n\")\n",
    "        words_in_csv.append(words)\n",
    "        for_csv.append(words_in_csv)\n",
    "        i += 1\n",
    "\n",
    "    topic_results = LDA.transform(dtm)\n",
    "    lda_df[f'topic_model_{save_number}'] = topic_results.argmax(axis=1)\n",
    "    lda_df[['job_title','company_name','job_description','job_category', f'topic_model_{save_number}']].to_csv(f'lda_{column_name}_map{n_grams_map}_topic{n_components}_{save_number}.csv')\n",
    "    file = open(f'lda_{column_name}_map{n_grams_map}_topic{n_components}_model_{save_number}_topic.csv','a',newline='')\n",
    "    with file:\n",
    "        write = csv.writer(file)\n",
    "        write.writerows(for_csv)\n",
    "\n",
    "# ### END OF LDA ALGORITHM\n"
   ]
  },
  {
   "cell_type": "code",
   "execution_count": 110,
   "id": "3b915b08",
   "metadata": {},
   "outputs": [],
   "source": [
    "##IMPLEMENTING LDA ALGORITHEM\n",
    "df['jd_1'] = df['job_description'] #Only with Unigram Word\n",
    "df['jd_12'] = df['jd_1']+' '+df['job_description'].map(generate_2_grams) # has both unigram and bigram\n",
    "df['jd_123'] = df['jd_12']+' '+df['job_description'].map(generate_3_grams)\n",
    "df['jd_1234'] = df['jd_123']+' '+df['job_description'].map(generate_4_grams)"
   ]
  },
  {
   "cell_type": "code",
   "execution_count": 111,
   "id": "8855412d",
   "metadata": {},
   "outputs": [
    {
     "name": "stdout",
     "output_type": "stream",
     "text": [
      "Number of posting 3000\n",
      "Number of features 8354\n",
      "Number of topics 15\n",
      "Topic_Model_1#0\n",
      "['accordance', 'execution', 'assessment', 'development', 'preparation', 'effective', 'understand', 'proficient', 'method', 'vendor', 'preferably', 'microsoft', 'building', 'discipline', 'duty', 'qualification', 'practice', 'level', 'facility', 'change']\n",
      "\n",
      "\n",
      "Topic_Model_1#1\n",
      "['click', 'current', 'detailed', 'importantly', 'email', 'deem', 'hear', 'machinery', 'test', 'commitment', 'breakdown', 'life', 'contract', 'policy', 'grow', 'advantage', 'min', 'speak', 'staff', 'singapore']\n",
      "\n",
      "\n",
      "Topic_Model_1#2\n",
      "['ltdea', 'provider', 'requirements', 'west', 'invite', 'safe', 'manufacturing', 'regret', 'early', 'lay', 'gross', 'drive', 'photo', 'depend', 'cargo', 'qualified', 'access', 'vehicle', 'marine', 'service']\n",
      "\n",
      "\n",
      "Topic_Model_1#3\n",
      "['graduated', 'long', 'material', 'educational', 'audio', 'network', 'office', 'world', 'complete', 'calendar', 'pr', 'pacificlight', 'sgunitedtraineeships', 'renewable', 'commercial', 'model', 'order', 'opportunity', 'consumer', 'economics']\n",
      "\n",
      "\n",
      "Topic_Model_1#4\n",
      "['statutory', 'statement', 'shipment', 'write', 'query', 'business', 'description', 'role', 'asset', 'ability', 'manager', 'data', 'logistic', 'vendor', 'project', 'daily', 'warehouse', 'independently', 'set', 'client']\n",
      "\n",
      "\n",
      "Topic_Model_1#5\n",
      "['action', 'complex', 'identity', 'network', 'define', 'commit', 'multiple', 'regional', 'asia', 'program', 'efficiency', 'organizational', 'national', 'inclusive', 'request', 'fast', 'meet', 'time', 'year', 'continuous']\n",
      "\n",
      "\n",
      "Topic_Model_1#6\n",
      "['expect', 'career', 'advertise', 'permanent', 'suitable', 'progression', 'confidence', 'competitive', 'basic', 'mnc', 'device', 'relevant', 'medication', 'pre', 'relate', 'tan', 'week', 'scope', 'use', 'cei']\n",
      "\n",
      "\n",
      "Topic_Model_1#7\n",
      "['carry', 'assessment', 'admin', 'speak', 'old', 'record', 'community', 'application', 'contract', 'friday', 'counselling', 'need', 'ms', 'datum', 'minimum', 'encourage', 'ooi', 'assign', 'background', 'surgery']\n",
      "\n",
      "\n",
      "Topic_Model_1#8\n",
      "['internal', 'basic', 'party', 'hour', 'roles', 'able', 'professional', 'mobile', 'company', 'patch', 'detection', 'responsible', 'availability', 'switch', 'change', 'project', 'upgrade', 'prefer', 'certified', 'vulnerability']\n",
      "\n",
      "\n",
      "Topic_Model_1#9\n",
      "['meet', 'relevant', 'activity', 'candidate', 'place', 'chef', 'superior', 'achieve', 'learn', 'conduct', 'pace', 'control', 'welcome', 'new', 'dish', 'workplace', 'treatment', 'certificate', 'set', 'enquiry']\n",
      "\n",
      "\n",
      "Topic_Model_1#10\n",
      "['international', 'track', 'maintain', 'issue', 'partnership', 'leader', 'demonstrate', 'challenge', 'self', 'country', 'appropriate', 'influence', 'cross', 'result', 'presentation', 'services', 'goal', 'region', 'operational', 'program']\n",
      "\n",
      "\n",
      "Topic_Model_1#11\n",
      "['technique', 'analysis', 'language', 'seek', 'creative', 'track', 'passion', 'researcher', 'fitness', 'bachelor', 'www', 'impact', 'roles', 'desire', 'model', 'benefit', 'illumina', 'graduate', 'highly', 'successful']\n",
      "\n",
      "\n",
      "Topic_Model_1#12\n",
      "['familiar', 'production', 'plus', 'follow', 'task', 'document', 'perform', 'internal', 'multiple', 'equivalent', 'meet', 'net', 'improve', 'oracle', 'collaborate', 'server', 'risk', 'analyst', 'use', 'interface']\n",
      "\n",
      "\n",
      "Topic_Model_1#13\n",
      "['recruitment', 'plus', 'potential', 'speak', 'law', 'research', 'local', 'promote', 'conduct', 'meet', 'compliance', 'stakeholder', 'google', 'prefer', 'acquisition', 'product', 'task', 'manager', 'creation', 'interior']\n",
      "\n",
      "\n",
      "Topic_Model_1#14\n",
      "['freight', 'chloe', 'import', 'meet', 'discipline', 'jia', 'maintain', 'confidence', 'immediate', 'nitec', 'shipment', 'shortlist', 'store', 'hui', 'salary', 'delivery', 'forward', 'org', 'interpersonal', 'perform']\n",
      "\n",
      "\n"
     ]
    }
   ],
   "source": [
    "IMPLEMENT_LDA_ALGORITHM(df=df,column_name='job_description',n_grams_map=1,n_components=15)"
   ]
  },
  {
   "cell_type": "code",
   "execution_count": 112,
   "id": "98949733",
   "metadata": {},
   "outputs": [
    {
     "name": "stdout",
     "output_type": "stream",
     "text": [
      "Number of posting 3000\n",
      "Number of features 53766\n",
      "Number of topics 15\n",
      "Topic_Model_2#0\n",
      "['hire_recruit', 'management_skill', 'connection_job', 'no_reg', 'excellent_interpersonal', 'kindly_email', 'vitae_personal', 'bachelor_s', 'food_preparation', 'ensure_timely', 'policy_procedure', 'verbal_write', 'requirement_min', 'prior_experience', 'discussion_job', 'able_multi', 'work_weekend', 'risk_management', 'analytical_skill', 'in_depth']\n",
      "\n",
      "\n",
      "Topic_Model_2#1\n",
      "['chartered_bank', 'you_ll', 'skill_team', 'cross_functional', 'asia_pacific', 'principal_only', 'prior_experience', 'candidate_possess', 'strong_analytical', 'administrative_support', 'computer_science', 'verbal_communication', 'skill_strong', 'ea_licence', 'assign_job', 'analytical_skill', 'leadership_skill', 'regret_shortlist', 'strong_communication', 'chloe_tan']\n",
      "\n",
      "\n",
      "Topic_Model_2#2\n",
      "['science_engineering', 'year_relevant', 'national_origin', 'hoc_duty', 'o_level', 'hardware_software', 'risk_management', 'previous_experience', 'provide_technical', 'sql_server', 'high_level', 'ms_office', 'good_interpersonal', 'interpersonal_communication', 'relate_discipline', 'specific_responsibility', 'work_knowledge', 'level_year', 'duration_traineeship', 'project_issue']\n",
      "\n",
      "\n",
      "Topic_Model_2#3\n",
      "['experience_welcome', 'job_requirement', 'project_manager', 'substation_automation', 'resume_work', 'below_year', 'child_below', 'work_closely', 'apply_position', 'to_day', 'day_to', 'inform_shortlist', 'prior_experience', 'start_work', 'regret_inform', 'position_apply', 'shortlist_candidate', 'attention_detail', 'responsibilities_responsibility', 'project_requirement']\n",
      "\n",
      "\n",
      "Topic_Model_2#4\n",
      "['engineering_civil', 'strong_communication', 'development_team', 'timely_manner', 'machine_learning', 'ms_office', 'business_development', 'social_medium', 'requirements_candidate', 'work_team', 'information_technology', 'management_experience', 'ad_hoc', 'word_excel', 'web_application', 'internal_business', 'consumer_banking', 'opportunity_employer', 'business_need', 'lead_communication']\n",
      "\n",
      "\n",
      "Topic_Model_2#5\n",
      "['we_be', 'type_permanent', 'high_quality', 'citi_s', 'support_data', 'oversee_product', 'applicant_send', 'english_mandarin', 'relevant_work', 'excellent_communication', 'good_knowledge', 'resume_emailprotecte', 'application_send', 'support_business', 'demonstrate_ability', 'equivalent_year', 'quality_control', 'r_d', 'skill_experience', 'process_owners']\n",
      "\n",
      "\n",
      "Topic_Model_2#6\n",
      "['excellent_communication', 'asia_pacific', 'work_week', 'work_team', 'work_ensure', 'am_pm', 'public_service', 'ui_ux', 'degree_computer', 'successful_candidate', 'good_team', 'candidate_experience', 'word_format', 'responsibilities_responsibility', 'min_degree', 'day_work', 'digital_marketing', 'email_resume', 'ability_work', 'mechanical_electrical']\n",
      "\n",
      "\n",
      "Topic_Model_2#7\n",
      "['candidate_possess', 'equivalent_year', 'communication_presentation', 'in_depth', 'software_development', 'i_e', 'provide_high', 'professional_development', 'interested_applicant', 'industry_experience', 'r_d', 'functional_team', 'ea_personnel', 'ability_manage', 'experience_manage', 'update_resume', 'interior_design', 'environment_strong', 'application_development', 's_degree']\n",
      "\n",
      "\n",
      "Topic_Model_2#8\n",
      "['job_responsibility', 'responsibility_provide', 'skill_experience', 'responsibility_responsible', 'regret_shortlist', 'visit_www', 'word_format', 'resume_to', 'https_www', 'provide_support', 'new_product', 'operation_team', 'administrative_support', 'communicate_customer', 'administrative_duty', 'provide_administrative', 'degree_computer', 'application_team', 'personnel_valerie', 'business_need']\n",
      "\n",
      "\n",
      "Topic_Model_2#9\n",
      "['high_quality', 'assign_requirements', 'sale_team', 'team_member', 'thank_application', 'office_hour', 'follow_detail', 'availability_date', 'principal_only', 'write_communication', 'no_personnel', 'food_preparation', 'e_g', 'require_position', 'job_requirements', 'hour_monday', 'ensure_compliance', 'on_experience', 'in_charge', 'working_experience']\n",
      "\n",
      "\n",
      "Topic_Model_2#10\n",
      "['detailed_word', 'discussion_please', 'competitive_remuneration', 'skill_able', 'solve_skill', 'please_include', 'format_emailprotecte', 'short_list', 'hand_on', 'number_ea', 'monday_friday', 'time_management', 'send_resume', 'hoc_duty', 'we_regret', 'shift_allowance', 'interested_applicant', 'requirement_minimum', 'profilers_pte', 'i_e']\n",
      "\n",
      "\n",
      "Topic_Model_2#11\n",
      "['web_development', 'storage_solution', 'team_ensure', 'job_requirements', 'requirement_diploma', 'timely_manner', 'good_communication', 'high_level', 'daily_operation', 'good_interpersonal', 'information_technology', 'graduate_diploma', 'working_hour', 'analytical_skill', 'communication_interpersonal', 'long_term', 'department_and', 'skill_able', 'purchase_order', 'requirement_minimum']\n",
      "\n",
      "\n",
      "Topic_Model_2#12\n",
      "['self_drive', 'the_job', 'requirement_specification', 'market_trend', 'customer_need', 'requirements_candidate', 'kindly_send', 'in_house', 'work_environment', 'development_process', 'mandarin_speak', 'marine_ltd', 'sembcorp_marine', 'clinical_development', 'general_insurance', 'human_resource', 'submit_resume', 'attention_detail', 'year_relate', 'year_s']\n",
      "\n",
      "\n",
      "Topic_Model_2#13\n",
      "['ms_words', 'no_click', 'job_requirements', 'engineering_equivalent', 'min_diploma', 'expect_salary', 'work_closely', 'team_member', 'number_compliance', 'hoc_duty', 'job_responsibility', 'time_management', 'words_format', 'excellent_interpersonal', 'working_hour', 'information_technology', 'business_process', 'ability_work', 'format_click', 'pte_ltdea']\n",
      "\n",
      "\n",
      "Topic_Model_2#14\n",
      "['s_degree', 'bachelor_degree', 'skill_able', 'position_report', 'management_skill', 'rotate_shift', 'co_ordinate', 'requirement_year', 'i_e', 'month_eligibility', 'high_quality', 'pace_environment', 'experience_work', 'social_media', 'provide_technical', 'technology_team', 'responsibility_work', 'speak_customer', 'japanese_speak', 'good_team']\n",
      "\n",
      "\n"
     ]
    }
   ],
   "source": [
    "IMPLEMENT_LDA_ALGORITHM(df=df,column_name='job_description',n_grams_map=2,n_components=15)"
   ]
  },
  {
   "cell_type": "code",
   "execution_count": 113,
   "id": "64cef9b9",
   "metadata": {},
   "outputs": [
    {
     "name": "stdout",
     "output_type": "stream",
     "text": [
      "Number of posting 3000\n",
      "Number of features 122851\n",
      "Number of topics 15\n",
      "Topic_Model_3#0\n",
      "['resume', 'maintain', 'problem', 'analysis', 'handle', 'optimize', 'review', 'follow', 'technical_support', 'cyber', 'singtel', 'drive', 'need', 'e_commerce', 'liquidity', 'group', 'implementation', 'rakuten', 'sql', 'cybersecurity', 'training', 'japanese', 'and_or', 'mizuho_bank_ltd', 'bank_ltd', 'job_requirements', 'end_user']\n",
      "\n",
      "\n",
      "Topic_Model_3#1\n",
      "['relate_job_application', 'soon_confidential', 'soon_confidential_discussion', 'expect_salary_date', 'salary_date', 'engineering', 'summary', 'company_relate', 'submit_update', 'submit_update_resume', 'relate_job', 'submit_update_resume_ms', 'purpose_processing', 'format_apply', 'equipment', 'opportunity', 'duty', 'welcome_apply', 'technical', 'applicant', 'national', 'submit_personal', 'submit_personal_datum_and', 'submit_personal_datum', 'career_services', 'career_services_pte', 'confidential_discussion', 'point', 'ensure', 'consent_collection_use_disclosure', 'service', 'maintenance', 'confidential', 'operation', 'services_pte', 'information_resume', 'develop', 'soon', 'contact', 'follow_information_resume', 'pte_ltd', 'learn', 'agent', 'tutor', 'follow_information', 'consent_collection', 'consent_collection_use']\n",
      "\n",
      "\n",
      "Topic_Model_3#2\n",
      "['work_experience', 'commerce', 'equivalent', 'risk', 'project', 'plan', 'interpersonal', 'google', 'storage', 'diploma', 'e_commerce', 'backup', 'responsibility_responsible', 'market', 'server', 'target', 'graphic', 'roles_responsibilities_responsibility', 'responsibilities_responsibility', 'recruit_expert_com_note', 'expert_com_note', 'expert_com_note_shortlist', 'report', 'ms_word_hr', 'ms_word_hr_recruit', 'word_hr', 'resume_ms_word_hr', 'word_hr_recruit', 'word_hr_recruit_expert', 'hr_recruit_expert_com', 'hr_recruit_expert', 'hr_recruit', 'new', 'lead', 'estate', 'web', 'position_kindly_email', 'com_note', 'com_note_shortlist_candidate', 'com_note_shortlist', 'keen_apply_position_kindly', 'keen_apply', 'position_kindly_email_detailed', 'keen_apply_position', 'apply_position_kindly_email', 'assist', 'marketing_strategy']\n",
      "\n",
      "\n",
      "Topic_Model_3#3\n",
      "['data', 'welcome', 'plan', 'collect', 'deem', 'project', 'timely', 'engineering', 'act', 'follow', 'requirements', 'report', 'candidate_notify', 'task', 'prospective_employer_consideration', 'employer_consideration', 'information_prospective_employer_consideration', 'office', 'collecting_use_retain', 'use_retain', 'player', 'collecting_use', 'retain_disclose_personal', 'use_retain_disclose_personal', 'retain_disclose_personal_information', 'collecting_use_retain_disclose', 'retain_disclose', 'use_retain_disclose', 'responsible', 'month', 'basic', 'knowledge', 'duty', 'team_player', 'information_prospective', 'disclose_personal_information', 'personal_information_prospective', 'personal_information', 'information_prospective_employer', 'personal_information_prospective_employer', 'disclose_personal_information_prospective']\n",
      "\n",
      "\n",
      "Topic_Model_3#4\n",
      "['start_work', 'immediately', 'reg', 'kindly', 'able_commit', 'attend', 'day_work', 'detailed', 'warehouse', 'procedure', 'scope', 'day_week', 'hoc_duty', 'ad_hoc_duty', 'dish', 'menu', 'excellent', 'registration', 'responsible', 'license_no', 'policy', 'month', 'english', 'job_scope', 'whatsapp', 'beverage', 'weekend_public', 'mon', 'administrative', 'recruitexpress_com', 'recruitexpress_com_sg', 'public_holiday', 'interested_applicant']\n",
      "\n",
      "\n",
      "Topic_Model_3#5\n",
      "['database', 'understand', 'invoice', 'computer', 'stakeholder', 'record', 'multi', 'email', 'contact', 'hour', 'prefer', 'high', 'design', 'key', 'external', 'maintenance', 'work_independently', 'applicant', 'description', 'work_experience', 'minimum_year', 'department', 'finance', 'ad_hoc', 'team_player']\n",
      "\n",
      "\n",
      "Topic_Model_3#6\n",
      "['incentive', 'base_incentive', 'security', 'test', 'incentive_annual_wage_supplement', 'annual_wage_supplement_etc', 'wage_supplement_etc', 'salary_package_breakdown_base', 'incentive_annual_wage', 'supplement_etc', 'package_breakdown_base', 'base_incentive_annual_wage', 'deep_learning', 'breakdown_base_incentive', 'incentive_annual', 'breakdown_base_incentive_annual', 'base_incentive_annual', 'package_breakdown_base_incentive', 'breakdown_base', 'full_time', 'click', 'wage', 'work_experience', 'player', 'type_full', 'software', 'customer', 'date', 'notify', 'student', 'job_type_full_time', 'type', 'road', 'class_drive_license', 'annual_wage', 'annual_wage_supplement', 'wage_supplement', 'package_breakdown', 'current_salary_package_breakdown', 'salary_package_breakdown', 'accellion', 'send', 'permanent', 'supplement', 'english', 'specification', 'ea_license', 'salary_package', 'management']\n",
      "\n",
      "\n",
      "Topic_Model_3#7\n",
      "['digital', 'ms', 'track', 'deliver', 'record', 'task', 'personal', 'advantage', 'external', 'involve', 'minimum', 'execute', 'project_management', 'excellent', 'follow', 'possess', 'player', 'qualification', 'department', 'maintenance', 'meet', 'roles_responsibilities', 'communication_skill', 'and_or']\n",
      "\n",
      "\n",
      "Topic_Model_3#8\n",
      "['position', 'professional', 'solve', 'career', 'large', 'activity', 'complex', 'test', 'architecture', 'cross', 'external', 'computer', 'grow', 'group', 'policy', 'roles_responsibilities', 'roles', 'trend', 'work_closely', 'program', 'regional', 'area', 'communication_skill']\n",
      "\n",
      "\n",
      "Topic_Model_3#9\n",
      "['improve', 'passionate', 'day', 'early', 'issue', 'sales', 'world', 'you_re', 'hair', 'treatment', 'parent', 'contact', 'update', 'people', 'member', 'track', 'technical', 'procedure', 'quality', 'stock', 'monthly']\n",
      "\n",
      "\n",
      "Topic_Model_3#10\n",
      "['communication_skill', 'accordance', 'supervision', 'timely', 'solution', 'completion', 'advantage', 'prefer', 'electrical_engineering', 'high', 'time', 'expect', 'construction_industry', 'working_experience', 'qc', 'audit', 'test', 'internal', 'year_experience', 'installation', 'activity', 'build', 'attend', 'testing', 'work_experience', 'cloud', 'able_work', 'year_relevant']\n",
      "\n",
      "\n",
      "Topic_Model_3#11\n",
      "['science', 'able', 'insurance', 'send_resume', 'shipping', 'assist', 'relate', 'knowledge', 'require', 'planning', 'base', 'trade', 'address_emailprotected_ea_license', 'include', 'confidential', 'training', 'industry', 'manager', 'market', 'confidential_discussion', 'professional', 'send', 'candidate_notify', 'performance', 'office_confidential_discussion', 'office_confidential', 'contact_office_confidential', 'contact_office_confidential_discussion', 'emailprotected_ea_license_no', 'address_emailprotected_ea', 'shortlist_candidate_notify', 'supply_chain', 'contact_office', 'now_alternatively_email_update', 'now_alternatively_email', 'apply_now_alternatively_email', 'now_alternatively']\n",
      "\n",
      "\n",
      "Topic_Model_3#12\n",
      "['installation', 'supply', 'nitec', 'preventive', 'advantage', 'preparation', 'engineer', 'supplier', 'new', 'able_work', 'design', 'ability', 'manager', 'clean', 'interested', 'complete', 'set', 'qualification', 'accord', 'plant', 'necessary', 'work_experience', 'minimum_year']\n",
      "\n",
      "\n",
      "Topic_Model_3#13\n",
      "['candidate_possess', 'year_old', 'eligibility_criteria_sgunitedtraineeships', 'good_pay_good', 'sgunitedtraineeships_singapore_citizen_permanent', 'criteria_sgunitedtraineeships_singapore_citizen', 'criteria_sgunitedtraineeships_singapore', 'sgunitedtraineeships_singapore', 'sgunitedtraineeships_singapore_citizen', 'university_overseas_institution', 'institution_e_g_private', 'private_university_overseas_institution', 'g_private_university', 'g_private_university_overseas', 'e_g_private_university', 'e_g_private', 'g_private', 'early_institution_complete', 'institution_complete_national_service', 'early_institution', 'early_institution_complete_national', 'lilian', 'trainee_learn', 'national', 'requirement', 'drive', 'high', 'old', 'level', 'traineeship_programme', 'solution', 'degree', 'strong', 'server', 'sale', 'development', 'advantage', 'pay', 'training', 'cv_ms', 'good_pay', 'educational_institution_e', 'university_educational', 'university_educational_institution', 'university_educational_institution_e', 'institution_e', 'institution_e_g', 'educational_institution_e_g', 'institution_complete_national', 'institution_complete']\n",
      "\n",
      "\n",
      "Topic_Model_3#14\n",
      "['monitor', 'require_skill_s', 'support', 'benefit', 'marketing', 'detailed', 'personnel', 'license', 'customer_service', 'communication', 'require_skill', 'speak', 'ms', 'liaise', 'requirements_candidate_possess', 'shortlist_candidate_notify', 'candidate_notify', 'review', 'send', 'need', 'application', 'language', 'year_s', 'activity', 'location', 'possess_diploma_advanced_high', 'candidate_possess_diploma_advanced', 'executive_specialize', 'requirements_candidate', 'possess_diploma_advanced', 'minimum', 'account', 'bachelor_s_degree', 'bachelor_s_degree_post', 's_degree_post_graduate', 's_degree_post']\n",
      "\n",
      "\n"
     ]
    }
   ],
   "source": [
    "IMPLEMENT_LDA_ALGORITHM(df=df,column_name='jd_1234',n_grams_map=1,n_components=15)"
   ]
  },
  {
   "cell_type": "markdown",
   "id": "c4645691",
   "metadata": {},
   "source": [
    "### Word2Vec Model"
   ]
  },
  {
   "cell_type": "code",
   "execution_count": 114,
   "id": "ca1fc92a",
   "metadata": {},
   "outputs": [],
   "source": [
    "word2vec_data = []\n",
    "for job_description in df['job_description']:\n",
    "    for sentence in sent_tokenize(job_description):\n",
    "        temp = []\n",
    "        for word in word_tokenize(sentence):\n",
    "            temp.append(word.lower())\n",
    "        word2vec_data.append(temp)"
   ]
  },
  {
   "cell_type": "code",
   "execution_count": 115,
   "id": "4f15b8bb",
   "metadata": {},
   "outputs": [
    {
     "data": {
      "text/plain": [
       "3000"
      ]
     },
     "execution_count": 115,
     "metadata": {},
     "output_type": "execute_result"
    }
   ],
   "source": [
    "len(word2vec_data)"
   ]
  },
  {
   "cell_type": "code",
   "execution_count": 116,
   "id": "21b4cfd6",
   "metadata": {},
   "outputs": [],
   "source": [
    "bigram_transformer = Phrases(word2vec_data) ##Transform prepared data into bigram"
   ]
  },
  {
   "cell_type": "code",
   "execution_count": 117,
   "id": "a06e4e78",
   "metadata": {},
   "outputs": [
    {
     "name": "stdout",
     "output_type": "stream",
     "text": [
      "skip w2v modeling\n"
     ]
    }
   ],
   "source": [
    "### CBOW Model 1 uses unigram, model 2 use both unigram and bigram.\n",
    "\n",
    "if os.path.exists('wv_cbow_model_1.model'):\n",
    "    wv_cbow_model_1 = Word2Vec.load('wv_cbow_model_1.model')\n",
    "    print('skip w2v modeling')\n",
    "else:\n",
    "    wv_cbow_model_1 = gensim.models.Word2Vec(word2vec_data, min_count=1, vector_size=500, window=7, epochs=15)\n",
    "    wv_cbow_model_1.save('wv_cbow_model_1.model')\n"
   ]
  },
  {
   "cell_type": "code",
   "execution_count": 118,
   "id": "10d7fd43",
   "metadata": {},
   "outputs": [],
   "source": [
    "if os.path.exists('wv_cbow_model_2.model'):\n",
    "    wv_cbow_model_2 = Word2Vec.load('wv_cbow_model_2.model')\n",
    "else:\n",
    "    wv_cbow_model_2 = gensim.models.Word2Vec(bigram_transformer[word2vec_data], min_count=1, vector_size=500, window=7,epochs=15)\n",
    "    wv_cbow_model_2.save('wv_cbow_model_2.model')"
   ]
  },
  {
   "cell_type": "code",
   "execution_count": 119,
   "id": "d888ba8c",
   "metadata": {},
   "outputs": [],
   "source": [
    "### Skip-Gram Model 1 uses unigram, model 2 use both unigram and bigram.\n",
    "\n",
    "if os.path.exists('wv_skip_model_1.model'):\n",
    "    wv_skip_model_1 = Word2Vec.load('wv_skip_model_1.model')\n",
    "else:\n",
    "    wv_skip_model_1 = gensim.models.Word2Vec(word2vec_data, min_count=1, vector_size=500, window=7, epochs=15, sg=1)\n",
    "    wv_skip_model_1.save('wv_skip_model_1.model')"
   ]
  },
  {
   "cell_type": "code",
   "execution_count": 120,
   "id": "dee1c9bf",
   "metadata": {},
   "outputs": [],
   "source": [
    "if os.path.exists('wv_skip_model_2.model'):\n",
    "    wv_skip_model_2 = Word2Vec.load('wv_skip_model_2.model')\n",
    "else:\n",
    "    wv_skip_model_2 = gensim.models.Word2Vec(bigram_transformer[word2vec_data], min_count=1, vector_size=500, window=7,epochs=15, sg=1)\n",
    "    wv_skip_model_2.save('wv_skip_model_2.model')\n"
   ]
  },
  {
   "cell_type": "code",
   "execution_count": 121,
   "id": "d928e43c",
   "metadata": {},
   "outputs": [
    {
     "data": {
      "text/plain": [
       "[('cooking', 0.9526561498641968),\n",
       " ('maintain_cleanliness', 0.9194051623344421),\n",
       " ('kitchen', 0.9160834550857544),\n",
       " ('food_item', 0.9142631888389587),\n",
       " ('housekeeping', 0.9104717373847961),\n",
       " ('chef', 0.906424343585968),\n",
       " ('floor', 0.9064110517501831),\n",
       " ('utensil', 0.9052178263664246),\n",
       " ('washing', 0.9046351313591003),\n",
       " ('cleanliness', 0.9020877480506897)]"
      ]
     },
     "execution_count": 121,
     "metadata": {},
     "output_type": "execute_result"
    }
   ],
   "source": [
    "wv_cbow_model_2.wv.most_similar('food_preparation')"
   ]
  },
  {
   "cell_type": "code",
   "execution_count": 122,
   "id": "d7df1bc1",
   "metadata": {},
   "outputs": [
    {
     "data": {
      "text/plain": [
       "[('cleanliness_hygiene', 0.8059955835342407),\n",
       " ('executive_chef', 0.7963550090789795),\n",
       " ('cooking', 0.7859870195388794),\n",
       " ('cleanup', 0.7858029007911682),\n",
       " ('prepare_ingredient', 0.7811591029167175),\n",
       " ('tide', 0.7762789726257324),\n",
       " ('preparation_cooking', 0.7674163579940796),\n",
       " ('dessert', 0.7651254534721375),\n",
       " ('ala', 0.7599075436592102),\n",
       " ('tasked', 0.7586997747421265)]"
      ]
     },
     "execution_count": 122,
     "metadata": {},
     "output_type": "execute_result"
    }
   ],
   "source": [
    "wv_skip_model_2.wv.most_similar('food_preparation')"
   ]
  },
  {
   "cell_type": "code",
   "execution_count": 123,
   "id": "e888732f",
   "metadata": {
    "scrolled": true
   },
   "outputs": [
    {
     "data": {
      "text/plain": [
       "[('jcl', 0.8462297916412354),\n",
       " ('msbuild', 0.8409835696220398),\n",
       " ('adfs', 0.8382434844970703),\n",
       " ('xss', 0.8341987133026123),\n",
       " ('java_python', 0.8339739441871643),\n",
       " ('windows_server', 0.8322158455848694),\n",
       " ('certificates', 0.8300436735153198),\n",
       " ('microsofts', 0.8297114372253418),\n",
       " ('scripting_language', 0.8286669254302979),\n",
       " ('osx', 0.8272188901901245)]"
      ]
     },
     "execution_count": 123,
     "metadata": {},
     "output_type": "execute_result"
    }
   ],
   "source": [
    "wv_skip_model_2.wv.most_similar('skills')"
   ]
  },
  {
   "cell_type": "code",
   "execution_count": 124,
   "id": "cfe5200c",
   "metadata": {},
   "outputs": [
    {
     "data": {
      "text/plain": [
       "[('administratoro', 0.9359280467033386),\n",
       " ('firestore', 0.9213637113571167),\n",
       " ('crac', 0.9201831221580505),\n",
       " ('ceh', 0.9200763702392578),\n",
       " ('mcse', 0.9194825291633606),\n",
       " ('comptia', 0.9128828644752502),\n",
       " ('jdbc', 0.9128138422966003),\n",
       " ('mcsa', 0.9127818942070007),\n",
       " ('profficient', 0.9116491675376892),\n",
       " ('ruby', 0.9111106991767883)]"
      ]
     },
     "execution_count": 124,
     "metadata": {},
     "output_type": "execute_result"
    }
   ],
   "source": [
    "wv_cbow_model_2.wv.most_similar('skills')"
   ]
  },
  {
   "cell_type": "code",
   "execution_count": 125,
   "id": "0b7bc72f",
   "metadata": {},
   "outputs": [
    {
     "data": {
      "text/plain": [
       "[('scala', 0.805476725101471),\n",
       " ('scripting_language', 0.7741466164588928),\n",
       " ('uipath', 0.7724080681800842),\n",
       " ('alteryx', 0.7699790596961975),\n",
       " ('python_java', 0.764057993888855),\n",
       " ('c_java', 0.7602300047874451),\n",
       " ('perl', 0.7594272494316101),\n",
       " ('machine_learning', 0.7593194842338562),\n",
       " ('dl', 0.7560999989509583),\n",
       " ('iac', 0.753035843372345)]"
      ]
     },
     "execution_count": 125,
     "metadata": {},
     "output_type": "execute_result"
    }
   ],
   "source": [
    "wv_skip_model_2.wv.most_similar('python')"
   ]
  },
  {
   "cell_type": "code",
   "execution_count": 126,
   "id": "9be416ca",
   "metadata": {},
   "outputs": [
    {
     "data": {
      "text/plain": [
       "[('care_patient', 0.6590907573699951),\n",
       " ('patient_care', 0.6177432537078857),\n",
       " ('nursing_care', 0.6128532290458679),\n",
       " ('patient_family', 0.6093191504478455),\n",
       " ('vital_sign', 0.6085914969444275),\n",
       " ('surgery', 0.6059805750846863),\n",
       " ('assist_doctor', 0.5892877578735352),\n",
       " ('medication', 0.5864369869232178),\n",
       " ('scheduling_appointment', 0.5818124413490295),\n",
       " ('therapy', 0.5756121277809143)]"
      ]
     },
     "execution_count": 126,
     "metadata": {},
     "output_type": "execute_result"
    }
   ],
   "source": [
    "wv_skip_model_2.wv.most_similar('patient')"
   ]
  },
  {
   "cell_type": "code",
   "execution_count": 127,
   "id": "78c1cffe",
   "metadata": {},
   "outputs": [
    {
     "data": {
      "text/plain": [
       "[('sous', 0.805759072303772),\n",
       " ('junious', 0.7048783302307129),\n",
       " ('cooking', 0.7009516358375549),\n",
       " ('cuisine', 0.6673313975334167),\n",
       " ('cleanup', 0.6661062240600586),\n",
       " ('puppet', 0.6627157926559448),\n",
       " ('chef_de', 0.6605256199836731),\n",
       " ('partie', 0.6557008028030396),\n",
       " ('food_preparation', 0.6526729464530945),\n",
       " ('cook', 0.6486541032791138)]"
      ]
     },
     "execution_count": 127,
     "metadata": {},
     "output_type": "execute_result"
    }
   ],
   "source": [
    "wv_skip_model_2.wv.most_similar('chef')"
   ]
  },
  {
   "cell_type": "code",
   "execution_count": 128,
   "id": "871028a4",
   "metadata": {},
   "outputs": [
    {
     "data": {
      "text/plain": [
       "[('verbal_write', 0.6615051031112671),\n",
       " ('good_interpersonal', 0.6612250804901123),\n",
       " ('write_verbal', 0.6410906910896301),\n",
       " ('excellent_interpersonal', 0.6209636926651001),\n",
       " ('goal_orient', 0.6119471192359924),\n",
       " ('write_speak', 0.6065578460693359),\n",
       " ('eloquent', 0.6035578846931458),\n",
       " ('write_oral', 0.6033269166946411),\n",
       " ('englishstrong', 0.6026937365531921),\n",
       " ('approachable', 0.5970377326011658)]"
      ]
     },
     "execution_count": 128,
     "metadata": {},
     "output_type": "execute_result"
    }
   ],
   "source": [
    "wv_skip_model_2.wv.most_similar('communication_skill')"
   ]
  },
  {
   "cell_type": "code",
   "execution_count": 129,
   "id": "c8268fab",
   "metadata": {},
   "outputs": [
    {
     "data": {
      "text/plain": [
       "[('frm', 0.7657536268234253),\n",
       " ('requisite', 0.7236469388008118),\n",
       " ('finance_economic', 0.7232573628425598),\n",
       " ('accredited', 0.7150008678436279),\n",
       " ('smu', 0.7105454802513123),\n",
       " ('chartered', 0.7090529799461365),\n",
       " ('saicsa', 0.7049432992935181),\n",
       " ('cga', 0.7013704180717468),\n",
       " ('polytechnics', 0.69983971118927),\n",
       " ('postgraduation', 0.6993237137794495)]"
      ]
     },
     "execution_count": 129,
     "metadata": {},
     "output_type": "execute_result"
    }
   ],
   "source": [
    "wv_skip_model_2.wv.most_similar('cfa')"
   ]
  },
  {
   "cell_type": "code",
   "execution_count": 130,
   "id": "e4bbdfbc",
   "metadata": {},
   "outputs": [
    {
     "data": {
      "text/plain": [
       "[('finance_accounting', 0.5871400237083435),\n",
       " ('degree_accounting', 0.5605682730674744),\n",
       " ('fp', 0.5576978921890259),\n",
       " ('ito', 0.5543249845504761),\n",
       " ('general_ledger', 0.5499279499053955),\n",
       " ('corporate_finance', 0.5479732751846313),\n",
       " ('taxation', 0.5465559959411621),\n",
       " ('have_bachelor', 0.5448310971260071),\n",
       " ('middle_office', 0.5432751178741455),\n",
       " ('generalist', 0.5401389002799988)]"
      ]
     },
     "execution_count": 130,
     "metadata": {},
     "output_type": "execute_result"
    }
   ],
   "source": [
    "wv_skip_model_2.wv.most_similar('finance')"
   ]
  },
  {
   "cell_type": "code",
   "execution_count": 131,
   "id": "223069e0",
   "metadata": {},
   "outputs": [
    {
     "data": {
      "text/plain": [
       "[('practicesrequirement', 0.6087232828140259),\n",
       " ('hrm', 0.6073604226112366),\n",
       " ('generalist', 0.6050321459770203),\n",
       " ('descriptionresponsible', 0.593955934047699),\n",
       " ('hr_function', 0.5837688446044922),\n",
       " ('hrbp', 0.5830022692680359),\n",
       " ('human_capital', 0.580007016658783),\n",
       " ('finance_accounting', 0.579184889793396),\n",
       " ('compensation_benefit', 0.578362762928009),\n",
       " ('recruitment_selection', 0.5755948424339294)]"
      ]
     },
     "execution_count": 131,
     "metadata": {},
     "output_type": "execute_result"
    }
   ],
   "source": [
    "wv_skip_model_2.wv.most_similar('human_resource')"
   ]
  },
  {
   "cell_type": "code",
   "execution_count": 132,
   "id": "0c92b212",
   "metadata": {},
   "outputs": [
    {
     "data": {
      "text/plain": [
       "[('combination_education', 0.7469506859779358),\n",
       " ('bachelors_degree', 0.7323920726776123),\n",
       " ('recognize_university', 0.7266765832901001),\n",
       " ('honor', 0.7124139070510864),\n",
       " ('discipline_minimum', 0.7073206305503845),\n",
       " ('science_relate', 0.7073143124580383),\n",
       " ('reputable_university', 0.7031718492507935),\n",
       " ('bringminimum', 0.6987332105636597),\n",
       " ('postgraduate', 0.6983895301818848),\n",
       " ('requirement_bachelors', 0.6981498599052429)]"
      ]
     },
     "execution_count": 132,
     "metadata": {},
     "output_type": "execute_result"
    }
   ],
   "source": [
    "wv_skip_model_2.wv.most_similar('bachelor_degree')"
   ]
  },
  {
   "cell_type": "code",
   "execution_count": 133,
   "id": "ed410b4d",
   "metadata": {},
   "outputs": [
    {
     "data": {
      "text/plain": [
       "[('agribusiness', 0.9020863771438599),\n",
       " ('dsc', 0.8983485102653503),\n",
       " ('inagribusiness', 0.8965293169021606),\n",
       " ('statistics', 0.8951836824417114),\n",
       " ('biophysic', 0.8889657258987427),\n",
       " ('biomedical_engineering', 0.8863757252693176),\n",
       " ('bioengineere', 0.8811671137809753),\n",
       " ('biochemistry', 0.8767166137695312),\n",
       " ('agriculture', 0.8761035799980164),\n",
       " ('sociology', 0.868423581123352)]"
      ]
     },
     "execution_count": 133,
     "metadata": {},
     "output_type": "execute_result"
    }
   ],
   "source": [
    "wv_skip_model_2.wv.most_similar('doctorate')"
   ]
  },
  {
   "cell_type": "code",
   "execution_count": null,
   "id": "8cfa78cd",
   "metadata": {},
   "outputs": [],
   "source": []
  },
  {
   "cell_type": "code",
   "execution_count": null,
   "id": "8c8075ff",
   "metadata": {},
   "outputs": [],
   "source": []
  }
 ],
 "metadata": {
  "kernelspec": {
   "display_name": "Python 3 (ipykernel)",
   "language": "python",
   "name": "python3"
  },
  "language_info": {
   "codemirror_mode": {
    "name": "ipython",
    "version": 3
   },
   "file_extension": ".py",
   "mimetype": "text/x-python",
   "name": "python",
   "nbconvert_exporter": "python",
   "pygments_lexer": "ipython3",
   "version": "3.9.13"
  },
  "widgets": {
   "application/vnd.jupyter.widget-state+json": {
    "state": {},
    "version_major": 2,
    "version_minor": 0
   }
  }
 },
 "nbformat": 4,
 "nbformat_minor": 5
}
